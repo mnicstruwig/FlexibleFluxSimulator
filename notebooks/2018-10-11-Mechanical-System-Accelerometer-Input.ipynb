{
 "cells": [
  {
   "cell_type": "code",
   "execution_count": 1,
   "metadata": {},
   "outputs": [
    {
     "name": "stdout",
     "output_type": "stream",
     "text": [
      "/home/michael/Dropbox/PhD/Python/unified_model\n"
     ]
    }
   ],
   "source": [
    "cd ../../"
   ]
  },
  {
   "cell_type": "code",
   "execution_count": 2,
   "metadata": {},
   "outputs": [],
   "source": [
    "import numpy as np\n",
    "import matplotlib.pyplot as plt\n",
    "import pandas as pd\n",
    "from plotnine import *\n",
    "\n",
    "from unified_model.mechanical_system.mechanical_system import MechanicalSystem\n",
    "from unified_model.mechanical_system.model import ode_decoupled\n",
    "from unified_model.mechanical_system.damper.damper import Damper\n",
    "from unified_model.mechanical_system.input_excitation.accelerometer import AccelerometerInput\n",
    "from unified_model.mechanical_system.input_excitation.footstep import Footstep\n",
    "from unified_model.mechanical_system.spring.magnetic_spring import MagneticSpring\n",
    "from unified_model.mechanical_system.magnet_assembly.magnet_assembly import MagnetAssembly\n",
    "\n",
    "\n",
    "from unified_model.mechanical_system.evaluator import LabeledProcessor, Evaluator\n",
    "import peakutils"
   ]
  },
  {
   "cell_type": "code",
   "execution_count": 6,
   "metadata": {},
   "outputs": [],
   "source": [
    "spring = MagneticSpring(fea_data_file = 'unified_model/mechanical_system/spring/data/10x10alt.csv', model='savgol_smoothing', model_type='interp')\n",
    "magnet_assembly = MagnetAssembly(n_magnet=1,\n",
    "                                h_magnet=10,\n",
    "                                h_spacer=0,\n",
    "                                dia_magnet=10,\n",
    "                                dia_spacer=10)\n",
    "damper = Damper(model='constant', model_kwargs={'damping_coefficient' : 0.028})\n",
    "accelerometer = AccelerometerInput('unified_model/mechanical_system/input_excitation/data/2018-10-04/log_02.csv',\n",
    "                                  accel_column='z_G',\n",
    "                                  time_column='time(ms)',\n",
    "                                  time_unit='ms')"
   ]
  },
  {
   "cell_type": "code",
   "execution_count": 10,
   "metadata": {},
   "outputs": [
    {
     "data": {
      "text/plain": [
       "<matplotlib.legend.Legend at 0x7fda37efca20>"
      ]
     },
     "execution_count": 10,
     "metadata": {},
     "output_type": "execute_result"
    },
    {
     "data": {
      "image/png": "[encoded data removed]",
      "text/plain": [
       "<Figure size 432x288 with 1 Axes>"
      ]
     },
     "metadata": {
      "needs_background": "light"
     },
     "output_type": "display_data"
    }
   ],
   "source": [
    "plt.plot(accelerometer.acceleration_df['z_G'], label='original')"
   ]
  },
  {
   "cell_type": "code",
   "execution_count": 11,
   "metadata": {},
   "outputs": [],
   "source": [
    "system = MechanicalSystem()\n",
    "system.set_spring(spring)\n",
    "system.set_damper(damper)\n",
    "system.set_input(accelerometer)\n",
    "system.set_magnet_assembly(magnet_assembly)\n",
    "system.set_model('ode_decoupled', initial_conditions=[0, 0, 0.04, 0])"
   ]
  },
  {
   "cell_type": "code",
   "execution_count": 12,
   "metadata": {},
   "outputs": [],
   "source": [
    "t = np.arange(1.5, 8.5, 0.01)"
   ]
  },
  {
   "cell_type": "code",
   "execution_count": 13,
   "metadata": {},
   "outputs": [],
   "source": [
    "system.solve(t)"
   ]
  },
  {
   "cell_type": "code",
   "execution_count": 14,
   "metadata": {},
   "outputs": [
    {
     "data": {
      "text/html": [
       "<div>\n",
       "<style scoped>\n",
       "    .dataframe tbody tr th:only-of-type {\n",
       "        vertical-align: middle;\n",
       "    }\n",
       "\n",
       "    .dataframe tbody tr th {\n",
       "        vertical-align: top;\n",
       "    }\n",
       "\n",
       "    .dataframe thead th {\n",
       "        text-align: right;\n",
       "    }\n",
       "</style>\n",
       "<table border=\"1\" class=\"dataframe\">\n",
       "  <thead>\n",
       "    <tr style=\"text-align: right;\">\n",
       "      <th></th>\n",
       "      <th>time</th>\n",
       "      <th>tube_displacement</th>\n",
       "      <th>tube_velocity</th>\n",
       "      <th>assembly_displacement</th>\n",
       "      <th>assembly_velocity</th>\n",
       "      <th>assembly_relative_displacement</th>\n",
       "      <th>assembly_relative_velocity</th>\n",
       "    </tr>\n",
       "  </thead>\n",
       "  <tbody>\n",
       "    <tr>\n",
       "      <th>0</th>\n",
       "      <td>1.50</td>\n",
       "      <td>0.000000e+00</td>\n",
       "      <td>0.000000</td>\n",
       "      <td>0.040000</td>\n",
       "      <td>0.000000</td>\n",
       "      <td>0.040000</td>\n",
       "      <td>0.000000</td>\n",
       "    </tr>\n",
       "    <tr>\n",
       "      <th>1</th>\n",
       "      <td>1.51</td>\n",
       "      <td>-1.246068e-12</td>\n",
       "      <td>-0.001644</td>\n",
       "      <td>0.040050</td>\n",
       "      <td>0.009906</td>\n",
       "      <td>0.040050</td>\n",
       "      <td>0.011550</td>\n",
       "    </tr>\n",
       "    <tr>\n",
       "      <th>2</th>\n",
       "      <td>1.52</td>\n",
       "      <td>-1.246068e-12</td>\n",
       "      <td>-0.004427</td>\n",
       "      <td>0.040195</td>\n",
       "      <td>0.018783</td>\n",
       "      <td>0.040195</td>\n",
       "      <td>0.023210</td>\n",
       "    </tr>\n",
       "    <tr>\n",
       "      <th>3</th>\n",
       "      <td>1.53</td>\n",
       "      <td>-1.246068e-12</td>\n",
       "      <td>-0.007419</td>\n",
       "      <td>0.040421</td>\n",
       "      <td>0.026168</td>\n",
       "      <td>0.040421</td>\n",
       "      <td>0.033587</td>\n",
       "    </tr>\n",
       "    <tr>\n",
       "      <th>4</th>\n",
       "      <td>1.54</td>\n",
       "      <td>-1.246068e-12</td>\n",
       "      <td>-0.009936</td>\n",
       "      <td>0.040712</td>\n",
       "      <td>0.031707</td>\n",
       "      <td>0.040712</td>\n",
       "      <td>0.041642</td>\n",
       "    </tr>\n",
       "  </tbody>\n",
       "</table>\n",
       "</div>"
      ],
      "text/plain": [
       "   time  tube_displacement  tube_velocity  assembly_displacement  \\\n",
       "0  1.50       0.000000e+00       0.000000               0.040000   \n",
       "1  1.51      -1.246068e-12      -0.001644               0.040050   \n",
       "2  1.52      -1.246068e-12      -0.004427               0.040195   \n",
       "3  1.53      -1.246068e-12      -0.007419               0.040421   \n",
       "4  1.54      -1.246068e-12      -0.009936               0.040712   \n",
       "\n",
       "   assembly_velocity  assembly_relative_displacement  \\\n",
       "0           0.000000                        0.040000   \n",
       "1           0.009906                        0.040050   \n",
       "2           0.018783                        0.040195   \n",
       "3           0.026168                        0.040421   \n",
       "4           0.031707                        0.040712   \n",
       "\n",
       "   assembly_relative_velocity  \n",
       "0                    0.000000  \n",
       "1                    0.011550  \n",
       "2                    0.023210  \n",
       "3                    0.033587  \n",
       "4                    0.041642  "
      ]
     },
     "execution_count": 14,
     "metadata": {},
     "output_type": "execute_result"
    }
   ],
   "source": [
    "system.get_output().head()"
   ]
  },
  {
   "cell_type": "code",
   "execution_count": 15,
   "metadata": {},
   "outputs": [],
   "source": [
    "df_pred = system.get_output().copy()"
   ]
  },
  {
   "cell_type": "code",
   "execution_count": 16,
   "metadata": {},
   "outputs": [
    {
     "data": {
      "image/png": "[encoded data removed]",
      "text/plain": [
       "<Figure size 432x288 with 1 Axes>"
      ]
     },
     "metadata": {
      "needs_background": "light"
     },
     "output_type": "display_data"
    }
   ],
   "source": [
    "lp = LabeledProcessor(L=125, mf=14, mm=10, seconds_per_frame=0.025)\n",
    "y_actual, timesteps = lp.fit_transform(pd.read_csv('unified_model/mechanical_system/input_excitation/data/2018-10-04/test-02_transcoded_subsampled_labels_2018-10-12-14:11:27.csv'))\n",
    "y_predicted = df_pred['assembly_relative_displacement'].values\n",
    "time_predicted = df_pred['time'].values - df_pred['time'].min()\n",
    "\n",
    "e = Evaluator(y_target=y_actual, time_target=timesteps)\n",
    "e.fit(y_predicted=y_predicted, time_predicted=time_predicted)\n",
    "e.poof()"
   ]
  },
  {
   "cell_type": "code",
   "execution_count": null,
   "metadata": {},
   "outputs": [],
   "source": []
  }
 ],
 "metadata": {
  "kernelspec": {
   "display_name": "Python 3",
   "language": "python",
   "name": "python3"
  },
  "language_info": {
   "codemirror_mode": {
    "name": "ipython",
    "version": 3
   },
   "file_extension": ".py",
   "mimetype": "text/x-python",
   "name": "python",
   "nbconvert_exporter": "python",
   "pygments_lexer": "ipython3",
   "version": "3.6.6"
  }
 },
 "nbformat": 4,
 "nbformat_minor": 2
}
