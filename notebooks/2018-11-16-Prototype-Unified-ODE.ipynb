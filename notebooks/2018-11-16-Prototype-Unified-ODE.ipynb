{
 "cells": [
  {
   "cell_type": "code",
   "execution_count": 1,
   "metadata": {},
   "outputs": [],
   "source": [
    "import numpy as np\n",
    "import pandas as pd\n",
    "from scipy.integrate import solve_ivp"
   ]
  },
  {
   "cell_type": "code",
   "execution_count": 2,
   "metadata": {},
   "outputs": [
    {
     "name": "stdout",
     "output_type": "stream",
     "text": [
      "/home/michael/Dropbox/PhD/Python/unified_model\n"
     ]
    }
   ],
   "source": [
    "cd ../"
   ]
  },
  {
   "cell_type": "code",
   "execution_count": 3,
   "metadata": {},
   "outputs": [],
   "source": [
    "# Mechanical system imports\n",
    "from unified_model.mechanical_system.damper.damper import Damper\n",
    "from unified_model.mechanical_system.input_excitation.accelerometer import AccelerometerInput\n",
    "from unified_model.mechanical_system.spring.magnetic_spring import MagneticSpring\n",
    "from unified_model.mechanical_system.magnet_assembly.magnet_assembly import MagnetAssembly\n",
    "from unified_model.mechanical_system.mechanical_system import MechanicalSystem\n",
    "\n",
    "from unified_model.electrical_system.flux.utils import FluxDatabase\n",
    "from unified_model.electrical_system.flux.model import flux_interpolate\n",
    "from unified_model.electrical_system.electrical_system import ElectricalSystem\n",
    "from unified_model.electrical_system.coupling import ConstantCoupling\n",
    "from unified_model.electrical_system.load import SimpleLoad\n",
    "\n",
    "import matplotlib.pyplot as plt"
   ]
  },
  {
   "cell_type": "code",
   "execution_count": 4,
   "metadata": {},
   "outputs": [
    {
     "name": "stderr",
     "output_type": "stream",
     "text": [
      "/home/michael/miniconda3/envs/ds/lib/python3.7/site-packages/scipy/signal/_arraytools.py:45: FutureWarning: Using a non-tuple sequence for multidimensional indexing is deprecated; use `arr[tuple(seq)]` instead of `arr[seq]`. In the future this will be interpreted as an array index, `arr[np.array(seq)]`, which will result either in an error or a different result.\n",
      "  b = a[a_slice]\n"
     ]
    }
   ],
   "source": [
    "spring = MagneticSpring(fea_data_file = 'unified_model/mechanical_system/spring/data/10x10alt.csv', model='savgol_smoothing', model_type='interp')"
   ]
  },
  {
   "cell_type": "code",
   "execution_count": 5,
   "metadata": {},
   "outputs": [],
   "source": [
    "magnet_assembly = MagnetAssembly(n_magnet=1,\n",
    "                                h_magnet=10,\n",
    "                                h_spacer=0,\n",
    "                                dia_magnet=10,\n",
    "                                dia_spacer=10)"
   ]
  },
  {
   "cell_type": "code",
   "execution_count": 6,
   "metadata": {},
   "outputs": [],
   "source": [
    "damper = Damper(model='constant', model_kwargs={'damping_coefficient' : 0.030})"
   ]
  },
  {
   "cell_type": "code",
   "execution_count": 7,
   "metadata": {},
   "outputs": [],
   "source": [
    "accelerometer = AccelerometerInput('unified_model/mechanical_system/input_excitation/data/2018-10-04/log_02.csv',\n",
    "                                  accel_column='z_G',\n",
    "                                  time_column='time(ms)',\n",
    "                                  time_unit='ms')"
   ]
  },
  {
   "cell_type": "code",
   "execution_count": 8,
   "metadata": {},
   "outputs": [
    {
     "data": {
      "text/plain": [
       "<matplotlib.axes._subplots.AxesSubplot at 0x7fca5b805be0>"
      ]
     },
     "execution_count": 8,
     "metadata": {},
     "output_type": "execute_result"
    },
    {
     "data": {
      "image/png": "[encoded data removed]",
      "text/plain": [
       "<Figure size 432x288 with 1 Axes>"
      ]
     },
     "metadata": {
      "needs_background": "light"
     },
     "output_type": "display_data"
    }
   ],
   "source": [
    "accelerometer.acceleration_df['z_G'].plot()"
   ]
  },
  {
   "cell_type": "code",
   "execution_count": 9,
   "metadata": {},
   "outputs": [],
   "source": [
    "%load_ext line_profiler"
   ]
  },
  {
   "cell_type": "code",
   "execution_count": 10,
   "metadata": {},
   "outputs": [],
   "source": [
    "mech_system = MechanicalSystem()\n",
    "\n",
    "mech_system.set_model('unified_ode_coupled')\n",
    "mech_system.set_damper(damper)\n",
    "mech_system.set_magnet_assembly(magnet_assembly)\n",
    "mech_system.set_spring(spring)\n",
    "mech_system.set_input(accelerometer)\n",
    "\n",
    "# Electrical system\n",
    "fdb = FluxDatabase('../Research/fea-flux-curves-numr[1-20-600]-numz[1-20-600]-wdiam[0.127]-2018-03-24[10.45.22].csv', fixed_velocity=0.35)\n",
    "flux_model = flux_interpolate(fdb.z, fdb.query(winding_num_z='21', winding_num_r='101'), coil_center=0.06, mf=magnet_assembly.get_height())\n",
    "load_model = SimpleLoad(R=1)\n",
    "coupling = ConstantCoupling(c=0.01)\n",
    "electrical_system = ElectricalSystem(flux_model=flux_model,\n",
    "                                    load_model=load_model)\n",
    "mech_system.attach_electrical_system(electrical_system=electrical_system,\n",
    "                                     coupling=coupling)"
   ]
  },
  {
   "cell_type": "code",
   "execution_count": 11,
   "metadata": {},
   "outputs": [],
   "source": [
    "mech_system.set_initial_conditions([0, 0, 0.04, 0, 0])"
   ]
  },
  {
   "cell_type": "code",
   "execution_count": 12,
   "metadata": {},
   "outputs": [],
   "source": [
    "from unified_model.model import unified_ode_coupled"
   ]
  },
  {
   "cell_type": "code",
   "execution_count": 14,
   "metadata": {},
   "outputs": [
    {
     "data": {
      "text/plain": [
       "Timer unit: 1e-06 s\n",
       "\n",
       "Total time: 3.46389 s\n",
       "File: /home/michael/Dropbox/PhD/Python/unified_model/unified_model/electrical_system/electrical_system.py\n",
       "Function: get_current at line 33\n",
       "\n",
       "Line #      Hits         Time  Per Hit   % Time  Line Contents\n",
       "==============================================================\n",
       "    33                                               def get_current(self, y):\n",
       "    34     44468      78599.0      1.8      2.3          x1, x2, x3, x4, x5 = y\n",
       "    35     44468    3286410.0     73.9     94.9          dphi_dz = self.get_flux_gradient(y)\n",
       "    36     44468      40107.0      0.9      1.2          emf = dphi_dz * (x4-x2)\n",
       "    37     44468      58772.0      1.3      1.7          return self.load_model.get_current(emf)"
      ]
     },
     "metadata": {},
     "output_type": "display_data"
    }
   ],
   "source": [
    "%lprun -f ElectricalSystem.get_current mech_system.solve(t_start=2, t_end=5, t_max_step=0.001)"
   ]
  },
  {
   "cell_type": "code",
   "execution_count": 33,
   "metadata": {},
   "outputs": [],
   "source": [
    "output = mech_system.get_output(t='t',\n",
    "                                magnet_assembly_relative_displacement='x3-x1')"
   ]
  },
  {
   "cell_type": "code",
   "execution_count": 34,
   "metadata": {},
   "outputs": [
    {
     "data": {
      "text/html": [
       "<div>\n",
       "<style scoped>\n",
       "    .dataframe tbody tr th:only-of-type {\n",
       "        vertical-align: middle;\n",
       "    }\n",
       "\n",
       "    .dataframe tbody tr th {\n",
       "        vertical-align: top;\n",
       "    }\n",
       "\n",
       "    .dataframe thead th {\n",
       "        text-align: right;\n",
       "    }\n",
       "</style>\n",
       "<table border=\"1\" class=\"dataframe\">\n",
       "  <thead>\n",
       "    <tr style=\"text-align: right;\">\n",
       "      <th></th>\n",
       "      <th>t</th>\n",
       "      <th>magnet_assembly_relative_displacement</th>\n",
       "    </tr>\n",
       "  </thead>\n",
       "  <tbody>\n",
       "    <tr>\n",
       "      <th>0</th>\n",
       "      <td>2.000000</td>\n",
       "      <td>0.040000</td>\n",
       "    </tr>\n",
       "    <tr>\n",
       "      <th>1</th>\n",
       "      <td>2.000947</td>\n",
       "      <td>0.040000</td>\n",
       "    </tr>\n",
       "    <tr>\n",
       "      <th>2</th>\n",
       "      <td>2.001947</td>\n",
       "      <td>0.040002</td>\n",
       "    </tr>\n",
       "    <tr>\n",
       "      <th>3</th>\n",
       "      <td>2.002947</td>\n",
       "      <td>0.040004</td>\n",
       "    </tr>\n",
       "    <tr>\n",
       "      <th>4</th>\n",
       "      <td>2.003947</td>\n",
       "      <td>0.040008</td>\n",
       "    </tr>\n",
       "  </tbody>\n",
       "</table>\n",
       "</div>"
      ],
      "text/plain": [
       "          t  magnet_assembly_relative_displacement\n",
       "0  2.000000                               0.040000\n",
       "1  2.000947                               0.040000\n",
       "2  2.001947                               0.040002\n",
       "3  2.002947                               0.040004\n",
       "4  2.003947                               0.040008"
      ]
     },
     "execution_count": 34,
     "metadata": {},
     "output_type": "execute_result"
    }
   ],
   "source": [
    "output.head()"
   ]
  },
  {
   "cell_type": "code",
   "execution_count": 35,
   "metadata": {},
   "outputs": [
    {
     "data": {
      "text/plain": [
       "[<matplotlib.lines.Line2D at 0x7fc903896358>]"
      ]
     },
     "execution_count": 35,
     "metadata": {},
     "output_type": "execute_result"
    },
    {
     "data": {
      "image/png": "[encoded data removed]",
      "text/plain": [
       "<Figure size 432x288 with 1 Axes>"
      ]
     },
     "metadata": {
      "needs_background": "light"
     },
     "output_type": "display_data"
    }
   ],
   "source": [
    "plt.plot(output['t'], output['magnet_assembly_relative_displacement'])"
   ]
  },
  {
   "cell_type": "markdown",
   "metadata": {},
   "source": [
    "# Dynamic model investigation"
   ]
  },
  {
   "cell_type": "code",
   "execution_count": 10,
   "metadata": {},
   "outputs": [],
   "source": [
    "from unified_model.model import unified_ode_coupled"
   ]
  },
  {
   "cell_type": "code",
   "execution_count": 13,
   "metadata": {},
   "outputs": [],
   "source": [
    "# flux database\n",
    "fdb = FluxDatabase('../Research/fea-flux-curves-numr[1-20-600]-numz[1-20-600]-wdiam[0.127]-2018-03-24[10.45.22].csv', fixed_velocity=0.35)"
   ]
  },
  {
   "cell_type": "code",
   "execution_count": 18,
   "metadata": {},
   "outputs": [],
   "source": [
    "phi = fdb.query(winding_num_z='401', winding_num_r='101')\n",
    "z = fdb.z"
   ]
  },
  {
   "cell_type": "code",
   "execution_count": 19,
   "metadata": {},
   "outputs": [
    {
     "data": {
      "text/plain": [
       "[<matplotlib.lines.Line2D at 0x7fc903cf7f28>]"
      ]
     },
     "execution_count": 19,
     "metadata": {},
     "output_type": "execute_result"
    },
    {
     "data": {
      "image/png": "[encoded data removed]",
      "text/plain": [
       "<Figure size 432x288 with 1 Axes>"
      ]
     },
     "metadata": {
      "needs_background": "light"
     },
     "output_type": "display_data"
    }
   ],
   "source": [
    "plt.plot(z, phi)"
   ]
  },
  {
   "cell_type": "markdown",
   "metadata": {},
   "source": [
    "# Free-fall\n",
    "We expect to see \"braking\" of the magnet assembly as it moves through the coil"
   ]
  },
  {
   "cell_type": "code",
   "execution_count": 10,
   "metadata": {},
   "outputs": [],
   "source": [
    "from unified_model.model import unified_ode_coupled"
   ]
  },
  {
   "cell_type": "code",
   "execution_count": 11,
   "metadata": {},
   "outputs": [],
   "source": [
    "import copy\n",
    "accelerometer_freefall = copy.deepcopy(accelerometer)\n",
    "no_spring = copy.deepcopy(spring)"
   ]
  },
  {
   "cell_type": "code",
   "execution_count": 24,
   "metadata": {},
   "outputs": [],
   "source": [
    "def dummy_spring(*args, **kwargs):\n",
    "    return 0.0"
   ]
  },
  {
   "cell_type": "code",
   "execution_count": 25,
   "metadata": {},
   "outputs": [],
   "source": [
    "no_spring.model = dummy_spring"
   ]
  },
  {
   "cell_type": "code",
   "execution_count": 26,
   "metadata": {},
   "outputs": [],
   "source": [
    "accelerometer_freefall.acceleration_df['z_G'] = 0"
   ]
  },
  {
   "cell_type": "code",
   "execution_count": 27,
   "metadata": {},
   "outputs": [],
   "source": [
    "from unified_model.electrical_system.coupling import ConstantCoupling\n",
    "from unified_model.electrical_system.electrical_system import ElectricalSystem\n",
    "from unified_model.electrical_system.load import SimpleLoad\n",
    "from unified_model.electrical_system.flux.model import flux_interpolate\n",
    "from unified_model.electrical_system.flux.utils import FluxDatabase"
   ]
  },
  {
   "cell_type": "code",
   "execution_count": 28,
   "metadata": {},
   "outputs": [],
   "source": [
    "fdb = FluxDatabase('../Research/fea-flux-curves-numr[1-20-600]-numz[1-20-600]-wdiam[0.127]-2018-03-24[10.45.22].csv', fixed_velocity=0.35)"
   ]
  },
  {
   "cell_type": "code",
   "execution_count": 29,
   "metadata": {},
   "outputs": [],
   "source": [
    "load = SimpleLoad(R=1)\n",
    "\n",
    "phi = fdb.query(winding_num_z='21', winding_num_r='101')\n",
    "z = fdb.z\n",
    "flux_model = flux_interpolate(z, phi, coil_center=0.06, mf=magnet_assembly.get_height())\n"
   ]
  },
  {
   "cell_type": "code",
   "execution_count": 30,
   "metadata": {},
   "outputs": [],
   "source": [
    "es = ElectricalSystem(flux_model=flux_model, load_model=load)"
   ]
  },
  {
   "cell_type": "code",
   "execution_count": 31,
   "metadata": {},
   "outputs": [],
   "source": [
    "kwargs = {'spring' : no_spring,\n",
    "         'damper': damper,\n",
    "         'input' : accelerometer_freefall,\n",
    "         'magnet_assembly': magnet_assembly,\n",
    "         'electrical_system': es,\n",
    "         'coupling': ConstantCoupling(0.05)}"
   ]
  },
  {
   "cell_type": "code",
   "execution_count": 32,
   "metadata": {},
   "outputs": [],
   "source": [
    "psoln = solve_ivp(fun=lambda t, y: unified_ode_coupled(t, y, kwargs),\n",
    "                  t_span=(0,0.5),\n",
    "                 y0=[0,0,0.2,0, 0],\n",
    "                 max_step=0.001)"
   ]
  },
  {
   "cell_type": "code",
   "execution_count": 33,
   "metadata": {},
   "outputs": [],
   "source": [
    "x1 = psoln.y[0, :]  # Tube displacement\n",
    "x2 = psoln.y[1, :]  # Tube velocity\n",
    "x3 = psoln.y[2, :]  # Magnet assembly displacement\n",
    "x4 = psoln.y[3, :]  # Magnet assembly velocity\n",
    "x5 = psoln.y[4, :]  # Flux\n",
    "t = psoln.t\n",
    "\n",
    "\n",
    "x_relative_displacement = x3 - x1\n",
    "x_relative_velocity = x4 - x2"
   ]
  },
  {
   "cell_type": "code",
   "execution_count": 34,
   "metadata": {},
   "outputs": [
    {
     "data": {
      "text/plain": [
       "Text(0.5, 1.0, 'Displacement')"
      ]
     },
     "execution_count": 34,
     "metadata": {},
     "output_type": "execute_result"
    },
    {
     "data": {
      "image/png": "[encoded data removed]",
      "text/plain": [
       "<Figure size 432x288 with 1 Axes>"
      ]
     },
     "metadata": {
      "needs_background": "light"
     },
     "output_type": "display_data"
    }
   ],
   "source": [
    "import matplotlib.pyplot as plt\n",
    "plt.plot(t, x_relative_displacement)  # displacement\n",
    "plt.title('Displacement')"
   ]
  },
  {
   "cell_type": "code",
   "execution_count": 35,
   "metadata": {},
   "outputs": [
    {
     "data": {
      "text/plain": [
       "Text(0.5, 1.0, 'Relative velocity')"
      ]
     },
     "execution_count": 35,
     "metadata": {},
     "output_type": "execute_result"
    },
    {
     "data": {
      "image/png": "[encoded data removed]",
      "text/plain": [
       "<Figure size 432x288 with 1 Axes>"
      ]
     },
     "metadata": {
      "needs_background": "light"
     },
     "output_type": "display_data"
    }
   ],
   "source": [
    "plt.plot(t, x_relative_velocity)\n",
    "plt.title('Relative velocity')"
   ]
  },
  {
   "cell_type": "code",
   "execution_count": 36,
   "metadata": {},
   "outputs": [
    {
     "data": {
      "text/plain": [
       "Text(0.5, 1.0, 'EMF')"
      ]
     },
     "execution_count": 36,
     "metadata": {},
     "output_type": "execute_result"
    },
    {
     "data": {
      "image/png": "[encoded data removed]",
      "text/plain": [
       "<Figure size 432x288 with 1 Axes>"
      ]
     },
     "metadata": {
      "needs_background": "light"
     },
     "output_type": "display_data"
    }
   ],
   "source": [
    "plt.plot(psoln.t, np.gradient(x5)/np.gradient(psoln.t))\n",
    "plt.title('EMF')"
   ]
  },
  {
   "cell_type": "markdown",
   "metadata": {},
   "source": [
    "# Dynamic case"
   ]
  },
  {
   "cell_type": "code",
   "execution_count": 37,
   "metadata": {},
   "outputs": [],
   "source": [
    "kwargs = {'spring' : spring,  # Changed back to magnetic spring\n",
    "         'damper': damper,\n",
    "         'input' : accelerometer,  # Back to input force\n",
    "         'magnet_assembly': magnet_assembly,\n",
    "         'electrical_system': es,\n",
    "         'coupling': ConstantCoupling(c=0.005)}"
   ]
  },
  {
   "cell_type": "code",
   "execution_count": 38,
   "metadata": {},
   "outputs": [],
   "source": [
    "psoln = solve_ivp(fun=lambda t, y: unified_ode_coupled(t, y, kwargs),\n",
    "                  t_span=(2,8),\n",
    "                 y0=[0,0,0.04,0, 0],\n",
    "                 max_step=0.001)"
   ]
  },
  {
   "cell_type": "code",
   "execution_count": 39,
   "metadata": {},
   "outputs": [],
   "source": [
    "x1 = psoln.y[0, :]  # Tube displacement\n",
    "x2 = psoln.y[1, :]  # Tube velocity\n",
    "x3 = psoln.y[2, :]  # Magnet assembly displacement\n",
    "x4 = psoln.y[3, :]  # Magnet assembly velocity\n",
    "x5 = psoln.y[4, :]  # Flux\n",
    "t = psoln.t\n",
    "\n",
    "\n",
    "x_relative_displacement = x3 - x1\n",
    "x_relative_velocity = x4 - x2"
   ]
  },
  {
   "cell_type": "code",
   "execution_count": 40,
   "metadata": {},
   "outputs": [
    {
     "data": {
      "text/plain": [
       "[<matplotlib.lines.Line2D at 0x7f2e05f366a0>]"
      ]
     },
     "execution_count": 40,
     "metadata": {},
     "output_type": "execute_result"
    },
    {
     "data": {
      "image/png": "[encoded data removed]",
      "text/plain": [
       "<Figure size 432x288 with 1 Axes>"
      ]
     },
     "metadata": {
      "needs_background": "light"
     },
     "output_type": "display_data"
    }
   ],
   "source": [
    "import matplotlib.pyplot as plt\n",
    "plt.plot(t, x3-x1)  # displacement"
   ]
  },
  {
   "cell_type": "code",
   "execution_count": 41,
   "metadata": {},
   "outputs": [
    {
     "data": {
      "text/plain": [
       "[<matplotlib.lines.Line2D at 0x7f2e05f9b8d0>]"
      ]
     },
     "execution_count": 41,
     "metadata": {},
     "output_type": "execute_result"
    },
    {
     "data": {
      "image/png": "[encoded data removed]",
      "text/plain": [
       "<Figure size 432x288 with 1 Axes>"
      ]
     },
     "metadata": {
      "needs_background": "light"
     },
     "output_type": "display_data"
    }
   ],
   "source": [
    "plt.plot(t, x_relative_velocity)"
   ]
  },
  {
   "cell_type": "code",
   "execution_count": 69,
   "metadata": {},
   "outputs": [
    {
     "data": {
      "text/plain": [
       "[<matplotlib.lines.Line2D at 0x7f7381145a90>]"
      ]
     },
     "execution_count": 69,
     "metadata": {},
     "output_type": "execute_result"
    },
    {
     "data": {
      "image/png": "[encoded data removed]",
      "text/plain": [
       "<Figure size 432x288 with 1 Axes>"
      ]
     },
     "metadata": {
      "needs_background": "light"
     },
     "output_type": "display_data"
    }
   ],
   "source": [
    "plt.plot(psoln.t, np.gradient(x5)/np.gradient(psoln.t))"
   ]
  },
  {
   "cell_type": "code",
   "execution_count": null,
   "metadata": {},
   "outputs": [],
   "source": []
  }
 ],
 "metadata": {
  "kernelspec": {
   "display_name": "Python 3",
   "language": "python",
   "name": "python3"
  },
  "language_info": {
   "codemirror_mode": {
    "name": "ipython",
    "version": 3
   },
   "file_extension": ".py",
   "mimetype": "text/x-python",
   "name": "python",
   "nbconvert_exporter": "python",
   "pygments_lexer": "ipython3",
   "version": "3.7.1"
  }
 },
 "nbformat": 4,
 "nbformat_minor": 2
}
