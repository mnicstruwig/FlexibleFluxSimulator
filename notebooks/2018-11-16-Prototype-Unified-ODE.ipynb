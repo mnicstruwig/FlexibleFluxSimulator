{
 "cells": [
  {
   "cell_type": "code",
   "execution_count": 1,
   "metadata": {},
   "outputs": [],
   "source": [
    "import numpy as np\n",
    "import pandas as pd"
   ]
  },
  {
   "cell_type": "code",
   "execution_count": 2,
   "metadata": {},
   "outputs": [
    {
     "name": "stdout",
     "output_type": "stream",
     "text": [
      "/home/michael/Dropbox/PhD/Python/unified_model\n"
     ]
    }
   ],
   "source": [
    "cd ../../"
   ]
  },
  {
   "cell_type": "code",
   "execution_count": 3,
   "metadata": {},
   "outputs": [],
   "source": [
    "# Mechanical system imports\n",
    "from unified_model.mechanical_system.damper.damper import Damper\n",
    "from unified_model.mechanical_system.input_excitation.accelerometer import AccelerometerInput\n",
    "from unified_model.mechanical_system.spring.magnetic_spring import MagneticSpring\n",
    "from unified_model.mechanical_system.magnet_assembly.magnet_assembly import MagnetAssembly\n",
    "\n",
    "from unified_model.electrical_system.flux.utils import FluxDatabase\n",
    "from unified_model.electrical_system.flux.model import flux_interpolate\n",
    "from unified_model.electrical_system.electrical_system import OpenCircuitSystem\n",
    "\n",
    "\n",
    "import matplotlib.pyplot as plt"
   ]
  },
  {
   "cell_type": "code",
   "execution_count": 4,
   "metadata": {},
   "outputs": [],
   "source": [
    "spring = MagneticSpring(fea_data_file = 'unified_model/mechanical_system/spring/data/10x10alt.csv', model='savgol_smoothing', model_type='interp')"
   ]
  },
  {
   "cell_type": "code",
   "execution_count": 5,
   "metadata": {},
   "outputs": [],
   "source": [
    "magnet_assembly = MagnetAssembly(n_magnet=1,\n",
    "                                h_magnet=10,\n",
    "                                h_spacer=0,\n",
    "                                dia_magnet=10,\n",
    "                                dia_spacer=10)"
   ]
  },
  {
   "cell_type": "code",
   "execution_count": 6,
   "metadata": {},
   "outputs": [],
   "source": [
    "damper = Damper(model='constant', model_kwargs={'damping_coefficient' : 0.030})"
   ]
  },
  {
   "cell_type": "code",
   "execution_count": 7,
   "metadata": {},
   "outputs": [],
   "source": [
    "accelerometer = AccelerometerInput('unified_model/mechanical_system/input_excitation/data/2018-10-04/log_02.csv',\n",
    "                                  accel_column='z_G',\n",
    "                                  time_column='time(ms)',\n",
    "                                  time_unit='ms')"
   ]
  },
  {
   "cell_type": "code",
   "execution_count": 8,
   "metadata": {},
   "outputs": [],
   "source": [
    "from unified_model.model import unified_ode_coupled_oc"
   ]
  },
  {
   "cell_type": "code",
   "execution_count": 9,
   "metadata": {},
   "outputs": [],
   "source": [
    "# flux database\n",
    "fdb = FluxDatabase('../Research/fea-flux-curves-numr[1-20-600]-numz[1-20-600]-wdiam[0.127]-2018-03-24[10.45.22].csv', fixed_velocity=0.35)"
   ]
  },
  {
   "cell_type": "code",
   "execution_count": 458,
   "metadata": {},
   "outputs": [],
   "source": [
    "phi = fdb.query(winding_num_z='21', winding_num_r='401')\n",
    "z = fdb.z\n",
    "ocs = OpenCircuitSystem(z_index=z, phi_arr=phi, flux_model='flux_interpolate', coil_center=0.06, mf=magnet_assembly.get_height())"
   ]
  },
  {
   "cell_type": "code",
   "execution_count": 467,
   "metadata": {},
   "outputs": [],
   "source": [
    "kwargs = {'spring' : spring,\n",
    "         'damper': damper,\n",
    "         'input' : accelerometer,\n",
    "         'magnet_assembly': magnet_assembly,\n",
    "         'flux_model': ocs.flux_model,\n",
    "         'coupling': 0.01}"
   ]
  },
  {
   "cell_type": "code",
   "execution_count": 468,
   "metadata": {},
   "outputs": [],
   "source": [
    "from scipy.integrate import solve_ivp"
   ]
  },
  {
   "cell_type": "code",
   "execution_count": 469,
   "metadata": {},
   "outputs": [],
   "source": [
    "from unified_model.electrical_system.electrical_system import _gradient\n",
    "\n",
    "def unified_ode_coupled_oc(t, y, kwargs):\n",
    "    \"\"\"\n",
    "    A coupled unified electro-mechanical model.\n",
    "    \"\"\"\n",
    "\n",
    "    spring = kwargs['spring']\n",
    "    damper = kwargs['damper']\n",
    "    mechanical_input = kwargs['input']\n",
    "    magnet_assembly = kwargs['magnet_assembly']\n",
    "    flux_model = kwargs['flux_model']\n",
    "    coupling = kwargs['coupling']\n",
    "\n",
    "    x1, x2, x3, x4, x5 = y  # tube displacement, tube velocity, magnet displacement, magnet velocity, flux, emf\n",
    "\n",
    "    if x1 <= 0 and x2 <= 0:\n",
    "        x1 = 0\n",
    "        x2 = 0\n",
    "\n",
    "    x1_dot = x2\n",
    "    x2_dot = mechanical_input.get_acceleration(t)\n",
    "    x3_dot = x4\n",
    "\n",
    "    \n",
    "    dphi_dz = _gradient(flux_model, x=(x3-x1))\n",
    "    x5_dot = dphi_dz * (x4-x2)  # emf\n",
    "    \n",
    "    coupling_force = coupling*np.abs(dphi_dz)*(x4-x2)\n",
    "    \n",
    "    x4_dot = (spring.get_force(x3 - x1) - magnet_assembly.get_weight() -damper.get_force(\n",
    "        x4 - x2) - coupling_force) / magnet_assembly.get_mass()\n",
    "\n",
    "    return [x1_dot, x2_dot, x3_dot, x4_dot, x5_dot]\n"
   ]
  },
  {
   "cell_type": "code",
   "execution_count": 470,
   "metadata": {},
   "outputs": [],
   "source": [
    "psoln = solve_ivp(fun=lambda t, y: unified_ode_coupled_oc(t, y, kwargs),\n",
    "                  t_span=(3,8),\n",
    "                 y0=[0,0,0.04,0, 0],\n",
    "                 max_step=0.001)"
   ]
  },
  {
   "cell_type": "code",
   "execution_count": 471,
   "metadata": {},
   "outputs": [],
   "source": [
    "x1 = psoln.y[0, :]  # Tube displacement\n",
    "x2 = psoln.y[1, :]  # Tube velocity\n",
    "x3 = psoln.y[2, :]  # Magnet assembly displacement\n",
    "x4 = psoln.y[3, :]  # Magnet assembly velocity\n",
    "x5 = psoln.y[4, :]  # Flux\n",
    "\n",
    "\n",
    "x_relative_displacement = x3 - x1\n",
    "x_relative_velocity = x4 - x2"
   ]
  },
  {
   "cell_type": "code",
   "execution_count": 472,
   "metadata": {},
   "outputs": [
    {
     "data": {
      "text/plain": [
       "[<matplotlib.lines.Line2D at 0x7f1cdbecec18>]"
      ]
     },
     "execution_count": 472,
     "metadata": {},
     "output_type": "execute_result"
    },
    {
     "data": {
      "image/png": "[encoded data removed]",
      "text/plain": [
       "<Figure size 432x288 with 1 Axes>"
      ]
     },
     "metadata": {
      "needs_background": "light"
     },
     "output_type": "display_data"
    }
   ],
   "source": [
    "import matplotlib.pyplot as plt\n",
    "plt.plot(x3-x1)  # displacement"
   ]
  },
  {
   "cell_type": "code",
   "execution_count": 473,
   "metadata": {},
   "outputs": [
    {
     "data": {
      "text/plain": [
       "[<matplotlib.lines.Line2D at 0x7f1cdbde7470>]"
      ]
     },
     "execution_count": 473,
     "metadata": {},
     "output_type": "execute_result"
    },
    {
     "data": {
      "image/png": "[encoded data removed]",
      "text/plain": [
       "<Figure size 432x288 with 1 Axes>"
      ]
     },
     "metadata": {
      "needs_background": "light"
     },
     "output_type": "display_data"
    }
   ],
   "source": [
    "plt.plot(psoln.t, np.gradient(x5)/np.gradient(psoln.t))\n",
    "#plt.xlim(0.,0.2)"
   ]
  },
  {
   "cell_type": "code",
   "execution_count": 474,
   "metadata": {},
   "outputs": [
    {
     "data": {
      "text/plain": [
       "[<matplotlib.lines.Line2D at 0x7f1cdbe828d0>]"
      ]
     },
     "execution_count": 474,
     "metadata": {},
     "output_type": "execute_result"
    },
    {
     "data": {
      "image/png": "[encoded data removed]",
      "text/plain": [
       "<Figure size 432x288 with 1 Axes>"
      ]
     },
     "metadata": {
      "needs_background": "light"
     },
     "output_type": "display_data"
    }
   ],
   "source": [
    "plt.plot(np.gradient(x5))"
   ]
  },
  {
   "cell_type": "code",
   "execution_count": null,
   "metadata": {},
   "outputs": [],
   "source": []
  },
  {
   "cell_type": "code",
   "execution_count": null,
   "metadata": {},
   "outputs": [],
   "source": []
  }
 ],
 "metadata": {
  "kernelspec": {
   "display_name": "Python 3",
   "language": "python",
   "name": "python3"
  },
  "language_info": {
   "codemirror_mode": {
    "name": "ipython",
    "version": 3
   },
   "file_extension": ".py",
   "mimetype": "text/x-python",
   "name": "python",
   "nbconvert_exporter": "python",
   "pygments_lexer": "ipython3",
   "version": "3.6.6"
  }
 },
 "nbformat": 4,
 "nbformat_minor": 2
}
