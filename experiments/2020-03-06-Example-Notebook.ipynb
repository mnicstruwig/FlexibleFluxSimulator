{
 "cells": [
  {
   "cell_type": "markdown",
   "metadata": {},
   "source": [
    "# A quick refresh on the Microgenerator Architecture\n",
    "![free-body-diagram](./img/fbd.png)\n",
    "![microgenerator-body](./img/mcrg.png)\n",
    "\n",
    "---\n"
   ]
  },
  {
   "cell_type": "markdown",
   "metadata": {},
   "source": [
    "# The high-level concept\n",
    "There are a couple of things you'll need to understand before you can begin simulating your microgenerator.\n",
    "\n",
    "Each model consists of a few pieces:\n",
    "\n",
    "1. The governing equations (most important)\n",
    "2. A mechanical model\n",
    "3. A electrical model\n",
    "4. A coupling model\n",
    "\n",
    "The governing equations are essentially your mathematical model of your entire microgenerator. You express your model as a set of differential equations, which will eventually be solved. This is what simulates your design. **Don't panic if this sounds confusing**. We'll cover the governing equations last, once we've gone through a simpler example first. Just understand that your governing equations essentially describe how the various components interact within your model.\n",
    "\n",
    "So think of the governing equations as some math that we use to _arrange_ our various components. With that done, we need to define these components.\n",
    "\n",
    "The mechanical model contains all the components related to the mechanical part of the system (eg. friction, the magnetic spring, the manget assembly, etc.)  \n",
    "The electrical model contains all the components related to the electrical part of the system (eg. flux linkage, coil resistance and the load, etc.)  \n",
    "The coupling model explains the feedback between the electrical and mechanical model (it models our Lorentz force).\n",
    "\n",
    "Once you've defined these components, we assemble them into a `UnifiedModel`, and are then free to run our simulation and process the result.\n",
    "\n",
    "Let's get started.\n",
    "\n",
    "---"
   ]
  },
  {
   "cell_type": "markdown",
   "metadata": {},
   "source": [
    "# Imports"
   ]
  },
  {
   "cell_type": "code",
   "execution_count": 1,
   "metadata": {},
   "outputs": [],
   "source": [
    "import matplotlib.pyplot as plt\n",
    "import numpy as np\n",
    "import pandas as pd\n",
    "from scipy.signal import savgol_filter\n",
    "\n",
    "# Local imports\n",
    "from unified_model import UnifiedModel\n",
    "from unified_model import MechanicalModel\n",
    "from unified_model import ElectricalModel\n",
    "from unified_model import CouplingModel\n",
    "from unified_model import evaluate\n",
    "from unified_model import mechanical_components\n",
    "from unified_model import electrical_components\n",
    "from unified_model import governing_equations\n",
    "from unified_model import pipeline\n",
    "\n",
    "%matplotlib inline"
   ]
  },
  {
   "cell_type": "markdown",
   "metadata": {},
   "source": [
    "# Getting help in Jupyter\n",
    "Before we start for real, it's important to know how to get access to the documentation for functions inside a Jupyter Notebook.\n",
    "\n",
    "The clearest way is to type out the name of the class or function, and put a `?` on the end, and then to run the cell. Let's do an example for the `print` function below:"
   ]
  },
  {
   "cell_type": "code",
   "execution_count": 2,
   "metadata": {},
   "outputs": [
    {
     "data": {
      "text/plain": [
       "\u001b[0;31mDocstring:\u001b[0m\n",
       "print(value, ..., sep=' ', end='\\n', file=sys.stdout, flush=False)\n",
       "\n",
       "Prints the values to a stream, or to sys.stdout by default.\n",
       "Optional keyword arguments:\n",
       "file:  a file-like object (stream); defaults to the current sys.stdout.\n",
       "sep:   string inserted between values, default a space.\n",
       "end:   string appended after the last value, default a newline.\n",
       "flush: whether to forcibly flush the stream.\n",
       "\u001b[0;31mType:\u001b[0m      builtin_function_or_method\n"
      ]
     },
     "metadata": {},
     "output_type": "display_data"
    }
   ],
   "source": [
    "print?"
   ]
  },
  {
   "cell_type": "markdown",
   "metadata": {},
   "source": [
    "A lot of effort has been made to make sure the `unified_model` library is documented! So, for virtually every component of the library, you can get access to the help documentation in exactly the same way.\n",
    "\n",
    "For example:"
   ]
  },
  {
   "cell_type": "code",
   "execution_count": 3,
   "metadata": {},
   "outputs": [
    {
     "data": {
      "text/plain": [
       "\u001b[0;31mInit signature:\u001b[0m \u001b[0mUnifiedModel\u001b[0m\u001b[0;34m(\u001b[0m\u001b[0;34m)\u001b[0m\u001b[0;34m\u001b[0m\u001b[0;34m\u001b[0m\u001b[0m\n",
       "\u001b[0;31mDocstring:\u001b[0m     \n",
       "Unified model class\n",
       "\n",
       "This class is used to solve your combined or unified electrical and\n",
       "mechanical models.\n",
       "\n",
       "Attributes\n",
       "----------\n",
       "mechanical_model : instance of `MechanicalModel`\n",
       "    The mechanical model to use as part of the unified model.\n",
       "electrical_model : instance of `ElectricalModel`\n",
       "    The electrical model to use as part of the unified model.\n",
       "coupling_model : instance of `CouplingModel`\n",
       "    The electro-mechanical coupling to use as part of the unified model.\n",
       "governing_equations: func\n",
       "    The set of governing equations to solve using the unified model.\n",
       "raw_solution : ndarray\n",
       "    The raw post-pipeline output of the solution of the governing\n",
       "    equations. Intended for debugging purposes.\n",
       "    Note that the dimensions of `raw_solution` is reversed: each\n",
       "    row represents all the values for each differential equation\n",
       "    expressed in `y` by the governing equations.\n",
       "post_processing_pipeline : dict\n",
       "    Dict where keys are pipeline names and values are functions that\n",
       "    accepts as a single argument the `self.raw_solution` ndarray and\n",
       "    returns the processed result.\n",
       "time : ndarray\n",
       "    The time steps of the solution to the governing equations.\n",
       "\u001b[0;31mInit docstring:\u001b[0m Constructor.\n",
       "\u001b[0;31mFile:\u001b[0m           ~/Nextcloud/nextcloud/PhD/Python/unified_model/unified_model/unified.py\n",
       "\u001b[0;31mType:\u001b[0m           type\n"
      ]
     },
     "metadata": {},
     "output_type": "display_data"
    }
   ],
   "source": [
    "UnifiedModel?"
   ]
  },
  {
   "cell_type": "markdown",
   "metadata": {},
   "source": [
    "This also extends to the various class functions / methods as well:"
   ]
  },
  {
   "cell_type": "code",
   "execution_count": 4,
   "metadata": {},
   "outputs": [
    {
     "data": {
      "text/plain": [
       "\u001b[0;31mSignature:\u001b[0m \u001b[0mUnifiedModel\u001b[0m\u001b[0;34m.\u001b[0m\u001b[0msolve\u001b[0m\u001b[0;34m(\u001b[0m\u001b[0mself\u001b[0m\u001b[0;34m,\u001b[0m \u001b[0mt_start\u001b[0m\u001b[0;34m:\u001b[0m \u001b[0;34m'float'\u001b[0m\u001b[0;34m,\u001b[0m \u001b[0mt_end\u001b[0m\u001b[0;34m:\u001b[0m \u001b[0;34m'float'\u001b[0m\u001b[0;34m,\u001b[0m \u001b[0my0\u001b[0m\u001b[0;34m:\u001b[0m \u001b[0;34m'List[float]'\u001b[0m\u001b[0;34m,\u001b[0m \u001b[0mt_eval\u001b[0m\u001b[0;34m:\u001b[0m \u001b[0;34m'List[float]'\u001b[0m\u001b[0;34m,\u001b[0m \u001b[0mt_max_step\u001b[0m\u001b[0;34m:\u001b[0m \u001b[0;34m'float'\u001b[0m \u001b[0;34m=\u001b[0m \u001b[0;36m1e-05\u001b[0m\u001b[0;34m)\u001b[0m \u001b[0;34m->\u001b[0m \u001b[0;34m'None'\u001b[0m\u001b[0;34m\u001b[0m\u001b[0;34m\u001b[0m\u001b[0m\n",
       "\u001b[0;31mDocstring:\u001b[0m\n",
       "Solve the unified model.\n",
       "\n",
       "Parameters\n",
       "----------\n",
       "t_start : float\n",
       "    The start time of the simulation.\n",
       "t_end : float\n",
       "    The end time of the simulation\n",
       "y0 : ndarray\n",
       "    The initial values of `y`, or the result vector that is passed\n",
       "    to the governing equations.\n",
       "t_eval : ndarray[float]\n",
       "    Times at which to store the computed solution.\n",
       "t_max_step : float, optional\n",
       "    The maximum time step (in seconds) to be used when solving the\n",
       "    unified model. Default value is 1e-5.\n",
       "\n",
       "See Also\n",
       "--------\n",
       "scipy.integrate.solve_ivp : Function used to solve the governing\n",
       "    equations of the unified model.\n",
       "\u001b[0;31mFile:\u001b[0m      ~/Nextcloud/nextcloud/PhD/Python/unified_model/unified_model/unified.py\n",
       "\u001b[0;31mType:\u001b[0m      function\n"
      ]
     },
     "metadata": {},
     "output_type": "display_data"
    }
   ],
   "source": [
    "UnifiedModel.solve?"
   ]
  },
  {
   "cell_type": "markdown",
   "metadata": {},
   "source": [
    "So if you're ever stuck or confused -- remember you can use the help functionality!\n",
    "\n",
    "---\n",
    "---\n",
    "\n",
    "With that out the way, let's get started for real."
   ]
  },
  {
   "cell_type": "markdown",
   "metadata": {},
   "source": [
    "# Prerequisites\n",
    "Before we can simulate our model, we assume that we already have a some kind of excitation that is applied to a model. In this particular case, we'll be using measurements from an accelerometer that are stored in a .csv file.\n",
    "\n",
    "It has the following shape (ignore the code for now -- we'll be going over it in the next section): "
   ]
  },
  {
   "cell_type": "code",
   "execution_count": 7,
   "metadata": {},
   "outputs": [
    {
     "data": {
      "image/png": "[encoded data removed]",
      "text/plain": [
       "<Figure size 432x288 with 1 Axes>"
      ]
     },
     "metadata": {
      "needs_background": "light"
     },
     "output_type": "display_data"
    }
   ],
   "source": [
    "input_excitation = mechanical_components.AccelerometerInput(\n",
    "    raw_accelerometer_input='../data/2019-05-23_C/A/log_03_acc.csv',  # Choose the accelerometer file we want to use\n",
    "    accel_column='z_G',  \n",
    "    time_column='time(ms)',\n",
    "    accel_unit='g',\n",
    "    time_unit='ms',\n",
    "    smooth=True,\n",
    "    interpolate=True\n",
    ")\n",
    "\n",
    "timesteps = np.linspace(0, 8, 1000)\n",
    "acc = [input_excitation.get_acceleration(t) for t in timesteps]\n",
    "plt.plot(timesteps, acc)\n",
    "plt.show()"
   ]
  },
  {
   "cell_type": "markdown",
   "metadata": {},
   "source": [
    "# Set the base model parameters"
   ]
  },
  {
   "cell_type": "code",
   "execution_count": 8,
   "metadata": {},
   "outputs": [],
   "source": [
    "c = 1  # number of coils\n",
    "m = 1  # number of magnets\n",
    "l_m = 10  # length of the magnets in mm\n",
    "dia_m = 10  # diameter of the magnets in mm\n",
    "l_ccd = 0  # distance between centers of coils in mm\n",
    "l_mcd = 0  # distance between centers of magnets in mm\n",
    "c_c = 0.059  # location of center of first coil in m"
   ]
  },
  {
   "cell_type": "markdown",
   "metadata": {},
   "source": [
    "# Start creating the various components\n",
    "\n",
    "## Mechanical Model\n",
    "We'll start by setting up the mechanical model. There are a couple things we need to set here:\n",
    "\n",
    "1. The magnetic spring\n",
    "2. The magnet assembly\n",
    "3. The \"impact\" when the magnet assembly hits the top of the microgenerator\n",
    "4. The damper that models the loss due to friction\n",
    "5. The input acceleration / excitation"
   ]
  },
  {
   "cell_type": "markdown",
   "metadata": {},
   "source": [
    "### Magnetic spring"
   ]
  },
  {
   "cell_type": "code",
   "execution_count": 10,
   "metadata": {},
   "outputs": [
    {
     "data": {
      "text/plain": [
       "MagneticSpringInterp(../data/magnetic-spring/10x10alt.csv, <function smoothing_filter at 0x7f2c859a9a60>)"
      ]
     },
     "execution_count": 10,
     "metadata": {},
     "output_type": "execute_result"
    }
   ],
   "source": [
    "def smoothing_filter(x_arr):\n",
    "    return savgol_filter(x_arr, window_length=27, polyorder=5)\n",
    "\n",
    "magnetic_spring = mechanical_components.MagneticSpringInterp(\n",
    "    fea_data_file='../data/magnetic-spring/10x10alt.csv',\n",
    "    magnet_length=l_m/1000,\n",
    "    filter_callable=smoothing_filter\n",
    ")\n",
    "\n",
    "magnetic_spring  # You can preview components by evaluating them like this :)"
   ]
  },
  {
   "cell_type": "code",
   "execution_count": 11,
   "metadata": {},
   "outputs": [
    {
     "data": {
      "text/plain": [
       "[<matplotlib.lines.Line2D at 0x7f2c86059860>]"
      ]
     },
     "execution_count": 11,
     "metadata": {},
     "output_type": "execute_result"
    },
    {
     "data": {
      "image/png": "[encoded data removed]",
      "text/plain": [
       "<Figure size 432x288 with 1 Axes>"
      ]
     },
     "metadata": {
      "needs_background": "light"
     },
     "output_type": "display_data"
    }
   ],
   "source": [
    "# Let's draw some plots just to be sure\n",
    "\n",
    "z_arr = np.linspace(0.01, 0.1, 100)\n",
    "force = [magnetic_spring.get_force(z) for z in z_arr]\n",
    "plt.plot(z_arr, force, 'o-')  # Notice the little discontinuity! (ask me about this)"
   ]
  },
  {
   "cell_type": "markdown",
   "metadata": {},
   "source": [
    "### Magnet Assembly"
   ]
  },
  {
   "cell_type": "code",
   "execution_count": 12,
   "metadata": {},
   "outputs": [
    {
     "ename": "TypeError",
     "evalue": "__init__() got an unexpected keyword argument 'n_magnet'",
     "output_type": "error",
     "traceback": [
      "\u001b[0;31m---------------------------------------------------------------------------\u001b[0m",
      "\u001b[0;31mTypeError\u001b[0m                                 Traceback (most recent call last)",
      "\u001b[0;32m<ipython-input-12-a4a6c077746f>\u001b[0m in \u001b[0;36m<module>\u001b[0;34m\u001b[0m\n\u001b[1;32m      4\u001b[0m     \u001b[0ml_mcd\u001b[0m\u001b[0;34m=\u001b[0m\u001b[0;36m0\u001b[0m\u001b[0;34m,\u001b[0m\u001b[0;34m\u001b[0m\u001b[0;34m\u001b[0m\u001b[0m\n\u001b[1;32m      5\u001b[0m     \u001b[0mdia_magnet\u001b[0m\u001b[0;34m=\u001b[0m\u001b[0mdia_m\u001b[0m\u001b[0;34m,\u001b[0m\u001b[0;34m\u001b[0m\u001b[0;34m\u001b[0m\u001b[0m\n\u001b[0;32m----> 6\u001b[0;31m     \u001b[0mdia_spacer\u001b[0m\u001b[0;34m=\u001b[0m\u001b[0mdia_m\u001b[0m\u001b[0;34m,\u001b[0m\u001b[0;34m\u001b[0m\u001b[0;34m\u001b[0m\u001b[0m\n\u001b[0m\u001b[1;32m      7\u001b[0m )\n\u001b[1;32m      8\u001b[0m \u001b[0;34m\u001b[0m\u001b[0m\n",
      "\u001b[0;31mTypeError\u001b[0m: __init__() got an unexpected keyword argument 'n_magnet'"
     ]
    }
   ],
   "source": [
    "mag_assembly = mechanical_components.MagnetAssembly(\n",
    "    m=m,\n",
    "    l_m_mm=l_m,\n",
    "    l_mcd_mm=0,\n",
    "    dia_magnet=dia_m,\n",
    "    dia_spacer=dia_m,\n",
    ")\n",
    "\n",
    "mag_assembly"
   ]
  },
  {
   "cell_type": "code",
   "execution_count": 10,
   "metadata": {},
   "outputs": [
    {
     "data": {
      "text/plain": [
       "0.005890486225480863"
      ]
     },
     "execution_count": 10,
     "metadata": {},
     "output_type": "execute_result"
    }
   ],
   "source": [
    "mag_assembly.get_mass()"
   ]
  },
  {
   "cell_type": "markdown",
   "metadata": {},
   "source": [
    "### Friction"
   ]
  },
  {
   "cell_type": "code",
   "execution_count": 11,
   "metadata": {},
   "outputs": [
    {
     "data": {
      "text/plain": [
       "ConstantDamper(damping_coefficient=0.03)"
      ]
     },
     "execution_count": 11,
     "metadata": {},
     "output_type": "execute_result"
    }
   ],
   "source": [
    "damper = mechanical_components.ConstantDamper(0.030)\n",
    "damper"
   ]
  },
  {
   "cell_type": "markdown",
   "metadata": {},
   "source": [
    "### \"thunk\" at the top\n",
    "We model the magnet assembly impacting the top of the microgenerator body as a very strong mechanical spring that \n",
    "push but cannot pull."
   ]
  },
  {
   "cell_type": "code",
   "execution_count": 12,
   "metadata": {},
   "outputs": [
    {
     "data": {
      "text/plain": [
       "MechanicalSpring(position=0.11, magnet_length=0.01, strength=1000000000.0, damping_coefficient=0.5)"
      ]
     },
     "execution_count": 12,
     "metadata": {},
     "output_type": "execute_result"
    }
   ],
   "source": [
    "mech_spring = mechanical_components.MechanicalSpring(\n",
    "    position=110/1000,  # position of the microgenerator \"top\" (in metres)\n",
    "    magnet_length=l_m/1000,\n",
    "    damping_coefficient=0.5  # Controls how \"lossy\" the impact is.\n",
    ") \n",
    "\n",
    "mech_spring"
   ]
  },
  {
   "cell_type": "markdown",
   "metadata": {},
   "source": [
    "## Electrical Model\n",
    "Next, we'll set up the electrical model. For this, we'll need:\n",
    "\n",
    "1. The coil resistance\n",
    "2. The load model\n",
    "3. The rectification voltage drop\n",
    "4. The flux model (and its derivative)"
   ]
  },
  {
   "cell_type": "markdown",
   "metadata": {},
   "source": [
    "### Coil resistance"
   ]
  },
  {
   "cell_type": "code",
   "execution_count": 13,
   "metadata": {},
   "outputs": [],
   "source": [
    "R_coil = 12.5  # Ohms"
   ]
  },
  {
   "cell_type": "markdown",
   "metadata": {},
   "source": [
    "### Load"
   ]
  },
  {
   "cell_type": "code",
   "execution_count": 14,
   "metadata": {},
   "outputs": [
    {
     "data": {
      "text/plain": [
       "SimpleLoad(R=20)"
      ]
     },
     "execution_count": 14,
     "metadata": {},
     "output_type": "execute_result"
    }
   ],
   "source": [
    "load = electrical_components.SimpleLoad(R=20)  # Ohms\n",
    "load"
   ]
  },
  {
   "cell_type": "markdown",
   "metadata": {},
   "source": [
    "### Rectification Drop"
   ]
  },
  {
   "cell_type": "code",
   "execution_count": 15,
   "metadata": {},
   "outputs": [],
   "source": [
    "v_rect_drop = 0.1  # Volts (depends on your Schottky diodes)"
   ]
  },
  {
   "cell_type": "markdown",
   "metadata": {},
   "source": [
    "### Flux Model\n",
    "The flux model is a _little_ trickier.\n",
    "\n",
    "With the flux model, we actually need to fit it to some _data_.  \n",
    "This data is simply a flux curve that we've simulated previously using some FEA software (at least in this example).\n",
    "\n",
    "So here, we read in a .CSV file with our data, and then pass that through to the model to fit.  \n",
    "In this example, we don't use a very sophisticated model (we simply interpolate between the values using a [smooth curve](https://en.wikipedia.org/wiki/B-spline)).\n",
    "\n",
    "And then, just to be sure, we also draw some plots to make sure things look \"correct\"."
   ]
  },
  {
   "cell_type": "code",
   "execution_count": 16,
   "metadata": {},
   "outputs": [
    {
     "data": {
      "image/png": "[encoded data removed]",
      "text/plain": [
       "<Figure size 432x288 with 1 Axes>"
      ]
     },
     "metadata": {
      "needs_background": "light"
     },
     "output_type": "display_data"
    }
   ],
   "source": [
    "flux_model = electrical_components.FluxModelInterp(\n",
    "    c=c,\n",
    "    m=m,\n",
    "    c_c=c_c,\n",
    "    l_ccd=l_ccd,\n",
    "    l_mcd=l_mcd\n",
    ")\n",
    "\n",
    "# But we still need to 'fit' the flux model to some data...\n",
    "df = pd.read_csv('./data/fea-flux-curves/example_flux_curve.csv')\n",
    "df.columns = ['time_ms', 'flux']  # Rename the columns to something more friendly\n",
    "df['z'] = df['time_ms']*0.35/1000  # Get position of magnet by multiplying time by velocity (0.35m/s in this case)\n",
    "df['flux'] = np.abs(df['flux'])\n",
    "\n",
    "flux_model.fit(df['z'].values, df['flux'].values)\n",
    "flux_model\n",
    "\n",
    "# Let's draw a quick plot to make sure everything looks correct\n",
    "test_z_values = np.linspace(0, 0.1, 10000)\n",
    "model_phi_values = [flux_model.flux(z) for z in test_z_values]  # We'll check both the flux\n",
    "model_dphi_values =[flux_model.dflux(z) for z in test_z_values]  # And also its derivative\n",
    "plt.plot(test_z_values, model_phi_values)\n",
    "plt.title('$\\phi(z)$')\n",
    "plt.show()"
   ]
  },
  {
   "cell_type": "code",
   "execution_count": 17,
   "metadata": {},
   "outputs": [
    {
     "data": {
      "image/png": "[encoded data removed]",
      "text/plain": [
       "<Figure size 432x288 with 1 Axes>"
      ]
     },
     "metadata": {
      "needs_background": "light"
     },
     "output_type": "display_data"
    }
   ],
   "source": [
    "plt.plot(test_z_values, model_dphi_values, label='dflux/dz')\n",
    "plt.title('$d \\phi(z) /dz$')\n",
    "plt.show()"
   ]
  },
  {
   "cell_type": "markdown",
   "metadata": {},
   "source": [
    "### Coupling Model"
   ]
  },
  {
   "cell_type": "code",
   "execution_count": 18,
   "metadata": {},
   "outputs": [
    {
     "data": {
      "text/plain": [
       "CouplingModel(coupling_constant=1.0)"
      ]
     },
     "execution_count": 18,
     "metadata": {},
     "output_type": "execute_result"
    }
   ],
   "source": [
    "coupling_model = CouplingModel().set_coupling_constant(1.)\n",
    "coupling_model"
   ]
  },
  {
   "cell_type": "markdown",
   "metadata": {},
   "source": [
    "# Build the Unified Model\n",
    "Now, we just assemble everything."
   ]
  },
  {
   "cell_type": "code",
   "execution_count": 19,
   "metadata": {},
   "outputs": [],
   "source": [
    "mechanical_model = MechanicalModel() \\\n",
    "    .set_damper(damper) \\\n",
    "    .set_magnet_assembly(mag_assembly) \\\n",
    "    .set_magnetic_spring(magnetic_spring) \\\n",
    "    .set_mechanical_spring(mech_spring) \\\n",
    "    .set_input(input_excitation)"
   ]
  },
  {
   "cell_type": "code",
   "execution_count": 20,
   "metadata": {},
   "outputs": [],
   "source": [
    "electrical_model = ElectricalModel() \\\n",
    "    .set_coil_resistance(R_coil) \\\n",
    "    .set_rectification_drop(v_rect_drop) \\\n",
    "    .set_load_model(load) \\\n",
    "    .set_flux_model(flux_model.flux_model, flux_model.dflux_model) \\"
   ]
  },
  {
   "cell_type": "code",
   "execution_count": 21,
   "metadata": {},
   "outputs": [],
   "source": [
    "unified_model = UnifiedModel() \\\n",
    "    .set_mechanical_model(mechanical_model) \\\n",
    "    .set_electrical_model(electrical_model) \\\n",
    "    .set_coupling_model(coupling_model) \\\n",
    "    .set_post_processing_pipeline(pipeline.clip_x2, name='clip tube velocity') \\\n",
    "    .set_governing_equations(governing_equations.unified_ode)  # Here we set our governing equations for my particular microgenerator. We'll go over this a bit later."
   ]
  },
  {
   "cell_type": "markdown",
   "metadata": {},
   "source": [
    "Notice that we've added a post-processing pipeline that clips the tube velocity.\n",
    "This is a requirement due to the quirks of our particular differential equation solver we use and how the current governing equation is written. Essentially, in the governing equation we prevent the tube from _going through the floor_, clipping the value to 0 if it does so. The solver doesn't know how to interpret this behaviour, and so gives a bad response. This pipeline corrects for this.\n",
    "\n",
    "**Ask me about the post-processing pipeline in person if this is confusing**\n",
    "\n",
    "---"
   ]
  },
  {
   "cell_type": "markdown",
   "metadata": {},
   "source": [
    "### Let's make sure everything looks good:"
   ]
  },
  {
   "cell_type": "code",
   "execution_count": 22,
   "metadata": {},
   "outputs": [
    {
     "name": "stdout",
     "output_type": "stream",
     "text": [
      "Mechanical Model: \n",
      "      magnetic_spring: MagneticSpringInterp(./data/magnetic-spring/10x10alt.csv, <function smoothing_filter at 0x7f02052ef8c8>)\n",
      "      mechanical_spring: MechanicalSpring(position=0.11, magnet_length=0.01, strength=1000000000.0, damping_coefficient=0.5)\n",
      "      magnet_assembly: MagnetAssembly(n_magnet=1, l_m=10, l_mcd=0, dia_magnet=10, dia_spacer=10)\n",
      "      damper: ConstantDamper: \n",
      "      damping_coefficient: 0.03\n",
      "      input_: <unified_model.mechanical_components.input_excitation.accelerometer.AccelerometerInput object at 0x7f020a2f3390>\n"
     ]
    }
   ],
   "source": [
    "print(mechanical_model)"
   ]
  },
  {
   "cell_type": "code",
   "execution_count": 23,
   "metadata": {},
   "outputs": [
    {
     "name": "stdout",
     "output_type": "stream",
     "text": [
      "Electrical Model: \n",
      "      flux_model: <numba.jitclass.boxing.FastInterpolator object at 0x7f0205961350>\n",
      "      dflux_model: <numba.jitclass.boxing.FastInterpolator object at 0x7f020592bdb0>\n",
      "      coil_resistance: 12.5\n",
      "      rectification_drop: 0.1\n",
      "      load_model: SimpleLoad: 20 Ohms\n"
     ]
    }
   ],
   "source": [
    "print(electrical_model)"
   ]
  },
  {
   "cell_type": "code",
   "execution_count": 24,
   "metadata": {},
   "outputs": [
    {
     "name": "stdout",
     "output_type": "stream",
     "text": [
      "Unified Model: \n",
      "  mechanical_model: Mechanical Model: \n",
      "      magnetic_spring: MagneticSpringInterp(./data/magnetic-spring/10x10alt.csv, <function smoothing_filter at 0x7f02052ef8c8>)\n",
      "      mechanical_spring: MechanicalSpring(position=0.11, magnet_length=0.01, strength=1000000000.0, damping_coefficient=0.5)\n",
      "      magnet_assembly: MagnetAssembly(n_magnet=1, l_m=10, l_mcd=0, dia_magnet=10, dia_spacer=10)\n",
      "      damper: ConstantDamper: \n",
      "      damping_coefficient: 0.03\n",
      "      input_: <unified_model.mechanical_components.input_excitation.accelerometer.AccelerometerInput object at 0x7f020a2f3390>\n",
      "  electrical_model: Electrical Model: \n",
      "      flux_model: <numba.jitclass.boxing.FastInterpolator object at 0x7f0205961350>\n",
      "      dflux_model: <numba.jitclass.boxing.FastInterpolator object at 0x7f020592bdb0>\n",
      "      coil_resistance: 12.5\n",
      "      rectification_drop: 0.1\n",
      "      load_model: SimpleLoad: 20 Ohms\n",
      "  coupling_model: CouplingModel(coupling_constant=1.0)\n",
      "  governing_equations: <function unified_ode at 0x7f020a218ae8>\n",
      "  raw_solution: None\n",
      "  post_processing_pipeline: {'clip tube velocity': <function clip_x2 at 0x7f020a218b70>}\n",
      "  time: None\n"
     ]
    }
   ],
   "source": [
    "print(unified_model)"
   ]
  },
  {
   "cell_type": "markdown",
   "metadata": {},
   "source": [
    "# Everything looks good. Let's run our simulation\n",
    "\n",
    "Our simulation just needs one extra thing though, the initial conditions. `x1` to `x5` are defined by the governing equations (we'll touch on them soon!)."
   ]
  },
  {
   "cell_type": "code",
   "execution_count": 26,
   "metadata": {},
   "outputs": [],
   "source": [
    "y0 = [\n",
    "    0.0,  # x1 at t=0 -> tube displacement in m\n",
    "    0.0,  # x2 at t=0 -> tube velocity in m/s\n",
    "    0.05, # x3 at t=0 -> magnet displacement in m\n",
    "    0.0,  # x4 at t=0 -> magnet velocity in m/s\n",
    "    0.0   # x5 at t=0 -> flux linkage in \n",
    "]\n",
    "\n",
    "unified_model.solve(  # This can take a little while...\n",
    "    t_start=0,\n",
    "    t_end=8,\n",
    "    y0=y0,  # Initial conditions we defined above\n",
    "    t_max_step=1e-3,  # Don't make this too big (low accuracy) or small (long run time)\n",
    "    method='BDF'\n",
    ")"
   ]
  },
  {
   "cell_type": "markdown",
   "metadata": {},
   "source": [
    "## Let's fetch our results\n",
    "Retrieving our results is quite a fun process, and is probability a little different to what you're used to. The docstring hopefully explains it clearly enough:"
   ]
  },
  {
   "cell_type": "code",
   "execution_count": 29,
   "metadata": {},
   "outputs": [
    {
     "data": {
      "text/plain": [
       "\u001b[0;31mSignature:\u001b[0m \u001b[0munified_model\u001b[0m\u001b[0;34m.\u001b[0m\u001b[0mget_result\u001b[0m\u001b[0;34m(\u001b[0m\u001b[0;34m**\u001b[0m\u001b[0mkwargs\u001b[0m\u001b[0;34m)\u001b[0m \u001b[0;34m->\u001b[0m \u001b[0mpandas\u001b[0m\u001b[0;34m.\u001b[0m\u001b[0mcore\u001b[0m\u001b[0;34m.\u001b[0m\u001b[0mframe\u001b[0m\u001b[0;34m.\u001b[0m\u001b[0mDataFrame\u001b[0m\u001b[0;34m\u001b[0m\u001b[0;34m\u001b[0m\u001b[0m\n",
       "\u001b[0;31mDocstring:\u001b[0m\n",
       "Get a dataframe of the results using expressions.\n",
       "\n",
       "*Any* reasonable expression is possible. You can refer to each of the\n",
       "differential equations that is represented by the governing equations\n",
       "using the letter 'x' with the number appended. For example `x1` refers\n",
       "to the first differential equation, `x2` to the second, etc.\n",
       "\n",
       "Each expression is available as a column in the returned pandas\n",
       "dataframe, with the column name being the key of the passed expression.\n",
       "\n",
       "Parameters\n",
       "----------\n",
       "**kwargs\n",
       "    Each key is the name of the column of the returned dataframe.\n",
       "    Each value is the expression to be evaluated.\n",
       "\n",
       "Returns\n",
       "-------\n",
       "pandas dataframe\n",
       "    Output dataframe containing the evaluated expressions.\n",
       "\n",
       "See Also\n",
       "--------\n",
       "unified_model.utils.utils.parse_output_expression : helper function\n",
       "    that contains the parsing logic.\n",
       "\n",
       "Example\n",
       "--------\n",
       ">>> # Here we use previously-built and solved unified model\n",
       ">>> unified_model\n",
       "<unified_model.unified.UnifiedModel at 0x7fa9e45a83c8>\n",
       ">>> print(unified_model.raw_solution)\n",
       "[[1 2 3 4 5]\n",
       " [1 1 1 1 1]]\n",
       ">>> unified_model.get_result(an_expr='x1', another_expr='x2-x1', third_expr='x1*x2')\n",
       "   an_expr  another_expr  third_expr\n",
       "0        1             0           1\n",
       "1        2            -1           2\n",
       "2        3            -2           3\n",
       "3        4            -3           4\n",
       "4        5            -4           5\n",
       "\u001b[0;31mFile:\u001b[0m      ~/Nextcloud/PhD/Python/unified_model/unified_model/unified.py\n",
       "\u001b[0;31mType:\u001b[0m      method\n"
      ]
     },
     "metadata": {},
     "output_type": "display_data"
    }
   ],
   "source": [
    "unified_model.get_result?"
   ]
  },
  {
   "cell_type": "markdown",
   "metadata": {},
   "source": [
    "---\n",
    "## Fetching the solution\n",
    "\n",
    "I've chosen a few of the typical metrics you'd likely need to look at."
   ]
  },
  {
   "cell_type": "code",
   "execution_count": 30,
   "metadata": {},
   "outputs": [
    {
     "data": {
      "text/html": [
       "<div>\n",
       "<style scoped>\n",
       "    .dataframe tbody tr th:only-of-type {\n",
       "        vertical-align: middle;\n",
       "    }\n",
       "\n",
       "    .dataframe tbody tr th {\n",
       "        vertical-align: top;\n",
       "    }\n",
       "\n",
       "    .dataframe thead th {\n",
       "        text-align: right;\n",
       "    }\n",
       "</style>\n",
       "<table border=\"1\" class=\"dataframe\">\n",
       "  <thead>\n",
       "    <tr style=\"text-align: right;\">\n",
       "      <th></th>\n",
       "      <th>time</th>\n",
       "      <th>rel_pos_mag</th>\n",
       "      <th>rel_vel_mag</th>\n",
       "      <th>flux</th>\n",
       "      <th>emf</th>\n",
       "    </tr>\n",
       "  </thead>\n",
       "  <tbody>\n",
       "    <tr>\n",
       "      <th>0</th>\n",
       "      <td>0.000</td>\n",
       "      <td>0.050000</td>\n",
       "      <td>0.000000</td>\n",
       "      <td>0.0</td>\n",
       "      <td>0.0</td>\n",
       "    </tr>\n",
       "    <tr>\n",
       "      <th>1</th>\n",
       "      <td>0.001</td>\n",
       "      <td>0.050000</td>\n",
       "      <td>-0.000878</td>\n",
       "      <td>0.0</td>\n",
       "      <td>0.0</td>\n",
       "    </tr>\n",
       "    <tr>\n",
       "      <th>2</th>\n",
       "      <td>0.002</td>\n",
       "      <td>0.049998</td>\n",
       "      <td>-0.001752</td>\n",
       "      <td>0.0</td>\n",
       "      <td>0.0</td>\n",
       "    </tr>\n",
       "    <tr>\n",
       "      <th>3</th>\n",
       "      <td>0.003</td>\n",
       "      <td>0.049996</td>\n",
       "      <td>-0.002620</td>\n",
       "      <td>0.0</td>\n",
       "      <td>0.0</td>\n",
       "    </tr>\n",
       "    <tr>\n",
       "      <th>4</th>\n",
       "      <td>0.004</td>\n",
       "      <td>0.049993</td>\n",
       "      <td>-0.003484</td>\n",
       "      <td>0.0</td>\n",
       "      <td>0.0</td>\n",
       "    </tr>\n",
       "  </tbody>\n",
       "</table>\n",
       "</div>"
      ],
      "text/plain": [
       "    time  rel_pos_mag  rel_vel_mag  flux  emf\n",
       "0  0.000     0.050000     0.000000   0.0  0.0\n",
       "1  0.001     0.050000    -0.000878   0.0  0.0\n",
       "2  0.002     0.049998    -0.001752   0.0  0.0\n",
       "3  0.003     0.049996    -0.002620   0.0  0.0\n",
       "4  0.004     0.049993    -0.003484   0.0  0.0"
      ]
     },
     "execution_count": 30,
     "metadata": {},
     "output_type": "execute_result"
    }
   ],
   "source": [
    "result = unified_model.get_result(\n",
    "    time='t',  # time,\n",
    "    rel_pos_mag='x3-x1',  # Relative position of magnet in m\n",
    "    rel_vel_mag='x4-x2',  # Relative velocity of magnet in m\n",
    "    flux='x5',  # Flux linkage\n",
    "    emf='g(t, x5)'  # EMF, which is the gradient, with respect to time, of the flux. In volts.\n",
    ")\n",
    "\n",
    "result.head()"
   ]
  },
  {
   "cell_type": "markdown",
   "metadata": {},
   "source": [
    "We can than then draw up a few plots, using whichever plotting library you like (I like `plotnine`, but use whatever you prefer or find easiest -- probably `matplotlib` if you're newer to Python)"
   ]
  },
  {
   "cell_type": "code",
   "execution_count": 31,
   "metadata": {},
   "outputs": [],
   "source": [
    "from plotnine import *"
   ]
  },
  {
   "cell_type": "code",
   "execution_count": 32,
   "metadata": {},
   "outputs": [
    {
     "data": {
      "image/png": "[encoded data removed]",
      "text/plain": [
       "<Figure size 640x480 with 1 Axes>"
      ]
     },
     "metadata": {},
     "output_type": "display_data"
    },
    {
     "data": {
      "text/plain": [
       "<ggplot: (8752698725324)>"
      ]
     },
     "execution_count": 32,
     "metadata": {},
     "output_type": "execute_result"
    }
   ],
   "source": [
    "p = ggplot(aes(x='time', y='rel_pos_mag'), result)\n",
    "p + geom_line() + ggtitle('Magnet relative position')"
   ]
  },
  {
   "cell_type": "code",
   "execution_count": 33,
   "metadata": {},
   "outputs": [
    {
     "data": {
      "image/png": "[encoded data removed]",
      "text/plain": [
       "<Figure size 640x480 with 1 Axes>"
      ]
     },
     "metadata": {},
     "output_type": "display_data"
    },
    {
     "data": {
      "text/plain": [
       "<ggplot: (-9223363284156123083)>"
      ]
     },
     "execution_count": 33,
     "metadata": {},
     "output_type": "execute_result"
    }
   ],
   "source": [
    "p = ggplot(aes(x='time', y='rel_vel_mag'), result)\n",
    "p + geom_line() + ggtitle('Magnet relative velocity')"
   ]
  },
  {
   "cell_type": "code",
   "execution_count": 31,
   "metadata": {},
   "outputs": [
    {
     "data": {
      "image/png": "[encoded data removed]",
      "text/plain": [
       "<Figure size 640x480 with 1 Axes>"
      ]
     },
     "metadata": {},
     "output_type": "display_data"
    },
    {
     "data": {
      "text/plain": [
       "<ggplot: (8777451931589)>"
      ]
     },
     "execution_count": 31,
     "metadata": {},
     "output_type": "execute_result"
    }
   ],
   "source": [
    "p = ggplot(aes(x='time', y='emf'), result)\n",
    "p + geom_line() + ggtitle('Open-circuit EMF')"
   ]
  },
  {
   "cell_type": "markdown",
   "metadata": {},
   "source": [
    "# Calculating Metrics\n",
    "Once you've finished running your simulation, often you'll wish to calculate some metrics on the prediction. Two types of metrics can be calculated:\n",
    "\n",
    "1. Metrics that _don't_ depend on groundtruth data (called 'calculation metrics')\n",
    "2. Metrics that _do_ depend on groundtruth data (called 'score metrics')\n",
    "\n",
    "We'll cover both of these cases below."
   ]
  },
  {
   "cell_type": "markdown",
   "metadata": {},
   "source": [
    "## Calculation metrics\n",
    "As mentioned before, these calculation metrics don't depend on groundtruth data -- they simply calculate a metric based on the prediction values. A good example is calculating the RMS of the predicted open-source EMF, but, as you'll soon see, you can choose any metric you wish.\n",
    "\n",
    "Let's first demonstrate how to calculate these metrics, and then explain how it works:"
   ]
  },
  {
   "cell_type": "code",
   "execution_count": 107,
   "metadata": {},
   "outputs": [
    {
     "data": {
      "text/plain": [
       "{'maximum_y_diff': 0.10500167355352841, 'minimum_y_diff': 0.01807191992452532}"
      ]
     },
     "execution_count": 107,
     "metadata": {},
     "output_type": "execute_result"
    }
   ],
   "source": [
    "def calculate_max(arr):\n",
    "    return max(arr)\n",
    "\n",
    "def calculate_min(arr):\n",
    "    return min(arr)\n",
    "\n",
    "def calculate_rms(arr):\n",
    "    square = arr**2\n",
    "    sum_square = np.sum(square)\n",
    "    sqrt_sum_square = np.sqrt(sum_square / len(arr))\n",
    "    return sqrt_sum_square\n",
    "\n",
    "metric_dict = {\n",
    "    'maximum_y_diff': calculate_max,\n",
    "    'minimum_y_diff': calculate_min,\n",
    "}\n",
    "\n",
    "# First calculate metrics on the relative displacement between the tube (x1) and the magnet assembly (x3)\n",
    "# See the \"Fetching results\" section above if you're unfamiliar with the \"prediction expression\" concept.\n",
    "calculated_mech_metrics = unified_model.calculate_metrics(prediction_expr='x3-x1', metric_dict=metric_dict)\n",
    "calculated_mech_metrics"
   ]
  },
  {
   "cell_type": "code",
   "execution_count": 108,
   "metadata": {},
   "outputs": [
    {
     "data": {
      "text/plain": [
       "{'oc_emf_v': 0.07477352666606242}"
      ]
     },
     "execution_count": 108,
     "metadata": {},
     "output_type": "execute_result"
    }
   ],
   "source": [
    "# Next, let's calculate metrics on the open-circuit EMF of the system\n",
    "metric_dict = {\n",
    "    'oc_emf_v': calculate_rms\n",
    "}\n",
    "\n",
    "calculated_elec_metrics = unified_model.calculate_metrics(prediction_expr='g(t,x5)', metric_dict=metric_dict)\n",
    "calculated_elec_metrics"
   ]
  },
  {
   "cell_type": "markdown",
   "metadata": {},
   "source": [
    "As you can see, in order to calculate metrics, you to specify the prediction expression and a dictionary, where the key is the name you wish to give the metric, and the value a function that accepts an array of values and returns the metric."
   ]
  },
  {
   "cell_type": "markdown",
   "metadata": {},
   "source": [
    "## Score metrics\n",
    "If you wish to calculate metrics that do depend on groundtruth data, things get a little more complicated (but not by much!). For now, I am considering it beyond the scope of this particular notebook, since it requires a discussion regarding how to correctly process groundtruth data for accurate scoring.\n",
    "\n",
    "But the classes you need to be aware of is the `MechanicalSystemEvaluator` and `LabeledVideoProcessor` (for processing and scoring groundtruth mechanical data) and the `ElectricalSystemEvaluator` and `AdcProcessor` (for processing and scoring the groundtruth electrical data).\n",
    "\n",
    "All the classes are fully documented, and shouldn't be too difficult to figure out, but send me an email if you get stuck:"
   ]
  },
  {
   "cell_type": "code",
   "execution_count": 109,
   "metadata": {},
   "outputs": [
    {
     "data": {
      "text/plain": [
       "\u001b[0;31mInit signature:\u001b[0m \u001b[0mevaluate\u001b[0m\u001b[0;34m.\u001b[0m\u001b[0mLabeledVideoProcessor\u001b[0m\u001b[0;34m(\u001b[0m\u001b[0mmm\u001b[0m\u001b[0;34m,\u001b[0m \u001b[0mseconds_per_frame\u001b[0m\u001b[0;34m,\u001b[0m \u001b[0mpixel_scale\u001b[0m\u001b[0;34m=\u001b[0m\u001b[0;32mNone\u001b[0m\u001b[0;34m)\u001b[0m\u001b[0;34m\u001b[0m\u001b[0;34m\u001b[0m\u001b[0m\n",
       "\u001b[0;31mDocstring:\u001b[0m     \n",
       "Post-processor for labeled magnet-assembly data.\n",
       "\n",
       "Attributes\n",
       "----------\n",
       "mm : float\n",
       "    Height of the moving magnet assembly in mm.\n",
       "seconds_per_frame : float\n",
       "    Number of seconds per frame / datapoint.\n",
       "    This is typically found in the `subsampled_seconds_per_frame` key\n",
       "    of the generated .DONE file when using the OpenCV-based CLI\n",
       "    helper script.\n",
       "pixel_scale : float, optional\n",
       "    The pixel scale to use (in mm per pixel). This value will override\n",
       "    the recorded pixel values in the groundtruth_dataframe.\n",
       "    Default value is None.\n",
       "\n",
       "Methods\n",
       "-------\n",
       "fit_transform(groundtruth_dataframe, impute_missing_values)\n",
       "    Process and transform groundtruth video measurements.\n",
       "\u001b[0;31mInit docstring:\u001b[0m\n",
       "Constructor.\n",
       "\n",
       "Parameters\n",
       "----------\n",
       "mm : float\n",
       "    Height of the moving magnet assembly in mm.\n",
       "seconds_per_frame : float\n",
       "    Number of seconds per frame / datapoint.\n",
       "    This is typically found in the `subsampled_seconds_per_frame` key\n",
       "    of the generated .DONE file when using the OpenCV-based CLI\n",
       "    helper script.\n",
       "pixel_scale : float, optional\n",
       "    The pixel scale to use (in mm per pixel). This value will override\n",
       "    the recorded pixel values in the groundtruth_dataframe.\n",
       "    Default value is None.\n",
       "\u001b[0;31mFile:\u001b[0m           ~/Nextcloud/PhD/Python/unified_model/unified_model/evaluate.py\n",
       "\u001b[0;31mType:\u001b[0m           type\n",
       "\u001b[0;31mSubclasses:\u001b[0m     \n"
      ]
     },
     "metadata": {},
     "output_type": "display_data"
    }
   ],
   "source": [
    "evaluate.LabeledVideoProcessor?"
   ]
  },
  {
   "cell_type": "code",
   "execution_count": 110,
   "metadata": {},
   "outputs": [
    {
     "data": {
      "text/plain": [
       "[<matplotlib.lines.Line2D at 0x7f5e29395518>]"
      ]
     },
     "execution_count": 110,
     "metadata": {},
     "output_type": "execute_result"
    },
    {
     "data": {
      "image/png": "[encoded data removed]",
      "text/plain": [
       "<Figure size 432x288 with 1 Axes>"
      ]
     },
     "metadata": {
      "needs_background": "light"
     },
     "output_type": "display_data"
    }
   ],
   "source": [
    "lvp = evaluate.LabeledVideoProcessor(\n",
    "    mm=10,\n",
    "    seconds_per_frame=1/60,\n",
    "    pixel_scale=0.154508\n",
    ")\n",
    "\n",
    "mag_center_pos, timestamps = lvp.fit_transform(\n",
    "    groundtruth_dataframe=pd.read_csv('./data/2019-05-23_C/A/a003_transcoded_subsampled_labels_2019-10-31-10:13:15.csv'),\n",
    "    impute_missing_values=True\n",
    ")\n",
    "\n",
    "plt.plot(timestamps, mag_center_pos)"
   ]
  },
  {
   "cell_type": "code",
   "execution_count": 111,
   "metadata": {},
   "outputs": [
    {
     "data": {
      "text/plain": [
       "\u001b[0;31mInit signature:\u001b[0m\n",
       "\u001b[0mevaluate\u001b[0m\u001b[0;34m.\u001b[0m\u001b[0mMechanicalSystemEvaluator\u001b[0m\u001b[0;34m(\u001b[0m\u001b[0;34m\u001b[0m\n",
       "\u001b[0;34m\u001b[0m    \u001b[0my_target\u001b[0m\u001b[0;34m:\u001b[0m \u001b[0mnumpy\u001b[0m\u001b[0;34m.\u001b[0m\u001b[0mndarray\u001b[0m\u001b[0;34m,\u001b[0m\u001b[0;34m\u001b[0m\n",
       "\u001b[0;34m\u001b[0m    \u001b[0mtime_target\u001b[0m\u001b[0;34m:\u001b[0m \u001b[0mnumpy\u001b[0m\u001b[0;34m.\u001b[0m\u001b[0mndarray\u001b[0m\u001b[0;34m,\u001b[0m\u001b[0;34m\u001b[0m\n",
       "\u001b[0;34m\u001b[0m    \u001b[0mmetrics\u001b[0m\u001b[0;34m:\u001b[0m \u001b[0mDict\u001b[0m\u001b[0;34m[\u001b[0m\u001b[0mstr\u001b[0m\u001b[0;34m,\u001b[0m \u001b[0mCallable\u001b[0m\u001b[0;34m]\u001b[0m\u001b[0;34m,\u001b[0m\u001b[0;34m\u001b[0m\n",
       "\u001b[0;34m\u001b[0m    \u001b[0mclip\u001b[0m\u001b[0;34m:\u001b[0m \u001b[0mbool\u001b[0m \u001b[0;34m=\u001b[0m \u001b[0;32mTrue\u001b[0m\u001b[0;34m,\u001b[0m\u001b[0;34m\u001b[0m\n",
       "\u001b[0;34m\u001b[0m    \u001b[0mwarp\u001b[0m\u001b[0;34m:\u001b[0m \u001b[0mbool\u001b[0m \u001b[0;34m=\u001b[0m \u001b[0;32mFalse\u001b[0m\u001b[0;34m,\u001b[0m\u001b[0;34m\u001b[0m\n",
       "\u001b[0;34m\u001b[0m\u001b[0;34m)\u001b[0m \u001b[0;34m->\u001b[0m \u001b[0;32mNone\u001b[0m\u001b[0;34m\u001b[0m\u001b[0;34m\u001b[0m\u001b[0m\n",
       "\u001b[0;31mDocstring:\u001b[0m     \n",
       "Evaluate the accuracy of a mechanical system model's output\n",
       "\n",
       "Parameters\n",
       "----------\n",
       "y_target : ndarray\n",
       "    The target values that the mechanical system model is\n",
       "    attempting to predict. This is the \"ground truth\" that the\n",
       "    prediction will be compared against.\n",
       "time_target : ndarray\n",
       "    The corresponding timestamps of the values in `y_target`\n",
       "metrics : Dict[str, Callable]\n",
       "    Metrics to compute on the interpolated predicted and target data.\n",
       "    Keys determine the \"name\" of the metric and values must be a\n",
       "    Callable that is used to compute the metric. Each Callable must\n",
       "    accept arguments (arr_predict, arr_target) as input, where\n",
       "    `arr_predict` and `arr_target` are numpy arrays that contain the\n",
       "    predicted values and target values, respectively. The return value\n",
       "    of the Callable can have any shape.\n",
       "clip : bool\n",
       "    Whether to clip or trim the target and predicted arrays after\n",
       "    alignment in order to restrict scoring to the \"active\" part of the\n",
       "    signal.\n",
       "warp : bool\n",
       "    Set to True to score after dynamically time-warping the target and\n",
       "    prediction signals. Default value is False.\n",
       "\n",
       "Attributes\n",
       "----------\n",
       "y_target : ndarray\n",
       "    The target.\n",
       "time_target : ndarray\n",
       "    The timestamps for each element in `y_target`.\n",
       "y_predict : ndarray\n",
       "    The predicted values of the target.\n",
       "time_predict : ndarray\n",
       "    The timestamps for each element in `y_predict`.\n",
       "y_target_ : ndarray\n",
       "    The resampled target values. This attribute is used for producing\n",
       "    the final plot using the `poof` method.\n",
       "y_predict_ : ndarray\n",
       "    The resampled predicted values. This attribute is used for producing\n",
       "    the final plot using the `poof` method.\n",
       "time_ : ndarray\n",
       "    The corresponding, shared, timestamps of `y_target_` and `y_predict_`.\n",
       "    This attribute is used for producing the final plot using the `poof`\n",
       "    method.\n",
       "y_target_warped_ : ndarray\n",
       "    The dynamically time-warped points of the target values. Each point\n",
       "    matches with the corresponding points in `self.y_predict_warped_`.\n",
       "    Generated by calling the `score` method.\n",
       "y_predict_warped_ : ndarray\n",
       "    The dynamically time-warped points of the predicted values. Each point\n",
       "    matches with the corresponding points in `self.y_target_warped_`.\n",
       "    Generated by calling the `score` method.\n",
       "\n",
       "Additional Notes\n",
       "----------------\n",
       "The `clip` argument is important, since comparing aggregate scores of\n",
       "the prediction and target signals (say, for example, the RMS) will\n",
       "yield inaccurate results if one of the signals contains a lot of noise\n",
       "(usually this is the `target` signal).\n",
       "\n",
       "Thus, if the target signal is significantly longer than the prediction\n",
       "signal, and contains noise, the aggregate value will be substantially\n",
       "elevated due to all the additional noise.\n",
       "\n",
       "Just be careful not to set the value too high, which will result in\n",
       "clipping of the *actual* signal.\n",
       "\u001b[0;31mInit docstring:\u001b[0m\n",
       "Constructor\n",
       "\n",
       "\n",
       "        \n",
       "\u001b[0;31mFile:\u001b[0m           ~/Nextcloud/PhD/Python/unified_model/unified_model/evaluate.py\n",
       "\u001b[0;31mType:\u001b[0m           type\n",
       "\u001b[0;31mSubclasses:\u001b[0m     \n"
      ]
     },
     "metadata": {},
     "output_type": "display_data"
    }
   ],
   "source": [
    "evaluate.MechanicalSystemEvaluator?"
   ]
  },
  {
   "cell_type": "code",
   "execution_count": 112,
   "metadata": {},
   "outputs": [
    {
     "data": {
      "image/png": "[encoded data removed]",
      "text/plain": [
       "<Figure size 432x288 with 1 Axes>"
      ]
     },
     "metadata": {
      "needs_background": "light"
     },
     "output_type": "display_data"
    }
   ],
   "source": [
    "mse = evaluate.MechanicalSystemEvaluator(\n",
    "    y_target=mag_center_pos,\n",
    "    time_target=timestamps,\n",
    "    metrics=None,\n",
    "    clip=True\n",
    ")\n",
    "\n",
    "mse.fit(\n",
    "    y_predict=result['rel_pos_mag'].values,\n",
    "    time_predict=result['time'].values\n",
    ")\n",
    "\n",
    "mse.poof()"
   ]
  },
  {
   "cell_type": "markdown",
   "metadata": {},
   "source": []
  }
 ],
 "metadata": {
  "kernelspec": {
   "display_name": "Python 3",
   "language": "python",
   "name": "python3"
  },
  "language_info": {
   "codemirror_mode": {
    "name": "ipython",
    "version": 3
   },
   "file_extension": ".py",
   "mimetype": "text/x-python",
   "name": "python",
   "nbconvert_exporter": "python",
   "pygments_lexer": "ipython3",
   "version": "3.7.1"
  }
 },
 "nbformat": 4,
 "nbformat_minor": 4
}
