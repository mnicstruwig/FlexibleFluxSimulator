{
 "cells": [
  {
   "cell_type": "code",
   "execution_count": 3,
   "metadata": {},
   "outputs": [],
   "source": [
    "import pandas as pd\n",
    "import numpy as np"
   ]
  },
  {
   "cell_type": "code",
   "execution_count": 4,
   "metadata": {},
   "outputs": [],
   "source": [
    "# Let's read in one sample for now\n",
    "df = pd.read_parquet('./A_[1].parquet')"
   ]
  },
  {
   "cell_type": "code",
   "execution_count": 5,
   "metadata": {},
   "outputs": [
    {
     "data": {
      "text/html": [
       "<div>\n",
       "<style scoped>\n",
       "    .dataframe tbody tr th:only-of-type {\n",
       "        vertical-align: middle;\n",
       "    }\n",
       "\n",
       "    .dataframe tbody tr th {\n",
       "        vertical-align: top;\n",
       "    }\n",
       "\n",
       "    .dataframe thead th {\n",
       "        text-align: right;\n",
       "    }\n",
       "</style>\n",
       "<table border=\"1\" class=\"dataframe\">\n",
       "  <thead>\n",
       "    <tr style=\"text-align: right;\">\n",
       "      <th></th>\n",
       "      <th>time</th>\n",
       "      <th>y_diff</th>\n",
       "      <th>emf</th>\n",
       "      <th>grid_cell_id</th>\n",
       "      <th>model_id</th>\n",
       "      <th>y_diff_dtw_distance</th>\n",
       "      <th>rms_perc_diff</th>\n",
       "      <th>emf_dtw_distance</th>\n",
       "      <th>damper.damping_coefficient</th>\n",
       "      <th>coupling_model.coupling_constant</th>\n",
       "      <th>mechanical_spring.damping_coefficient</th>\n",
       "      <th>coil_resistance</th>\n",
       "      <th>load_model.R</th>\n",
       "      <th>input_excitation_number</th>\n",
       "    </tr>\n",
       "  </thead>\n",
       "  <tbody>\n",
       "    <tr>\n",
       "      <th>0</th>\n",
       "      <td>0.000000</td>\n",
       "      <td>0.040000</td>\n",
       "      <td>0.0</td>\n",
       "      <td>0.0</td>\n",
       "      <td>0</td>\n",
       "      <td>25.356342</td>\n",
       "      <td>71.913697</td>\n",
       "      <td>429.937399</td>\n",
       "      <td>0.01</td>\n",
       "      <td>0.0</td>\n",
       "      <td>0.0</td>\n",
       "      <td>12.5</td>\n",
       "      <td>30</td>\n",
       "      <td>0</td>\n",
       "    </tr>\n",
       "    <tr>\n",
       "      <th>1</th>\n",
       "      <td>0.002176</td>\n",
       "      <td>0.040013</td>\n",
       "      <td>0.0</td>\n",
       "      <td>0.0</td>\n",
       "      <td>0</td>\n",
       "      <td>25.356342</td>\n",
       "      <td>71.913697</td>\n",
       "      <td>429.937399</td>\n",
       "      <td>0.01</td>\n",
       "      <td>0.0</td>\n",
       "      <td>0.0</td>\n",
       "      <td>12.5</td>\n",
       "      <td>30</td>\n",
       "      <td>0</td>\n",
       "    </tr>\n",
       "    <tr>\n",
       "      <th>2</th>\n",
       "      <td>0.005176</td>\n",
       "      <td>0.040074</td>\n",
       "      <td>0.0</td>\n",
       "      <td>0.0</td>\n",
       "      <td>0</td>\n",
       "      <td>25.356342</td>\n",
       "      <td>71.913697</td>\n",
       "      <td>429.937399</td>\n",
       "      <td>0.01</td>\n",
       "      <td>0.0</td>\n",
       "      <td>0.0</td>\n",
       "      <td>12.5</td>\n",
       "      <td>30</td>\n",
       "      <td>0</td>\n",
       "    </tr>\n",
       "    <tr>\n",
       "      <th>3</th>\n",
       "      <td>0.008176</td>\n",
       "      <td>0.040184</td>\n",
       "      <td>0.0</td>\n",
       "      <td>0.0</td>\n",
       "      <td>0</td>\n",
       "      <td>25.356342</td>\n",
       "      <td>71.913697</td>\n",
       "      <td>429.937399</td>\n",
       "      <td>0.01</td>\n",
       "      <td>0.0</td>\n",
       "      <td>0.0</td>\n",
       "      <td>12.5</td>\n",
       "      <td>30</td>\n",
       "      <td>0</td>\n",
       "    </tr>\n",
       "    <tr>\n",
       "      <th>4</th>\n",
       "      <td>0.011176</td>\n",
       "      <td>0.040341</td>\n",
       "      <td>0.0</td>\n",
       "      <td>0.0</td>\n",
       "      <td>0</td>\n",
       "      <td>25.356342</td>\n",
       "      <td>71.913697</td>\n",
       "      <td>429.937399</td>\n",
       "      <td>0.01</td>\n",
       "      <td>0.0</td>\n",
       "      <td>0.0</td>\n",
       "      <td>12.5</td>\n",
       "      <td>30</td>\n",
       "      <td>0</td>\n",
       "    </tr>\n",
       "  </tbody>\n",
       "</table>\n",
       "</div>"
      ],
      "text/plain": [
       "       time    y_diff  emf  grid_cell_id  model_id  y_diff_dtw_distance  \\\n",
       "0  0.000000  0.040000  0.0           0.0         0            25.356342   \n",
       "1  0.002176  0.040013  0.0           0.0         0            25.356342   \n",
       "2  0.005176  0.040074  0.0           0.0         0            25.356342   \n",
       "3  0.008176  0.040184  0.0           0.0         0            25.356342   \n",
       "4  0.011176  0.040341  0.0           0.0         0            25.356342   \n",
       "\n",
       "   rms_perc_diff  emf_dtw_distance  damper.damping_coefficient  \\\n",
       "0      71.913697        429.937399                        0.01   \n",
       "1      71.913697        429.937399                        0.01   \n",
       "2      71.913697        429.937399                        0.01   \n",
       "3      71.913697        429.937399                        0.01   \n",
       "4      71.913697        429.937399                        0.01   \n",
       "\n",
       "   coupling_model.coupling_constant  mechanical_spring.damping_coefficient  \\\n",
       "0                               0.0                                    0.0   \n",
       "1                               0.0                                    0.0   \n",
       "2                               0.0                                    0.0   \n",
       "3                               0.0                                    0.0   \n",
       "4                               0.0                                    0.0   \n",
       "\n",
       "   coil_resistance  load_model.R  input_excitation_number  \n",
       "0             12.5            30                        0  \n",
       "1             12.5            30                        0  \n",
       "2             12.5            30                        0  \n",
       "3             12.5            30                        0  \n",
       "4             12.5            30                        0  "
      ]
     },
     "execution_count": 5,
     "metadata": {},
     "output_type": "execute_result"
    }
   ],
   "source": [
    "df.head()"
   ]
  },
  {
   "cell_type": "code",
   "execution_count": 6,
   "metadata": {},
   "outputs": [],
   "source": [
    "# Since I've done all the work ahead of time, this should _theoretically_ be just an analysis job..."
   ]
  },
  {
   "cell_type": "code",
   "execution_count": 7,
   "metadata": {},
   "outputs": [
    {
     "data": {
      "text/plain": [
       "<matplotlib.axes._subplots.AxesSubplot at 0x7f6cdc997128>"
      ]
     },
     "execution_count": 7,
     "metadata": {},
     "output_type": "execute_result"
    },
    {
     "data": {
      "image/png": "[encoded data removed]",
      "text/plain": [
       "<Figure size 432x288 with 1 Axes>"
      ]
     },
     "metadata": {
      "needs_background": "light"
     },
     "output_type": "display_data"
    }
   ],
   "source": [
    "# Let's try plot the simulated graph of a single set of parameters\n",
    "model_id = 1\n",
    "df_one_curve = df.query(f'model_id == {model_id}')  # This is unique for this set of data\n",
    "df_one_curve.plot(x='time', y='y_diff')"
   ]
  },
  {
   "cell_type": "code",
   "execution_count": 8,
   "metadata": {},
   "outputs": [
    {
     "data": {
      "text/plain": [
       "<matplotlib.axes._subplots.AxesSubplot at 0x7f6cda21bcc0>"
      ]
     },
     "execution_count": 8,
     "metadata": {},
     "output_type": "execute_result"
    },
    {
     "data": {
      "image/png": "[encoded data removed]",
      "text/plain": [
       "<Figure size 432x288 with 1 Axes>"
      ]
     },
     "metadata": {
      "needs_background": "light"
     },
     "output_type": "display_data"
    }
   ],
   "source": [
    "# Nice! Ok, let's try draw some distributions on the metrics\n",
    "df['y_diff_dtw_distance'].plot(kind='hist', bins=100)"
   ]
  },
  {
   "cell_type": "code",
   "execution_count": 9,
   "metadata": {},
   "outputs": [
    {
     "data": {
      "text/plain": [
       "<matplotlib.axes._subplots.AxesSubplot at 0x7f6cda09ac18>"
      ]
     },
     "execution_count": 9,
     "metadata": {},
     "output_type": "execute_result"
    },
    {
     "data": {
      "image/png": "[encoded data removed]",
      "text/plain": [
       "<Figure size 432x288 with 1 Axes>"
      ]
     },
     "metadata": {
      "needs_background": "light"
     },
     "output_type": "display_data"
    }
   ],
   "source": [
    "df['rms_perc_diff'].plot(kind='hist', bins=100)"
   ]
  },
  {
   "cell_type": "code",
   "execution_count": 10,
   "metadata": {},
   "outputs": [],
   "source": [
    "# Let's draw some correlations\n",
    "df.head()\n",
    "param_columns = [col for col in df.columns if '.' in col]  # Parameter columns (they happen to contain a dot)\n",
    "df_no_dupes = df[['y_diff_dtw_distance', 'rms_perc_diff', 'emf_dtw_distance'] + param_columns].drop_duplicates().reset_index(drop=True)"
   ]
  },
  {
   "cell_type": "code",
   "execution_count": 11,
   "metadata": {},
   "outputs": [
    {
     "data": {
      "text/html": [
       "<div>\n",
       "<style scoped>\n",
       "    .dataframe tbody tr th:only-of-type {\n",
       "        vertical-align: middle;\n",
       "    }\n",
       "\n",
       "    .dataframe tbody tr th {\n",
       "        vertical-align: top;\n",
       "    }\n",
       "\n",
       "    .dataframe thead th {\n",
       "        text-align: right;\n",
       "    }\n",
       "</style>\n",
       "<table border=\"1\" class=\"dataframe\">\n",
       "  <thead>\n",
       "    <tr style=\"text-align: right;\">\n",
       "      <th></th>\n",
       "      <th>y_diff_dtw_distance</th>\n",
       "      <th>rms_perc_diff</th>\n",
       "      <th>emf_dtw_distance</th>\n",
       "      <th>damper.damping_coefficient</th>\n",
       "      <th>coupling_model.coupling_constant</th>\n",
       "      <th>mechanical_spring.damping_coefficient</th>\n",
       "      <th>load_model.R</th>\n",
       "    </tr>\n",
       "  </thead>\n",
       "  <tbody>\n",
       "    <tr>\n",
       "      <th>0</th>\n",
       "      <td>25.356342</td>\n",
       "      <td>71.913697</td>\n",
       "      <td>429.937399</td>\n",
       "      <td>0.01</td>\n",
       "      <td>0.000000</td>\n",
       "      <td>0.0</td>\n",
       "      <td>30</td>\n",
       "    </tr>\n",
       "    <tr>\n",
       "      <th>1</th>\n",
       "      <td>22.537314</td>\n",
       "      <td>77.274114</td>\n",
       "      <td>451.608742</td>\n",
       "      <td>0.01</td>\n",
       "      <td>1.111111</td>\n",
       "      <td>0.0</td>\n",
       "      <td>30</td>\n",
       "    </tr>\n",
       "    <tr>\n",
       "      <th>2</th>\n",
       "      <td>23.994554</td>\n",
       "      <td>82.032991</td>\n",
       "      <td>455.136012</td>\n",
       "      <td>0.01</td>\n",
       "      <td>2.222222</td>\n",
       "      <td>0.0</td>\n",
       "      <td>30</td>\n",
       "    </tr>\n",
       "    <tr>\n",
       "      <th>3</th>\n",
       "      <td>25.402237</td>\n",
       "      <td>86.632369</td>\n",
       "      <td>450.608010</td>\n",
       "      <td>0.01</td>\n",
       "      <td>3.333333</td>\n",
       "      <td>0.0</td>\n",
       "      <td>30</td>\n",
       "    </tr>\n",
       "    <tr>\n",
       "      <th>4</th>\n",
       "      <td>34.904624</td>\n",
       "      <td>99.800001</td>\n",
       "      <td>499.708391</td>\n",
       "      <td>0.01</td>\n",
       "      <td>4.444444</td>\n",
       "      <td>0.0</td>\n",
       "      <td>30</td>\n",
       "    </tr>\n",
       "  </tbody>\n",
       "</table>\n",
       "</div>"
      ],
      "text/plain": [
       "   y_diff_dtw_distance  rms_perc_diff  emf_dtw_distance  \\\n",
       "0            25.356342      71.913697        429.937399   \n",
       "1            22.537314      77.274114        451.608742   \n",
       "2            23.994554      82.032991        455.136012   \n",
       "3            25.402237      86.632369        450.608010   \n",
       "4            34.904624      99.800001        499.708391   \n",
       "\n",
       "   damper.damping_coefficient  coupling_model.coupling_constant  \\\n",
       "0                        0.01                          0.000000   \n",
       "1                        0.01                          1.111111   \n",
       "2                        0.01                          2.222222   \n",
       "3                        0.01                          3.333333   \n",
       "4                        0.01                          4.444444   \n",
       "\n",
       "   mechanical_spring.damping_coefficient  load_model.R  \n",
       "0                                    0.0            30  \n",
       "1                                    0.0            30  \n",
       "2                                    0.0            30  \n",
       "3                                    0.0            30  \n",
       "4                                    0.0            30  "
      ]
     },
     "execution_count": 11,
     "metadata": {},
     "output_type": "execute_result"
    }
   ],
   "source": [
    "df_no_dupes.head()"
   ]
  },
  {
   "cell_type": "code",
   "execution_count": 12,
   "metadata": {},
   "outputs": [
    {
     "data": {
      "text/html": [
       "<div>\n",
       "<style scoped>\n",
       "    .dataframe tbody tr th:only-of-type {\n",
       "        vertical-align: middle;\n",
       "    }\n",
       "\n",
       "    .dataframe tbody tr th {\n",
       "        vertical-align: top;\n",
       "    }\n",
       "\n",
       "    .dataframe thead th {\n",
       "        text-align: right;\n",
       "    }\n",
       "</style>\n",
       "<table border=\"1\" class=\"dataframe\">\n",
       "  <thead>\n",
       "    <tr style=\"text-align: right;\">\n",
       "      <th></th>\n",
       "      <th>y_diff_dtw_distance</th>\n",
       "      <th>rms_perc_diff</th>\n",
       "      <th>emf_dtw_distance</th>\n",
       "      <th>damper.damping_coefficient</th>\n",
       "      <th>coupling_model.coupling_constant</th>\n",
       "      <th>mechanical_spring.damping_coefficient</th>\n",
       "      <th>load_model.R</th>\n",
       "    </tr>\n",
       "  </thead>\n",
       "  <tbody>\n",
       "    <tr>\n",
       "      <th>count</th>\n",
       "      <td>1000.000000</td>\n",
       "      <td>1000.000000</td>\n",
       "      <td>1000.000000</td>\n",
       "      <td>1000.000000</td>\n",
       "      <td>1000.000000</td>\n",
       "      <td>1000.000000</td>\n",
       "      <td>1000.0</td>\n",
       "    </tr>\n",
       "    <tr>\n",
       "      <th>mean</th>\n",
       "      <td>17.045719</td>\n",
       "      <td>21.022607</td>\n",
       "      <td>176.344224</td>\n",
       "      <td>0.040000</td>\n",
       "      <td>5.000000</td>\n",
       "      <td>5.000000</td>\n",
       "      <td>30.0</td>\n",
       "    </tr>\n",
       "    <tr>\n",
       "      <th>std</th>\n",
       "      <td>6.922650</td>\n",
       "      <td>37.991480</td>\n",
       "      <td>139.134938</td>\n",
       "      <td>0.019158</td>\n",
       "      <td>3.193021</td>\n",
       "      <td>3.193021</td>\n",
       "      <td>0.0</td>\n",
       "    </tr>\n",
       "    <tr>\n",
       "      <th>min</th>\n",
       "      <td>4.125895</td>\n",
       "      <td>-19.214414</td>\n",
       "      <td>57.228872</td>\n",
       "      <td>0.010000</td>\n",
       "      <td>0.000000</td>\n",
       "      <td>0.000000</td>\n",
       "      <td>30.0</td>\n",
       "    </tr>\n",
       "    <tr>\n",
       "      <th>25%</th>\n",
       "      <td>11.926598</td>\n",
       "      <td>-8.004268</td>\n",
       "      <td>74.602765</td>\n",
       "      <td>0.023333</td>\n",
       "      <td>2.222222</td>\n",
       "      <td>2.222222</td>\n",
       "      <td>30.0</td>\n",
       "    </tr>\n",
       "    <tr>\n",
       "      <th>50%</th>\n",
       "      <td>17.866383</td>\n",
       "      <td>6.842957</td>\n",
       "      <td>113.390776</td>\n",
       "      <td>0.040000</td>\n",
       "      <td>5.000000</td>\n",
       "      <td>5.000000</td>\n",
       "      <td>30.0</td>\n",
       "    </tr>\n",
       "    <tr>\n",
       "      <th>75%</th>\n",
       "      <td>21.328984</td>\n",
       "      <td>35.876452</td>\n",
       "      <td>257.136477</td>\n",
       "      <td>0.056667</td>\n",
       "      <td>7.777778</td>\n",
       "      <td>7.777778</td>\n",
       "      <td>30.0</td>\n",
       "    </tr>\n",
       "    <tr>\n",
       "      <th>max</th>\n",
       "      <td>44.798652</td>\n",
       "      <td>158.475381</td>\n",
       "      <td>628.924793</td>\n",
       "      <td>0.070000</td>\n",
       "      <td>10.000000</td>\n",
       "      <td>10.000000</td>\n",
       "      <td>30.0</td>\n",
       "    </tr>\n",
       "  </tbody>\n",
       "</table>\n",
       "</div>"
      ],
      "text/plain": [
       "       y_diff_dtw_distance  rms_perc_diff  emf_dtw_distance  \\\n",
       "count          1000.000000    1000.000000       1000.000000   \n",
       "mean             17.045719      21.022607        176.344224   \n",
       "std               6.922650      37.991480        139.134938   \n",
       "min               4.125895     -19.214414         57.228872   \n",
       "25%              11.926598      -8.004268         74.602765   \n",
       "50%              17.866383       6.842957        113.390776   \n",
       "75%              21.328984      35.876452        257.136477   \n",
       "max              44.798652     158.475381        628.924793   \n",
       "\n",
       "       damper.damping_coefficient  coupling_model.coupling_constant  \\\n",
       "count                 1000.000000                       1000.000000   \n",
       "mean                     0.040000                          5.000000   \n",
       "std                      0.019158                          3.193021   \n",
       "min                      0.010000                          0.000000   \n",
       "25%                      0.023333                          2.222222   \n",
       "50%                      0.040000                          5.000000   \n",
       "75%                      0.056667                          7.777778   \n",
       "max                      0.070000                         10.000000   \n",
       "\n",
       "       mechanical_spring.damping_coefficient  load_model.R  \n",
       "count                            1000.000000        1000.0  \n",
       "mean                                5.000000          30.0  \n",
       "std                                 3.193021           0.0  \n",
       "min                                 0.000000          30.0  \n",
       "25%                                 2.222222          30.0  \n",
       "50%                                 5.000000          30.0  \n",
       "75%                                 7.777778          30.0  \n",
       "max                                10.000000          30.0  "
      ]
     },
     "execution_count": 12,
     "metadata": {},
     "output_type": "execute_result"
    }
   ],
   "source": [
    "df_no_dupes.describe()"
   ]
  },
  {
   "cell_type": "code",
   "execution_count": 13,
   "metadata": {},
   "outputs": [
    {
     "data": {
      "text/plain": [
       "<matplotlib.axes._subplots.AxesSubplot at 0x7f6cda0f5a58>"
      ]
     },
     "execution_count": 13,
     "metadata": {},
     "output_type": "execute_result"
    },
    {
     "data": {
      "image/png": "[encoded data removed]",
      "text/plain": [
       "<Figure size 432x288 with 1 Axes>"
      ]
     },
     "metadata": {
      "needs_background": "light"
     },
     "output_type": "display_data"
    }
   ],
   "source": [
    "# Are the metrics well-correlated with each other at all?\n",
    "df_no_dupes.plot(kind='scatter', x='y_diff_dtw_distance', y='emf_dtw_distance')"
   ]
  },
  {
   "cell_type": "code",
   "execution_count": 14,
   "metadata": {},
   "outputs": [
    {
     "data": {
      "text/plain": [
       "<matplotlib.axes._subplots.AxesSubplot at 0x7f6cd9f815f8>"
      ]
     },
     "execution_count": 14,
     "metadata": {},
     "output_type": "execute_result"
    },
    {
     "data": {
      "image/png": "[encoded data removed]",
      "text/plain": [
       "<Figure size 432x288 with 1 Axes>"
      ]
     },
     "metadata": {
      "needs_background": "light"
     },
     "output_type": "display_data"
    }
   ],
   "source": [
    "df_no_dupes.plot(kind='scatter', x='y_diff_dtw_distance', y='rms_perc_diff') # <-- the most important one. Really interesting results..."
   ]
  },
  {
   "cell_type": "code",
   "execution_count": 15,
   "metadata": {},
   "outputs": [
    {
     "data": {
      "text/plain": [
       "<matplotlib.axes._subplots.AxesSubplot at 0x7f6cd9ef6d68>"
      ]
     },
     "execution_count": 15,
     "metadata": {},
     "output_type": "execute_result"
    },
    {
     "data": {
      "image/png": "[encoded data removed]",
      "text/plain": [
       "<Figure size 432x288 with 1 Axes>"
      ]
     },
     "metadata": {
      "needs_background": "light"
     },
     "output_type": "display_data"
    }
   ],
   "source": [
    "df_no_dupes.plot(kind='scatter', x='emf_dtw_distance', y='rms_perc_diff')"
   ]
  },
  {
   "cell_type": "markdown",
   "metadata": {},
   "source": [
    "Yes! This is a good sign.\n",
    "\n",
    "Let's do some statistical comparisons"
   ]
  },
  {
   "cell_type": "code",
   "execution_count": 16,
   "metadata": {},
   "outputs": [],
   "source": [
    "from scipy import stats"
   ]
  },
  {
   "cell_type": "code",
   "execution_count": 24,
   "metadata": {},
   "outputs": [
    {
     "name": "stdout",
     "output_type": "stream",
     "text": [
      "0.9589553081120902\n"
     ]
    }
   ],
   "source": [
    "corr, p = stats.pearsonr(df_no_dupes['emf_dtw_distance'], \n",
    "                          df_no_dupes['rms_perc_diff'])\n",
    "print(corr) # <-- actually quite high for the electrical system. This is a good sign."
   ]
  },
  {
   "cell_type": "code",
   "execution_count": 27,
   "metadata": {},
   "outputs": [
    {
     "name": "stdout",
     "output_type": "stream",
     "text": [
      "0.3280382360285876\n"
     ]
    }
   ],
   "source": [
    "corr, p = stats.pearsonr(df_no_dupes['y_diff_dtw_distance'],\n",
    "                         df_no_dupes['rms_perc_diff'])\n",
    "print(corr)"
   ]
  },
  {
   "cell_type": "code",
   "execution_count": 28,
   "metadata": {},
   "outputs": [
    {
     "data": {
      "text/plain": [
       "<matplotlib.axes._subplots.AxesSubplot at 0x7f6cceb21f98>"
      ]
     },
     "execution_count": 28,
     "metadata": {},
     "output_type": "execute_result"
    },
    {
     "data": {
      "image/png": "[encoded data removed]",
      "text/plain": [
       "<Figure size 432x288 with 1 Axes>"
      ]
     },
     "metadata": {
      "needs_background": "light"
     },
     "output_type": "display_data"
    }
   ],
   "source": [
    "df_no_dupes.plot(kind='scatter', x='damper.damping_coefficient', y='y_diff_dtw_distance')"
   ]
  },
  {
   "cell_type": "markdown",
   "metadata": {},
   "source": [
    "#### It seems as if the damper coefficient has a _massive_ influence on the DTW distance."
   ]
  },
  {
   "cell_type": "code",
   "execution_count": 29,
   "metadata": {},
   "outputs": [
    {
     "data": {
      "text/plain": [
       "<matplotlib.axes._subplots.AxesSubplot at 0x7f6cd9dd6b70>"
      ]
     },
     "execution_count": 29,
     "metadata": {},
     "output_type": "execute_result"
    },
    {
     "data": {
      "image/png": "[encoded data removed]",
      "text/plain": [
       "<Figure size 432x288 with 1 Axes>"
      ]
     },
     "metadata": {
      "needs_background": "light"
     },
     "output_type": "display_data"
    }
   ],
   "source": [
    "df_no_dupes.plot(kind='scatter', x='coupling_model.coupling_constant', y='y_diff_dtw_distance')"
   ]
  },
  {
   "cell_type": "markdown",
   "metadata": {},
   "source": [
    "#### Followed by the coupling constant seemingly having some effect, but not _so_ much"
   ]
  },
  {
   "cell_type": "code",
   "execution_count": 30,
   "metadata": {},
   "outputs": [
    {
     "data": {
      "text/plain": [
       "<matplotlib.axes._subplots.AxesSubplot at 0x7f6cceaa40f0>"
      ]
     },
     "execution_count": 30,
     "metadata": {},
     "output_type": "execute_result"
    },
    {
     "data": {
      "image/png": "[encoded data removed]",
      "text/plain": [
       "<Figure size 432x288 with 1 Axes>"
      ]
     },
     "metadata": {
      "needs_background": "light"
     },
     "output_type": "display_data"
    }
   ],
   "source": [
    "df_no_dupes.plot(kind='scatter', x='mechanical_spring.damping_coefficient', y='y_diff_dtw_distance')"
   ]
  },
  {
   "cell_type": "markdown",
   "metadata": {},
   "source": [
    "#### The mechanical spring damping coefficient seems to have very _little_ real effect"
   ]
  },
  {
   "cell_type": "markdown",
   "metadata": {},
   "source": [
    "# Analysis section (split to new Notebook later)"
   ]
  },
  {
   "cell_type": "code",
   "execution_count": 1,
   "metadata": {},
   "outputs": [
    {
     "data": {
      "text/html": [
       "<table style=\"border: 2px solid white;\">\n",
       "<tr>\n",
       "<td style=\"vertical-align: top; border: 0px solid white\">\n",
       "<h3 style=\"text-align: left;\">Client</h3>\n",
       "<ul style=\"text-align: left; list-style: none; margin: 0; padding: 0;\">\n",
       "  <li><b>Scheduler: </b>tcp://127.0.0.1:34895</li>\n",
       "  <li><b>Dashboard: </b><a href='http://127.0.0.1:8787/status' target='_blank'>http://127.0.0.1:8787/status</a></li>\n",
       "</ul>\n",
       "</td>\n",
       "<td style=\"vertical-align: top; border: 0px solid white\">\n",
       "<h3 style=\"text-align: left;\">Cluster</h3>\n",
       "<ul style=\"text-align: left; list-style:none; margin: 0; padding: 0;\">\n",
       "  <li><b>Workers: </b>2</li>\n",
       "  <li><b>Cores: </b>4</li>\n",
       "  <li><b>Memory: </b>16.66 GB</li>\n",
       "</ul>\n",
       "</td>\n",
       "</tr>\n",
       "</table>"
      ],
      "text/plain": [
       "<Client: 'tcp://127.0.0.1:34895' processes=2 threads=4, memory=16.66 GB>"
      ]
     },
     "execution_count": 1,
     "metadata": {},
     "output_type": "execute_result"
    }
   ],
   "source": [
    "import dask.dataframe as dd\n",
    "from dask.distributed import Client\n",
    "client = Client(n_workers=2)\n",
    "client"
   ]
  },
  {
   "cell_type": "code",
   "execution_count": 47,
   "metadata": {},
   "outputs": [],
   "source": [
    "no_curves_dfs = []\n",
    "for f in ['A', 'B', 'C']:\n",
    "    df = dd.read_parquet(root_path + f + '.parquet', engine='pyarrow')  # Just to get columns\n",
    "    df = dd.read_parquet(root_path + f + '.parquet', engine='pyarrow', columns=[col for col in df.columns if col not in ['time', 'y_diff', 'emf']]).drop_duplicates()\n",
    "    df['input_excitation'] = df['input_excitation'].astype('int')\n",
    "    df['device_id'] = f.split('.')[0]\n",
    "    no_curves_dfs.append(df)\n",
    "    \n",
    "dd.concat(no_curves_dfs).to_parquet('no_curves.parquet', engine='pyarrow', compression='snappy')"
   ]
  },
  {
   "cell_type": "code",
   "execution_count": 50,
   "metadata": {},
   "outputs": [],
   "source": [
    "client.close()"
   ]
  },
  {
   "cell_type": "markdown",
   "metadata": {},
   "source": [
    "---"
   ]
  },
  {
   "cell_type": "code",
   "execution_count": 1,
   "metadata": {},
   "outputs": [
    {
     "data": {
      "text/html": [
       "<table style=\"border: 2px solid white;\">\n",
       "<tr>\n",
       "<td style=\"vertical-align: top; border: 0px solid white\">\n",
       "<h3 style=\"text-align: left;\">Client</h3>\n",
       "<ul style=\"text-align: left; list-style: none; margin: 0; padding: 0;\">\n",
       "  <li><b>Scheduler: </b>tcp://127.0.0.1:34695</li>\n",
       "  <li><b>Dashboard: </b><a href='http://127.0.0.1:8787/status' target='_blank'>http://127.0.0.1:8787/status</a>\n",
       "</ul>\n",
       "</td>\n",
       "<td style=\"vertical-align: top; border: 0px solid white\">\n",
       "<h3 style=\"text-align: left;\">Cluster</h3>\n",
       "<ul style=\"text-align: left; list-style:none; margin: 0; padding: 0;\">\n",
       "  <li><b>Workers: </b>4</li>\n",
       "  <li><b>Cores: </b>12</li>\n",
       "  <li><b>Memory: </b>16.68 GB</li>\n",
       "</ul>\n",
       "</td>\n",
       "</tr>\n",
       "</table>"
      ],
      "text/plain": [
       "<Client: 'tcp://127.0.0.1:34695' processes=4 threads=12, memory=16.68 GB>"
      ]
     },
     "execution_count": 1,
     "metadata": {},
     "output_type": "execute_result"
    }
   ],
   "source": [
    "from dask.distributed import Client\n",
    "import dask.dataframe as dd\n",
    "\n",
    "client = Client(n_workers=4)\n",
    "client"
   ]
  },
  {
   "cell_type": "code",
   "execution_count": 3,
   "metadata": {},
   "outputs": [],
   "source": [
    "root_path = './'\n",
    "files = ['A', 'B', 'C']"
   ]
  },
  {
   "cell_type": "code",
   "execution_count": 6,
   "metadata": {},
   "outputs": [
    {
     "name": "stderr",
     "output_type": "stream",
     "text": [
      "/home/michael/miniconda3/envs/ds/lib/python3.7/site-packages/pyarrow/compat.py:25: FutureWarning: pyarrow.compat has been deprecated and will be removed in a future release\n",
      "  \"future release\", FutureWarning)\n"
     ]
    },
    {
     "data": {
      "text/plain": [
       "3"
      ]
     },
     "execution_count": 6,
     "metadata": {},
     "output_type": "execute_result"
    }
   ],
   "source": [
    "dfs = []\n",
    "for f in files:\n",
    "    df = dd.read_parquet(root_path + f + '.parquet', engine='pyarrow')\n",
    "    df['device_id'] = f\n",
    "    df['input_excitation'] = df['input_excitation'].astype('int')\n",
    "    dfs.append(df)\n",
    "len(dfs)"
   ]
  },
  {
   "cell_type": "code",
   "execution_count": 7,
   "metadata": {},
   "outputs": [],
   "source": [
    "dd.concat(dfs).to_parquet(root_path + 'joined.parquet', engine='pyarrow', partition_on=['device_id', 'input_excitation'], compression='snappy')"
   ]
  },
  {
   "cell_type": "markdown",
   "metadata": {},
   "source": [
    "## Start here"
   ]
  },
  {
   "cell_type": "code",
   "execution_count": 33,
   "metadata": {},
   "outputs": [],
   "source": [
    "import numpy as np\n",
    "import pandas as pd\n",
    "import seaborn as sns\n",
    "import matplotlib.pyplot as plt"
   ]
  },
  {
   "cell_type": "code",
   "execution_count": 34,
   "metadata": {},
   "outputs": [
    {
     "data": {
      "text/html": [
       "<div>\n",
       "<style scoped>\n",
       "    .dataframe tbody tr th:only-of-type {\n",
       "        vertical-align: middle;\n",
       "    }\n",
       "\n",
       "    .dataframe tbody tr th {\n",
       "        vertical-align: top;\n",
       "    }\n",
       "\n",
       "    .dataframe thead th {\n",
       "        text-align: right;\n",
       "    }\n",
       "</style>\n",
       "<table border=\"1\" class=\"dataframe\">\n",
       "  <thead>\n",
       "    <tr style=\"text-align: right;\">\n",
       "      <th></th>\n",
       "      <th>grid_cell_id</th>\n",
       "      <th>model_id</th>\n",
       "      <th>y_diff_dtw_distance</th>\n",
       "      <th>rms_perc_diff</th>\n",
       "      <th>emf_dtw_distance</th>\n",
       "      <th>damper.damping_coefficient</th>\n",
       "      <th>coupling_model.coupling_constant</th>\n",
       "      <th>mechanical_spring.damping_coefficient</th>\n",
       "      <th>coil_resistance</th>\n",
       "      <th>load_model.R</th>\n",
       "      <th>input_excitation</th>\n",
       "      <th>device_id</th>\n",
       "    </tr>\n",
       "  </thead>\n",
       "  <tbody>\n",
       "    <tr>\n",
       "      <th>0</th>\n",
       "      <td>0.0</td>\n",
       "      <td>512</td>\n",
       "      <td>12.484688</td>\n",
       "      <td>41.079664</td>\n",
       "      <td>83.644779</td>\n",
       "      <td>0.043333</td>\n",
       "      <td>2.222222</td>\n",
       "      <td>1.111111</td>\n",
       "      <td>12.5</td>\n",
       "      <td>30</td>\n",
       "      <td>0</td>\n",
       "      <td>A</td>\n",
       "    </tr>\n",
       "    <tr>\n",
       "      <th>1</th>\n",
       "      <td>1.0</td>\n",
       "      <td>513</td>\n",
       "      <td>13.500445</td>\n",
       "      <td>34.089880</td>\n",
       "      <td>91.988962</td>\n",
       "      <td>0.043333</td>\n",
       "      <td>3.333333</td>\n",
       "      <td>1.111111</td>\n",
       "      <td>12.5</td>\n",
       "      <td>30</td>\n",
       "      <td>0</td>\n",
       "      <td>A</td>\n",
       "    </tr>\n",
       "    <tr>\n",
       "      <th>2</th>\n",
       "      <td>2.0</td>\n",
       "      <td>514</td>\n",
       "      <td>14.557976</td>\n",
       "      <td>47.084719</td>\n",
       "      <td>90.270891</td>\n",
       "      <td>0.043333</td>\n",
       "      <td>4.444444</td>\n",
       "      <td>1.111111</td>\n",
       "      <td>12.5</td>\n",
       "      <td>30</td>\n",
       "      <td>0</td>\n",
       "      <td>A</td>\n",
       "    </tr>\n",
       "    <tr>\n",
       "      <th>3</th>\n",
       "      <td>3.0</td>\n",
       "      <td>515</td>\n",
       "      <td>15.565144</td>\n",
       "      <td>50.229976</td>\n",
       "      <td>87.382592</td>\n",
       "      <td>0.043333</td>\n",
       "      <td>5.555556</td>\n",
       "      <td>1.111111</td>\n",
       "      <td>12.5</td>\n",
       "      <td>30</td>\n",
       "      <td>0</td>\n",
       "      <td>A</td>\n",
       "    </tr>\n",
       "    <tr>\n",
       "      <th>4</th>\n",
       "      <td>4.0</td>\n",
       "      <td>516</td>\n",
       "      <td>17.920371</td>\n",
       "      <td>53.156539</td>\n",
       "      <td>97.112525</td>\n",
       "      <td>0.043333</td>\n",
       "      <td>6.666667</td>\n",
       "      <td>1.111111</td>\n",
       "      <td>12.5</td>\n",
       "      <td>30</td>\n",
       "      <td>0</td>\n",
       "      <td>A</td>\n",
       "    </tr>\n",
       "  </tbody>\n",
       "</table>\n",
       "</div>"
      ],
      "text/plain": [
       "   grid_cell_id  model_id  y_diff_dtw_distance  rms_perc_diff  \\\n",
       "0           0.0       512            12.484688      41.079664   \n",
       "1           1.0       513            13.500445      34.089880   \n",
       "2           2.0       514            14.557976      47.084719   \n",
       "3           3.0       515            15.565144      50.229976   \n",
       "4           4.0       516            17.920371      53.156539   \n",
       "\n",
       "   emf_dtw_distance  damper.damping_coefficient  \\\n",
       "0         83.644779                    0.043333   \n",
       "1         91.988962                    0.043333   \n",
       "2         90.270891                    0.043333   \n",
       "3         87.382592                    0.043333   \n",
       "4         97.112525                    0.043333   \n",
       "\n",
       "   coupling_model.coupling_constant  mechanical_spring.damping_coefficient  \\\n",
       "0                          2.222222                               1.111111   \n",
       "1                          3.333333                               1.111111   \n",
       "2                          4.444444                               1.111111   \n",
       "3                          5.555556                               1.111111   \n",
       "4                          6.666667                               1.111111   \n",
       "\n",
       "   coil_resistance  load_model.R  input_excitation device_id  \n",
       "0             12.5            30                 0         A  \n",
       "1             12.5            30                 0         A  \n",
       "2             12.5            30                 0         A  \n",
       "3             12.5            30                 0         A  \n",
       "4             12.5            30                 0         A  "
      ]
     },
     "execution_count": 34,
     "metadata": {},
     "output_type": "execute_result"
    }
   ],
   "source": [
    "df2 = pd.read_parquet('no_curves.parquet').reset_index(drop=True)\n",
    "df2.head()"
   ]
  },
  {
   "cell_type": "code",
   "execution_count": 35,
   "metadata": {},
   "outputs": [],
   "source": [
    "df2_filtered = df2"
   ]
  },
  {
   "cell_type": "code",
   "execution_count": 36,
   "metadata": {},
   "outputs": [],
   "source": [
    "# Some feature engineering\n",
    "df2_filtered.loc[:, 'rms_perc_diff_abs'] = np.abs(df2_filtered['rms_perc_diff'])\n",
    "\n",
    "# First normalize everything\n",
    "cols_to_normalize = ['y_diff_dtw_distance', 'emf_dtw_distance', 'rms_perc_diff_abs']\n",
    "for col in cols_to_normalize:\n",
    "    df2_filtered.loc[:, col+'_norm'] = df2_filtered[col]/df2_filtered[col].max()\n",
    "    \n",
    "# Calculate extra objective functions\n",
    "df2_filtered.loc[:,'balanced'] = df2_filtered['y_diff_dtw_distance_norm'] + df2_filtered['emf_dtw_distance_norm'] + df2_filtered['rms_perc_diff_abs_norm']\n",
    "df2_filtered.loc[:, 'dtw_balanced'] = df2_filtered['y_diff_dtw_distance_norm'] + df2_filtered['emf_dtw_distance_norm']\n",
    "df2_filtered.loc[:, 'elec_balanced'] = df2_filtered['emf_dtw_distance_norm'] + df2_filtered['rms_perc_diff_abs_norm']\n",
    "\n",
    "\n",
    "# Special\n",
    "df2_filtered.loc[:, 'relative_scale_weights'] = (\n",
    "    + df2_filtered['y_diff_dtw_distance']/df2_filtered['y_diff_dtw_distance'].min()\n",
    "    + df2_filtered['emf_dtw_distance']/df2_filtered['emf_dtw_distance'].min()\n",
    "    + df2_filtered['rms_perc_diff_abs']/df2_filtered['rms_perc_diff_abs'].min()\n",
    ")\n",
    "\n",
    "df2_filtered.loc[:, 'relative_deviation'] = (\n",
    "    + (df2_filtered['y_diff_dtw_distance'] - df2_filtered['y_diff_dtw_distance'].min())/df2_filtered['y_diff_dtw_distance']\n",
    "    + (df2_filtered['emf_dtw_distance'] - df2_filtered['emf_dtw_distance'].min())/df2_filtered['emf_dtw_distance']\n",
    "    + (df2_filtered['rms_perc_diff_abs'] - df2_filtered['rms_perc_diff_abs'].min())/df2_filtered['rms_perc_diff_abs']\n",
    ")\n",
    "\n",
    "df2_filtered.loc[:, 'normalized_sum'] = (\n",
    "    + (df2_filtered['y_diff_dtw_distance'] - df2_filtered['y_diff_dtw_distance'].min())/(df2_filtered['y_diff_dtw_distance'].max() - df2_filtered['y_diff_dtw_distance'])\n",
    "    + (df2_filtered['emf_dtw_distance'] - df2_filtered['emf_dtw_distance'].min())/(df2_filtered['emf_dtw_distance'].max() - df2_filtered['emf_dtw_distance'])\n",
    "    + (df2_filtered['rms_perc_diff_abs'] - df2_filtered['rms_perc_diff_abs'].min())/(df2_filtered['rms_perc_diff_abs'].max() - df2_filtered['rms_perc_diff_abs'])\n",
    ")\n",
    "\n",
    "df2_filtered.loc[:, 'product'] = (\n",
    "    df2_filtered['y_diff_dtw_distance']*df2_filtered['emf_dtw_distance']*df2_filtered['rms_perc_diff_abs']\n",
    ")"
   ]
  },
  {
   "cell_type": "code",
   "execution_count": 37,
   "metadata": {},
   "outputs": [
    {
     "data": {
      "text/html": [
       "<div>\n",
       "<style scoped>\n",
       "    .dataframe tbody tr th:only-of-type {\n",
       "        vertical-align: middle;\n",
       "    }\n",
       "\n",
       "    .dataframe tbody tr th {\n",
       "        vertical-align: top;\n",
       "    }\n",
       "\n",
       "    .dataframe thead th {\n",
       "        text-align: right;\n",
       "    }\n",
       "</style>\n",
       "<table border=\"1\" class=\"dataframe\">\n",
       "  <thead>\n",
       "    <tr style=\"text-align: right;\">\n",
       "      <th></th>\n",
       "      <th>grid_cell_id</th>\n",
       "      <th>model_id</th>\n",
       "      <th>y_diff_dtw_distance</th>\n",
       "      <th>rms_perc_diff</th>\n",
       "      <th>emf_dtw_distance</th>\n",
       "      <th>damper.damping_coefficient</th>\n",
       "      <th>coupling_model.coupling_constant</th>\n",
       "      <th>mechanical_spring.damping_coefficient</th>\n",
       "      <th>coil_resistance</th>\n",
       "      <th>load_model.R</th>\n",
       "      <th>...</th>\n",
       "      <th>y_diff_dtw_distance_norm</th>\n",
       "      <th>emf_dtw_distance_norm</th>\n",
       "      <th>rms_perc_diff_abs_norm</th>\n",
       "      <th>balanced</th>\n",
       "      <th>dtw_balanced</th>\n",
       "      <th>elec_balanced</th>\n",
       "      <th>relative_scale_weights</th>\n",
       "      <th>relative_deviation</th>\n",
       "      <th>normalized_sum</th>\n",
       "      <th>product</th>\n",
       "    </tr>\n",
       "  </thead>\n",
       "  <tbody>\n",
       "    <tr>\n",
       "      <th>0</th>\n",
       "      <td>0.0</td>\n",
       "      <td>512</td>\n",
       "      <td>12.484688</td>\n",
       "      <td>41.079664</td>\n",
       "      <td>83.644779</td>\n",
       "      <td>0.043333</td>\n",
       "      <td>2.222222</td>\n",
       "      <td>1.111111</td>\n",
       "      <td>12.5</td>\n",
       "      <td>30</td>\n",
       "      <td>...</td>\n",
       "      <td>0.005992</td>\n",
       "      <td>0.090897</td>\n",
       "      <td>0.000936</td>\n",
       "      <td>0.097824</td>\n",
       "      <td>0.096889</td>\n",
       "      <td>0.091832</td>\n",
       "      <td>50909.117670</td>\n",
       "      <td>2.434057</td>\n",
       "      <td>0.069177</td>\n",
       "      <td>42898.629449</td>\n",
       "    </tr>\n",
       "    <tr>\n",
       "      <th>1</th>\n",
       "      <td>1.0</td>\n",
       "      <td>513</td>\n",
       "      <td>13.500445</td>\n",
       "      <td>34.089880</td>\n",
       "      <td>91.988962</td>\n",
       "      <td>0.043333</td>\n",
       "      <td>3.333333</td>\n",
       "      <td>1.111111</td>\n",
       "      <td>12.5</td>\n",
       "      <td>30</td>\n",
       "      <td>...</td>\n",
       "      <td>0.006480</td>\n",
       "      <td>0.099964</td>\n",
       "      <td>0.000776</td>\n",
       "      <td>0.107220</td>\n",
       "      <td>0.106444</td>\n",
       "      <td>0.100741</td>\n",
       "      <td>42248.827285</td>\n",
       "      <td>2.482290</td>\n",
       "      <td>0.080224</td>\n",
       "      <td>42335.946208</td>\n",
       "    </tr>\n",
       "    <tr>\n",
       "      <th>2</th>\n",
       "      <td>2.0</td>\n",
       "      <td>514</td>\n",
       "      <td>14.557976</td>\n",
       "      <td>47.084719</td>\n",
       "      <td>90.270891</td>\n",
       "      <td>0.043333</td>\n",
       "      <td>4.444444</td>\n",
       "      <td>1.111111</td>\n",
       "      <td>12.5</td>\n",
       "      <td>30</td>\n",
       "      <td>...</td>\n",
       "      <td>0.006987</td>\n",
       "      <td>0.098097</td>\n",
       "      <td>0.001072</td>\n",
       "      <td>0.106157</td>\n",
       "      <td>0.105084</td>\n",
       "      <td>0.099170</td>\n",
       "      <td>58350.965598</td>\n",
       "      <td>2.489417</td>\n",
       "      <td>0.078811</td>\n",
       "      <td>61876.924607</td>\n",
       "    </tr>\n",
       "    <tr>\n",
       "      <th>3</th>\n",
       "      <td>3.0</td>\n",
       "      <td>515</td>\n",
       "      <td>15.565144</td>\n",
       "      <td>50.229976</td>\n",
       "      <td>87.382592</td>\n",
       "      <td>0.043333</td>\n",
       "      <td>5.555556</td>\n",
       "      <td>1.111111</td>\n",
       "      <td>12.5</td>\n",
       "      <td>30</td>\n",
       "      <td>...</td>\n",
       "      <td>0.007471</td>\n",
       "      <td>0.094958</td>\n",
       "      <td>0.001144</td>\n",
       "      <td>0.103573</td>\n",
       "      <td>0.102429</td>\n",
       "      <td>0.096102</td>\n",
       "      <td>62248.529989</td>\n",
       "      <td>2.489327</td>\n",
       "      <td>0.075655</td>\n",
       "      <td>68318.925539</td>\n",
       "    </tr>\n",
       "    <tr>\n",
       "      <th>4</th>\n",
       "      <td>4.0</td>\n",
       "      <td>516</td>\n",
       "      <td>17.920371</td>\n",
       "      <td>53.156539</td>\n",
       "      <td>97.112525</td>\n",
       "      <td>0.043333</td>\n",
       "      <td>6.666667</td>\n",
       "      <td>1.111111</td>\n",
       "      <td>12.5</td>\n",
       "      <td>30</td>\n",
       "      <td>...</td>\n",
       "      <td>0.008601</td>\n",
       "      <td>0.105532</td>\n",
       "      <td>0.001211</td>\n",
       "      <td>0.115344</td>\n",
       "      <td>0.114133</td>\n",
       "      <td>0.106743</td>\n",
       "      <td>65876.063826</td>\n",
       "      <td>2.545507</td>\n",
       "      <td>0.089496</td>\n",
       "      <td>92507.925508</td>\n",
       "    </tr>\n",
       "  </tbody>\n",
       "</table>\n",
       "<p>5 rows × 23 columns</p>\n",
       "</div>"
      ],
      "text/plain": [
       "   grid_cell_id  model_id  y_diff_dtw_distance  rms_perc_diff  \\\n",
       "0           0.0       512            12.484688      41.079664   \n",
       "1           1.0       513            13.500445      34.089880   \n",
       "2           2.0       514            14.557976      47.084719   \n",
       "3           3.0       515            15.565144      50.229976   \n",
       "4           4.0       516            17.920371      53.156539   \n",
       "\n",
       "   emf_dtw_distance  damper.damping_coefficient  \\\n",
       "0         83.644779                    0.043333   \n",
       "1         91.988962                    0.043333   \n",
       "2         90.270891                    0.043333   \n",
       "3         87.382592                    0.043333   \n",
       "4         97.112525                    0.043333   \n",
       "\n",
       "   coupling_model.coupling_constant  mechanical_spring.damping_coefficient  \\\n",
       "0                          2.222222                               1.111111   \n",
       "1                          3.333333                               1.111111   \n",
       "2                          4.444444                               1.111111   \n",
       "3                          5.555556                               1.111111   \n",
       "4                          6.666667                               1.111111   \n",
       "\n",
       "   coil_resistance  load_model.R  ...  y_diff_dtw_distance_norm  \\\n",
       "0             12.5            30  ...                  0.005992   \n",
       "1             12.5            30  ...                  0.006480   \n",
       "2             12.5            30  ...                  0.006987   \n",
       "3             12.5            30  ...                  0.007471   \n",
       "4             12.5            30  ...                  0.008601   \n",
       "\n",
       "  emf_dtw_distance_norm  rms_perc_diff_abs_norm  balanced  dtw_balanced  \\\n",
       "0              0.090897                0.000936  0.097824      0.096889   \n",
       "1              0.099964                0.000776  0.107220      0.106444   \n",
       "2              0.098097                0.001072  0.106157      0.105084   \n",
       "3              0.094958                0.001144  0.103573      0.102429   \n",
       "4              0.105532                0.001211  0.115344      0.114133   \n",
       "\n",
       "   elec_balanced  relative_scale_weights  relative_deviation  normalized_sum  \\\n",
       "0       0.091832            50909.117670            2.434057        0.069177   \n",
       "1       0.100741            42248.827285            2.482290        0.080224   \n",
       "2       0.099170            58350.965598            2.489417        0.078811   \n",
       "3       0.096102            62248.529989            2.489327        0.075655   \n",
       "4       0.106743            65876.063826            2.545507        0.089496   \n",
       "\n",
       "        product  \n",
       "0  42898.629449  \n",
       "1  42335.946208  \n",
       "2  61876.924607  \n",
       "3  68318.925539  \n",
       "4  92507.925508  \n",
       "\n",
       "[5 rows x 23 columns]"
      ]
     },
     "execution_count": 37,
     "metadata": {},
     "output_type": "execute_result"
    }
   ],
   "source": [
    "df2_filtered = df2_filtered.reset_index(drop=True)\n",
    "df2_filtered.head()"
   ]
  },
  {
   "cell_type": "code",
   "execution_count": 38,
   "metadata": {},
   "outputs": [
    {
     "name": "stdout",
     "output_type": "stream",
     "text": [
      "3.053013558729702 43.154019378827186\n"
     ]
    }
   ],
   "source": [
    "# Remove model ids that perform really poorly\n",
    "\n",
    "criteria = 'y_diff_dtw_distance'\n",
    "cut_off = (1-0.9973)/2\n",
    "cut_off*100\n",
    "upper_bound = df2_filtered[criteria].quantile(0.9973+cut_off)\n",
    "lower_bound = df2_filtered[criteria].quantile(1-(0.9973+cut_off))\n",
    "print(lower_bound, upper_bound)\n",
    "\n",
    "to_drop_lower = df2_filtered.query(f'{criteria} < {lower_bound}')['model_id'].values\n",
    "to_drop_upper = df2_filtered.query(f'{criteria} > {upper_bound}')['model_id'].values\n",
    "\n",
    "to_drop = np.concatenate([to_drop_lower, to_drop_upper])\n",
    "\n",
    "df2_filtered = df2_filtered[~df2_filtered['model_id'].isin(to_drop)]"
   ]
  },
  {
   "cell_type": "code",
   "execution_count": 39,
   "metadata": {},
   "outputs": [
    {
     "data": {
      "text/plain": [
       "20702"
      ]
     },
     "execution_count": 39,
     "metadata": {},
     "output_type": "execute_result"
    }
   ],
   "source": [
    "len(df2_filtered)"
   ]
  },
  {
   "cell_type": "code",
   "execution_count": 40,
   "metadata": {},
   "outputs": [
    {
     "data": {
      "text/html": [
       "<div>\n",
       "<style scoped>\n",
       "    .dataframe tbody tr th:only-of-type {\n",
       "        vertical-align: middle;\n",
       "    }\n",
       "\n",
       "    .dataframe tbody tr th {\n",
       "        vertical-align: top;\n",
       "    }\n",
       "\n",
       "    .dataframe thead th {\n",
       "        text-align: right;\n",
       "    }\n",
       "</style>\n",
       "<table border=\"1\" class=\"dataframe\">\n",
       "  <thead>\n",
       "    <tr style=\"text-align: right;\">\n",
       "      <th></th>\n",
       "      <th>grid_cell_id</th>\n",
       "      <th>model_id</th>\n",
       "      <th>y_diff_dtw_distance</th>\n",
       "      <th>rms_perc_diff</th>\n",
       "      <th>emf_dtw_distance</th>\n",
       "      <th>damper.damping_coefficient</th>\n",
       "      <th>coupling_model.coupling_constant</th>\n",
       "      <th>mechanical_spring.damping_coefficient</th>\n",
       "      <th>coil_resistance</th>\n",
       "      <th>load_model.R</th>\n",
       "      <th>...</th>\n",
       "      <th>y_diff_dtw_distance_norm</th>\n",
       "      <th>emf_dtw_distance_norm</th>\n",
       "      <th>rms_perc_diff_abs_norm</th>\n",
       "      <th>balanced</th>\n",
       "      <th>dtw_balanced</th>\n",
       "      <th>elec_balanced</th>\n",
       "      <th>relative_scale_weights</th>\n",
       "      <th>relative_deviation</th>\n",
       "      <th>normalized_sum</th>\n",
       "      <th>product</th>\n",
       "    </tr>\n",
       "  </thead>\n",
       "  <tbody>\n",
       "    <tr>\n",
       "      <th>0</th>\n",
       "      <td>0.0</td>\n",
       "      <td>512</td>\n",
       "      <td>12.484688</td>\n",
       "      <td>41.079664</td>\n",
       "      <td>83.644779</td>\n",
       "      <td>0.043333</td>\n",
       "      <td>2.222222</td>\n",
       "      <td>1.111111</td>\n",
       "      <td>12.5</td>\n",
       "      <td>30</td>\n",
       "      <td>...</td>\n",
       "      <td>0.005992</td>\n",
       "      <td>0.090897</td>\n",
       "      <td>0.000936</td>\n",
       "      <td>0.097824</td>\n",
       "      <td>0.096889</td>\n",
       "      <td>0.091832</td>\n",
       "      <td>50909.117670</td>\n",
       "      <td>2.434057</td>\n",
       "      <td>0.069177</td>\n",
       "      <td>42898.629449</td>\n",
       "    </tr>\n",
       "    <tr>\n",
       "      <th>1</th>\n",
       "      <td>1.0</td>\n",
       "      <td>513</td>\n",
       "      <td>13.500445</td>\n",
       "      <td>34.089880</td>\n",
       "      <td>91.988962</td>\n",
       "      <td>0.043333</td>\n",
       "      <td>3.333333</td>\n",
       "      <td>1.111111</td>\n",
       "      <td>12.5</td>\n",
       "      <td>30</td>\n",
       "      <td>...</td>\n",
       "      <td>0.006480</td>\n",
       "      <td>0.099964</td>\n",
       "      <td>0.000776</td>\n",
       "      <td>0.107220</td>\n",
       "      <td>0.106444</td>\n",
       "      <td>0.100741</td>\n",
       "      <td>42248.827285</td>\n",
       "      <td>2.482290</td>\n",
       "      <td>0.080224</td>\n",
       "      <td>42335.946208</td>\n",
       "    </tr>\n",
       "    <tr>\n",
       "      <th>2</th>\n",
       "      <td>2.0</td>\n",
       "      <td>514</td>\n",
       "      <td>14.557976</td>\n",
       "      <td>47.084719</td>\n",
       "      <td>90.270891</td>\n",
       "      <td>0.043333</td>\n",
       "      <td>4.444444</td>\n",
       "      <td>1.111111</td>\n",
       "      <td>12.5</td>\n",
       "      <td>30</td>\n",
       "      <td>...</td>\n",
       "      <td>0.006987</td>\n",
       "      <td>0.098097</td>\n",
       "      <td>0.001072</td>\n",
       "      <td>0.106157</td>\n",
       "      <td>0.105084</td>\n",
       "      <td>0.099170</td>\n",
       "      <td>58350.965598</td>\n",
       "      <td>2.489417</td>\n",
       "      <td>0.078811</td>\n",
       "      <td>61876.924607</td>\n",
       "    </tr>\n",
       "    <tr>\n",
       "      <th>3</th>\n",
       "      <td>3.0</td>\n",
       "      <td>515</td>\n",
       "      <td>15.565144</td>\n",
       "      <td>50.229976</td>\n",
       "      <td>87.382592</td>\n",
       "      <td>0.043333</td>\n",
       "      <td>5.555556</td>\n",
       "      <td>1.111111</td>\n",
       "      <td>12.5</td>\n",
       "      <td>30</td>\n",
       "      <td>...</td>\n",
       "      <td>0.007471</td>\n",
       "      <td>0.094958</td>\n",
       "      <td>0.001144</td>\n",
       "      <td>0.103573</td>\n",
       "      <td>0.102429</td>\n",
       "      <td>0.096102</td>\n",
       "      <td>62248.529989</td>\n",
       "      <td>2.489327</td>\n",
       "      <td>0.075655</td>\n",
       "      <td>68318.925539</td>\n",
       "    </tr>\n",
       "    <tr>\n",
       "      <th>4</th>\n",
       "      <td>4.0</td>\n",
       "      <td>516</td>\n",
       "      <td>17.920371</td>\n",
       "      <td>53.156539</td>\n",
       "      <td>97.112525</td>\n",
       "      <td>0.043333</td>\n",
       "      <td>6.666667</td>\n",
       "      <td>1.111111</td>\n",
       "      <td>12.5</td>\n",
       "      <td>30</td>\n",
       "      <td>...</td>\n",
       "      <td>0.008601</td>\n",
       "      <td>0.105532</td>\n",
       "      <td>0.001211</td>\n",
       "      <td>0.115344</td>\n",
       "      <td>0.114133</td>\n",
       "      <td>0.106743</td>\n",
       "      <td>65876.063826</td>\n",
       "      <td>2.545507</td>\n",
       "      <td>0.089496</td>\n",
       "      <td>92507.925508</td>\n",
       "    </tr>\n",
       "  </tbody>\n",
       "</table>\n",
       "<p>5 rows × 23 columns</p>\n",
       "</div>"
      ],
      "text/plain": [
       "   grid_cell_id  model_id  y_diff_dtw_distance  rms_perc_diff  \\\n",
       "0           0.0       512            12.484688      41.079664   \n",
       "1           1.0       513            13.500445      34.089880   \n",
       "2           2.0       514            14.557976      47.084719   \n",
       "3           3.0       515            15.565144      50.229976   \n",
       "4           4.0       516            17.920371      53.156539   \n",
       "\n",
       "   emf_dtw_distance  damper.damping_coefficient  \\\n",
       "0         83.644779                    0.043333   \n",
       "1         91.988962                    0.043333   \n",
       "2         90.270891                    0.043333   \n",
       "3         87.382592                    0.043333   \n",
       "4         97.112525                    0.043333   \n",
       "\n",
       "   coupling_model.coupling_constant  mechanical_spring.damping_coefficient  \\\n",
       "0                          2.222222                               1.111111   \n",
       "1                          3.333333                               1.111111   \n",
       "2                          4.444444                               1.111111   \n",
       "3                          5.555556                               1.111111   \n",
       "4                          6.666667                               1.111111   \n",
       "\n",
       "   coil_resistance  load_model.R  ...  y_diff_dtw_distance_norm  \\\n",
       "0             12.5            30  ...                  0.005992   \n",
       "1             12.5            30  ...                  0.006480   \n",
       "2             12.5            30  ...                  0.006987   \n",
       "3             12.5            30  ...                  0.007471   \n",
       "4             12.5            30  ...                  0.008601   \n",
       "\n",
       "  emf_dtw_distance_norm  rms_perc_diff_abs_norm  balanced  dtw_balanced  \\\n",
       "0              0.090897                0.000936  0.097824      0.096889   \n",
       "1              0.099964                0.000776  0.107220      0.106444   \n",
       "2              0.098097                0.001072  0.106157      0.105084   \n",
       "3              0.094958                0.001144  0.103573      0.102429   \n",
       "4              0.105532                0.001211  0.115344      0.114133   \n",
       "\n",
       "   elec_balanced  relative_scale_weights  relative_deviation  normalized_sum  \\\n",
       "0       0.091832            50909.117670            2.434057        0.069177   \n",
       "1       0.100741            42248.827285            2.482290        0.080224   \n",
       "2       0.099170            58350.965598            2.489417        0.078811   \n",
       "3       0.096102            62248.529989            2.489327        0.075655   \n",
       "4       0.106743            65876.063826            2.545507        0.089496   \n",
       "\n",
       "        product  \n",
       "0  42898.629449  \n",
       "1  42335.946208  \n",
       "2  61876.924607  \n",
       "3  68318.925539  \n",
       "4  92507.925508  \n",
       "\n",
       "[5 rows x 23 columns]"
      ]
     },
     "execution_count": 40,
     "metadata": {},
     "output_type": "execute_result"
    }
   ],
   "source": [
    "df2_filtered.head()"
   ]
  },
  {
   "cell_type": "code",
   "execution_count": 41,
   "metadata": {},
   "outputs": [
    {
     "name": "stdout",
     "output_type": "stream",
     "text": [
      "22000\n"
     ]
    },
    {
     "data": {
      "text/plain": [
       "20702"
      ]
     },
     "execution_count": 41,
     "metadata": {},
     "output_type": "execute_result"
    }
   ],
   "source": [
    "print(len(df2))\n",
    "len(df2_filtered)"
   ]
  },
  {
   "cell_type": "code",
   "execution_count": 42,
   "metadata": {},
   "outputs": [
    {
     "data": {
      "text/html": [
       "<div>\n",
       "<style scoped>\n",
       "    .dataframe tbody tr th:only-of-type {\n",
       "        vertical-align: middle;\n",
       "    }\n",
       "\n",
       "    .dataframe tbody tr th {\n",
       "        vertical-align: top;\n",
       "    }\n",
       "\n",
       "    .dataframe thead th {\n",
       "        text-align: right;\n",
       "    }\n",
       "</style>\n",
       "<table border=\"1\" class=\"dataframe\">\n",
       "  <thead>\n",
       "    <tr style=\"text-align: right;\">\n",
       "      <th></th>\n",
       "      <th>y_diff_dtw_distance</th>\n",
       "    </tr>\n",
       "    <tr>\n",
       "      <th>input_excitation</th>\n",
       "      <th></th>\n",
       "    </tr>\n",
       "  </thead>\n",
       "  <tbody>\n",
       "    <tr>\n",
       "      <th>0</th>\n",
       "      <td>16.724096</td>\n",
       "    </tr>\n",
       "    <tr>\n",
       "      <th>1</th>\n",
       "      <td>17.877816</td>\n",
       "    </tr>\n",
       "    <tr>\n",
       "      <th>2</th>\n",
       "      <td>17.419066</td>\n",
       "    </tr>\n",
       "    <tr>\n",
       "      <th>3</th>\n",
       "      <td>15.090341</td>\n",
       "    </tr>\n",
       "    <tr>\n",
       "      <th>4</th>\n",
       "      <td>18.296309</td>\n",
       "    </tr>\n",
       "    <tr>\n",
       "      <th>5</th>\n",
       "      <td>17.868375</td>\n",
       "    </tr>\n",
       "    <tr>\n",
       "      <th>6</th>\n",
       "      <td>17.682649</td>\n",
       "    </tr>\n",
       "  </tbody>\n",
       "</table>\n",
       "</div>"
      ],
      "text/plain": [
       "                  y_diff_dtw_distance\n",
       "input_excitation                     \n",
       "0                           16.724096\n",
       "1                           17.877816\n",
       "2                           17.419066\n",
       "3                           15.090341\n",
       "4                           18.296309\n",
       "5                           17.868375\n",
       "6                           17.682649"
      ]
     },
     "execution_count": 42,
     "metadata": {},
     "output_type": "execute_result"
    }
   ],
   "source": [
    "df2_filtered.query('device_id == \"A\"').groupby(['input_excitation']).agg({'y_diff_dtw_distance': 'mean'})"
   ]
  },
  {
   "cell_type": "code",
   "execution_count": 43,
   "metadata": {},
   "outputs": [],
   "source": [
    "def which_inputs_to_drop(df, device, number_to_drop):\n",
    "    return (\n",
    "        df\n",
    "        .query(f'device_id == \"{device}\"')\n",
    "        .groupby(['device_id', 'input_excitation'])\n",
    "        .agg({'y_diff_dtw_distance': 'mean'})\n",
    "        .sort_values(by='y_diff_dtw_distance', ascending=False)\n",
    "        .reset_index()\n",
    "        .iloc[:number_to_drop, :]['input_excitation']\n",
    "        .values\n",
    "    )"
   ]
  },
  {
   "cell_type": "code",
   "execution_count": 44,
   "metadata": {},
   "outputs": [
    {
     "name": "stdout",
     "output_type": "stream",
     "text": [
      "[4 1]\n",
      "[2 6]\n",
      "[2 6 5]\n"
     ]
    }
   ],
   "source": [
    "indexes_to_drop = []\n",
    "for device, num in zip(['A', 'B', 'C'], [2, 2, 3]):\n",
    "    to_drop = which_inputs_to_drop(df2_filtered, device, num)\n",
    "    print(to_drop)\n",
    "    x = df2_filtered[df2_filtered['input_excitation'].isin(to_drop)]\n",
    "    x = x[x['device_id'] == device]\n",
    "    indexes_to_drop.append(x.index)"
   ]
  },
  {
   "cell_type": "code",
   "execution_count": 45,
   "metadata": {},
   "outputs": [
    {
     "data": {
      "text/plain": [
       "[Int64Index([1000, 1001, 1003, 1004, 1005, 1006, 1007, 1008, 1009, 1010,\n",
       "             ...\n",
       "             4989, 4990, 4991, 4992, 4993, 4995, 4996, 4997, 4998, 4999],\n",
       "            dtype='int64', length=1882),\n",
       " Int64Index([ 9000,  9001,  9002,  9003,  9004,  9005,  9006,  9007,  9008,\n",
       "              9009,\n",
       "             ...\n",
       "             13989, 13990, 13991, 13992, 13993, 13995, 13996, 13997, 13998,\n",
       "             13999],\n",
       "            dtype='int64', length=1882),\n",
       " Int64Index([16000, 16001, 16002, 16003, 16004, 16005, 16006, 16007, 16008,\n",
       "             16009,\n",
       "             ...\n",
       "             20990, 20991, 20992, 20993, 20994, 20995, 20996, 20997, 20998,\n",
       "             20999],\n",
       "            dtype='int64', length=2823)]"
      ]
     },
     "execution_count": 45,
     "metadata": {},
     "output_type": "execute_result"
    }
   ],
   "source": [
    "indexes_to_drop"
   ]
  },
  {
   "cell_type": "code",
   "execution_count": 46,
   "metadata": {},
   "outputs": [
    {
     "data": {
      "text/plain": [
       "20702"
      ]
     },
     "execution_count": 46,
     "metadata": {},
     "output_type": "execute_result"
    }
   ],
   "source": [
    "len(df2_filtered)"
   ]
  },
  {
   "cell_type": "code",
   "execution_count": 47,
   "metadata": {},
   "outputs": [],
   "source": [
    "for idx in indexes_to_drop:\n",
    "    df2_filtered = df2_filtered.drop(idx)"
   ]
  },
  {
   "cell_type": "code",
   "execution_count": 48,
   "metadata": {},
   "outputs": [
    {
     "data": {
      "text/plain": [
       "14115"
      ]
     },
     "execution_count": 48,
     "metadata": {},
     "output_type": "execute_result"
    }
   ],
   "source": [
    "len(df2_filtered)"
   ]
  },
  {
   "cell_type": "code",
   "execution_count": 49,
   "metadata": {},
   "outputs": [
    {
     "data": {
      "text/html": [
       "<div>\n",
       "<style scoped>\n",
       "    .dataframe tbody tr th:only-of-type {\n",
       "        vertical-align: middle;\n",
       "    }\n",
       "\n",
       "    .dataframe tbody tr th {\n",
       "        vertical-align: top;\n",
       "    }\n",
       "\n",
       "    .dataframe thead th {\n",
       "        text-align: right;\n",
       "    }\n",
       "</style>\n",
       "<table border=\"1\" class=\"dataframe\">\n",
       "  <thead>\n",
       "    <tr style=\"text-align: right;\">\n",
       "      <th></th>\n",
       "      <th>y_diff_dtw_distance</th>\n",
       "      <th>rms_perc_diff_abs</th>\n",
       "      <th>emf_dtw_distance</th>\n",
       "      <th>balanced</th>\n",
       "      <th>dtw_balanced</th>\n",
       "      <th>elec_balanced</th>\n",
       "      <th>relative_scale_weights</th>\n",
       "      <th>relative_deviation</th>\n",
       "      <th>normalized_sum</th>\n",
       "      <th>product</th>\n",
       "    </tr>\n",
       "    <tr>\n",
       "      <th>model_id</th>\n",
       "      <th></th>\n",
       "      <th></th>\n",
       "      <th></th>\n",
       "      <th></th>\n",
       "      <th></th>\n",
       "      <th></th>\n",
       "      <th></th>\n",
       "      <th></th>\n",
       "      <th></th>\n",
       "      <th></th>\n",
       "    </tr>\n",
       "  </thead>\n",
       "  <tbody>\n",
       "    <tr>\n",
       "      <th>0</th>\n",
       "      <td>15.266715</td>\n",
       "      <td>51.444160</td>\n",
       "      <td>229.300196</td>\n",
       "      <td>0.257679</td>\n",
       "      <td>0.256507</td>\n",
       "      <td>0.250352</td>\n",
       "      <td>63757.532366</td>\n",
       "      <td>2.605332</td>\n",
       "      <td>0.324121</td>\n",
       "      <td>472081.959608</td>\n",
       "    </tr>\n",
       "    <tr>\n",
       "      <th>1</th>\n",
       "      <td>16.540170</td>\n",
       "      <td>65.977495</td>\n",
       "      <td>266.820083</td>\n",
       "      <td>0.299394</td>\n",
       "      <td>0.297891</td>\n",
       "      <td>0.291455</td>\n",
       "      <td>81767.373892</td>\n",
       "      <td>2.630106</td>\n",
       "      <td>0.430041</td>\n",
       "      <td>770847.360913</td>\n",
       "    </tr>\n",
       "    <tr>\n",
       "      <th>2</th>\n",
       "      <td>18.683305</td>\n",
       "      <td>81.246030</td>\n",
       "      <td>302.265933</td>\n",
       "      <td>0.339289</td>\n",
       "      <td>0.337439</td>\n",
       "      <td>0.330322</td>\n",
       "      <td>100688.473761</td>\n",
       "      <td>2.712242</td>\n",
       "      <td>0.500790</td>\n",
       "      <td>797769.698301</td>\n",
       "    </tr>\n",
       "    <tr>\n",
       "      <th>3</th>\n",
       "      <td>19.236310</td>\n",
       "      <td>83.566785</td>\n",
       "      <td>314.166147</td>\n",
       "      <td>0.352539</td>\n",
       "      <td>0.350636</td>\n",
       "      <td>0.343307</td>\n",
       "      <td>103564.708457</td>\n",
       "      <td>2.740146</td>\n",
       "      <td>0.529216</td>\n",
       "      <td>657356.373631</td>\n",
       "    </tr>\n",
       "    <tr>\n",
       "      <th>4</th>\n",
       "      <td>22.030305</td>\n",
       "      <td>95.430113</td>\n",
       "      <td>345.186100</td>\n",
       "      <td>0.387860</td>\n",
       "      <td>0.385686</td>\n",
       "      <td>0.377286</td>\n",
       "      <td>118266.567878</td>\n",
       "      <td>2.776060</td>\n",
       "      <td>0.652822</td>\n",
       "      <td>899740.675207</td>\n",
       "    </tr>\n",
       "  </tbody>\n",
       "</table>\n",
       "</div>"
      ],
      "text/plain": [
       "          y_diff_dtw_distance  rms_perc_diff_abs  emf_dtw_distance  balanced  \\\n",
       "model_id                                                                       \n",
       "0                   15.266715          51.444160        229.300196  0.257679   \n",
       "1                   16.540170          65.977495        266.820083  0.299394   \n",
       "2                   18.683305          81.246030        302.265933  0.339289   \n",
       "3                   19.236310          83.566785        314.166147  0.352539   \n",
       "4                   22.030305          95.430113        345.186100  0.387860   \n",
       "\n",
       "          dtw_balanced  elec_balanced  relative_scale_weights  \\\n",
       "model_id                                                        \n",
       "0             0.256507       0.250352            63757.532366   \n",
       "1             0.297891       0.291455            81767.373892   \n",
       "2             0.337439       0.330322           100688.473761   \n",
       "3             0.350636       0.343307           103564.708457   \n",
       "4             0.385686       0.377286           118266.567878   \n",
       "\n",
       "          relative_deviation  normalized_sum        product  \n",
       "model_id                                                     \n",
       "0                   2.605332        0.324121  472081.959608  \n",
       "1                   2.630106        0.430041  770847.360913  \n",
       "2                   2.712242        0.500790  797769.698301  \n",
       "3                   2.740146        0.529216  657356.373631  \n",
       "4                   2.776060        0.652822  899740.675207  "
      ]
     },
     "execution_count": 49,
     "metadata": {},
     "output_type": "execute_result"
    }
   ],
   "source": [
    "df_scores = df2_filtered.groupby('model_id').agg({\n",
    "    'y_diff_dtw_distance': 'mean',\n",
    "    'rms_perc_diff_abs': 'mean',\n",
    "    'emf_dtw_distance': 'mean',\n",
    "    'balanced': 'mean',\n",
    "    'dtw_balanced': 'mean',\n",
    "    'elec_balanced': 'mean',\n",
    "    'relative_scale_weights': 'mean',\n",
    "    'relative_deviation': 'mean',\n",
    "    'normalized_sum': 'mean',\n",
    "    'product': 'mean'\n",
    "})\n",
    "df_scores.head()"
   ]
  },
  {
   "cell_type": "code",
   "execution_count": 50,
   "metadata": {},
   "outputs": [
    {
     "data": {
      "text/html": [
       "<div>\n",
       "<style scoped>\n",
       "    .dataframe tbody tr th:only-of-type {\n",
       "        vertical-align: middle;\n",
       "    }\n",
       "\n",
       "    .dataframe tbody tr th {\n",
       "        vertical-align: top;\n",
       "    }\n",
       "\n",
       "    .dataframe thead th {\n",
       "        text-align: right;\n",
       "    }\n",
       "</style>\n",
       "<table border=\"1\" class=\"dataframe\">\n",
       "  <thead>\n",
       "    <tr style=\"text-align: right;\">\n",
       "      <th></th>\n",
       "      <th>grid_cell_id</th>\n",
       "      <th>y_diff_dtw_distance</th>\n",
       "      <th>rms_perc_diff</th>\n",
       "      <th>emf_dtw_distance</th>\n",
       "      <th>damper.damping_coefficient</th>\n",
       "      <th>coupling_model.coupling_constant</th>\n",
       "      <th>mechanical_spring.damping_coefficient</th>\n",
       "      <th>coil_resistance</th>\n",
       "      <th>load_model.R</th>\n",
       "      <th>input_excitation</th>\n",
       "      <th>...</th>\n",
       "      <th>y_diff_dtw_distance_norm</th>\n",
       "      <th>emf_dtw_distance_norm</th>\n",
       "      <th>rms_perc_diff_abs_norm</th>\n",
       "      <th>balanced</th>\n",
       "      <th>dtw_balanced</th>\n",
       "      <th>elec_balanced</th>\n",
       "      <th>relative_scale_weights</th>\n",
       "      <th>relative_deviation</th>\n",
       "      <th>normalized_sum</th>\n",
       "      <th>product</th>\n",
       "    </tr>\n",
       "    <tr>\n",
       "      <th>model_id</th>\n",
       "      <th></th>\n",
       "      <th></th>\n",
       "      <th></th>\n",
       "      <th></th>\n",
       "      <th></th>\n",
       "      <th></th>\n",
       "      <th></th>\n",
       "      <th></th>\n",
       "      <th></th>\n",
       "      <th></th>\n",
       "      <th></th>\n",
       "      <th></th>\n",
       "      <th></th>\n",
       "      <th></th>\n",
       "      <th></th>\n",
       "      <th></th>\n",
       "      <th></th>\n",
       "      <th></th>\n",
       "      <th></th>\n",
       "      <th></th>\n",
       "      <th></th>\n",
       "    </tr>\n",
       "  </thead>\n",
       "  <tbody>\n",
       "    <tr>\n",
       "      <th>301</th>\n",
       "      <td>5.0</td>\n",
       "      <td>6.834680</td>\n",
       "      <td>21.323785</td>\n",
       "      <td>103.540688</td>\n",
       "      <td>0.03</td>\n",
       "      <td>1.111111</td>\n",
       "      <td>0.000000</td>\n",
       "      <td>17.933333</td>\n",
       "      <td>30.0</td>\n",
       "      <td>2.933333</td>\n",
       "      <td>...</td>\n",
       "      <td>0.003280</td>\n",
       "      <td>0.112517</td>\n",
       "      <td>0.000542</td>\n",
       "      <td>0.116340</td>\n",
       "      <td>0.115798</td>\n",
       "      <td>0.113060</td>\n",
       "      <td>29505.072786</td>\n",
       "      <td>2.274989</td>\n",
       "      <td>0.093209</td>\n",
       "      <td>1.946936e+04</td>\n",
       "    </tr>\n",
       "    <tr>\n",
       "      <th>311</th>\n",
       "      <td>7.0</td>\n",
       "      <td>6.929788</td>\n",
       "      <td>21.498280</td>\n",
       "      <td>103.489932</td>\n",
       "      <td>0.03</td>\n",
       "      <td>1.111111</td>\n",
       "      <td>1.111111</td>\n",
       "      <td>17.933333</td>\n",
       "      <td>30.0</td>\n",
       "      <td>2.933333</td>\n",
       "      <td>...</td>\n",
       "      <td>0.003326</td>\n",
       "      <td>0.112462</td>\n",
       "      <td>0.000541</td>\n",
       "      <td>0.116329</td>\n",
       "      <td>0.115788</td>\n",
       "      <td>0.113003</td>\n",
       "      <td>29442.782613</td>\n",
       "      <td>2.274423</td>\n",
       "      <td>0.093248</td>\n",
       "      <td>2.041301e+04</td>\n",
       "    </tr>\n",
       "    <tr>\n",
       "      <th>361</th>\n",
       "      <td>1.0</td>\n",
       "      <td>6.936725</td>\n",
       "      <td>21.718102</td>\n",
       "      <td>101.320068</td>\n",
       "      <td>0.03</td>\n",
       "      <td>1.111111</td>\n",
       "      <td>6.666667</td>\n",
       "      <td>17.933333</td>\n",
       "      <td>30.0</td>\n",
       "      <td>2.933333</td>\n",
       "      <td>...</td>\n",
       "      <td>0.003329</td>\n",
       "      <td>0.110104</td>\n",
       "      <td>0.000547</td>\n",
       "      <td>0.113981</td>\n",
       "      <td>0.113434</td>\n",
       "      <td>0.110651</td>\n",
       "      <td>29769.883607</td>\n",
       "      <td>2.266039</td>\n",
       "      <td>0.090508</td>\n",
       "      <td>2.002055e+04</td>\n",
       "    </tr>\n",
       "    <tr>\n",
       "      <th>331</th>\n",
       "      <td>3.0</td>\n",
       "      <td>6.946615</td>\n",
       "      <td>21.679399</td>\n",
       "      <td>101.372574</td>\n",
       "      <td>0.03</td>\n",
       "      <td>1.111111</td>\n",
       "      <td>3.333333</td>\n",
       "      <td>17.933333</td>\n",
       "      <td>30.0</td>\n",
       "      <td>2.933333</td>\n",
       "      <td>...</td>\n",
       "      <td>0.003334</td>\n",
       "      <td>0.110161</td>\n",
       "      <td>0.000541</td>\n",
       "      <td>0.114036</td>\n",
       "      <td>0.113495</td>\n",
       "      <td>0.110702</td>\n",
       "      <td>29412.290208</td>\n",
       "      <td>2.262837</td>\n",
       "      <td>0.090544</td>\n",
       "      <td>2.010582e+04</td>\n",
       "    </tr>\n",
       "    <tr>\n",
       "      <th>381</th>\n",
       "      <td>5.0</td>\n",
       "      <td>6.955981</td>\n",
       "      <td>22.224005</td>\n",
       "      <td>103.382249</td>\n",
       "      <td>0.03</td>\n",
       "      <td>1.111111</td>\n",
       "      <td>8.888889</td>\n",
       "      <td>17.933333</td>\n",
       "      <td>30.0</td>\n",
       "      <td>2.933333</td>\n",
       "      <td>...</td>\n",
       "      <td>0.003339</td>\n",
       "      <td>0.112345</td>\n",
       "      <td>0.000561</td>\n",
       "      <td>0.116245</td>\n",
       "      <td>0.115684</td>\n",
       "      <td>0.112906</td>\n",
       "      <td>30537.670282</td>\n",
       "      <td>2.283444</td>\n",
       "      <td>0.092947</td>\n",
       "      <td>2.037617e+04</td>\n",
       "    </tr>\n",
       "    <tr>\n",
       "      <th>...</th>\n",
       "      <td>...</td>\n",
       "      <td>...</td>\n",
       "      <td>...</td>\n",
       "      <td>...</td>\n",
       "      <td>...</td>\n",
       "      <td>...</td>\n",
       "      <td>...</td>\n",
       "      <td>...</td>\n",
       "      <td>...</td>\n",
       "      <td>...</td>\n",
       "      <td>...</td>\n",
       "      <td>...</td>\n",
       "      <td>...</td>\n",
       "      <td>...</td>\n",
       "      <td>...</td>\n",
       "      <td>...</td>\n",
       "      <td>...</td>\n",
       "      <td>...</td>\n",
       "      <td>...</td>\n",
       "      <td>...</td>\n",
       "      <td>...</td>\n",
       "    </tr>\n",
       "    <tr>\n",
       "      <th>99</th>\n",
       "      <td>3.0</td>\n",
       "      <td>27.835385</td>\n",
       "      <td>142.112370</td>\n",
       "      <td>453.233979</td>\n",
       "      <td>0.01</td>\n",
       "      <td>10.000000</td>\n",
       "      <td>10.000000</td>\n",
       "      <td>17.933333</td>\n",
       "      <td>30.0</td>\n",
       "      <td>2.933333</td>\n",
       "      <td>...</td>\n",
       "      <td>0.013360</td>\n",
       "      <td>0.492528</td>\n",
       "      <td>0.003237</td>\n",
       "      <td>0.509125</td>\n",
       "      <td>0.505888</td>\n",
       "      <td>0.495765</td>\n",
       "      <td>176115.926161</td>\n",
       "      <td>2.836274</td>\n",
       "      <td>1.135100</td>\n",
       "      <td>1.866112e+06</td>\n",
       "    </tr>\n",
       "    <tr>\n",
       "      <th>57</th>\n",
       "      <td>1.0</td>\n",
       "      <td>27.973584</td>\n",
       "      <td>144.800922</td>\n",
       "      <td>445.072709</td>\n",
       "      <td>0.01</td>\n",
       "      <td>7.777778</td>\n",
       "      <td>5.555556</td>\n",
       "      <td>17.933333</td>\n",
       "      <td>30.0</td>\n",
       "      <td>2.933333</td>\n",
       "      <td>...</td>\n",
       "      <td>0.013426</td>\n",
       "      <td>0.483659</td>\n",
       "      <td>0.003298</td>\n",
       "      <td>0.500383</td>\n",
       "      <td>0.497085</td>\n",
       "      <td>0.486957</td>\n",
       "      <td>179447.071218</td>\n",
       "      <td>2.828968</td>\n",
       "      <td>1.141847</td>\n",
       "      <td>2.066562e+06</td>\n",
       "    </tr>\n",
       "    <tr>\n",
       "      <th>89</th>\n",
       "      <td>1.0</td>\n",
       "      <td>28.340162</td>\n",
       "      <td>140.881769</td>\n",
       "      <td>451.965359</td>\n",
       "      <td>0.01</td>\n",
       "      <td>10.000000</td>\n",
       "      <td>8.888889</td>\n",
       "      <td>17.933333</td>\n",
       "      <td>30.0</td>\n",
       "      <td>2.933333</td>\n",
       "      <td>...</td>\n",
       "      <td>0.013602</td>\n",
       "      <td>0.491149</td>\n",
       "      <td>0.003209</td>\n",
       "      <td>0.507960</td>\n",
       "      <td>0.504751</td>\n",
       "      <td>0.494358</td>\n",
       "      <td>174591.261053</td>\n",
       "      <td>2.838093</td>\n",
       "      <td>1.144465</td>\n",
       "      <td>1.851137e+06</td>\n",
       "    </tr>\n",
       "    <tr>\n",
       "      <th>29</th>\n",
       "      <td>5.0</td>\n",
       "      <td>28.448836</td>\n",
       "      <td>143.462021</td>\n",
       "      <td>459.195773</td>\n",
       "      <td>0.01</td>\n",
       "      <td>10.000000</td>\n",
       "      <td>2.222222</td>\n",
       "      <td>17.933333</td>\n",
       "      <td>30.0</td>\n",
       "      <td>2.933333</td>\n",
       "      <td>...</td>\n",
       "      <td>0.013654</td>\n",
       "      <td>0.499007</td>\n",
       "      <td>0.003268</td>\n",
       "      <td>0.515928</td>\n",
       "      <td>0.512661</td>\n",
       "      <td>0.502274</td>\n",
       "      <td>177788.704621</td>\n",
       "      <td>2.840246</td>\n",
       "      <td>1.151241</td>\n",
       "      <td>1.906818e+06</td>\n",
       "    </tr>\n",
       "    <tr>\n",
       "      <th>16</th>\n",
       "      <td>0.0</td>\n",
       "      <td>28.640127</td>\n",
       "      <td>151.739200</td>\n",
       "      <td>482.103621</td>\n",
       "      <td>0.01</td>\n",
       "      <td>6.666667</td>\n",
       "      <td>1.111111</td>\n",
       "      <td>17.933333</td>\n",
       "      <td>30.0</td>\n",
       "      <td>2.933333</td>\n",
       "      <td>...</td>\n",
       "      <td>0.013746</td>\n",
       "      <td>0.523901</td>\n",
       "      <td>0.003456</td>\n",
       "      <td>0.541103</td>\n",
       "      <td>0.537647</td>\n",
       "      <td>0.527357</td>\n",
       "      <td>188045.697293</td>\n",
       "      <td>2.837058</td>\n",
       "      <td>1.392149</td>\n",
       "      <td>2.389334e+06</td>\n",
       "    </tr>\n",
       "  </tbody>\n",
       "</table>\n",
       "<p>941 rows × 21 columns</p>\n",
       "</div>"
      ],
      "text/plain": [
       "          grid_cell_id  y_diff_dtw_distance  rms_perc_diff  emf_dtw_distance  \\\n",
       "model_id                                                                       \n",
       "301                5.0             6.834680      21.323785        103.540688   \n",
       "311                7.0             6.929788      21.498280        103.489932   \n",
       "361                1.0             6.936725      21.718102        101.320068   \n",
       "331                3.0             6.946615      21.679399        101.372574   \n",
       "381                5.0             6.955981      22.224005        103.382249   \n",
       "...                ...                  ...            ...               ...   \n",
       "99                 3.0            27.835385     142.112370        453.233979   \n",
       "57                 1.0            27.973584     144.800922        445.072709   \n",
       "89                 1.0            28.340162     140.881769        451.965359   \n",
       "29                 5.0            28.448836     143.462021        459.195773   \n",
       "16                 0.0            28.640127     151.739200        482.103621   \n",
       "\n",
       "          damper.damping_coefficient  coupling_model.coupling_constant  \\\n",
       "model_id                                                                 \n",
       "301                             0.03                          1.111111   \n",
       "311                             0.03                          1.111111   \n",
       "361                             0.03                          1.111111   \n",
       "331                             0.03                          1.111111   \n",
       "381                             0.03                          1.111111   \n",
       "...                              ...                               ...   \n",
       "99                              0.01                         10.000000   \n",
       "57                              0.01                          7.777778   \n",
       "89                              0.01                         10.000000   \n",
       "29                              0.01                         10.000000   \n",
       "16                              0.01                          6.666667   \n",
       "\n",
       "          mechanical_spring.damping_coefficient  coil_resistance  \\\n",
       "model_id                                                           \n",
       "301                                    0.000000        17.933333   \n",
       "311                                    1.111111        17.933333   \n",
       "361                                    6.666667        17.933333   \n",
       "331                                    3.333333        17.933333   \n",
       "381                                    8.888889        17.933333   \n",
       "...                                         ...              ...   \n",
       "99                                    10.000000        17.933333   \n",
       "57                                     5.555556        17.933333   \n",
       "89                                     8.888889        17.933333   \n",
       "29                                     2.222222        17.933333   \n",
       "16                                     1.111111        17.933333   \n",
       "\n",
       "          load_model.R  input_excitation  ...  y_diff_dtw_distance_norm  \\\n",
       "model_id                                  ...                             \n",
       "301               30.0          2.933333  ...                  0.003280   \n",
       "311               30.0          2.933333  ...                  0.003326   \n",
       "361               30.0          2.933333  ...                  0.003329   \n",
       "331               30.0          2.933333  ...                  0.003334   \n",
       "381               30.0          2.933333  ...                  0.003339   \n",
       "...                ...               ...  ...                       ...   \n",
       "99                30.0          2.933333  ...                  0.013360   \n",
       "57                30.0          2.933333  ...                  0.013426   \n",
       "89                30.0          2.933333  ...                  0.013602   \n",
       "29                30.0          2.933333  ...                  0.013654   \n",
       "16                30.0          2.933333  ...                  0.013746   \n",
       "\n",
       "          emf_dtw_distance_norm  rms_perc_diff_abs_norm  balanced  \\\n",
       "model_id                                                            \n",
       "301                    0.112517                0.000542  0.116340   \n",
       "311                    0.112462                0.000541  0.116329   \n",
       "361                    0.110104                0.000547  0.113981   \n",
       "331                    0.110161                0.000541  0.114036   \n",
       "381                    0.112345                0.000561  0.116245   \n",
       "...                         ...                     ...       ...   \n",
       "99                     0.492528                0.003237  0.509125   \n",
       "57                     0.483659                0.003298  0.500383   \n",
       "89                     0.491149                0.003209  0.507960   \n",
       "29                     0.499007                0.003268  0.515928   \n",
       "16                     0.523901                0.003456  0.541103   \n",
       "\n",
       "          dtw_balanced  elec_balanced  relative_scale_weights  \\\n",
       "model_id                                                        \n",
       "301           0.115798       0.113060            29505.072786   \n",
       "311           0.115788       0.113003            29442.782613   \n",
       "361           0.113434       0.110651            29769.883607   \n",
       "331           0.113495       0.110702            29412.290208   \n",
       "381           0.115684       0.112906            30537.670282   \n",
       "...                ...            ...                     ...   \n",
       "99            0.505888       0.495765           176115.926161   \n",
       "57            0.497085       0.486957           179447.071218   \n",
       "89            0.504751       0.494358           174591.261053   \n",
       "29            0.512661       0.502274           177788.704621   \n",
       "16            0.537647       0.527357           188045.697293   \n",
       "\n",
       "          relative_deviation  normalized_sum       product  \n",
       "model_id                                                    \n",
       "301                 2.274989        0.093209  1.946936e+04  \n",
       "311                 2.274423        0.093248  2.041301e+04  \n",
       "361                 2.266039        0.090508  2.002055e+04  \n",
       "331                 2.262837        0.090544  2.010582e+04  \n",
       "381                 2.283444        0.092947  2.037617e+04  \n",
       "...                      ...             ...           ...  \n",
       "99                  2.836274        1.135100  1.866112e+06  \n",
       "57                  2.828968        1.141847  2.066562e+06  \n",
       "89                  2.838093        1.144465  1.851137e+06  \n",
       "29                  2.840246        1.151241  1.906818e+06  \n",
       "16                  2.837058        1.392149  2.389334e+06  \n",
       "\n",
       "[941 rows x 21 columns]"
      ]
     },
     "execution_count": 50,
     "metadata": {},
     "output_type": "execute_result"
    }
   ],
   "source": [
    "df2_filtered.groupby('model_id').mean().sort_values(by='y_diff_dtw_distance')"
   ]
  },
  {
   "cell_type": "code",
   "execution_count": 51,
   "metadata": {},
   "outputs": [
    {
     "data": {
      "text/plain": [
       "{'y_diff_dtw_distance': 301,\n",
       " 'rms_perc_diff_abs': 870,\n",
       " 'emf_dtw_distance': 661,\n",
       " 'balanced': 661,\n",
       " 'dtw_balanced': 661,\n",
       " 'elec_balanced': 661,\n",
       " 'relative_scale_weights': 870,\n",
       " 'relative_deviation': 681,\n",
       " 'normalized_sum': 661,\n",
       " 'product': 681}"
      ]
     },
     "execution_count": 51,
     "metadata": {},
     "output_type": "execute_result"
    }
   ],
   "source": [
    "# Let's get the best performing model ids for each objective_function\n",
    "best_model_ids = {}\n",
    "for obj_func in df_scores.columns:\n",
    "    best_model_id = df_scores.sort_values(by=obj_func).index[0]\n",
    "    best_model_ids[obj_func] = best_model_id\n",
    "    \n",
    "best_model_ids"
   ]
  },
  {
   "cell_type": "code",
   "execution_count": 52,
   "metadata": {},
   "outputs": [
    {
     "data": {
      "text/html": [
       "<div>\n",
       "<style scoped>\n",
       "    .dataframe tbody tr th:only-of-type {\n",
       "        vertical-align: middle;\n",
       "    }\n",
       "\n",
       "    .dataframe tbody tr th {\n",
       "        vertical-align: top;\n",
       "    }\n",
       "\n",
       "    .dataframe thead th {\n",
       "        text-align: right;\n",
       "    }\n",
       "</style>\n",
       "<table border=\"1\" class=\"dataframe\">\n",
       "  <thead>\n",
       "    <tr style=\"text-align: right;\">\n",
       "      <th></th>\n",
       "      <th>grid_cell_id</th>\n",
       "      <th>model_id</th>\n",
       "      <th>y_diff_dtw_distance</th>\n",
       "      <th>rms_perc_diff</th>\n",
       "      <th>emf_dtw_distance</th>\n",
       "      <th>damper.damping_coefficient</th>\n",
       "      <th>coupling_model.coupling_constant</th>\n",
       "      <th>mechanical_spring.damping_coefficient</th>\n",
       "      <th>coil_resistance</th>\n",
       "      <th>load_model.R</th>\n",
       "      <th>...</th>\n",
       "      <th>y_diff_dtw_distance_norm</th>\n",
       "      <th>emf_dtw_distance_norm</th>\n",
       "      <th>rms_perc_diff_abs_norm</th>\n",
       "      <th>balanced</th>\n",
       "      <th>dtw_balanced</th>\n",
       "      <th>elec_balanced</th>\n",
       "      <th>relative_scale_weights</th>\n",
       "      <th>relative_deviation</th>\n",
       "      <th>normalized_sum</th>\n",
       "      <th>product</th>\n",
       "    </tr>\n",
       "  </thead>\n",
       "  <tbody>\n",
       "    <tr>\n",
       "      <th>0</th>\n",
       "      <td>0.0</td>\n",
       "      <td>512</td>\n",
       "      <td>12.484688</td>\n",
       "      <td>41.079664</td>\n",
       "      <td>83.644779</td>\n",
       "      <td>0.043333</td>\n",
       "      <td>2.222222</td>\n",
       "      <td>1.111111</td>\n",
       "      <td>12.5</td>\n",
       "      <td>30</td>\n",
       "      <td>...</td>\n",
       "      <td>0.005992</td>\n",
       "      <td>0.090897</td>\n",
       "      <td>0.000936</td>\n",
       "      <td>0.097824</td>\n",
       "      <td>0.096889</td>\n",
       "      <td>0.091832</td>\n",
       "      <td>50909.117670</td>\n",
       "      <td>2.434057</td>\n",
       "      <td>0.069177</td>\n",
       "      <td>42898.629449</td>\n",
       "    </tr>\n",
       "    <tr>\n",
       "      <th>1</th>\n",
       "      <td>1.0</td>\n",
       "      <td>513</td>\n",
       "      <td>13.500445</td>\n",
       "      <td>34.089880</td>\n",
       "      <td>91.988962</td>\n",
       "      <td>0.043333</td>\n",
       "      <td>3.333333</td>\n",
       "      <td>1.111111</td>\n",
       "      <td>12.5</td>\n",
       "      <td>30</td>\n",
       "      <td>...</td>\n",
       "      <td>0.006480</td>\n",
       "      <td>0.099964</td>\n",
       "      <td>0.000776</td>\n",
       "      <td>0.107220</td>\n",
       "      <td>0.106444</td>\n",
       "      <td>0.100741</td>\n",
       "      <td>42248.827285</td>\n",
       "      <td>2.482290</td>\n",
       "      <td>0.080224</td>\n",
       "      <td>42335.946208</td>\n",
       "    </tr>\n",
       "    <tr>\n",
       "      <th>2</th>\n",
       "      <td>2.0</td>\n",
       "      <td>514</td>\n",
       "      <td>14.557976</td>\n",
       "      <td>47.084719</td>\n",
       "      <td>90.270891</td>\n",
       "      <td>0.043333</td>\n",
       "      <td>4.444444</td>\n",
       "      <td>1.111111</td>\n",
       "      <td>12.5</td>\n",
       "      <td>30</td>\n",
       "      <td>...</td>\n",
       "      <td>0.006987</td>\n",
       "      <td>0.098097</td>\n",
       "      <td>0.001072</td>\n",
       "      <td>0.106157</td>\n",
       "      <td>0.105084</td>\n",
       "      <td>0.099170</td>\n",
       "      <td>58350.965598</td>\n",
       "      <td>2.489417</td>\n",
       "      <td>0.078811</td>\n",
       "      <td>61876.924607</td>\n",
       "    </tr>\n",
       "    <tr>\n",
       "      <th>3</th>\n",
       "      <td>3.0</td>\n",
       "      <td>515</td>\n",
       "      <td>15.565144</td>\n",
       "      <td>50.229976</td>\n",
       "      <td>87.382592</td>\n",
       "      <td>0.043333</td>\n",
       "      <td>5.555556</td>\n",
       "      <td>1.111111</td>\n",
       "      <td>12.5</td>\n",
       "      <td>30</td>\n",
       "      <td>...</td>\n",
       "      <td>0.007471</td>\n",
       "      <td>0.094958</td>\n",
       "      <td>0.001144</td>\n",
       "      <td>0.103573</td>\n",
       "      <td>0.102429</td>\n",
       "      <td>0.096102</td>\n",
       "      <td>62248.529989</td>\n",
       "      <td>2.489327</td>\n",
       "      <td>0.075655</td>\n",
       "      <td>68318.925539</td>\n",
       "    </tr>\n",
       "    <tr>\n",
       "      <th>4</th>\n",
       "      <td>4.0</td>\n",
       "      <td>516</td>\n",
       "      <td>17.920371</td>\n",
       "      <td>53.156539</td>\n",
       "      <td>97.112525</td>\n",
       "      <td>0.043333</td>\n",
       "      <td>6.666667</td>\n",
       "      <td>1.111111</td>\n",
       "      <td>12.5</td>\n",
       "      <td>30</td>\n",
       "      <td>...</td>\n",
       "      <td>0.008601</td>\n",
       "      <td>0.105532</td>\n",
       "      <td>0.001211</td>\n",
       "      <td>0.115344</td>\n",
       "      <td>0.114133</td>\n",
       "      <td>0.106743</td>\n",
       "      <td>65876.063826</td>\n",
       "      <td>2.545507</td>\n",
       "      <td>0.089496</td>\n",
       "      <td>92507.925508</td>\n",
       "    </tr>\n",
       "  </tbody>\n",
       "</table>\n",
       "<p>5 rows × 23 columns</p>\n",
       "</div>"
      ],
      "text/plain": [
       "   grid_cell_id  model_id  y_diff_dtw_distance  rms_perc_diff  \\\n",
       "0           0.0       512            12.484688      41.079664   \n",
       "1           1.0       513            13.500445      34.089880   \n",
       "2           2.0       514            14.557976      47.084719   \n",
       "3           3.0       515            15.565144      50.229976   \n",
       "4           4.0       516            17.920371      53.156539   \n",
       "\n",
       "   emf_dtw_distance  damper.damping_coefficient  \\\n",
       "0         83.644779                    0.043333   \n",
       "1         91.988962                    0.043333   \n",
       "2         90.270891                    0.043333   \n",
       "3         87.382592                    0.043333   \n",
       "4         97.112525                    0.043333   \n",
       "\n",
       "   coupling_model.coupling_constant  mechanical_spring.damping_coefficient  \\\n",
       "0                          2.222222                               1.111111   \n",
       "1                          3.333333                               1.111111   \n",
       "2                          4.444444                               1.111111   \n",
       "3                          5.555556                               1.111111   \n",
       "4                          6.666667                               1.111111   \n",
       "\n",
       "   coil_resistance  load_model.R  ...  y_diff_dtw_distance_norm  \\\n",
       "0             12.5            30  ...                  0.005992   \n",
       "1             12.5            30  ...                  0.006480   \n",
       "2             12.5            30  ...                  0.006987   \n",
       "3             12.5            30  ...                  0.007471   \n",
       "4             12.5            30  ...                  0.008601   \n",
       "\n",
       "  emf_dtw_distance_norm  rms_perc_diff_abs_norm  balanced  dtw_balanced  \\\n",
       "0              0.090897                0.000936  0.097824      0.096889   \n",
       "1              0.099964                0.000776  0.107220      0.106444   \n",
       "2              0.098097                0.001072  0.106157      0.105084   \n",
       "3              0.094958                0.001144  0.103573      0.102429   \n",
       "4              0.105532                0.001211  0.115344      0.114133   \n",
       "\n",
       "   elec_balanced  relative_scale_weights  relative_deviation  normalized_sum  \\\n",
       "0       0.091832            50909.117670            2.434057        0.069177   \n",
       "1       0.100741            42248.827285            2.482290        0.080224   \n",
       "2       0.099170            58350.965598            2.489417        0.078811   \n",
       "3       0.096102            62248.529989            2.489327        0.075655   \n",
       "4       0.106743            65876.063826            2.545507        0.089496   \n",
       "\n",
       "        product  \n",
       "0  42898.629449  \n",
       "1  42335.946208  \n",
       "2  61876.924607  \n",
       "3  68318.925539  \n",
       "4  92507.925508  \n",
       "\n",
       "[5 rows x 23 columns]"
      ]
     },
     "execution_count": 52,
     "metadata": {},
     "output_type": "execute_result"
    }
   ],
   "source": [
    "df2_filtered.head()"
   ]
  },
  {
   "cell_type": "code",
   "execution_count": 54,
   "metadata": {},
   "outputs": [
    {
     "data": {
      "text/plain": [
       "{'$\\\\texttt{dtw\\\\_mech}$': 301,\n",
       " '$\\\\texttt{dtw\\\\_elec}$': 661,\n",
       " '$\\\\texttt{rms\\\\_perc\\\\_abs}$': 870,\n",
       " '$\\\\texttt{balanced}$': 661,\n",
       " '$\\\\texttt{dtw\\\\_both}$': 661,\n",
       " '$\\\\texttt{rms\\\\_dtw\\\\_elec}$': 661,\n",
       " '$\\\\texttt{scale\\\\_weights}$': 870,\n",
       " '$\\\\texttt{relative\\\\_dev}$': 681,\n",
       " '$\\\\texttt{norm\\\\_sum}$': 661,\n",
       " '$\\\\texttt{product}$': 681}"
      ]
     },
     "execution_count": 54,
     "metadata": {},
     "output_type": "execute_result"
    }
   ],
   "source": [
    "best_param_sets = {\n",
    "    r'$\\texttt{dtw\\_mech}$': best_model_ids['y_diff_dtw_distance'],\n",
    "    r'$\\texttt{dtw\\_elec}$': best_model_ids['emf_dtw_distance'],\n",
    "    r'$\\texttt{rms\\_perc\\_abs}$': best_model_ids['rms_perc_diff_abs'],\n",
    "    r'$\\texttt{balanced}$': best_model_ids['balanced'],\n",
    "    r'$\\texttt{dtw\\_both}$': best_model_ids['dtw_balanced'],\n",
    "    r'$\\texttt{rms\\_dtw\\_elec}$': best_model_ids['elec_balanced'],\n",
    "    r'$\\texttt{scale\\_weights}$': best_model_ids['relative_scale_weights'],\n",
    "    r'$\\texttt{relative\\_dev}$': best_model_ids['relative_deviation'],\n",
    "    r'$\\texttt{norm\\_sum}$': best_model_ids['normalized_sum'],\n",
    "    r'$\\texttt{product}$': best_model_ids['product'],\n",
    "}\n",
    "best_param_sets"
   ]
  },
  {
   "cell_type": "code",
   "execution_count": 55,
   "metadata": {},
   "outputs": [
    {
     "data": {
      "text/plain": [
       "{301: '$\\\\texttt{dtw\\\\_mech}$',\n",
       " 661: '$\\\\texttt{norm\\\\_sum}$',\n",
       " 870: '$\\\\texttt{scale\\\\_weights}$',\n",
       " 681: '$\\\\texttt{product}$'}"
      ]
     },
     "execution_count": 55,
     "metadata": {},
     "output_type": "execute_result"
    }
   ],
   "source": [
    "model_id_to_metric_name = {v: k for k, v in best_param_sets.items()}\n",
    "model_id_to_metric_name"
   ]
  },
  {
   "cell_type": "code",
   "execution_count": 56,
   "metadata": {},
   "outputs": [
    {
     "name": "stderr",
     "output_type": "stream",
     "text": [
      "/home/michael/miniconda3/envs/ds/lib/python3.7/site-packages/ipykernel_launcher.py:2: SettingWithCopyWarning: \n",
      "A value is trying to be set on a copy of a slice from a DataFrame.\n",
      "Try using .loc[row_indexer,col_indexer] = value instead\n",
      "\n",
      "See the caveats in the documentation: https://pandas.pydata.org/pandas-docs/stable/user_guide/indexing.html#returning-a-view-versus-a-copy\n",
      "  \n"
     ]
    },
    {
     "data": {
      "text/html": [
       "<div>\n",
       "<style scoped>\n",
       "    .dataframe tbody tr th:only-of-type {\n",
       "        vertical-align: middle;\n",
       "    }\n",
       "\n",
       "    .dataframe tbody tr th {\n",
       "        vertical-align: top;\n",
       "    }\n",
       "\n",
       "    .dataframe thead th {\n",
       "        text-align: right;\n",
       "    }\n",
       "</style>\n",
       "<table border=\"1\" class=\"dataframe\">\n",
       "  <thead>\n",
       "    <tr style=\"text-align: right;\">\n",
       "      <th></th>\n",
       "      <th>grid.cell.id</th>\n",
       "      <th>model.id</th>\n",
       "      <th>y.diff.dtw.distance</th>\n",
       "      <th>rms.perc.diff</th>\n",
       "      <th>emf.dtw.distance</th>\n",
       "      <th>damper.damping.coefficient</th>\n",
       "      <th>coupling.model.coupling.constant</th>\n",
       "      <th>mechanical.spring.damping.coefficient</th>\n",
       "      <th>coil.resistance</th>\n",
       "      <th>load.model.R</th>\n",
       "      <th>...</th>\n",
       "      <th>emf.dtw.distance.norm</th>\n",
       "      <th>rms.perc.diff.abs.norm</th>\n",
       "      <th>balanced</th>\n",
       "      <th>dtw.balanced</th>\n",
       "      <th>elec.balanced</th>\n",
       "      <th>relative.scale.weights</th>\n",
       "      <th>relative.deviation</th>\n",
       "      <th>normalized.sum</th>\n",
       "      <th>product</th>\n",
       "      <th>metric.name</th>\n",
       "    </tr>\n",
       "  </thead>\n",
       "  <tbody>\n",
       "    <tr>\n",
       "      <th>94</th>\n",
       "      <td>6.0</td>\n",
       "      <td>870</td>\n",
       "      <td>13.760081</td>\n",
       "      <td>15.018300</td>\n",
       "      <td>66.427083</td>\n",
       "      <td>0.063333</td>\n",
       "      <td>0.000000</td>\n",
       "      <td>7.777778</td>\n",
       "      <td>12.5</td>\n",
       "      <td>30</td>\n",
       "      <td>...</td>\n",
       "      <td>0.072186</td>\n",
       "      <td>0.000342</td>\n",
       "      <td>0.079132</td>\n",
       "      <td>0.078790</td>\n",
       "      <td>0.072528</td>\n",
       "      <td>18616.696999</td>\n",
       "      <td>2.357787</td>\n",
       "      <td>0.047756</td>\n",
       "      <td>13727.357287</td>\n",
       "      <td>$\\texttt{scale\\_weights}$</td>\n",
       "    </tr>\n",
       "    <tr>\n",
       "      <th>253</th>\n",
       "      <td>5.0</td>\n",
       "      <td>661</td>\n",
       "      <td>12.028803</td>\n",
       "      <td>31.065747</td>\n",
       "      <td>67.419869</td>\n",
       "      <td>0.050000</td>\n",
       "      <td>1.111111</td>\n",
       "      <td>6.666667</td>\n",
       "      <td>12.5</td>\n",
       "      <td>30</td>\n",
       "      <td>...</td>\n",
       "      <td>0.073265</td>\n",
       "      <td>0.000708</td>\n",
       "      <td>0.079746</td>\n",
       "      <td>0.079038</td>\n",
       "      <td>0.073973</td>\n",
       "      <td>38500.263358</td>\n",
       "      <td>2.338452</td>\n",
       "      <td>0.048495</td>\n",
       "      <td>25193.710080</td>\n",
       "      <td>$\\texttt{norm\\_sum}$</td>\n",
       "    </tr>\n",
       "    <tr>\n",
       "      <th>285</th>\n",
       "      <td>5.0</td>\n",
       "      <td>301</td>\n",
       "      <td>10.378102</td>\n",
       "      <td>55.568862</td>\n",
       "      <td>84.981692</td>\n",
       "      <td>0.030000</td>\n",
       "      <td>1.111111</td>\n",
       "      <td>0.000000</td>\n",
       "      <td>12.5</td>\n",
       "      <td>30</td>\n",
       "      <td>...</td>\n",
       "      <td>0.092349</td>\n",
       "      <td>0.001266</td>\n",
       "      <td>0.098596</td>\n",
       "      <td>0.097330</td>\n",
       "      <td>0.093615</td>\n",
       "      <td>68861.734476</td>\n",
       "      <td>2.399177</td>\n",
       "      <td>0.070188</td>\n",
       "      <td>49008.883728</td>\n",
       "      <td>$\\texttt{dtw\\_mech}$</td>\n",
       "    </tr>\n",
       "    <tr>\n",
       "      <th>465</th>\n",
       "      <td>1.0</td>\n",
       "      <td>681</td>\n",
       "      <td>12.028803</td>\n",
       "      <td>31.065747</td>\n",
       "      <td>67.419869</td>\n",
       "      <td>0.050000</td>\n",
       "      <td>1.111111</td>\n",
       "      <td>8.888889</td>\n",
       "      <td>12.5</td>\n",
       "      <td>30</td>\n",
       "      <td>...</td>\n",
       "      <td>0.073265</td>\n",
       "      <td>0.000708</td>\n",
       "      <td>0.079746</td>\n",
       "      <td>0.079038</td>\n",
       "      <td>0.073973</td>\n",
       "      <td>38500.263358</td>\n",
       "      <td>2.338452</td>\n",
       "      <td>0.048495</td>\n",
       "      <td>25193.710080</td>\n",
       "      <td>$\\texttt{product}$</td>\n",
       "    </tr>\n",
       "    <tr>\n",
       "      <th>2565</th>\n",
       "      <td>5.0</td>\n",
       "      <td>301</td>\n",
       "      <td>6.959003</td>\n",
       "      <td>29.146381</td>\n",
       "      <td>120.127833</td>\n",
       "      <td>0.030000</td>\n",
       "      <td>1.111111</td>\n",
       "      <td>0.000000</td>\n",
       "      <td>12.5</td>\n",
       "      <td>30</td>\n",
       "      <td>...</td>\n",
       "      <td>0.130543</td>\n",
       "      <td>0.000664</td>\n",
       "      <td>0.134546</td>\n",
       "      <td>0.133883</td>\n",
       "      <td>0.131206</td>\n",
       "      <td>36121.690949</td>\n",
       "      <td>2.386147</td>\n",
       "      <td>0.114721</td>\n",
       "      <td>24365.499444</td>\n",
       "      <td>$\\texttt{dtw\\_mech}$</td>\n",
       "    </tr>\n",
       "  </tbody>\n",
       "</table>\n",
       "<p>5 rows × 24 columns</p>\n",
       "</div>"
      ],
      "text/plain": [
       "      grid.cell.id  model.id  y.diff.dtw.distance  rms.perc.diff  \\\n",
       "94             6.0       870            13.760081      15.018300   \n",
       "253            5.0       661            12.028803      31.065747   \n",
       "285            5.0       301            10.378102      55.568862   \n",
       "465            1.0       681            12.028803      31.065747   \n",
       "2565           5.0       301             6.959003      29.146381   \n",
       "\n",
       "      emf.dtw.distance  damper.damping.coefficient  \\\n",
       "94           66.427083                    0.063333   \n",
       "253          67.419869                    0.050000   \n",
       "285          84.981692                    0.030000   \n",
       "465          67.419869                    0.050000   \n",
       "2565        120.127833                    0.030000   \n",
       "\n",
       "      coupling.model.coupling.constant  mechanical.spring.damping.coefficient  \\\n",
       "94                            0.000000                               7.777778   \n",
       "253                           1.111111                               6.666667   \n",
       "285                           1.111111                               0.000000   \n",
       "465                           1.111111                               8.888889   \n",
       "2565                          1.111111                               0.000000   \n",
       "\n",
       "      coil.resistance  load.model.R  ...  emf.dtw.distance.norm  \\\n",
       "94               12.5            30  ...               0.072186   \n",
       "253              12.5            30  ...               0.073265   \n",
       "285              12.5            30  ...               0.092349   \n",
       "465              12.5            30  ...               0.073265   \n",
       "2565             12.5            30  ...               0.130543   \n",
       "\n",
       "     rms.perc.diff.abs.norm  balanced  dtw.balanced  elec.balanced  \\\n",
       "94                 0.000342  0.079132      0.078790       0.072528   \n",
       "253                0.000708  0.079746      0.079038       0.073973   \n",
       "285                0.001266  0.098596      0.097330       0.093615   \n",
       "465                0.000708  0.079746      0.079038       0.073973   \n",
       "2565               0.000664  0.134546      0.133883       0.131206   \n",
       "\n",
       "      relative.scale.weights  relative.deviation  normalized.sum  \\\n",
       "94              18616.696999            2.357787        0.047756   \n",
       "253             38500.263358            2.338452        0.048495   \n",
       "285             68861.734476            2.399177        0.070188   \n",
       "465             38500.263358            2.338452        0.048495   \n",
       "2565            36121.690949            2.386147        0.114721   \n",
       "\n",
       "           product                metric.name  \n",
       "94    13727.357287  $\\texttt{scale\\_weights}$  \n",
       "253   25193.710080       $\\texttt{norm\\_sum}$  \n",
       "285   49008.883728       $\\texttt{dtw\\_mech}$  \n",
       "465   25193.710080         $\\texttt{product}$  \n",
       "2565  24365.499444       $\\texttt{dtw\\_mech}$  \n",
       "\n",
       "[5 rows x 24 columns]"
      ]
     },
     "execution_count": 56,
     "metadata": {},
     "output_type": "execute_result"
    }
   ],
   "source": [
    "df_filtered_scores = df2_filtered[df2_filtered.model_id.isin(best_param_sets.values())]\n",
    "df_filtered_scores['metric_name'] = df_filtered_scores['model_id'].apply(lambda x: model_id_to_metric_name[x])\n",
    "df_filtered_scores.head()\n",
    "\n",
    "df_filtered_scores.columns = [col.replace('_', '.') for col in df_filtered_scores.columns]  # Required to stop Latex from exploding\n",
    "df_filtered_scores.head()"
   ]
  },
  {
   "cell_type": "code",
   "execution_count": 57,
   "metadata": {},
   "outputs": [],
   "source": [
    "def make_ridge_plot(df, row, distribution_metric, x_axis_label, output_path):\n",
    "    sns.set(style=\"white\",\n",
    "            rc={\"axes.facecolor\": (0, 0, 0, 0),\n",
    "                'text.usetex': True,\n",
    "                'text.latex.preamble': r'\\usepackage{amsmath}',\n",
    "                'font.family': 'serif'},\n",
    "            font_scale=1.7)\n",
    "    \n",
    "    g = sns.FacetGrid(df, row=row, hue=row, aspect=15, height=0.8)\n",
    "    g.map(sns.kdeplot, distribution_metric, shade=True, clip_on=False, alpha=1, bw=1)\n",
    "    g.map(sns.kdeplot, distribution_metric, clip_on=False, color='w', lw=2, alpha=1, bw=1)\n",
    "    g.map(plt.axhline, y=0, lw=2, clip_on=False)\n",
    "    \n",
    "    def label(x, color, label):\n",
    "        ax = plt.gca()\n",
    "        #ax.text(0, .15, model_id_to_metric_name[int(label)], ha='left', va='center', transform=ax.transAxes, color=color)\n",
    "        ax.text(0, .15, label, ha='left', va='center', transform=ax.transAxes, color=color)\n",
    "        \n",
    "    g.map(label, row)\n",
    "    \n",
    "    g.set_titles(\"\")\n",
    "    g.set_axis_labels(distribution_metric)\n",
    "    g.set(yticks=[])\n",
    "    g.despine(bottom=True, left=True)\n",
    "    g.fig.subplots_adjust(hspace=-0.2)\n",
    "    g.set_axis_labels(x_axis_label) \n",
    "    g.savefig(output_path)"
   ]
  },
  {
   "cell_type": "code",
   "execution_count": 58,
   "metadata": {},
   "outputs": [
    {
     "name": "stderr",
     "output_type": "stream",
     "text": [
      "/home/michael/miniconda3/envs/ds/lib/python3.7/site-packages/seaborn/axisgrid.py:856: UserWarning: Tight layout not applied. tight_layout cannot make axes height small enough to accommodate all axes decorations\n",
      "  self.fig.tight_layout()\n",
      "/home/michael/miniconda3/envs/ds/lib/python3.7/site-packages/seaborn/axisgrid.py:856: UserWarning: Tight layout not applied. tight_layout cannot make axes height small enough to accommodate all axes decorations\n",
      "  self.fig.tight_layout()\n",
      "/home/michael/miniconda3/envs/ds/lib/python3.7/site-packages/seaborn/axisgrid.py:856: UserWarning: Tight layout not applied. tight_layout cannot make axes height small enough to accommodate all axes decorations\n",
      "  self.fig.tight_layout()\n",
      "/home/michael/miniconda3/envs/ds/lib/python3.7/site-packages/seaborn/axisgrid.py:856: UserWarning: Tight layout not applied. tight_layout cannot make axes height small enough to accommodate all axes decorations\n",
      "  self.fig.tight_layout()\n",
      "/home/michael/miniconda3/envs/ds/lib/python3.7/site-packages/seaborn/axisgrid.py:856: UserWarning: Tight layout not applied. tight_layout cannot make axes height small enough to accommodate all axes decorations\n",
      "  self.fig.tight_layout()\n",
      "/home/michael/miniconda3/envs/ds/lib/python3.7/site-packages/seaborn/axisgrid.py:856: UserWarning: Tight layout not applied. tight_layout cannot make axes height small enough to accommodate all axes decorations\n",
      "  self.fig.tight_layout()\n",
      "/home/michael/miniconda3/envs/ds/lib/python3.7/site-packages/seaborn/axisgrid.py:856: UserWarning: Tight layout not applied. tight_layout cannot make axes height small enough to accommodate all axes decorations\n",
      "  self.fig.tight_layout()\n",
      "/home/michael/miniconda3/envs/ds/lib/python3.7/site-packages/seaborn/axisgrid.py:856: UserWarning: Tight layout not applied. tight_layout cannot make axes height small enough to accommodate all axes decorations\n",
      "  self.fig.tight_layout()\n",
      "/home/michael/miniconda3/envs/ds/lib/python3.7/site-packages/seaborn/axisgrid.py:856: UserWarning: Tight layout not applied. tight_layout cannot make axes height small enough to accommodate all axes decorations\n",
      "  self.fig.tight_layout()\n",
      "/home/michael/miniconda3/envs/ds/lib/python3.7/site-packages/seaborn/axisgrid.py:856: UserWarning: Tight layout not applied. tight_layout cannot make axes height small enough to accommodate all axes decorations\n",
      "  self.fig.tight_layout()\n",
      "/home/michael/miniconda3/envs/ds/lib/python3.7/site-packages/seaborn/axisgrid.py:856: UserWarning: Tight layout not applied. tight_layout cannot make axes height small enough to accommodate all axes decorations\n",
      "  self.fig.tight_layout()\n",
      "/home/michael/miniconda3/envs/ds/lib/python3.7/site-packages/seaborn/axisgrid.py:856: UserWarning: Tight layout not applied. tight_layout cannot make axes height small enough to accommodate all axes decorations\n",
      "  self.fig.tight_layout()\n"
     ]
    },
    {
     "data": {
      "image/png": "[encoded data removed]",
      "text/plain": [
       "<Figure size 864x230.4 with 4 Axes>"
      ]
     },
     "metadata": {},
     "output_type": "display_data"
    },
    {
     "data": {
      "image/png": "[encoded data removed]",
      "text/plain": [
       "<Figure size 864x230.4 with 4 Axes>"
      ]
     },
     "metadata": {},
     "output_type": "display_data"
    },
    {
     "data": {
      "image/png": "[encoded data removed]",
      "text/plain": [
       "<Figure size 864x230.4 with 4 Axes>"
      ]
     },
     "metadata": {},
     "output_type": "display_data"
    }
   ],
   "source": [
    "path = '/home/michael/Nextcloud/PhD/LaTeX/Journal2/img/'\n",
    "make_ridge_plot(df_filtered_scores, 'model.id', 'y.diff.dtw.distance', r'$\\text{DTW}(y_{\\text{diff}},  \\hat{y}_{\\text{diff}}).$', '/home/michael/Nextcloud/PhD/LaTeX/Journal2/img/param_select_dtw_mech.pdf')\n",
    "make_ridge_plot(df_filtered_scores, 'model.id', 'emf.dtw.distance', r'$\\text{DTW}(V_{\\text{l}}, \\hat{V}_{\\text{l}})$', '/home/michael/Nextcloud/PhD/LaTeX/Journal2/img/param_select_dtw_elec.pdf')\n",
    "make_ridge_plot(df_filtered_scores, 'model.id', 'rms.perc.diff', r'$\\text{RMS\\%}(V_{\\text{l}}, \\hat{V}_{\\text{l}})$', '/home/michael/Nextcloud/PhD/LaTeX/Journal2/img/param_select_rms.pdf')"
   ]
  },
  {
   "cell_type": "code",
   "execution_count": 26,
   "metadata": {},
   "outputs": [
    {
     "data": {
      "text/plain": [
       "{'$\\\\texttt{dtw\\\\_mech}$': 301,\n",
       " '$\\\\texttt{dtw\\\\_elec}$': 661,\n",
       " '$\\\\texttt{rms\\\\_perc\\\\_abs}$': 870,\n",
       " '$\\\\texttt{balanced}$': 661,\n",
       " '$\\\\texttt{dtw\\\\_both}$': 661,\n",
       " '$\\\\texttt{rms\\\\_dtw\\\\_elec}$': 661}"
      ]
     },
     "execution_count": 26,
     "metadata": {},
     "output_type": "execute_result"
    }
   ],
   "source": [
    "best_param_sets"
   ]
  },
  {
   "cell_type": "code",
   "execution_count": 1,
   "metadata": {},
   "outputs": [
    {
     "data": {
      "text/html": [
       "<table style=\"border: 2px solid white;\">\n",
       "<tr>\n",
       "<td style=\"vertical-align: top; border: 0px solid white\">\n",
       "<h3 style=\"text-align: left;\">Client</h3>\n",
       "<ul style=\"text-align: left; list-style: none; margin: 0; padding: 0;\">\n",
       "  <li><b>Scheduler: </b>tcp://127.0.0.1:39719</li>\n",
       "  <li><b>Dashboard: </b><a href='http://127.0.0.1:8787/status' target='_blank'>http://127.0.0.1:8787/status</a></li>\n",
       "</ul>\n",
       "</td>\n",
       "<td style=\"vertical-align: top; border: 0px solid white\">\n",
       "<h3 style=\"text-align: left;\">Cluster</h3>\n",
       "<ul style=\"text-align: left; list-style:none; margin: 0; padding: 0;\">\n",
       "  <li><b>Workers: </b>4</li>\n",
       "  <li><b>Cores: </b>4</li>\n",
       "  <li><b>Memory: </b>16.66 GB</li>\n",
       "</ul>\n",
       "</td>\n",
       "</tr>\n",
       "</table>"
      ],
      "text/plain": [
       "<Client: 'tcp://127.0.0.1:39719' processes=4 threads=4, memory=16.66 GB>"
      ]
     },
     "execution_count": 1,
     "metadata": {},
     "output_type": "execute_result"
    }
   ],
   "source": [
    "import dask.dataframe as dd\n",
    "from dask.distributed import Client\n",
    "Client()"
   ]
  },
  {
   "cell_type": "code",
   "execution_count": 2,
   "metadata": {},
   "outputs": [],
   "source": [
    "# Ok, let's try load the groundtruth\n",
    "# Let's get some groundtruth in here\n",
    "from unified_model import evaluate\n",
    "from unified_model import metrics\n",
    "from unified_model.utils.utils import collect_samples\n",
    "from scipy.signal import savgol_filter\n",
    "\n",
    "from dataclasses import dataclass\n",
    "from typing import Any\n",
    "\n",
    "\n",
    "class GroundTruthFactory:\n",
    "    def __init__(self, samples_list, lvp_kwargs, adc_kwargs):\n",
    "        self.samples_list = samples_list\n",
    "        self.lvp_kwargs = lvp_kwargs\n",
    "        self.adc_kwargs = adc_kwargs\n",
    "        \n",
    "        @dataclass\n",
    "        class MechanicalGroundtruth:\n",
    "            y_diff: Any\n",
    "            time: Any\n",
    "        \n",
    "        @dataclass\n",
    "        class ElectricalGroundtruth:\n",
    "            emf: Any\n",
    "            time: Any\n",
    "        \n",
    "        @dataclass\n",
    "        class Groundtruth:\n",
    "            mech: MechanicalGroundtruth\n",
    "            elec: ElectricalGroundtruth\n",
    "\n",
    "        self.lvp = evaluate.LabeledVideoProcessor(**lvp_kwargs)\n",
    "        self.adc = evaluate.AdcProcessor(**adc_kwargs)\n",
    "        self.MechGroundtruth = MechanicalGroundtruth\n",
    "        self.ElecGroundtruth = ElectricalGroundtruth\n",
    "        self.Groundtruth = Groundtruth\n",
    "\n",
    "    def _make_mechanical_groundtruth(self, sample):\n",
    "        y_target, y_time_target = self.lvp.fit_transform(\n",
    "            sample.video_labels_df,\n",
    "            impute_missing_values=True\n",
    "        )\n",
    "        y_target = savgol_filter(y_target, 9, 3)\n",
    "\n",
    "        return self.MechGroundtruth(y_target,\n",
    "                                    y_time_target)\n",
    "\n",
    "    def _make_electrical_groundtruth(self, sample):\n",
    "        emf_target, emf_time_target = self.adc.fit_transform(sample.adc_df)\n",
    "        return self.ElecGroundtruth(emf_target,\n",
    "                                    emf_time_target)\n",
    "\n",
    "    def make(self):\n",
    "        groundtruths = []\n",
    "        for sample in self.samples_list:\n",
    "            mech_groundtruth = self._make_mechanical_groundtruth(sample)\n",
    "            elec_groundtruth = self._make_electrical_groundtruth(sample)\n",
    "\n",
    "            groundtruths.append(\n",
    "                self.Groundtruth(mech_groundtruth, elec_groundtruth)\n",
    "            )\n",
    "\n",
    "        return groundtruths\n",
    "\n",
    "# Prepare data\n",
    "base_groundtruth_path = './data/2019-05-23_D/'\n",
    "samples = {}\n",
    "samples['A'] = collect_samples(base_path=base_groundtruth_path,\n",
    "                               acc_pattern='A/*acc*.csv',\n",
    "                               adc_pattern='A/*adc*.csv',\n",
    "                               video_label_pattern='A/*labels*.csv')\n",
    "samples['B'] = collect_samples(base_path=base_groundtruth_path,\n",
    "                               acc_pattern='B/*acc*.csv',\n",
    "                               adc_pattern='B/*adc*.csv',\n",
    "                               video_label_pattern='B/*labels*.csv')\n",
    "samples['C'] = collect_samples(base_path=base_groundtruth_path,\n",
    "                               acc_pattern='C/*acc*.csv',\n",
    "                               adc_pattern='C/*adc*.csv',\n",
    "                               video_label_pattern='C/*labels*.csv')\n",
    "\n"
   ]
  },
  {
   "cell_type": "code",
   "execution_count": 3,
   "metadata": {},
   "outputs": [],
   "source": [
    "# Groundtruth\n",
    "\n",
    "groundtruth = {}\n",
    "for device in ['A', 'B', 'C']:\n",
    "    groundtruth_factory = GroundTruthFactory(samples_list=samples[device][:],\n",
    "                                             lvp_kwargs=dict(mm=10,\n",
    "                                                             seconds_per_frame=1/60,\n",
    "                                                             pixel_scale=0.154508),\n",
    "                                             adc_kwargs=dict(voltage_division_ratio=1 / 0.342)  # noqa\n",
    "    )\n",
    "    groundtruth[device] = groundtruth_factory.make()"
   ]
  },
  {
   "cell_type": "code",
   "execution_count": 4,
   "metadata": {},
   "outputs": [],
   "source": [
    "# Let's look at some examples from each"
   ]
  },
  {
   "cell_type": "code",
   "execution_count": 5,
   "metadata": {},
   "outputs": [],
   "source": [
    "import dask.dataframe as dd \n",
    "\n",
    "def get_curve(df_curves_path, model_id, input_excitation_number, device_id):\n",
    "    #df_curves = vaex.open(df_curves_path)[['model_id', 'input_excitation_number', 'device_id', 'time', 'emf', 'y_diff']]\n",
    "    df_curves = dd.read_parquet(df_curves_path,\n",
    "                                columns=['model_id', 'input_excitation', 'device_id', 'time', 'emf', 'y_diff'],\n",
    "                                filters=[('device_id', '==', device_id), ('input_excitation', '==', input_excitation_number)])\n",
    "    df_temp = df_curves[df_curves['model_id'] == model_id]\n",
    "    df_temp = df_temp[df_temp['input_excitation'] == input_excitation_number]\n",
    "    df_temp = df_temp[df_temp['device_id'] == device_id].compute()\n",
    "    return df_temp.sort_values(by='time')"
   ]
  },
  {
   "cell_type": "code",
   "execution_count": 6,
   "metadata": {},
   "outputs": [],
   "source": [
    "def compare_mech(df_curves_path, groundtruth, model_id, input_excitation_number, device_id):\n",
    "    x = get_curve(df_curves_path, model_id, input_excitation_number, device_id)\n",
    "    \n",
    "    \n",
    "    mech_eval = evaluate.MechanicalSystemEvaluator(\n",
    "        y_target = groundtruth[device_id][input_excitation_number].mech.y_diff,  # Referenced to zero\n",
    "        time_target = groundtruth[device_id][input_excitation_number].mech.time,\n",
    "        metrics = {'dtw_distance': metrics.dtw_euclid_distance}\n",
    "    )\n",
    "\n",
    "    mech_eval.fit(\n",
    "        y_predict = x['y_diff'].values,\n",
    "        time_predict = x['time'].values\n",
    "    )\n",
    "    print(mech_eval.score())\n",
    "    mech_eval.poof(figsize=(16,8))\n",
    "    del x"
   ]
  },
  {
   "cell_type": "code",
   "execution_count": 86,
   "metadata": {},
   "outputs": [],
   "source": [
    "def compare_elec(df_curves_path, groundtruth, model_id, input_excitation_number, device_id):\n",
    "    x = get_curve(df_curves_path, model_id, input_excitation_number, device_id)\n",
    "    \n",
    "    elec_eval = evaluate.ElectricalSystemEvaluator(\n",
    "        emf_target=groundtruth[device_id][input_excitation_number].elec.emf,  # Referenced to zero\n",
    "        time_target=groundtruth[device_id][input_excitation_number].elec.time,\n",
    "        metrics = {'dtw_distance': metrics.dtw_euclid_distance,\n",
    "                  'rms_perc_diff': metrics.root_mean_square_percentage_diff},\n",
    "        clip_threshold=1e-4\n",
    "    )\n",
    "    \n",
    "    elec_eval.fit(\n",
    "        emf_predict=x['emf'].values,\n",
    "        time_predict=x['time'].values\n",
    "    )\n",
    "    print(elec_eval.score())\n",
    "    print(max(elec_eval.emf_target))\n",
    "    elec_eval.poof(figsize=(16, 8))\n",
    "    del x"
   ]
  },
  {
   "cell_type": "code",
   "execution_count": 87,
   "metadata": {},
   "outputs": [
    {
     "ename": "NameError",
     "evalue": "name 'df2_filtered' is not defined",
     "output_type": "error",
     "traceback": [
      "\u001b[0;31m---------------------------------------------------------------------------\u001b[0m",
      "\u001b[0;31mNameError\u001b[0m                                 Traceback (most recent call last)",
      "\u001b[0;32m<ipython-input-87-df9af4e01d3c>\u001b[0m in \u001b[0;36m<module>\u001b[0;34m\u001b[0m\n\u001b[0;32m----> 1\u001b[0;31m \u001b[0mdf2_filtered\u001b[0m\u001b[0;34m.\u001b[0m\u001b[0mquery\u001b[0m\u001b[0;34m(\u001b[0m\u001b[0;34m'device_id == \"B\" and input_excitation == 0 and model_id==661'\u001b[0m\u001b[0;34m)\u001b[0m\u001b[0;34m\u001b[0m\u001b[0;34m\u001b[0m\u001b[0m\n\u001b[0m",
      "\u001b[0;31mNameError\u001b[0m: name 'df2_filtered' is not defined"
     ]
    }
   ],
   "source": [
    "df2_filtered.query('device_id == \"B\" and input_excitation == 0 and model_id==661')"
   ]
  },
  {
   "cell_type": "code",
   "execution_count": 88,
   "metadata": {},
   "outputs": [],
   "source": [
    "from scipy import signal"
   ]
  },
  {
   "cell_type": "code",
   "execution_count": 89,
   "metadata": {},
   "outputs": [
    {
     "data": {
      "text/plain": [
       "array([ 1,  4, 10, 18, 25, 28, 25, 18, 10,  4,  1])"
      ]
     },
     "execution_count": 89,
     "metadata": {},
     "output_type": "execute_result"
    }
   ],
   "source": [
    "import numpy as np\n",
    "\n",
    "x = np.array([1,2,3,4,3,2,1])\n",
    "y = np.array([1,2,3,2,1])\n",
    "\n",
    "signal.correlate(x, y, mode='full')"
   ]
  },
  {
   "cell_type": "code",
   "execution_count": 109,
   "metadata": {},
   "outputs": [
    {
     "name": "stdout",
     "output_type": "stream",
     "text": [
      "{'dtw_distance': 12.042898996206892}\n"
     ]
    },
    {
     "data": {
      "image/png": "[encoded data removed]",
      "text/plain": [
       "<Figure size 1152x576 with 1 Axes>"
      ]
     },
     "metadata": {
      "needs_background": "light"
     },
     "output_type": "display_data"
    },
    {
     "name": "stdout",
     "output_type": "stream",
     "text": [
      "{'dtw_distance': 75.41608305706, 'rms_perc_diff': 28.041504489471926}\n",
      "0.7945411860113379\n"
     ]
    },
    {
     "data": {
      "image/png": "[encoded data removed]",
      "text/plain": [
       "<Figure size 1152x576 with 1 Axes>"
      ]
     },
     "metadata": {
      "needs_background": "light"
     },
     "output_type": "display_data"
    }
   ],
   "source": [
    "input_ = 0\n",
    "device = 'A'\n",
    "chosen_model_id = 661\n",
    "\n",
    "compare_mech('joined.parquet', groundtruth, chosen_model_id, input_, device)\n",
    "compare_elec('joined.parquet', groundtruth, chosen_model_id, input_, device)"
   ]
  },
  {
   "cell_type": "code",
   "execution_count": 12,
   "metadata": {},
   "outputs": [],
   "source": [
    "df_sample = get_curve('joined.parquet', 661, 0, 'A')"
   ]
  },
  {
   "cell_type": "code",
   "execution_count": 94,
   "metadata": {},
   "outputs": [
    {
     "data": {
      "text/plain": [
       "GroundTruthFactory.__init__.<locals>.ElectricalGroundtruth(emf=array([-0.09693569, -0.09692511, -0.09685137, ...,  0.00453655,\n",
       "        0.0069157 ,  0.00244608]), time=array([0.000000e+00, 6.250000e-04, 1.250000e-03, ..., 7.038125e+00,\n",
       "       7.038750e+00, 7.039375e+00]))"
      ]
     },
     "execution_count": 94,
     "metadata": {},
     "output_type": "execute_result"
    }
   ],
   "source": [
    "g = groundtruth['A'][0]\n",
    "g.elec"
   ]
  },
  {
   "cell_type": "code",
   "execution_count": 95,
   "metadata": {},
   "outputs": [],
   "source": [
    "pred_time = df_sample['time'].values\n",
    "pred_emf = df_sample['emf'].values\n",
    "\n",
    "truth_time = g.elec.time\n",
    "truth_emf = g.elec.emf"
   ]
  },
  {
   "cell_type": "code",
   "execution_count": 96,
   "metadata": {},
   "outputs": [],
   "source": [
    "import matplotlib.pyplot as plt\n",
    "\n",
    "def plot_comparison(pred_time, pred_emf, truth_time, truth_emf):\n",
    "    plt.figure(figsize=(16, 8))\n",
    "    plt.plot(pred_time, pred_emf, 'r')\n",
    "    plt.plot(truth_time, truth_emf, 'k', alpha=0.5)"
   ]
  },
  {
   "cell_type": "code",
   "execution_count": 97,
   "metadata": {},
   "outputs": [],
   "source": [
    "# Start experiment\n",
    "from scipy import signal\n",
    "\n",
    "# sampling periods\n",
    "sampling_period_pred_time = np.mean(np.gradient(pred_time))\n",
    "sampling_period_truth_time = np.mean(np.gradient(truth_time))\n",
    "\n",
    "# Figure out up/down sampling ratio\n",
    "ratio = sampling_period_pred_time/sampling_period_truth_time\n",
    "ratio = np.round(ratio, 3)\n",
    "up = ratio*1e3\n",
    "down = 1e3\n",
    "\n",
    "# We need to do a resampling period first\n",
    "pred_emf_scaled = signal.resample_poly(pred_emf, up, down)"
   ]
  },
  {
   "cell_type": "code",
   "execution_count": 98,
   "metadata": {},
   "outputs": [
    {
     "name": "stdout",
     "output_type": "stream",
     "text": [
      "4.798\n"
     ]
    }
   ],
   "source": [
    "print(ratio)"
   ]
  },
  {
   "cell_type": "code",
   "execution_count": 99,
   "metadata": {},
   "outputs": [
    {
     "data": {
      "text/plain": [
       "array([0.00000000e+00, 6.25005252e-04, 1.25001050e-03, ...,\n",
       "       7.99631719e+00, 7.99694220e+00, 7.99756720e+00])"
      ]
     },
     "execution_count": 99,
     "metadata": {},
     "output_type": "execute_result"
    }
   ],
   "source": [
    "pred_time_scaled = np.arange(0., max(pred_time), sampling_period_pred_time/ratio)\n",
    "pred_time_scaled"
   ]
  },
  {
   "cell_type": "code",
   "execution_count": 100,
   "metadata": {},
   "outputs": [
    {
     "name": "stdout",
     "output_type": "stream",
     "text": [
      "12797\n",
      "12802\n"
     ]
    },
    {
     "data": {
      "text/plain": [
       "[<matplotlib.lines.Line2D at 0x7fe03af10350>]"
      ]
     },
     "execution_count": 100,
     "metadata": {},
     "output_type": "execute_result"
    },
    {
     "data": {
      "image/png": "[encoded data removed]",
      "text/plain": [
       "<Figure size 1152x576 with 1 Axes>"
      ]
     },
     "metadata": {
      "needs_background": "light"
     },
     "output_type": "display_data"
    }
   ],
   "source": [
    "print(len(pred_time_scaled))\n",
    "print(len(pred_emf_scaled))\n",
    "\n",
    "# Just make sure any odd samples get clipped\n",
    "pred_emf_scaled = pred_emf_scaled[:len(pred_time_scaled)]\n",
    "pred_time_scaled = pred_time_scaled[:len(pred_emf_scaled)]\n",
    "\n",
    "# Plot\n",
    "plt.figure(figsize=(16, 8))\n",
    "plt.plot(pred_time_scaled, pred_emf_scaled)\n",
    "plt.plot(pred_time, pred_emf)"
   ]
  },
  {
   "cell_type": "code",
   "execution_count": 101,
   "metadata": {},
   "outputs": [],
   "source": [
    "# Now that we've resampled, we can do correlation\n",
    "corr_12 = signal.correlate(pred_emf_scaled, truth_emf)\n",
    "corr_21 = signal.correlate(truth_emf, pred_emf_scaled)"
   ]
  },
  {
   "cell_type": "code",
   "execution_count": 102,
   "metadata": {},
   "outputs": [
    {
     "data": {
      "text/plain": [
       "[<matplotlib.lines.Line2D at 0x7fe03adcc250>]"
      ]
     },
     "execution_count": 102,
     "metadata": {},
     "output_type": "execute_result"
    },
    {
     "data": {
      "image/png": "[encoded data removed]",
      "text/plain": [
       "<Figure size 432x288 with 1 Axes>"
      ]
     },
     "metadata": {
      "needs_background": "light"
     },
     "output_type": "display_data"
    }
   ],
   "source": [
    "plt.plot(corr_12/max(corr_12))"
   ]
  },
  {
   "cell_type": "code",
   "execution_count": 118,
   "metadata": {},
   "outputs": [
    {
     "data": {
      "text/plain": [
       "[<matplotlib.lines.Line2D at 0x7fe03aa760d0>]"
      ]
     },
     "execution_count": 118,
     "metadata": {},
     "output_type": "execute_result"
    },
    {
     "data": {
      "image/png": "[encoded data removed]",
      "text/plain": [
       "<Figure size 1440x720 with 1 Axes>"
      ]
     },
     "metadata": {
      "needs_background": "light"
     },
     "output_type": "display_data"
    }
   ],
   "source": [
    "plt.figure(figsize=(20, 10))\n",
    "plt.plot(corr_21/max(corr_21), 'o')"
   ]
  },
  {
   "cell_type": "code",
   "execution_count": 117,
   "metadata": {},
   "outputs": [
    {
     "data": {
      "text/plain": [
       "9844"
      ]
     },
     "execution_count": 117,
     "metadata": {},
     "output_type": "execute_result"
    }
   ],
   "source": [
    "import heapq\n",
    "\n",
    "first_pos = np.argmax(corr_12)\n",
    "second_pos = np.argmax(corr_21)\n",
    "\n",
    "corr_12[first_pos] = 0\n",
    "np.argmax(corr_12)\n"
   ]
  },
  {
   "cell_type": "code",
   "execution_count": 111,
   "metadata": {},
   "outputs": [
    {
     "data": {
      "text/plain": [
       "-4369"
      ]
     },
     "execution_count": 111,
     "metadata": {},
     "output_type": "execute_result"
    }
   ],
   "source": [
    "difference = first_pos - second_pos\n",
    "difference"
   ]
  },
  {
   "cell_type": "code",
   "execution_count": 106,
   "metadata": {},
   "outputs": [],
   "source": [
    "if difference < 0:\n",
    "    padded_pred = np.pad(pred_emf_scaled, (abs(difference), 0), 'constant')"
   ]
  },
  {
   "cell_type": "code",
   "execution_count": 119,
   "metadata": {},
   "outputs": [],
   "source": [
    "from unified_model.utils.utils import find_signal_limits"
   ]
  },
  {
   "cell_type": "code",
   "execution_count": 137,
   "metadata": {},
   "outputs": [],
   "source": [
    "# Another technique\n",
    "\n",
    "start_truth, end_truth = find_signal_limits(truth_emf, 0.075)\n",
    "start_pred, end_pred = find_signal_limits(pred_emf_scaled, 0.05)"
   ]
  },
  {
   "cell_type": "code",
   "execution_count": 138,
   "metadata": {},
   "outputs": [
    {
     "data": {
      "text/plain": [
       "[<matplotlib.lines.Line2D at 0x7fe0382ffd10>]"
      ]
     },
     "execution_count": 138,
     "metadata": {},
     "output_type": "execute_result"
    },
    {
     "data": {
      "image/png": "[encoded data removed]",
      "text/plain": [
       "<Figure size 1152x576 with 1 Axes>"
      ]
     },
     "metadata": {
      "needs_background": "light"
     },
     "output_type": "display_data"
    }
   ],
   "source": [
    "plt.figure(figsize=(16, 8))\n",
    "plt.plot(truth_emf[start_truth:end_truth])\n",
    "plt.plot(pred_emf_scaled[start_pred:end_pred])"
   ]
  },
  {
   "cell_type": "code",
   "execution_count": null,
   "metadata": {},
   "outputs": [],
   "source": []
  }
 ],
 "metadata": {
  "kernelspec": {
   "display_name": "Python 3",
   "language": "python",
   "name": "python3"
  },
  "language_info": {
   "codemirror_mode": {
    "name": "ipython",
    "version": 3
   },
   "file_extension": ".py",
   "mimetype": "text/x-python",
   "name": "python",
   "nbconvert_exporter": "python",
   "pygments_lexer": "ipython3",
   "version": "3.7.7"
  }
 },
 "nbformat": 4,
 "nbformat_minor": 4
}
