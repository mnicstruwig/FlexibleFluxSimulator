{
 "cells": [
  {
   "cell_type": "markdown",
   "metadata": {},
   "source": [
    "# Data preprocessing (split to new Notebook later)\n",
    "Here we throw away simulation data so we can focus on the *scores* only."
   ]
  },
  {
   "cell_type": "code",
   "execution_count": null,
   "metadata": {},
   "outputs": [],
   "source": []
  },
  {
   "cell_type": "code",
   "execution_count": 1,
   "metadata": {},
   "outputs": [
    {
     "data": {
      "text/html": [
       "<table style=\"border: 2px solid white;\">\n",
       "<tr>\n",
       "<td style=\"vertical-align: top; border: 0px solid white\">\n",
       "<h3 style=\"text-align: left;\">Client</h3>\n",
       "<ul style=\"text-align: left; list-style: none; margin: 0; padding: 0;\">\n",
       "  <li><b>Scheduler: </b>tcp://127.0.0.1:42443</li>\n",
       "  <li><b>Dashboard: </b><a href='http://127.0.0.1:8787/status' target='_blank'>http://127.0.0.1:8787/status</a></li>\n",
       "</ul>\n",
       "</td>\n",
       "<td style=\"vertical-align: top; border: 0px solid white\">\n",
       "<h3 style=\"text-align: left;\">Cluster</h3>\n",
       "<ul style=\"text-align: left; list-style:none; margin: 0; padding: 0;\">\n",
       "  <li><b>Workers: </b>8</li>\n",
       "  <li><b>Cores: </b>16</li>\n",
       "  <li><b>Memory: </b>15.54 GiB</li>\n",
       "</ul>\n",
       "</td>\n",
       "</tr>\n",
       "</table>"
      ],
      "text/plain": [
       "<Client: 'tcp://127.0.0.1:42443' processes=8 threads=16, memory=15.54 GiB>"
      ]
     },
     "execution_count": 1,
     "metadata": {},
     "output_type": "execute_result"
    }
   ],
   "source": [
    "import dask.dataframe as dd\n",
    "from dask.distributed import Client\n",
    "client = Client(n_workers=8)\n",
    "client"
   ]
  },
  {
   "cell_type": "code",
   "execution_count": 2,
   "metadata": {},
   "outputs": [],
   "source": [
    "base_path = '../data/parameter_search/2021-03-19/'\n",
    "\n",
    "no_curves_dfs = []\n",
    "for f in ['A', 'B', 'C']:\n",
    "    df = dd.read_parquet(base_path + f'{f}_augmented.parquet', engine='pyarrow')  # Just to get columns\n",
    "    df = dd.read_parquet(base_path + f'{f}_augmented.parquet', engine='pyarrow', columns=[col for col in df.columns if col not in ['time', 'y_diff', 'emf']]).drop_duplicates()\n",
    "    df['input_excitation'] = df['input_excitation'].astype('int')\n",
    "    df['device_id'] = f.split('.')[0]\n",
    "    no_curves_dfs.append(df)\n",
    "    \n",
    "dd.concat(no_curves_dfs).to_parquet('no_curves.parquet', engine='pyarrow', compression='snappy')"
   ]
  },
  {
   "cell_type": "code",
   "execution_count": 3,
   "metadata": {},
   "outputs": [],
   "source": [
    "client.close()"
   ]
  },
  {
   "cell_type": "markdown",
   "metadata": {},
   "source": [
    "---"
   ]
  },
  {
   "cell_type": "code",
   "execution_count": 4,
   "metadata": {},
   "outputs": [
    {
     "data": {
      "text/html": [
       "<table style=\"border: 2px solid white;\">\n",
       "<tr>\n",
       "<td style=\"vertical-align: top; border: 0px solid white\">\n",
       "<h3 style=\"text-align: left;\">Client</h3>\n",
       "<ul style=\"text-align: left; list-style: none; margin: 0; padding: 0;\">\n",
       "  <li><b>Scheduler: </b>tcp://127.0.0.1:37575</li>\n",
       "  <li><b>Dashboard: </b><a href='http://127.0.0.1:8787/status' target='_blank'>http://127.0.0.1:8787/status</a></li>\n",
       "</ul>\n",
       "</td>\n",
       "<td style=\"vertical-align: top; border: 0px solid white\">\n",
       "<h3 style=\"text-align: left;\">Cluster</h3>\n",
       "<ul style=\"text-align: left; list-style:none; margin: 0; padding: 0;\">\n",
       "  <li><b>Workers: </b>8</li>\n",
       "  <li><b>Cores: </b>24</li>\n",
       "  <li><b>Memory: </b>33.64 GB</li>\n",
       "</ul>\n",
       "</td>\n",
       "</tr>\n",
       "</table>"
      ],
      "text/plain": [
       "<Client: 'tcp://127.0.0.1:37575' processes=8 threads=24, memory=33.64 GB>"
      ]
     },
     "execution_count": 4,
     "metadata": {},
     "output_type": "execute_result"
    }
   ],
   "source": [
    "from dask.distributed import Client\n",
    "import dask.dataframe as dd\n",
    "\n",
    "client = Client(n_workers=8)\n",
    "client"
   ]
  },
  {
   "cell_type": "code",
   "execution_count": 5,
   "metadata": {},
   "outputs": [],
   "source": [
    "root_path = './'\n",
    "files_prefix = ['A', 'B', 'C']"
   ]
  },
  {
   "cell_type": "code",
   "execution_count": 6,
   "metadata": {},
   "outputs": [
    {
     "data": {
      "text/plain": [
       "3"
      ]
     },
     "execution_count": 6,
     "metadata": {},
     "output_type": "execute_result"
    }
   ],
   "source": [
    "dfs = []\n",
    "for f in files_prefix:\n",
    "    df = dd.read_parquet(root_path + f + '.parquet', engine='pyarrow')\n",
    "    df['device_id'] = f\n",
    "    df['input_excitation'] = df['input_excitation'].astype('int')\n",
    "    dfs.append(df)\n",
    "len(dfs)"
   ]
  },
  {
   "cell_type": "code",
   "execution_count": 7,
   "metadata": {},
   "outputs": [],
   "source": [
    "dd.concat(dfs).to_parquet(root_path + 'joined.parquet', engine='pyarrow', partition_on=['device_id', 'input_excitation'], compression='brotli')"
   ]
  },
  {
   "cell_type": "code",
   "execution_count": 8,
   "metadata": {},
   "outputs": [],
   "source": [
    "client.close()"
   ]
  },
  {
   "cell_type": "markdown",
   "metadata": {},
   "source": [
    "# Start here\n",
    "Once you've processed your data, of course."
   ]
  },
  {
   "cell_type": "code",
   "execution_count": 1,
   "metadata": {},
   "outputs": [],
   "source": [
    "%load_ext autoreload\n",
    "%autoreload 2"
   ]
  },
  {
   "cell_type": "code",
   "execution_count": 2,
   "metadata": {},
   "outputs": [],
   "source": [
    "import numpy as np\n",
    "import pandas as pd\n",
    "import seaborn as sns\n",
    "import matplotlib.pyplot as plt"
   ]
  },
  {
   "cell_type": "code",
   "execution_count": 49,
   "metadata": {},
   "outputs": [
    {
     "data": {
      "text/html": [
       "<div>\n",
       "<style scoped>\n",
       "    .dataframe tbody tr th:only-of-type {\n",
       "        vertical-align: middle;\n",
       "    }\n",
       "\n",
       "    .dataframe tbody tr th {\n",
       "        vertical-align: top;\n",
       "    }\n",
       "\n",
       "    .dataframe thead th {\n",
       "        text-align: right;\n",
       "    }\n",
       "</style>\n",
       "<table border=\"1\" class=\"dataframe\">\n",
       "  <thead>\n",
       "    <tr style=\"text-align: right;\">\n",
       "      <th></th>\n",
       "      <th>model_id</th>\n",
       "      <th>y_diff_dtw_distance</th>\n",
       "      <th>rms_perc_diff</th>\n",
       "      <th>emf_dtw_distance</th>\n",
       "      <th>damper.cdc</th>\n",
       "      <th>damper.mdc</th>\n",
       "      <th>coupling_model.coupling_constant</th>\n",
       "      <th>mechanical_spring.damping_coefficient</th>\n",
       "      <th>coil_config.coil_resistance</th>\n",
       "      <th>load_model.R</th>\n",
       "      <th>emf_dtw_euclid_norm</th>\n",
       "      <th>emf_dtw_dist</th>\n",
       "      <th>rms_perc_diff_detrend</th>\n",
       "      <th>y_diff_dtw_euclid_norm</th>\n",
       "      <th>input_excitation</th>\n",
       "      <th>device_id</th>\n",
       "    </tr>\n",
       "  </thead>\n",
       "  <tbody>\n",
       "    <tr>\n",
       "      <th>0</th>\n",
       "      <td>2760</td>\n",
       "      <td>18.700601</td>\n",
       "      <td>133.169589</td>\n",
       "      <td>157.964705</td>\n",
       "      <td>2.921429</td>\n",
       "      <td>0.008333</td>\n",
       "      <td>0.000000</td>\n",
       "      <td>2.5</td>\n",
       "      <td>12.5</td>\n",
       "      <td>30</td>\n",
       "      <td>0.046258</td>\n",
       "      <td>115.922960</td>\n",
       "      <td>125.703399</td>\n",
       "      <td>0.007427</td>\n",
       "      <td>0</td>\n",
       "      <td>A</td>\n",
       "    </tr>\n",
       "    <tr>\n",
       "      <th>1</th>\n",
       "      <td>2761</td>\n",
       "      <td>21.940940</td>\n",
       "      <td>139.772444</td>\n",
       "      <td>196.025229</td>\n",
       "      <td>2.921429</td>\n",
       "      <td>0.008333</td>\n",
       "      <td>0.833333</td>\n",
       "      <td>2.5</td>\n",
       "      <td>12.5</td>\n",
       "      <td>30</td>\n",
       "      <td>0.047646</td>\n",
       "      <td>119.400057</td>\n",
       "      <td>132.071632</td>\n",
       "      <td>0.007852</td>\n",
       "      <td>0</td>\n",
       "      <td>A</td>\n",
       "    </tr>\n",
       "    <tr>\n",
       "      <th>2</th>\n",
       "      <td>2762</td>\n",
       "      <td>21.296333</td>\n",
       "      <td>142.810498</td>\n",
       "      <td>172.046788</td>\n",
       "      <td>2.921429</td>\n",
       "      <td>0.008333</td>\n",
       "      <td>1.666667</td>\n",
       "      <td>2.5</td>\n",
       "      <td>12.5</td>\n",
       "      <td>30</td>\n",
       "      <td>0.048505</td>\n",
       "      <td>121.602356</td>\n",
       "      <td>134.795619</td>\n",
       "      <td>0.007731</td>\n",
       "      <td>0</td>\n",
       "      <td>A</td>\n",
       "    </tr>\n",
       "    <tr>\n",
       "      <th>3</th>\n",
       "      <td>2763</td>\n",
       "      <td>20.414750</td>\n",
       "      <td>147.851987</td>\n",
       "      <td>161.375682</td>\n",
       "      <td>2.921429</td>\n",
       "      <td>0.008333</td>\n",
       "      <td>2.500000</td>\n",
       "      <td>2.5</td>\n",
       "      <td>12.5</td>\n",
       "      <td>30</td>\n",
       "      <td>0.049124</td>\n",
       "      <td>127.034041</td>\n",
       "      <td>139.693449</td>\n",
       "      <td>0.008095</td>\n",
       "      <td>0</td>\n",
       "      <td>A</td>\n",
       "    </tr>\n",
       "    <tr>\n",
       "      <th>4</th>\n",
       "      <td>2764</td>\n",
       "      <td>20.245012</td>\n",
       "      <td>151.665201</td>\n",
       "      <td>169.053189</td>\n",
       "      <td>2.921429</td>\n",
       "      <td>0.008333</td>\n",
       "      <td>3.333333</td>\n",
       "      <td>2.5</td>\n",
       "      <td>12.5</td>\n",
       "      <td>30</td>\n",
       "      <td>0.047855</td>\n",
       "      <td>128.633259</td>\n",
       "      <td>143.109502</td>\n",
       "      <td>0.008040</td>\n",
       "      <td>0</td>\n",
       "      <td>A</td>\n",
       "    </tr>\n",
       "  </tbody>\n",
       "</table>\n",
       "</div>"
      ],
      "text/plain": [
       "   model_id  y_diff_dtw_distance  rms_perc_diff  emf_dtw_distance  damper.cdc  \\\n",
       "0      2760            18.700601     133.169589        157.964705    2.921429   \n",
       "1      2761            21.940940     139.772444        196.025229    2.921429   \n",
       "2      2762            21.296333     142.810498        172.046788    2.921429   \n",
       "3      2763            20.414750     147.851987        161.375682    2.921429   \n",
       "4      2764            20.245012     151.665201        169.053189    2.921429   \n",
       "\n",
       "   damper.mdc  coupling_model.coupling_constant  \\\n",
       "0    0.008333                          0.000000   \n",
       "1    0.008333                          0.833333   \n",
       "2    0.008333                          1.666667   \n",
       "3    0.008333                          2.500000   \n",
       "4    0.008333                          3.333333   \n",
       "\n",
       "   mechanical_spring.damping_coefficient  coil_config.coil_resistance  \\\n",
       "0                                    2.5                         12.5   \n",
       "1                                    2.5                         12.5   \n",
       "2                                    2.5                         12.5   \n",
       "3                                    2.5                         12.5   \n",
       "4                                    2.5                         12.5   \n",
       "\n",
       "   load_model.R  emf_dtw_euclid_norm  emf_dtw_dist  rms_perc_diff_detrend  \\\n",
       "0            30             0.046258    115.922960             125.703399   \n",
       "1            30             0.047646    119.400057             132.071632   \n",
       "2            30             0.048505    121.602356             134.795619   \n",
       "3            30             0.049124    127.034041             139.693449   \n",
       "4            30             0.047855    128.633259             143.109502   \n",
       "\n",
       "   y_diff_dtw_euclid_norm  input_excitation device_id  \n",
       "0                0.007427                 0         A  \n",
       "1                0.007852                 0         A  \n",
       "2                0.007731                 0         A  \n",
       "3                0.008095                 0         A  \n",
       "4                0.008040                 0         A  "
      ]
     },
     "execution_count": 49,
     "metadata": {},
     "output_type": "execute_result"
    }
   ],
   "source": [
    "df2 = pd.read_parquet('no_curves.parquet/').reset_index(drop=True)\n",
    "df2_filtered = df2\n",
    "df2.head()"
   ]
  },
  {
   "cell_type": "markdown",
   "metadata": {},
   "source": [
    "# Feature engineering\n",
    "Here we calculate all our objective functions that we use to estimate the performance of each set of model parameters.\n",
    "\n",
    "We also calculate norms, which have the form: $F_{\\text{norm}} = \\frac{F - \\text{min}(F)}{\\text{max}(F) - \\text{min}(F)}$, which theoretically compresses values between 0 and 1."
   ]
  },
  {
   "cell_type": "code",
   "execution_count": 50,
   "metadata": {},
   "outputs": [
    {
     "data": {
      "text/html": [
       "<div>\n",
       "<style scoped>\n",
       "    .dataframe tbody tr th:only-of-type {\n",
       "        vertical-align: middle;\n",
       "    }\n",
       "\n",
       "    .dataframe tbody tr th {\n",
       "        vertical-align: top;\n",
       "    }\n",
       "\n",
       "    .dataframe thead th {\n",
       "        text-align: right;\n",
       "    }\n",
       "</style>\n",
       "<table border=\"1\" class=\"dataframe\">\n",
       "  <thead>\n",
       "    <tr style=\"text-align: right;\">\n",
       "      <th></th>\n",
       "      <th>model_id</th>\n",
       "      <th>y_diff_dtw_distance</th>\n",
       "      <th>rms_perc_diff</th>\n",
       "      <th>emf_dtw_distance</th>\n",
       "      <th>damper.cdc</th>\n",
       "      <th>damper.mdc</th>\n",
       "      <th>coupling_model.coupling_constant</th>\n",
       "      <th>mechanical_spring.damping_coefficient</th>\n",
       "      <th>coil_config.coil_resistance</th>\n",
       "      <th>load_model.R</th>\n",
       "      <th>...</th>\n",
       "      <th>device_id</th>\n",
       "      <th>dtw_mech</th>\n",
       "      <th>dtw_elec</th>\n",
       "      <th>rms_perc_abs</th>\n",
       "      <th>dtw_mech_norm</th>\n",
       "      <th>dtw_elec_norm</th>\n",
       "      <th>rms_perc_abs_norm</th>\n",
       "      <th>dtw_both</th>\n",
       "      <th>rms_dtw_elec</th>\n",
       "      <th>balanced</th>\n",
       "    </tr>\n",
       "  </thead>\n",
       "  <tbody>\n",
       "    <tr>\n",
       "      <th>0</th>\n",
       "      <td>2760</td>\n",
       "      <td>18.700601</td>\n",
       "      <td>125.703399</td>\n",
       "      <td>157.964705</td>\n",
       "      <td>2.921429</td>\n",
       "      <td>0.008333</td>\n",
       "      <td>0.000000</td>\n",
       "      <td>2.5</td>\n",
       "      <td>12.5</td>\n",
       "      <td>30</td>\n",
       "      <td>...</td>\n",
       "      <td>A</td>\n",
       "      <td>0.007427</td>\n",
       "      <td>0.046258</td>\n",
       "      <td>125.703399</td>\n",
       "      <td>0.318732</td>\n",
       "      <td>0.014946</td>\n",
       "      <td>0.037588</td>\n",
       "      <td>0.333677</td>\n",
       "      <td>0.052534</td>\n",
       "      <td>0.371266</td>\n",
       "    </tr>\n",
       "    <tr>\n",
       "      <th>1</th>\n",
       "      <td>2761</td>\n",
       "      <td>21.940940</td>\n",
       "      <td>132.071632</td>\n",
       "      <td>196.025229</td>\n",
       "      <td>2.921429</td>\n",
       "      <td>0.008333</td>\n",
       "      <td>0.833333</td>\n",
       "      <td>2.5</td>\n",
       "      <td>12.5</td>\n",
       "      <td>30</td>\n",
       "      <td>...</td>\n",
       "      <td>A</td>\n",
       "      <td>0.007852</td>\n",
       "      <td>0.047646</td>\n",
       "      <td>132.071632</td>\n",
       "      <td>0.339531</td>\n",
       "      <td>0.015542</td>\n",
       "      <td>0.039493</td>\n",
       "      <td>0.355074</td>\n",
       "      <td>0.055035</td>\n",
       "      <td>0.394566</td>\n",
       "    </tr>\n",
       "    <tr>\n",
       "      <th>2</th>\n",
       "      <td>2762</td>\n",
       "      <td>21.296333</td>\n",
       "      <td>134.795619</td>\n",
       "      <td>172.046788</td>\n",
       "      <td>2.921429</td>\n",
       "      <td>0.008333</td>\n",
       "      <td>1.666667</td>\n",
       "      <td>2.5</td>\n",
       "      <td>12.5</td>\n",
       "      <td>30</td>\n",
       "      <td>...</td>\n",
       "      <td>A</td>\n",
       "      <td>0.007731</td>\n",
       "      <td>0.048505</td>\n",
       "      <td>134.795619</td>\n",
       "      <td>0.333632</td>\n",
       "      <td>0.015912</td>\n",
       "      <td>0.040307</td>\n",
       "      <td>0.349544</td>\n",
       "      <td>0.056219</td>\n",
       "      <td>0.389851</td>\n",
       "    </tr>\n",
       "    <tr>\n",
       "      <th>3</th>\n",
       "      <td>2763</td>\n",
       "      <td>20.414750</td>\n",
       "      <td>139.693449</td>\n",
       "      <td>161.375682</td>\n",
       "      <td>2.921429</td>\n",
       "      <td>0.008333</td>\n",
       "      <td>2.500000</td>\n",
       "      <td>2.5</td>\n",
       "      <td>12.5</td>\n",
       "      <td>30</td>\n",
       "      <td>...</td>\n",
       "      <td>A</td>\n",
       "      <td>0.008095</td>\n",
       "      <td>0.049124</td>\n",
       "      <td>139.693449</td>\n",
       "      <td>0.351447</td>\n",
       "      <td>0.016178</td>\n",
       "      <td>0.041772</td>\n",
       "      <td>0.367625</td>\n",
       "      <td>0.057950</td>\n",
       "      <td>0.409397</td>\n",
       "    </tr>\n",
       "    <tr>\n",
       "      <th>4</th>\n",
       "      <td>2764</td>\n",
       "      <td>20.245012</td>\n",
       "      <td>143.109502</td>\n",
       "      <td>169.053189</td>\n",
       "      <td>2.921429</td>\n",
       "      <td>0.008333</td>\n",
       "      <td>3.333333</td>\n",
       "      <td>2.5</td>\n",
       "      <td>12.5</td>\n",
       "      <td>30</td>\n",
       "      <td>...</td>\n",
       "      <td>A</td>\n",
       "      <td>0.008040</td>\n",
       "      <td>0.047855</td>\n",
       "      <td>143.109502</td>\n",
       "      <td>0.348759</td>\n",
       "      <td>0.015632</td>\n",
       "      <td>0.042793</td>\n",
       "      <td>0.364391</td>\n",
       "      <td>0.058426</td>\n",
       "      <td>0.407184</td>\n",
       "    </tr>\n",
       "  </tbody>\n",
       "</table>\n",
       "<p>5 rows × 25 columns</p>\n",
       "</div>"
      ],
      "text/plain": [
       "   model_id  y_diff_dtw_distance  rms_perc_diff  emf_dtw_distance  damper.cdc  \\\n",
       "0      2760            18.700601     125.703399        157.964705    2.921429   \n",
       "1      2761            21.940940     132.071632        196.025229    2.921429   \n",
       "2      2762            21.296333     134.795619        172.046788    2.921429   \n",
       "3      2763            20.414750     139.693449        161.375682    2.921429   \n",
       "4      2764            20.245012     143.109502        169.053189    2.921429   \n",
       "\n",
       "   damper.mdc  coupling_model.coupling_constant  \\\n",
       "0    0.008333                          0.000000   \n",
       "1    0.008333                          0.833333   \n",
       "2    0.008333                          1.666667   \n",
       "3    0.008333                          2.500000   \n",
       "4    0.008333                          3.333333   \n",
       "\n",
       "   mechanical_spring.damping_coefficient  coil_config.coil_resistance  \\\n",
       "0                                    2.5                         12.5   \n",
       "1                                    2.5                         12.5   \n",
       "2                                    2.5                         12.5   \n",
       "3                                    2.5                         12.5   \n",
       "4                                    2.5                         12.5   \n",
       "\n",
       "   load_model.R  ...  device_id  dtw_mech  dtw_elec  rms_perc_abs  \\\n",
       "0            30  ...          A  0.007427  0.046258    125.703399   \n",
       "1            30  ...          A  0.007852  0.047646    132.071632   \n",
       "2            30  ...          A  0.007731  0.048505    134.795619   \n",
       "3            30  ...          A  0.008095  0.049124    139.693449   \n",
       "4            30  ...          A  0.008040  0.047855    143.109502   \n",
       "\n",
       "   dtw_mech_norm dtw_elec_norm  rms_perc_abs_norm  dtw_both  rms_dtw_elec  \\\n",
       "0       0.318732      0.014946           0.037588  0.333677      0.052534   \n",
       "1       0.339531      0.015542           0.039493  0.355074      0.055035   \n",
       "2       0.333632      0.015912           0.040307  0.349544      0.056219   \n",
       "3       0.351447      0.016178           0.041772  0.367625      0.057950   \n",
       "4       0.348759      0.015632           0.042793  0.364391      0.058426   \n",
       "\n",
       "   balanced  \n",
       "0  0.371266  \n",
       "1  0.394566  \n",
       "2  0.389851  \n",
       "3  0.409397  \n",
       "4  0.407184  \n",
       "\n",
       "[5 rows x 25 columns]"
      ]
     },
     "execution_count": 50,
     "metadata": {},
     "output_type": "execute_result"
    }
   ],
   "source": [
    "\n",
    "# Do some shuffling of the columns\n",
    "df2_filtered['dtw_mech'] = df2_filtered['y_diff_dtw_euclid_norm']\n",
    "df2_filtered['dtw_elec'] = df2_filtered['emf_dtw_euclid_norm'] \n",
    "df2_filtered['rms_perc_diff'] = df2_filtered['rms_perc_diff_detrend']\n",
    "\n",
    "def calc_norm(series):\n",
    "    \"\"\"Calculate the norm of a metric.\"\"\"\n",
    "    return (series - series.min())/(series.max() - series.min())\n",
    "\n",
    "# Norm and objective function calculation\n",
    "df2_filtered['rms_perc_abs'] = np.abs(df2_filtered['rms_perc_diff'])\n",
    "df2_filtered['dtw_mech_norm'] = calc_norm(df2_filtered['dtw_mech'])\n",
    "df2_filtered['dtw_elec_norm'] = calc_norm(df2_filtered['dtw_elec'])\n",
    "df2_filtered['rms_perc_abs_norm'] = calc_norm(df2_filtered['rms_perc_abs'])\n",
    "\n",
    "df2_filtered['dtw_both'] = df2_filtered['dtw_mech_norm'] + df2_filtered['dtw_elec_norm']\n",
    "df2_filtered['rms_dtw_elec'] = df2_filtered['rms_perc_abs_norm'] + df2_filtered['dtw_elec_norm']\n",
    "df2_filtered['balanced'] = df2_filtered['rms_perc_abs_norm'] + df2_filtered['dtw_mech_norm'] + df2_filtered['dtw_elec_norm']\n",
    "\n",
    "df2_filtered = df2_filtered.reset_index(drop=True)\n",
    "df2_filtered.head()"
   ]
  },
  {
   "cell_type": "markdown",
   "metadata": {},
   "source": [
    "# Remove outliers\n",
    "Anything more than 3 standard deviations out we consider outliers, and remove from the dataset.\n",
    "\n",
    "We don't want to skew our results using severe outliers that can sometimes occur due to buggy simulations with particularly bad parameters."
   ]
  },
  {
   "cell_type": "code",
   "execution_count": 51,
   "metadata": {},
   "outputs": [],
   "source": [
    "def drop_outliers(criteria: str, df) -> pd.DataFrame:\n",
    "    percent_samples = 0.9745  # Outside of 2/3 standard deviations\n",
    "    cut_off = (1-percent_samples)/2\n",
    "    upper_bound = df[criteria].quantile(percent_samples)\n",
    "    lower_bound = df[criteria].quantile(1-(percent_samples + cut_off))\n",
    "\n",
    "    to_drop_lower = df.query(f'{criteria} < {lower_bound}')['model_id'].values\n",
    "    to_drop_upper = df.query(f'{criteria} > {upper_bound}')['model_id'].values\n",
    "\n",
    "    to_drop = np.concatenate([to_drop_lower, to_drop_upper])\n",
    "\n",
    "    return df[~df2_filtered['model_id'].isin(to_drop)]"
   ]
  },
  {
   "cell_type": "code",
   "execution_count": 52,
   "metadata": {},
   "outputs": [
    {
     "name": "stdout",
     "output_type": "stream",
     "text": [
      "157500\n"
     ]
    },
    {
     "data": {
      "text/plain": [
       "96705"
      ]
     },
     "execution_count": 52,
     "metadata": {},
     "output_type": "execute_result"
    }
   ],
   "source": [
    "df2_filtered = drop_outliers(criteria='dtw_both', df=df2_filtered)\n",
    "print(len(df2))\n",
    "len(df2_filtered)"
   ]
  },
  {
   "cell_type": "code",
   "execution_count": 54,
   "metadata": {},
   "outputs": [
    {
     "data": {
      "text/plain": [
       "<AxesSubplot:ylabel='Frequency'>"
      ]
     },
     "execution_count": 54,
     "metadata": {},
     "output_type": "execute_result"
    },
    {
     "data": {
      "image/png": "[encoded data removed]",
      "text/plain": [
       "<Figure size 432x288 with 1 Axes>"
      ]
     },
     "metadata": {
      "needs_background": "light"
     },
     "output_type": "display_data"
    }
   ],
   "source": [
    "df2_filtered['rms_perc_abs'].plot(kind='hist')"
   ]
  },
  {
   "cell_type": "markdown",
   "metadata": {},
   "source": [
    "## Additional outlier removal\n",
    "Certain input excitations cause all model parameters to simulate poorly. \n",
    "\n",
    "This is a bit of a luck of the draw, and has to do with how the base plate was held during experimentation. We remove these since they're \"bad\" tests that do not represent the actual behaviour in practice."
   ]
  },
  {
   "cell_type": "code",
   "execution_count": 55,
   "metadata": {},
   "outputs": [
    {
     "data": {
      "text/html": [
       "<style  type=\"text/css\" >\n",
       "#T_e456f_row0_col0,#T_e456f_row0_col1{\n",
       "            background-color:  #67000d;\n",
       "            color:  #f1f1f1;\n",
       "        }#T_e456f_row1_col0{\n",
       "            background-color:  #fcbca2;\n",
       "            color:  #000000;\n",
       "        }#T_e456f_row1_col1{\n",
       "            background-color:  #fcbba1;\n",
       "            color:  #000000;\n",
       "        }#T_e456f_row2_col0,#T_e456f_row2_col1{\n",
       "            background-color:  #fff5f0;\n",
       "            color:  #000000;\n",
       "        }#T_e456f_row3_col0{\n",
       "            background-color:  #fdcdb9;\n",
       "            color:  #000000;\n",
       "        }#T_e456f_row3_col1{\n",
       "            background-color:  #fedbcc;\n",
       "            color:  #000000;\n",
       "        }#T_e456f_row4_col0{\n",
       "            background-color:  #fff0e8;\n",
       "            color:  #000000;\n",
       "        }#T_e456f_row4_col1{\n",
       "            background-color:  #fff1ea;\n",
       "            color:  #000000;\n",
       "        }#T_e456f_row5_col0{\n",
       "            background-color:  #fee3d7;\n",
       "            color:  #000000;\n",
       "        }#T_e456f_row5_col1{\n",
       "            background-color:  #fee2d5;\n",
       "            color:  #000000;\n",
       "        }#T_e456f_row6_col0{\n",
       "            background-color:  #fee6da;\n",
       "            color:  #000000;\n",
       "        }#T_e456f_row6_col1{\n",
       "            background-color:  #ffece3;\n",
       "            color:  #000000;\n",
       "        }</style><table id=\"T_e456f_\" ><thead>    <tr>        <th class=\"blank level0\" ></th>        <th class=\"col_heading level0 col0\" >balanced</th>        <th class=\"col_heading level0 col1\" >dtw_both</th>    </tr>    <tr>        <th class=\"index_name level0\" >input_excitation</th>        <th class=\"blank\" ></th>        <th class=\"blank\" ></th>    </tr></thead><tbody>\n",
       "                <tr>\n",
       "                        <th id=\"T_e456f_level0_row0\" class=\"row_heading level0 row0\" >0</th>\n",
       "                        <td id=\"T_e456f_row0_col0\" class=\"data row0 col0\" >0.302617</td>\n",
       "                        <td id=\"T_e456f_row0_col1\" class=\"data row0 col1\" >0.276153</td>\n",
       "            </tr>\n",
       "            <tr>\n",
       "                        <th id=\"T_e456f_level0_row1\" class=\"row_heading level0 row1\" >1</th>\n",
       "                        <td id=\"T_e456f_row1_col0\" class=\"data row1 col0\" >0.199813</td>\n",
       "                        <td id=\"T_e456f_row1_col1\" class=\"data row1 col1\" >0.185064</td>\n",
       "            </tr>\n",
       "            <tr>\n",
       "                        <th id=\"T_e456f_level0_row2\" class=\"row_heading level0 row2\" >2</th>\n",
       "                        <td id=\"T_e456f_row2_col0\" class=\"data row2 col0\" >0.165602</td>\n",
       "                        <td id=\"T_e456f_row2_col1\" class=\"data row2 col1\" >0.154684</td>\n",
       "            </tr>\n",
       "            <tr>\n",
       "                        <th id=\"T_e456f_level0_row3\" class=\"row_heading level0 row3\" >3</th>\n",
       "                        <td id=\"T_e456f_row3_col0\" class=\"data row3 col0\" >0.191739</td>\n",
       "                        <td id=\"T_e456f_row3_col1\" class=\"data row3 col1\" >0.172101</td>\n",
       "            </tr>\n",
       "            <tr>\n",
       "                        <th id=\"T_e456f_level0_row4\" class=\"row_heading level0 row4\" >4</th>\n",
       "                        <td id=\"T_e456f_row4_col0\" class=\"data row4 col0\" >0.170237</td>\n",
       "                        <td id=\"T_e456f_row4_col1\" class=\"data row4 col1\" >0.157644</td>\n",
       "            </tr>\n",
       "            <tr>\n",
       "                        <th id=\"T_e456f_level0_row5\" class=\"row_heading level0 row5\" >5</th>\n",
       "                        <td id=\"T_e456f_row5_col0\" class=\"data row5 col0\" >0.180284</td>\n",
       "                        <td id=\"T_e456f_row5_col1\" class=\"data row5 col1\" >0.168476</td>\n",
       "            </tr>\n",
       "            <tr>\n",
       "                        <th id=\"T_e456f_level0_row6\" class=\"row_heading level0 row6\" >6</th>\n",
       "                        <td id=\"T_e456f_row6_col0\" class=\"data row6 col0\" >0.177984</td>\n",
       "                        <td id=\"T_e456f_row6_col1\" class=\"data row6 col1\" >0.161584</td>\n",
       "            </tr>\n",
       "    </tbody></table>"
      ],
      "text/plain": [
       "<pandas.io.formats.style.Styler at 0x7f544c715310>"
      ]
     },
     "execution_count": 55,
     "metadata": {},
     "output_type": "execute_result"
    }
   ],
   "source": [
    "which_filter = 'dtw_both'\n",
    "df2_filtered.query('device_id == \"A\"').groupby(['input_excitation']).agg({'balanced': 'mean', which_filter: 'mean'}).style.background_gradient(cmap='Reds')"
   ]
  },
  {
   "cell_type": "code",
   "execution_count": 56,
   "metadata": {},
   "outputs": [
    {
     "name": "stdout",
     "output_type": "stream",
     "text": [
      "[0]\n",
      "[2 6]\n",
      "[2 6]\n"
     ]
    }
   ],
   "source": [
    "def which_inputs_to_drop(df, device, number_to_drop):\n",
    "    return (\n",
    "        df\n",
    "        .query(f'device_id == \"{device}\"')\n",
    "        .groupby(['device_id', 'input_excitation'])\n",
    "        .agg({which_filter: 'mean'})\n",
    "        .sort_values(by=which_filter, ascending=False)\n",
    "        .reset_index()\n",
    "        .iloc[:number_to_drop, :]['input_excitation']\n",
    "        .values\n",
    "    )\n",
    "\n",
    "indexes_to_drop = []\n",
    "for device, num in zip(['A', 'B', 'C'], [1, 2, 2]):\n",
    "    to_drop = which_inputs_to_drop(df2_filtered, device, num)\n",
    "    print(to_drop)\n",
    "    x = df2_filtered[df2_filtered['input_excitation'].isin(to_drop)]\n",
    "    x = x[x['device_id'] == device]\n",
    "    indexes_to_drop.append(x.index)\n",
    "    \n",
    "for idx in indexes_to_drop:\n",
    "    df2_filtered = df2_filtered.drop(idx)"
   ]
  },
  {
   "cell_type": "code",
   "execution_count": 57,
   "metadata": {},
   "outputs": [
    {
     "data": {
      "text/plain": [
       "73680"
      ]
     },
     "execution_count": 57,
     "metadata": {},
     "output_type": "execute_result"
    }
   ],
   "source": [
    "len(df2_filtered)"
   ]
  },
  {
   "cell_type": "code",
   "execution_count": 58,
   "metadata": {},
   "outputs": [],
   "source": [
    "df2_filtered = df2_filtered.drop(df2_filtered.query('input_excitation == 4 and device_id == \"A\"').index)"
   ]
  },
  {
   "cell_type": "code",
   "execution_count": 59,
   "metadata": {},
   "outputs": [
    {
     "data": {
      "text/plain": [
       "69075"
      ]
     },
     "execution_count": 59,
     "metadata": {},
     "output_type": "execute_result"
    }
   ],
   "source": [
    "len(df2_filtered)"
   ]
  },
  {
   "cell_type": "markdown",
   "metadata": {},
   "source": [
    "# Get the best parameter set for each objective function"
   ]
  },
  {
   "cell_type": "code",
   "execution_count": 60,
   "metadata": {},
   "outputs": [
    {
     "data": {
      "text/html": [
       "<div>\n",
       "<style scoped>\n",
       "    .dataframe tbody tr th:only-of-type {\n",
       "        vertical-align: middle;\n",
       "    }\n",
       "\n",
       "    .dataframe tbody tr th {\n",
       "        vertical-align: top;\n",
       "    }\n",
       "\n",
       "    .dataframe thead th {\n",
       "        text-align: right;\n",
       "    }\n",
       "</style>\n",
       "<table border=\"1\" class=\"dataframe\">\n",
       "  <thead>\n",
       "    <tr style=\"text-align: right;\">\n",
       "      <th></th>\n",
       "      <th>dtw_mech</th>\n",
       "      <th>dtw_elec</th>\n",
       "      <th>dtw_both</th>\n",
       "      <th>rms_perc_abs</th>\n",
       "      <th>rms_dtw_elec</th>\n",
       "      <th>balanced</th>\n",
       "    </tr>\n",
       "    <tr>\n",
       "      <th>model_id</th>\n",
       "      <th></th>\n",
       "      <th></th>\n",
       "      <th></th>\n",
       "      <th></th>\n",
       "      <th></th>\n",
       "      <th></th>\n",
       "    </tr>\n",
       "  </thead>\n",
       "  <tbody>\n",
       "    <tr>\n",
       "      <th>122</th>\n",
       "      <td>0.009457</td>\n",
       "      <td>0.058574</td>\n",
       "      <td>0.438458</td>\n",
       "      <td>111.158631</td>\n",
       "      <td>0.053483</td>\n",
       "      <td>0.471697</td>\n",
       "    </tr>\n",
       "    <tr>\n",
       "      <th>130</th>\n",
       "      <td>0.008530</td>\n",
       "      <td>0.055728</td>\n",
       "      <td>0.391790</td>\n",
       "      <td>107.104318</td>\n",
       "      <td>0.051046</td>\n",
       "      <td>0.423817</td>\n",
       "    </tr>\n",
       "    <tr>\n",
       "      <th>140</th>\n",
       "      <td>0.008443</td>\n",
       "      <td>0.052567</td>\n",
       "      <td>0.386196</td>\n",
       "      <td>102.084705</td>\n",
       "      <td>0.048185</td>\n",
       "      <td>0.416722</td>\n",
       "    </tr>\n",
       "    <tr>\n",
       "      <th>171</th>\n",
       "      <td>0.008869</td>\n",
       "      <td>0.054329</td>\n",
       "      <td>0.407822</td>\n",
       "      <td>98.832841</td>\n",
       "      <td>0.047971</td>\n",
       "      <td>0.437375</td>\n",
       "    </tr>\n",
       "    <tr>\n",
       "      <th>192</th>\n",
       "      <td>0.009477</td>\n",
       "      <td>0.054204</td>\n",
       "      <td>0.437559</td>\n",
       "      <td>96.981564</td>\n",
       "      <td>0.047364</td>\n",
       "      <td>0.466559</td>\n",
       "    </tr>\n",
       "  </tbody>\n",
       "</table>\n",
       "</div>"
      ],
      "text/plain": [
       "          dtw_mech  dtw_elec  dtw_both  rms_perc_abs  rms_dtw_elec  balanced\n",
       "model_id                                                                    \n",
       "122       0.009457  0.058574  0.438458    111.158631      0.053483  0.471697\n",
       "130       0.008530  0.055728  0.391790    107.104318      0.051046  0.423817\n",
       "140       0.008443  0.052567  0.386196    102.084705      0.048185  0.416722\n",
       "171       0.008869  0.054329  0.407822     98.832841      0.047971  0.437375\n",
       "192       0.009477  0.054204  0.437559     96.981564      0.047364  0.466559"
      ]
     },
     "execution_count": 60,
     "metadata": {},
     "output_type": "execute_result"
    }
   ],
   "source": [
    "df_scores = df2_filtered.groupby(['model_id']).agg({\n",
    "    'dtw_mech': 'mean',\n",
    "    'dtw_elec': 'mean',\n",
    "    'dtw_both': 'mean',\n",
    "    'rms_perc_abs': 'mean',\n",
    "    'rms_dtw_elec': 'mean',\n",
    "    'balanced': 'mean'\n",
    "})\n",
    "df_scores.head()"
   ]
  },
  {
   "cell_type": "code",
   "execution_count": 61,
   "metadata": {},
   "outputs": [
    {
     "data": {
      "text/plain": [
       "{'dtw_mech': 5143,\n",
       " 'dtw_elec': 5255,\n",
       " 'dtw_both': 5675,\n",
       " 'rms_perc_abs': 6206,\n",
       " 'rms_dtw_elec': 6166,\n",
       " 'balanced': 5675}"
      ]
     },
     "execution_count": 61,
     "metadata": {},
     "output_type": "execute_result"
    }
   ],
   "source": [
    "# Get the best performing model ids for each objective function\n",
    "best_model_ids = {}\n",
    "for obj_func in df_scores.columns:\n",
    "    best_model_id = df_scores.sort_values(by=obj_func).index[0]\n",
    "    best_model_ids[obj_func] = best_model_id\n",
    "    \n",
    "best_model_ids"
   ]
  },
  {
   "cell_type": "code",
   "execution_count": 63,
   "metadata": {},
   "outputs": [
    {
     "data": {
      "text/html": [
       "<div>\n",
       "<style scoped>\n",
       "    .dataframe tbody tr th:only-of-type {\n",
       "        vertical-align: middle;\n",
       "    }\n",
       "\n",
       "    .dataframe tbody tr th {\n",
       "        vertical-align: top;\n",
       "    }\n",
       "\n",
       "    .dataframe thead th {\n",
       "        text-align: right;\n",
       "    }\n",
       "</style>\n",
       "<table border=\"1\" class=\"dataframe\">\n",
       "  <thead>\n",
       "    <tr style=\"text-align: right;\">\n",
       "      <th></th>\n",
       "      <th>model_id</th>\n",
       "      <th>y_diff_dtw_distance</th>\n",
       "      <th>rms_perc_diff</th>\n",
       "      <th>emf_dtw_distance</th>\n",
       "      <th>damper.cdc</th>\n",
       "      <th>damper.mdc</th>\n",
       "      <th>coupling_model.coupling_constant</th>\n",
       "      <th>mechanical_spring.damping_coefficient</th>\n",
       "      <th>coil_config.coil_resistance</th>\n",
       "      <th>load_model.R</th>\n",
       "      <th>...</th>\n",
       "      <th>device_id</th>\n",
       "      <th>dtw_mech</th>\n",
       "      <th>dtw_elec</th>\n",
       "      <th>rms_perc_abs</th>\n",
       "      <th>dtw_mech_norm</th>\n",
       "      <th>dtw_elec_norm</th>\n",
       "      <th>rms_perc_abs_norm</th>\n",
       "      <th>dtw_both</th>\n",
       "      <th>rms_dtw_elec</th>\n",
       "      <th>balanced</th>\n",
       "    </tr>\n",
       "  </thead>\n",
       "  <tbody>\n",
       "    <tr>\n",
       "      <th>10931</th>\n",
       "      <td>5675</td>\n",
       "      <td>17.725844</td>\n",
       "      <td>20.080052</td>\n",
       "      <td>98.446283</td>\n",
       "      <td>6.307143</td>\n",
       "      <td>0.005</td>\n",
       "      <td>4.166667</td>\n",
       "      <td>5.0</td>\n",
       "      <td>12.5</td>\n",
       "      <td>30</td>\n",
       "      <td>...</td>\n",
       "      <td>A</td>\n",
       "      <td>0.002837</td>\n",
       "      <td>0.029485</td>\n",
       "      <td>20.080052</td>\n",
       "      <td>0.093731</td>\n",
       "      <td>0.007730</td>\n",
       "      <td>0.006004</td>\n",
       "      <td>0.101461</td>\n",
       "      <td>0.013734</td>\n",
       "      <td>0.107465</td>\n",
       "    </tr>\n",
       "    <tr>\n",
       "      <th>17267</th>\n",
       "      <td>5675</td>\n",
       "      <td>9.704916</td>\n",
       "      <td>2.575021</td>\n",
       "      <td>92.586819</td>\n",
       "      <td>6.307143</td>\n",
       "      <td>0.005</td>\n",
       "      <td>4.166667</td>\n",
       "      <td>5.0</td>\n",
       "      <td>12.5</td>\n",
       "      <td>30</td>\n",
       "      <td>...</td>\n",
       "      <td>A</td>\n",
       "      <td>0.002524</td>\n",
       "      <td>0.029624</td>\n",
       "      <td>2.575021</td>\n",
       "      <td>0.078384</td>\n",
       "      <td>0.007790</td>\n",
       "      <td>0.000770</td>\n",
       "      <td>0.086174</td>\n",
       "      <td>0.008560</td>\n",
       "      <td>0.086944</td>\n",
       "    </tr>\n",
       "    <tr>\n",
       "      <th>26279</th>\n",
       "      <td>5675</td>\n",
       "      <td>7.430313</td>\n",
       "      <td>32.629279</td>\n",
       "      <td>64.610454</td>\n",
       "      <td>6.307143</td>\n",
       "      <td>0.005</td>\n",
       "      <td>4.166667</td>\n",
       "      <td>5.0</td>\n",
       "      <td>12.5</td>\n",
       "      <td>30</td>\n",
       "      <td>...</td>\n",
       "      <td>A</td>\n",
       "      <td>0.002058</td>\n",
       "      <td>0.027819</td>\n",
       "      <td>32.629279</td>\n",
       "      <td>0.055542</td>\n",
       "      <td>0.007013</td>\n",
       "      <td>0.009757</td>\n",
       "      <td>0.062555</td>\n",
       "      <td>0.016770</td>\n",
       "      <td>0.072312</td>\n",
       "    </tr>\n",
       "    <tr>\n",
       "      <th>42107</th>\n",
       "      <td>5675</td>\n",
       "      <td>7.291179</td>\n",
       "      <td>10.389278</td>\n",
       "      <td>58.319839</td>\n",
       "      <td>6.307143</td>\n",
       "      <td>0.005</td>\n",
       "      <td>4.166667</td>\n",
       "      <td>5.0</td>\n",
       "      <td>12.5</td>\n",
       "      <td>30</td>\n",
       "      <td>...</td>\n",
       "      <td>A</td>\n",
       "      <td>0.001919</td>\n",
       "      <td>0.022583</td>\n",
       "      <td>10.389278</td>\n",
       "      <td>0.048699</td>\n",
       "      <td>0.004761</td>\n",
       "      <td>0.003107</td>\n",
       "      <td>0.053460</td>\n",
       "      <td>0.007867</td>\n",
       "      <td>0.056566</td>\n",
       "    </tr>\n",
       "    <tr>\n",
       "      <th>46787</th>\n",
       "      <td>5675</td>\n",
       "      <td>7.909238</td>\n",
       "      <td>16.731497</td>\n",
       "      <td>65.485418</td>\n",
       "      <td>6.307143</td>\n",
       "      <td>0.005</td>\n",
       "      <td>4.166667</td>\n",
       "      <td>5.0</td>\n",
       "      <td>12.5</td>\n",
       "      <td>30</td>\n",
       "      <td>...</td>\n",
       "      <td>A</td>\n",
       "      <td>0.002098</td>\n",
       "      <td>0.021156</td>\n",
       "      <td>16.731497</td>\n",
       "      <td>0.057488</td>\n",
       "      <td>0.004147</td>\n",
       "      <td>0.005003</td>\n",
       "      <td>0.061635</td>\n",
       "      <td>0.009150</td>\n",
       "      <td>0.066638</td>\n",
       "    </tr>\n",
       "  </tbody>\n",
       "</table>\n",
       "<p>5 rows × 25 columns</p>\n",
       "</div>"
      ],
      "text/plain": [
       "       model_id  y_diff_dtw_distance  rms_perc_diff  emf_dtw_distance  \\\n",
       "10931      5675            17.725844      20.080052         98.446283   \n",
       "17267      5675             9.704916       2.575021         92.586819   \n",
       "26279      5675             7.430313      32.629279         64.610454   \n",
       "42107      5675             7.291179      10.389278         58.319839   \n",
       "46787      5675             7.909238      16.731497         65.485418   \n",
       "\n",
       "       damper.cdc  damper.mdc  coupling_model.coupling_constant  \\\n",
       "10931    6.307143       0.005                          4.166667   \n",
       "17267    6.307143       0.005                          4.166667   \n",
       "26279    6.307143       0.005                          4.166667   \n",
       "42107    6.307143       0.005                          4.166667   \n",
       "46787    6.307143       0.005                          4.166667   \n",
       "\n",
       "       mechanical_spring.damping_coefficient  coil_config.coil_resistance  \\\n",
       "10931                                    5.0                         12.5   \n",
       "17267                                    5.0                         12.5   \n",
       "26279                                    5.0                         12.5   \n",
       "42107                                    5.0                         12.5   \n",
       "46787                                    5.0                         12.5   \n",
       "\n",
       "       load_model.R  ...  device_id  dtw_mech  dtw_elec  rms_perc_abs  \\\n",
       "10931            30  ...          A  0.002837  0.029485     20.080052   \n",
       "17267            30  ...          A  0.002524  0.029624      2.575021   \n",
       "26279            30  ...          A  0.002058  0.027819     32.629279   \n",
       "42107            30  ...          A  0.001919  0.022583     10.389278   \n",
       "46787            30  ...          A  0.002098  0.021156     16.731497   \n",
       "\n",
       "       dtw_mech_norm dtw_elec_norm  rms_perc_abs_norm  dtw_both  rms_dtw_elec  \\\n",
       "10931       0.093731      0.007730           0.006004  0.101461      0.013734   \n",
       "17267       0.078384      0.007790           0.000770  0.086174      0.008560   \n",
       "26279       0.055542      0.007013           0.009757  0.062555      0.016770   \n",
       "42107       0.048699      0.004761           0.003107  0.053460      0.007867   \n",
       "46787       0.057488      0.004147           0.005003  0.061635      0.009150   \n",
       "\n",
       "       balanced  \n",
       "10931  0.107465  \n",
       "17267  0.086944  \n",
       "26279  0.072312  \n",
       "42107  0.056566  \n",
       "46787  0.066638  \n",
       "\n",
       "[5 rows x 25 columns]"
      ]
     },
     "execution_count": 63,
     "metadata": {},
     "output_type": "execute_result"
    }
   ],
   "source": [
    "df2_filtered.query('`model_id` == 5675').head() # Check out the parameters"
   ]
  },
  {
   "cell_type": "code",
   "execution_count": 64,
   "metadata": {},
   "outputs": [],
   "source": [
    "best_param_sets = [v for v in best_model_ids.values()]"
   ]
  },
  {
   "cell_type": "code",
   "execution_count": 65,
   "metadata": {},
   "outputs": [],
   "source": [
    "letters = [r'$A$', r'$B$', r'$C$', r'$D$', r'$E$', r'$F$', 'G']\n",
    "letter_index = 0\n",
    "seen_model_ids = []\n",
    "model_id_to_letter_mapping = {}\n",
    "\n",
    "for k, v in best_model_ids.items():\n",
    "    if v not in model_id_to_letter_mapping.keys():\n",
    "        model_id_to_letter_mapping[v] = letters[letter_index]\n",
    "        letter_index += 1"
   ]
  },
  {
   "cell_type": "code",
   "execution_count": 66,
   "metadata": {},
   "outputs": [
    {
     "data": {
      "text/plain": [
       "{5143: '$A$', 5255: '$B$', 5675: '$C$', 6206: '$D$', 6166: '$E$'}"
      ]
     },
     "execution_count": 66,
     "metadata": {},
     "output_type": "execute_result"
    }
   ],
   "source": [
    "model_id_to_letter_mapping "
   ]
  },
  {
   "cell_type": "markdown",
   "metadata": {},
   "source": [
    "## Filter according to the best parameter sets"
   ]
  },
  {
   "cell_type": "code",
   "execution_count": 67,
   "metadata": {},
   "outputs": [
    {
     "name": "stderr",
     "output_type": "stream",
     "text": [
      "/home/michael/miniconda3/envs/ds/lib/python3.7/site-packages/ipykernel_launcher.py:2: SettingWithCopyWarning: \n",
      "A value is trying to be set on a copy of a slice from a DataFrame.\n",
      "Try using .loc[row_indexer,col_indexer] = value instead\n",
      "\n",
      "See the caveats in the documentation: https://pandas.pydata.org/pandas-docs/stable/user_guide/indexing.html#returning-a-view-versus-a-copy\n"
     ]
    },
    {
     "data": {
      "text/html": [
       "<div>\n",
       "<style scoped>\n",
       "    .dataframe tbody tr th:only-of-type {\n",
       "        vertical-align: middle;\n",
       "    }\n",
       "\n",
       "    .dataframe tbody tr th {\n",
       "        vertical-align: top;\n",
       "    }\n",
       "\n",
       "    .dataframe thead th {\n",
       "        text-align: right;\n",
       "    }\n",
       "</style>\n",
       "<table border=\"1\" class=\"dataframe\">\n",
       "  <thead>\n",
       "    <tr style=\"text-align: right;\">\n",
       "      <th></th>\n",
       "      <th>model.id</th>\n",
       "      <th>y.diff.dtw.distance</th>\n",
       "      <th>rms.perc.diff</th>\n",
       "      <th>emf.dtw.distance</th>\n",
       "      <th>damper.cdc</th>\n",
       "      <th>damper.mdc</th>\n",
       "      <th>coupling.model.coupling.constant</th>\n",
       "      <th>mechanical.spring.damping.coefficient</th>\n",
       "      <th>coil.config.coil.resistance</th>\n",
       "      <th>load.model.R</th>\n",
       "      <th>...</th>\n",
       "      <th>dtw.mech</th>\n",
       "      <th>dtw.elec</th>\n",
       "      <th>rms.perc.abs</th>\n",
       "      <th>dtw.mech.norm</th>\n",
       "      <th>dtw.elec.norm</th>\n",
       "      <th>rms.perc.abs.norm</th>\n",
       "      <th>dtw.both</th>\n",
       "      <th>rms.dtw.elec</th>\n",
       "      <th>balanced</th>\n",
       "      <th>metric.name</th>\n",
       "    </tr>\n",
       "  </thead>\n",
       "  <tbody>\n",
       "    <tr>\n",
       "      <th>8623</th>\n",
       "      <td>5143</td>\n",
       "      <td>16.951920</td>\n",
       "      <td>18.089508</td>\n",
       "      <td>90.523949</td>\n",
       "      <td>5.742857</td>\n",
       "      <td>0.003333</td>\n",
       "      <td>2.500000</td>\n",
       "      <td>10.0</td>\n",
       "      <td>12.5</td>\n",
       "      <td>30</td>\n",
       "      <td>...</td>\n",
       "      <td>0.002916</td>\n",
       "      <td>0.028051</td>\n",
       "      <td>18.089508</td>\n",
       "      <td>0.097592</td>\n",
       "      <td>0.007113</td>\n",
       "      <td>0.005409</td>\n",
       "      <td>0.104705</td>\n",
       "      <td>0.012522</td>\n",
       "      <td>0.110114</td>\n",
       "      <td>$A$</td>\n",
       "    </tr>\n",
       "    <tr>\n",
       "      <th>10406</th>\n",
       "      <td>6206</td>\n",
       "      <td>10.703694</td>\n",
       "      <td>14.930229</td>\n",
       "      <td>91.594972</td>\n",
       "      <td>6.871429</td>\n",
       "      <td>0.006667</td>\n",
       "      <td>5.000000</td>\n",
       "      <td>0.0</td>\n",
       "      <td>12.5</td>\n",
       "      <td>30</td>\n",
       "      <td>...</td>\n",
       "      <td>0.003177</td>\n",
       "      <td>0.032746</td>\n",
       "      <td>14.930229</td>\n",
       "      <td>0.110370</td>\n",
       "      <td>0.009133</td>\n",
       "      <td>0.004464</td>\n",
       "      <td>0.119502</td>\n",
       "      <td>0.013597</td>\n",
       "      <td>0.123967</td>\n",
       "      <td>$D$</td>\n",
       "    </tr>\n",
       "    <tr>\n",
       "      <th>10931</th>\n",
       "      <td>5675</td>\n",
       "      <td>17.725844</td>\n",
       "      <td>20.080052</td>\n",
       "      <td>98.446283</td>\n",
       "      <td>6.307143</td>\n",
       "      <td>0.005000</td>\n",
       "      <td>4.166667</td>\n",
       "      <td>5.0</td>\n",
       "      <td>12.5</td>\n",
       "      <td>30</td>\n",
       "      <td>...</td>\n",
       "      <td>0.002837</td>\n",
       "      <td>0.029485</td>\n",
       "      <td>20.080052</td>\n",
       "      <td>0.093731</td>\n",
       "      <td>0.007730</td>\n",
       "      <td>0.006004</td>\n",
       "      <td>0.101461</td>\n",
       "      <td>0.013734</td>\n",
       "      <td>0.107465</td>\n",
       "      <td>$C$</td>\n",
       "    </tr>\n",
       "    <tr>\n",
       "      <th>12214</th>\n",
       "      <td>6166</td>\n",
       "      <td>9.059964</td>\n",
       "      <td>17.965751</td>\n",
       "      <td>89.340310</td>\n",
       "      <td>6.871429</td>\n",
       "      <td>0.005000</td>\n",
       "      <td>5.000000</td>\n",
       "      <td>2.5</td>\n",
       "      <td>12.5</td>\n",
       "      <td>30</td>\n",
       "      <td>...</td>\n",
       "      <td>0.002746</td>\n",
       "      <td>0.033328</td>\n",
       "      <td>17.965751</td>\n",
       "      <td>0.089261</td>\n",
       "      <td>0.009383</td>\n",
       "      <td>0.005372</td>\n",
       "      <td>0.098644</td>\n",
       "      <td>0.014755</td>\n",
       "      <td>0.104016</td>\n",
       "      <td>$E$</td>\n",
       "    </tr>\n",
       "    <tr>\n",
       "      <th>13055</th>\n",
       "      <td>5255</td>\n",
       "      <td>18.044421</td>\n",
       "      <td>25.720093</td>\n",
       "      <td>100.275990</td>\n",
       "      <td>5.742857</td>\n",
       "      <td>0.008333</td>\n",
       "      <td>4.166667</td>\n",
       "      <td>0.0</td>\n",
       "      <td>12.5</td>\n",
       "      <td>30</td>\n",
       "      <td>...</td>\n",
       "      <td>0.003327</td>\n",
       "      <td>0.029668</td>\n",
       "      <td>25.720093</td>\n",
       "      <td>0.117740</td>\n",
       "      <td>0.007809</td>\n",
       "      <td>0.007691</td>\n",
       "      <td>0.125549</td>\n",
       "      <td>0.015499</td>\n",
       "      <td>0.133240</td>\n",
       "      <td>$B$</td>\n",
       "    </tr>\n",
       "  </tbody>\n",
       "</table>\n",
       "<p>5 rows × 26 columns</p>\n",
       "</div>"
      ],
      "text/plain": [
       "       model.id  y.diff.dtw.distance  rms.perc.diff  emf.dtw.distance  \\\n",
       "8623       5143            16.951920      18.089508         90.523949   \n",
       "10406      6206            10.703694      14.930229         91.594972   \n",
       "10931      5675            17.725844      20.080052         98.446283   \n",
       "12214      6166             9.059964      17.965751         89.340310   \n",
       "13055      5255            18.044421      25.720093        100.275990   \n",
       "\n",
       "       damper.cdc  damper.mdc  coupling.model.coupling.constant  \\\n",
       "8623     5.742857    0.003333                          2.500000   \n",
       "10406    6.871429    0.006667                          5.000000   \n",
       "10931    6.307143    0.005000                          4.166667   \n",
       "12214    6.871429    0.005000                          5.000000   \n",
       "13055    5.742857    0.008333                          4.166667   \n",
       "\n",
       "       mechanical.spring.damping.coefficient  coil.config.coil.resistance  \\\n",
       "8623                                    10.0                         12.5   \n",
       "10406                                    0.0                         12.5   \n",
       "10931                                    5.0                         12.5   \n",
       "12214                                    2.5                         12.5   \n",
       "13055                                    0.0                         12.5   \n",
       "\n",
       "       load.model.R  ...  dtw.mech  dtw.elec  rms.perc.abs  dtw.mech.norm  \\\n",
       "8623             30  ...  0.002916  0.028051     18.089508       0.097592   \n",
       "10406            30  ...  0.003177  0.032746     14.930229       0.110370   \n",
       "10931            30  ...  0.002837  0.029485     20.080052       0.093731   \n",
       "12214            30  ...  0.002746  0.033328     17.965751       0.089261   \n",
       "13055            30  ...  0.003327  0.029668     25.720093       0.117740   \n",
       "\n",
       "       dtw.elec.norm rms.perc.abs.norm  dtw.both  rms.dtw.elec  balanced  \\\n",
       "8623        0.007113          0.005409  0.104705      0.012522  0.110114   \n",
       "10406       0.009133          0.004464  0.119502      0.013597  0.123967   \n",
       "10931       0.007730          0.006004  0.101461      0.013734  0.107465   \n",
       "12214       0.009383          0.005372  0.098644      0.014755  0.104016   \n",
       "13055       0.007809          0.007691  0.125549      0.015499  0.133240   \n",
       "\n",
       "       metric.name  \n",
       "8623           $A$  \n",
       "10406          $D$  \n",
       "10931          $C$  \n",
       "12214          $E$  \n",
       "13055          $B$  \n",
       "\n",
       "[5 rows x 26 columns]"
      ]
     },
     "execution_count": 67,
     "metadata": {},
     "output_type": "execute_result"
    }
   ],
   "source": [
    "df_filtered_scores = df2_filtered[df2_filtered.model_id.isin(best_param_sets)]\n",
    "df_filtered_scores['metric_name'] = df_filtered_scores['model_id'].apply(lambda x: model_id_to_letter_mapping[x])\n",
    "df_filtered_scores.head()\n",
    "\n",
    "df_filtered_scores.columns = [col.replace('_', '.') for col in df_filtered_scores.columns]  # To not have latex rendering complain\n",
    "df_filtered_scores.head()"
   ]
  },
  {
   "cell_type": "markdown",
   "metadata": {},
   "source": [
    "# Plots"
   ]
  },
  {
   "cell_type": "code",
   "execution_count": 68,
   "metadata": {},
   "outputs": [],
   "source": [
    "df_filtered_scores_melt = df_filtered_scores.melt(id_vars=['model.id', 'metric.name'])\n",
    "df_filtered_scores_melt.to_csv('best_param_set_scores.csv')  # Write out"
   ]
  },
  {
   "cell_type": "code",
   "execution_count": 69,
   "metadata": {},
   "outputs": [],
   "source": [
    "def phd_theme():\n",
    "    return theme(\n",
    "        axis_line=element_line(color='black', size=0.5),\n",
    "        axis_ticks=element_line(size=0.5),\n",
    "        axis_title_x=element_text(size=16, margin={'t': 12}),\n",
    "        axis_title_y=element_text(size=16),\n",
    "        strip_text=element_text(size=16),\n",
    "        axis_text=element_text(size=12),\n",
    "        panel_background=element_blank(),\n",
    "        panel_border=element_blank(),\n",
    "        panel_grid=element_blank(),\n",
    "        legend_key=element_blank(),\n",
    "        legend_title=element_blank(),\n",
    "        legend_background=element_blank(),\n",
    "        legend_position=(0.8, 0.8),\n",
    "        legend_direction='vertical',\n",
    "    )"
   ]
  },
  {
   "cell_type": "code",
   "execution_count": 70,
   "metadata": {},
   "outputs": [
    {
     "name": "stderr",
     "output_type": "stream",
     "text": [
      "/home/michael/miniconda3/envs/ds/lib/python3.7/site-packages/ipykernel_launcher.py:8: SettingWithCopyWarning: \n",
      "A value is trying to be set on a copy of a slice from a DataFrame.\n",
      "Try using .loc[row_indexer,col_indexer] = value instead\n",
      "\n",
      "See the caveats in the documentation: https://pandas.pydata.org/pandas-docs/stable/user_guide/indexing.html#returning-a-view-versus-a-copy\n",
      "/home/michael/miniconda3/envs/ds/lib/python3.7/site-packages/plotnine/facets/facet_grid.py:136: FutureWarning: Index.__and__ operating as a set operation is deprecated, in the future this will be a logical operation matching Series.__and__.  Use index.intersection(other) instead\n",
      "/home/michael/miniconda3/envs/ds/lib/python3.7/site-packages/plotnine/facets/facet_grid.py:137: FutureWarning: Index.__and__ operating as a set operation is deprecated, in the future this will be a logical operation matching Series.__and__.  Use index.intersection(other) instead\n"
     ]
    },
    {
     "data": {
      "image/png": "[encoded data removed]",
      "text/plain": [
       "<Figure size 400x800 with 3 Axes>"
      ]
     },
     "metadata": {},
     "output_type": "display_data"
    },
    {
     "data": {
      "text/plain": [
       "<ggplot: (8749738712457)>"
      ]
     },
     "execution_count": 70,
     "metadata": {},
     "output_type": "execute_result"
    }
   ],
   "source": [
    "from plotnine import *\n",
    "from matplotlib import rc\n",
    "rc('font', family='serif')\n",
    "rc('text.latex', preamble=r'\\usepackage{amsmath}')\n",
    "rc('text', usetex=True)\n",
    "\n",
    "df_plot = df_filtered_scores_melt[df_filtered_scores_melt['variable'].isin(['emf.dtw.euclid.norm', 'y.diff.dtw.euclid.norm', 'rms.perc.diff'])]\n",
    "df_plot['value'] = df_plot['value'].astype(float)\n",
    "\n",
    "cols_rename = {'emf.dtw.euclid.norm': r'$\\text{DTW}(V_{\\text{l}}, \\hat{V}_{\\text{l}})$',\n",
    "               'y.diff.dtw.euclid.norm': r'$\\text{DTW}(y_{\\text{diff}},  \\hat{y}_{\\text{diff}})$',\n",
    "               'rms.perc.diff': r'$\\text{RMS\\%}(V_{\\text{l}}, \\hat{V}_{\\text{l}})$'}\n",
    "\n",
    "lblr = labeller(rows=lambda y: cols_rename[y])\n",
    "\n",
    "p = ggplot(aes(x='metric.name', y='value'), df_plot)\n",
    "p = (\n",
    "    p\n",
    "    + geom_boxplot()\n",
    "    + facet_grid('variable ~ .', scales='free_y', labeller=lblr)\n",
    "    + phd_theme()\n",
    "    + theme(figure_size=(4, 8))\n",
    "    + xlab('Parameter Set')\n",
    "    + ylab('Value')\n",
    ")\n",
    "#p.save('/home/michael/Nextcloud/PhD/LaTeX/Journal2/img/metric_density.pdf', dpi=200)\n",
    "p"
   ]
  },
  {
   "cell_type": "code",
   "execution_count": 18,
   "metadata": {},
   "outputs": [
    {
     "data": {
      "text/html": [
       "<table style=\"border: 2px solid white;\">\n",
       "<tr>\n",
       "<td style=\"vertical-align: top; border: 0px solid white\">\n",
       "<h3 style=\"text-align: left;\">Client</h3>\n",
       "<ul style=\"text-align: left; list-style: none; margin: 0; padding: 0;\">\n",
       "  <li><b>Scheduler: </b>tcp://127.0.0.1:35861</li>\n",
       "  <li><b>Dashboard: </b><a href='http://127.0.0.1:8787/status' target='_blank'>http://127.0.0.1:8787/status</a></li>\n",
       "</ul>\n",
       "</td>\n",
       "<td style=\"vertical-align: top; border: 0px solid white\">\n",
       "<h3 style=\"text-align: left;\">Cluster</h3>\n",
       "<ul style=\"text-align: left; list-style:none; margin: 0; padding: 0;\">\n",
       "  <li><b>Workers: </b>6</li>\n",
       "  <li><b>Cores: </b>24</li>\n",
       "  <li><b>Memory: </b>31.33 GiB</li>\n",
       "</ul>\n",
       "</td>\n",
       "</tr>\n",
       "</table>"
      ],
      "text/plain": [
       "<Client: 'tcp://127.0.0.1:35861' processes=6 threads=24, memory=31.33 GiB>"
      ]
     },
     "execution_count": 18,
     "metadata": {},
     "output_type": "execute_result"
    }
   ],
   "source": [
    "import dask.dataframe as dd\n",
    "from dask.distributed import Client\n",
    "Client()"
   ]
  },
  {
   "cell_type": "code",
   "execution_count": 19,
   "metadata": {},
   "outputs": [],
   "source": [
    "# Ok, let's try load the groundtruth\n",
    "# Let's get some groundtruth in here\n",
    "from unified_model import evaluate\n",
    "from unified_model import metrics\n",
    "from unified_model.utils.utils import collect_samples\n",
    "from scipy.signal import savgol_filter\n",
    "\n",
    "from dataclasses import dataclass\n",
    "from typing import Any\n",
    "\n",
    "\n",
    "@dataclass\n",
    "class MechanicalGroundtruth:\n",
    "    y_diff: Any\n",
    "    time: Any\n",
    "\n",
    "@dataclass\n",
    "class ElectricalGroundtruth:\n",
    "    emf: Any\n",
    "    time: Any\n",
    "\n",
    "@dataclass\n",
    "class Groundtruth:\n",
    "    mech: MechanicalGroundtruth\n",
    "    elec: ElectricalGroundtruth\n",
    "\n",
    "class GroundTruthFactory:\n",
    "    def __init__(self,\n",
    "                 samples_list,\n",
    "                 lvp_kwargs,\n",
    "                 adc_kwargs):\n",
    "        \"\"\"Helper Factory to get groundtruth data in a batch.\"\"\"\n",
    "        \n",
    "        self.samples_list = samples_list\n",
    "        self.lvp_kwargs = lvp_kwargs\n",
    "        self.adc_kwargs = adc_kwargs\n",
    "\n",
    "        self.lvp = evaluate.LabeledVideoProcessor(**lvp_kwargs)\n",
    "        self.adc = evaluate.AdcProcessor(**adc_kwargs)\n",
    "\n",
    "    def _make_mechanical_groundtruth(self, sample):\n",
    "        y_target, y_time_target = self.lvp.fit_transform(\n",
    "            sample.video_labels_df,\n",
    "            impute_missing_values=True\n",
    "        )\n",
    "        y_target = savgol_filter(y_target, 9, 3)\n",
    "\n",
    "        return MechanicalGroundtruth(y_target,\n",
    "                                     y_time_target)\n",
    "\n",
    "    def _make_electrical_groundtruth(self, sample):\n",
    "        emf_target, emf_time_target = self.adc.fit_transform(sample.adc_df)\n",
    "        return ElectricalGroundtruth(emf_target,\n",
    "                                     emf_time_target)\n",
    "\n",
    "    def make(self):\n",
    "        groundtruths = []\n",
    "        for sample in self.samples_list:\n",
    "            try:\n",
    "                mech_groundtruth = self._make_mechanical_groundtruth(sample)\n",
    "                elec_groundtruth = self._make_electrical_groundtruth(sample)\n",
    "\n",
    "                groundtruths.append(\n",
    "                    Groundtruth(mech_groundtruth, elec_groundtruth)\n",
    "                )\n",
    "            except AttributeError:\n",
    "                pass\n",
    "\n",
    "        return groundtruths\n",
    "# Prepare data\n",
    "base_groundtruth_path = '../data/2019-05-23_D/'\n",
    "samples = {}\n",
    "samples['A'] = collect_samples(base_path=base_groundtruth_path,\n",
    "                               acc_pattern='A/*acc*.csv',\n",
    "                               adc_pattern='A/*adc*.csv',\n",
    "                               video_label_pattern='A/*labels*.csv')\n",
    "samples['B'] = collect_samples(base_path=base_groundtruth_path,\n",
    "                               acc_pattern='B/*acc*.csv',\n",
    "                               adc_pattern='B/*adc*.csv',\n",
    "                               video_label_pattern='B/*labels*.csv')\n",
    "samples['C'] = collect_samples(base_path=base_groundtruth_path,\n",
    "                               acc_pattern='C/*acc*.csv',\n",
    "                               adc_pattern='C/*adc*.csv',\n",
    "                               video_label_pattern='C/*labels*.csv')\n",
    "\n"
   ]
  },
  {
   "cell_type": "code",
   "execution_count": 20,
   "metadata": {},
   "outputs": [],
   "source": [
    "# Groundtruth\n",
    "\n",
    "from unified_model.mechanical_components.magnet_assembly import MagnetAssembly\n",
    "magnet_assembly = MagnetAssembly(\n",
    "    m=1,\n",
    "    l_m_mm=10,\n",
    "    l_mcd_mm=0,\n",
    "    dia_magnet_mm=10,\n",
    "    dia_spacer_mm=10,\n",
    "    mat_magnet='NdFeB',\n",
    "    mat_spacer='iron'\n",
    ")\n",
    "\n",
    "groundtruth = {}\n",
    "for device in ['A', 'B', 'C']:\n",
    "    groundtruth_factory = GroundTruthFactory(samples[device],\n",
    "                                            lvp_kwargs=dict(magnet_assembly=magnet_assembly,\n",
    "                                                            seconds_per_frame=1/60,\n",
    "                                                            pixel_scale=0.154508),\n",
    "                                            adc_kwargs=dict(voltage_division_ratio=1 / 0.342))\n",
    "    groundtruth[device] = groundtruth_factory.make()"
   ]
  },
  {
   "cell_type": "code",
   "execution_count": 21,
   "metadata": {},
   "outputs": [
    {
     "data": {
      "text/plain": [
       "0.05778566987196727"
      ]
     },
     "execution_count": 21,
     "metadata": {},
     "output_type": "execute_result"
    }
   ],
   "source": [
    "magnet_assembly.get_weight()"
   ]
  },
  {
   "cell_type": "code",
   "execution_count": 22,
   "metadata": {},
   "outputs": [],
   "source": [
    "# Let's look at some examples from each"
   ]
  },
  {
   "cell_type": "code",
   "execution_count": 23,
   "metadata": {},
   "outputs": [],
   "source": [
    "import dask.dataframe as dd \n",
    "\n",
    "def get_curve(df_curves_path, model_id, input_excitation_number):\n",
    "    #df_curves = vaex.open(df_curves_path)[['model_id', 'input_excitation_number', 'device_id', 'time', 'emf', 'y_diff']]\n",
    "    df_curves = dd.read_parquet(df_curves_path,\n",
    "                                columns=['model_id', 'input_excitation', 'time', 'emf', 'y_diff'],\n",
    "                                filters=[('input_excitation', '==', input_excitation_number)])\n",
    "    df_temp = df_curves[df_curves['model_id'] == model_id]\n",
    "    df_temp = df_temp[df_temp['input_excitation'] == input_excitation_number]\n",
    "    df_temp = df_temp.compute()\n",
    "    return df_temp.sort_values(by='time')"
   ]
  },
  {
   "cell_type": "code",
   "execution_count": 24,
   "metadata": {},
   "outputs": [],
   "source": [
    "def compare_mech(df_curves_path, groundtruth, model_id, device, input_excitation_number):\n",
    "    x = get_curve(df_curves_path, model_id, input_excitation_number)\n",
    "    \n",
    "    \n",
    "    mech_eval = evaluate.MechanicalSystemEvaluator(\n",
    "        y_target = groundtruth[device][input_excitation_number].mech.y_diff,  # Referenced to zero\n",
    "        time_target = groundtruth[device][input_excitation_number].mech.time,\n",
    "        metrics = {'dtw_distance': metrics.dtw_euclid_distance}\n",
    "    )\n",
    "\n",
    "    mech_eval.fit(\n",
    "        y_predict = x['y_diff'].values,\n",
    "        time_predict = x['time'].values\n",
    "    )\n",
    "    print(mech_eval.score())\n",
    "    mech_eval.poof(figsize=(16,8))\n",
    "    del x"
   ]
  },
  {
   "cell_type": "code",
   "execution_count": 25,
   "metadata": {},
   "outputs": [],
   "source": [
    "def compare_elec(df_curves_path, groundtruth, model_id, device, input_excitation_number):\n",
    "    x = get_curve(df_curves_path, model_id, input_excitation_number)\n",
    "    \n",
    "    elec_eval = evaluate.ElectricalSystemEvaluator(\n",
    "        emf_target=groundtruth[device][input_excitation_number].elec.emf,  # Referenced to zero\n",
    "        time_target=groundtruth[device][input_excitation_number].elec.time,\n",
    "        metrics = {'dtw_distance': metrics.dtw_euclid_distance,\n",
    "                  'rms_perc_diff': metrics.root_mean_square_percentage_diff}\n",
    "    )\n",
    "    \n",
    "    elec_eval.fit(\n",
    "        emf_predict=x['emf'].values,\n",
    "        time_predict=x['time'].values\n",
    "    )\n",
    "    print(elec_eval.score())\n",
    "    elec_eval.poof(figsize=(16, 8))\n",
    "    del x\n",
    "    return elec_eval"
   ]
  },
  {
   "cell_type": "code",
   "execution_count": 26,
   "metadata": {},
   "outputs": [],
   "source": [
    "from scipy import signal"
   ]
  },
  {
   "cell_type": "code",
   "execution_count": 27,
   "metadata": {},
   "outputs": [],
   "source": [
    "%matplotlib widget"
   ]
  },
  {
   "cell_type": "code",
   "execution_count": 28,
   "metadata": {},
   "outputs": [
    {
     "data": {
      "text/plain": [
       "{'dtw_mech': 5675,\n",
       " 'dtw_elec': 5705,\n",
       " 'dtw_both': 5675,\n",
       " 'rms_perc_abs': 6196,\n",
       " 'rms_dtw_elec': 6196,\n",
       " 'balanced': 5675}"
      ]
     },
     "execution_count": 28,
     "metadata": {},
     "output_type": "execute_result"
    }
   ],
   "source": [
    "best_model_ids"
   ]
  },
  {
   "cell_type": "code",
   "execution_count": 33,
   "metadata": {},
   "outputs": [
    {
     "name": "stdout",
     "output_type": "stream",
     "text": [
      "{'dtw_distance': 6.6364809173389725}\n"
     ]
    },
    {
     "data": {
      "application/vnd.jupyter.widget-view+json": {
       "model_id": "72692fb6a2964b4c8a3a0d610ac491ab",
       "version_major": 2,
       "version_minor": 0
      },
      "text/plain": [
       "Canvas(toolbar=Toolbar(toolitems=[('Home', 'Reset original view', 'home', 'home'), ('Back', 'Back to previous …"
      ]
     },
     "metadata": {},
     "output_type": "display_data"
    },
    {
     "name": "stdout",
     "output_type": "stream",
     "text": [
      "{'dtw_distance': 59.2596681437002, 'rms_perc_diff': 10.395483574683666}\n"
     ]
    },
    {
     "data": {
      "application/vnd.jupyter.widget-view+json": {
       "model_id": "a600fe98451b411cb4fa17f1bf7df158",
       "version_major": 2,
       "version_minor": 0
      },
      "text/plain": [
       "Canvas(toolbar=Toolbar(toolitems=[('Home', 'Reset original view', 'home', 'home'), ('Back', 'Back to previous …"
      ]
     },
     "metadata": {},
     "output_type": "display_data"
    },
    {
     "data": {
      "application/vnd.jupyter.widget-view+json": {
       "model_id": "4ea32f29dee14a0f8259033f3ad4896b",
       "version_major": 2,
       "version_minor": 0
      },
      "text/plain": [
       "Canvas(toolbar=Toolbar(toolitems=[('Home', 'Reset original view', 'home', 'home'), ('Back', 'Back to previous …"
      ]
     },
     "metadata": {},
     "output_type": "display_data"
    },
    {
     "data": {
      "text/plain": [
       "[<matplotlib.lines.Line2D at 0x7f7d21a0fa90>]"
      ]
     },
     "execution_count": 33,
     "metadata": {},
     "output_type": "execute_result"
    }
   ],
   "source": [
    "input_ = 5\n",
    "device = 'A'\n",
    "chosen_model_id = 5675\n",
    "\n",
    "compare_mech(f'../data/parameter_search/2021-03-19/{device}_augmented.parquet', groundtruth, chosen_model_id, device, input_)\n",
    "ee = compare_elec(f'../data/parameter_search/2021-03-19/{device}_augmented.parquet', groundtruth, chosen_model_id, device, input_)\n",
    "\n",
    "plt.figure(figsize=(16, 8))\n",
    "plt.plot(ee.emf_predict_clipped_, 'r')\n",
    "plt.plot(ee.emf_target_clipped_, 'k')"
   ]
  },
  {
   "cell_type": "code",
   "execution_count": null,
   "metadata": {},
   "outputs": [],
   "source": []
  }
 ],
 "metadata": {
  "kernelspec": {
   "display_name": "Python 3",
   "language": "python",
   "name": "python3"
  },
  "language_info": {
   "codemirror_mode": {
    "name": "ipython",
    "version": 3
   },
   "file_extension": ".py",
   "mimetype": "text/x-python",
   "name": "python",
   "nbconvert_exporter": "python",
   "pygments_lexer": "ipython3",
   "version": "3.7.7"
  }
 },
 "nbformat": 4,
 "nbformat_minor": 4
}
