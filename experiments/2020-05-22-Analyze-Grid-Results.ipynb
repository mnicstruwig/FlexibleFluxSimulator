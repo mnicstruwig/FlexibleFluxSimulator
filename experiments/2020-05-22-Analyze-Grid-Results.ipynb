{
 "cells": [
  {
   "cell_type": "markdown",
   "metadata": {},
   "source": [
    "# Data preprocessing (split to new Notebook later)\n",
    "Here we throw away simulation data so we can focus on the *scores* only."
   ]
  },
  {
   "cell_type": "code",
   "execution_count": 1,
   "metadata": {},
   "outputs": [
    {
     "data": {
      "text/html": [
       "<table style=\"border: 2px solid white;\">\n",
       "<tr>\n",
       "<td style=\"vertical-align: top; border: 0px solid white\">\n",
       "<h3 style=\"text-align: left;\">Client</h3>\n",
       "<ul style=\"text-align: left; list-style: none; margin: 0; padding: 0;\">\n",
       "  <li><b>Scheduler: </b>tcp://127.0.0.1:42443</li>\n",
       "  <li><b>Dashboard: </b><a href='http://127.0.0.1:8787/status' target='_blank'>http://127.0.0.1:8787/status</a></li>\n",
       "</ul>\n",
       "</td>\n",
       "<td style=\"vertical-align: top; border: 0px solid white\">\n",
       "<h3 style=\"text-align: left;\">Cluster</h3>\n",
       "<ul style=\"text-align: left; list-style:none; margin: 0; padding: 0;\">\n",
       "  <li><b>Workers: </b>8</li>\n",
       "  <li><b>Cores: </b>16</li>\n",
       "  <li><b>Memory: </b>15.54 GiB</li>\n",
       "</ul>\n",
       "</td>\n",
       "</tr>\n",
       "</table>"
      ],
      "text/plain": [
       "<Client: 'tcp://127.0.0.1:42443' processes=8 threads=16, memory=15.54 GiB>"
      ]
     },
     "execution_count": 1,
     "metadata": {},
     "output_type": "execute_result"
    }
   ],
   "source": [
    "import dask.dataframe as dd\n",
    "from dask.distributed import Client\n",
    "client = Client(n_workers=8)\n",
    "client"
   ]
  },
  {
   "cell_type": "code",
   "execution_count": 2,
   "metadata": {},
   "outputs": [],
   "source": [
    "base_path = '../data/parameter_search/2021-03-19/'\n",
    "\n",
    "no_curves_dfs = []\n",
    "for f in ['A', 'B', 'C']:\n",
    "    df = dd.read_parquet(base_path + f'{f}_augmented.parquet', engine='pyarrow')  # Just to get columns\n",
    "    df = dd.read_parquet(base_path + f'{f}_augmented.parquet', engine='pyarrow', columns=[col for col in df.columns if col not in ['time', 'y_diff', 'emf']]).drop_duplicates()\n",
    "    df['input_excitation'] = df['input_excitation'].astype('int')\n",
    "    df['device_id'] = f.split('.')[0]\n",
    "    no_curves_dfs.append(df)\n",
    "    \n",
    "dd.concat(no_curves_dfs).to_parquet('no_curves.parquet', engine='pyarrow', compression='snappy')"
   ]
  },
  {
   "cell_type": "code",
   "execution_count": 3,
   "metadata": {},
   "outputs": [],
   "source": [
    "client.close()"
   ]
  },
  {
   "cell_type": "markdown",
   "metadata": {},
   "source": [
    "---"
   ]
  },
  {
   "cell_type": "code",
   "execution_count": 4,
   "metadata": {},
   "outputs": [
    {
     "data": {
      "text/html": [
       "<table style=\"border: 2px solid white;\">\n",
       "<tr>\n",
       "<td style=\"vertical-align: top; border: 0px solid white\">\n",
       "<h3 style=\"text-align: left;\">Client</h3>\n",
       "<ul style=\"text-align: left; list-style: none; margin: 0; padding: 0;\">\n",
       "  <li><b>Scheduler: </b>tcp://127.0.0.1:37575</li>\n",
       "  <li><b>Dashboard: </b><a href='http://127.0.0.1:8787/status' target='_blank'>http://127.0.0.1:8787/status</a></li>\n",
       "</ul>\n",
       "</td>\n",
       "<td style=\"vertical-align: top; border: 0px solid white\">\n",
       "<h3 style=\"text-align: left;\">Cluster</h3>\n",
       "<ul style=\"text-align: left; list-style:none; margin: 0; padding: 0;\">\n",
       "  <li><b>Workers: </b>8</li>\n",
       "  <li><b>Cores: </b>24</li>\n",
       "  <li><b>Memory: </b>33.64 GB</li>\n",
       "</ul>\n",
       "</td>\n",
       "</tr>\n",
       "</table>"
      ],
      "text/plain": [
       "<Client: 'tcp://127.0.0.1:37575' processes=8 threads=24, memory=33.64 GB>"
      ]
     },
     "execution_count": 4,
     "metadata": {},
     "output_type": "execute_result"
    }
   ],
   "source": [
    "from dask.distributed import Client\n",
    "import dask.dataframe as dd\n",
    "\n",
    "client = Client(n_workers=8)\n",
    "client"
   ]
  },
  {
   "cell_type": "code",
   "execution_count": 5,
   "metadata": {},
   "outputs": [],
   "source": [
    "root_path = './'\n",
    "files_prefix = ['A', 'B', 'C']"
   ]
  },
  {
   "cell_type": "code",
   "execution_count": 6,
   "metadata": {},
   "outputs": [
    {
     "data": {
      "text/plain": [
       "3"
      ]
     },
     "execution_count": 6,
     "metadata": {},
     "output_type": "execute_result"
    }
   ],
   "source": [
    "dfs = []\n",
    "for f in files_prefix:\n",
    "    df = dd.read_parquet(root_path + f + '.parquet', engine='pyarrow')\n",
    "    df['device_id'] = f\n",
    "    df['input_excitation'] = df['input_excitation'].astype('int')\n",
    "    dfs.append(df)\n",
    "len(dfs)"
   ]
  },
  {
   "cell_type": "code",
   "execution_count": 7,
   "metadata": {},
   "outputs": [],
   "source": [
    "dd.concat(dfs).to_parquet(root_path + 'joined.parquet', engine='pyarrow', partition_on=['device_id', 'input_excitation'], compression='brotli')"
   ]
  },
  {
   "cell_type": "code",
   "execution_count": 8,
   "metadata": {},
   "outputs": [],
   "source": [
    "client.close()"
   ]
  },
  {
   "cell_type": "markdown",
   "metadata": {},
   "source": [
    "# Start here\n",
    "Once you've processed your data, of course."
   ]
  },
  {
   "cell_type": "code",
   "execution_count": 11,
   "metadata": {},
   "outputs": [],
   "source": [
    "import numpy as np\n",
    "import pandas as pd\n",
    "import seaborn as sns\n",
    "import matplotlib.pyplot as plt"
   ]
  },
  {
   "cell_type": "code",
   "execution_count": 75,
   "metadata": {},
   "outputs": [
    {
     "data": {
      "text/html": [
       "<div>\n",
       "<style scoped>\n",
       "    .dataframe tbody tr th:only-of-type {\n",
       "        vertical-align: middle;\n",
       "    }\n",
       "\n",
       "    .dataframe tbody tr th {\n",
       "        vertical-align: top;\n",
       "    }\n",
       "\n",
       "    .dataframe thead th {\n",
       "        text-align: right;\n",
       "    }\n",
       "</style>\n",
       "<table border=\"1\" class=\"dataframe\">\n",
       "  <thead>\n",
       "    <tr style=\"text-align: right;\">\n",
       "      <th></th>\n",
       "      <th>model_id</th>\n",
       "      <th>y_diff_dtw_distance</th>\n",
       "      <th>rms_perc_diff</th>\n",
       "      <th>emf_dtw_distance</th>\n",
       "      <th>damper.cdc</th>\n",
       "      <th>damper.mdc</th>\n",
       "      <th>coupling_model.coupling_constant</th>\n",
       "      <th>mechanical_spring.damping_coefficient</th>\n",
       "      <th>coil_config.coil_resistance</th>\n",
       "      <th>load_model.R</th>\n",
       "      <th>emf_dtw_euclid_norm</th>\n",
       "      <th>emf_dtw_dist</th>\n",
       "      <th>rms_perc_diff_detrend</th>\n",
       "      <th>y_diff_dtw_euclid_norm</th>\n",
       "      <th>input_excitation</th>\n",
       "      <th>device_id</th>\n",
       "    </tr>\n",
       "  </thead>\n",
       "  <tbody>\n",
       "    <tr>\n",
       "      <th>0</th>\n",
       "      <td>2760</td>\n",
       "      <td>18.700601</td>\n",
       "      <td>133.169589</td>\n",
       "      <td>157.964705</td>\n",
       "      <td>2.921429</td>\n",
       "      <td>0.008333</td>\n",
       "      <td>0.000000</td>\n",
       "      <td>2.5</td>\n",
       "      <td>12.5</td>\n",
       "      <td>30</td>\n",
       "      <td>0.046258</td>\n",
       "      <td>115.922960</td>\n",
       "      <td>125.703399</td>\n",
       "      <td>0.007427</td>\n",
       "      <td>0</td>\n",
       "      <td>A</td>\n",
       "    </tr>\n",
       "    <tr>\n",
       "      <th>1</th>\n",
       "      <td>2761</td>\n",
       "      <td>21.940940</td>\n",
       "      <td>139.772444</td>\n",
       "      <td>196.025229</td>\n",
       "      <td>2.921429</td>\n",
       "      <td>0.008333</td>\n",
       "      <td>0.833333</td>\n",
       "      <td>2.5</td>\n",
       "      <td>12.5</td>\n",
       "      <td>30</td>\n",
       "      <td>0.047646</td>\n",
       "      <td>119.400057</td>\n",
       "      <td>132.071632</td>\n",
       "      <td>0.007852</td>\n",
       "      <td>0</td>\n",
       "      <td>A</td>\n",
       "    </tr>\n",
       "    <tr>\n",
       "      <th>2</th>\n",
       "      <td>2762</td>\n",
       "      <td>21.296333</td>\n",
       "      <td>142.810498</td>\n",
       "      <td>172.046788</td>\n",
       "      <td>2.921429</td>\n",
       "      <td>0.008333</td>\n",
       "      <td>1.666667</td>\n",
       "      <td>2.5</td>\n",
       "      <td>12.5</td>\n",
       "      <td>30</td>\n",
       "      <td>0.048505</td>\n",
       "      <td>121.602356</td>\n",
       "      <td>134.795619</td>\n",
       "      <td>0.007731</td>\n",
       "      <td>0</td>\n",
       "      <td>A</td>\n",
       "    </tr>\n",
       "    <tr>\n",
       "      <th>3</th>\n",
       "      <td>2763</td>\n",
       "      <td>20.414750</td>\n",
       "      <td>147.851987</td>\n",
       "      <td>161.375682</td>\n",
       "      <td>2.921429</td>\n",
       "      <td>0.008333</td>\n",
       "      <td>2.500000</td>\n",
       "      <td>2.5</td>\n",
       "      <td>12.5</td>\n",
       "      <td>30</td>\n",
       "      <td>0.049124</td>\n",
       "      <td>127.034041</td>\n",
       "      <td>139.693449</td>\n",
       "      <td>0.008095</td>\n",
       "      <td>0</td>\n",
       "      <td>A</td>\n",
       "    </tr>\n",
       "    <tr>\n",
       "      <th>4</th>\n",
       "      <td>2764</td>\n",
       "      <td>20.245012</td>\n",
       "      <td>151.665201</td>\n",
       "      <td>169.053189</td>\n",
       "      <td>2.921429</td>\n",
       "      <td>0.008333</td>\n",
       "      <td>3.333333</td>\n",
       "      <td>2.5</td>\n",
       "      <td>12.5</td>\n",
       "      <td>30</td>\n",
       "      <td>0.047855</td>\n",
       "      <td>128.633259</td>\n",
       "      <td>143.109502</td>\n",
       "      <td>0.008040</td>\n",
       "      <td>0</td>\n",
       "      <td>A</td>\n",
       "    </tr>\n",
       "  </tbody>\n",
       "</table>\n",
       "</div>"
      ],
      "text/plain": [
       "   model_id  y_diff_dtw_distance  rms_perc_diff  emf_dtw_distance  damper.cdc  \\\n",
       "0      2760            18.700601     133.169589        157.964705    2.921429   \n",
       "1      2761            21.940940     139.772444        196.025229    2.921429   \n",
       "2      2762            21.296333     142.810498        172.046788    2.921429   \n",
       "3      2763            20.414750     147.851987        161.375682    2.921429   \n",
       "4      2764            20.245012     151.665201        169.053189    2.921429   \n",
       "\n",
       "   damper.mdc  coupling_model.coupling_constant  \\\n",
       "0    0.008333                          0.000000   \n",
       "1    0.008333                          0.833333   \n",
       "2    0.008333                          1.666667   \n",
       "3    0.008333                          2.500000   \n",
       "4    0.008333                          3.333333   \n",
       "\n",
       "   mechanical_spring.damping_coefficient  coil_config.coil_resistance  \\\n",
       "0                                    2.5                         12.5   \n",
       "1                                    2.5                         12.5   \n",
       "2                                    2.5                         12.5   \n",
       "3                                    2.5                         12.5   \n",
       "4                                    2.5                         12.5   \n",
       "\n",
       "   load_model.R  emf_dtw_euclid_norm  emf_dtw_dist  rms_perc_diff_detrend  \\\n",
       "0            30             0.046258    115.922960             125.703399   \n",
       "1            30             0.047646    119.400057             132.071632   \n",
       "2            30             0.048505    121.602356             134.795619   \n",
       "3            30             0.049124    127.034041             139.693449   \n",
       "4            30             0.047855    128.633259             143.109502   \n",
       "\n",
       "   y_diff_dtw_euclid_norm  input_excitation device_id  \n",
       "0                0.007427                 0         A  \n",
       "1                0.007852                 0         A  \n",
       "2                0.007731                 0         A  \n",
       "3                0.008095                 0         A  \n",
       "4                0.008040                 0         A  "
      ]
     },
     "execution_count": 75,
     "metadata": {},
     "output_type": "execute_result"
    }
   ],
   "source": [
    "df2 = pd.read_parquet('no_curves.parquet/').reset_index(drop=True)\n",
    "df2_filtered = df2\n",
    "df2.head()"
   ]
  },
  {
   "cell_type": "markdown",
   "metadata": {},
   "source": [
    "# Feature engineering\n",
    "Here we calculate all our objective functions that we use to estimate the performance of each set of model parameters.\n",
    "\n",
    "We also calculate norms, which have the form: $F_{\\text{norm}} = \\frac{F - \\text{min}(F)}{\\text{max}(F) - \\text{min}(F)}$, which theoretically compresses values between 0 and 1."
   ]
  },
  {
   "cell_type": "code",
   "execution_count": 76,
   "metadata": {},
   "outputs": [
    {
     "data": {
      "text/html": [
       "<div>\n",
       "<style scoped>\n",
       "    .dataframe tbody tr th:only-of-type {\n",
       "        vertical-align: middle;\n",
       "    }\n",
       "\n",
       "    .dataframe tbody tr th {\n",
       "        vertical-align: top;\n",
       "    }\n",
       "\n",
       "    .dataframe thead th {\n",
       "        text-align: right;\n",
       "    }\n",
       "</style>\n",
       "<table border=\"1\" class=\"dataframe\">\n",
       "  <thead>\n",
       "    <tr style=\"text-align: right;\">\n",
       "      <th></th>\n",
       "      <th>model_id</th>\n",
       "      <th>y_diff_dtw_distance</th>\n",
       "      <th>rms_perc_diff</th>\n",
       "      <th>emf_dtw_distance</th>\n",
       "      <th>damper.cdc</th>\n",
       "      <th>damper.mdc</th>\n",
       "      <th>coupling_model.coupling_constant</th>\n",
       "      <th>mechanical_spring.damping_coefficient</th>\n",
       "      <th>coil_config.coil_resistance</th>\n",
       "      <th>load_model.R</th>\n",
       "      <th>...</th>\n",
       "      <th>device_id</th>\n",
       "      <th>dtw_mech</th>\n",
       "      <th>dtw_elec</th>\n",
       "      <th>rms_perc_abs</th>\n",
       "      <th>dtw_mech_norm</th>\n",
       "      <th>dtw_elec_norm</th>\n",
       "      <th>rms_perc_abs_norm</th>\n",
       "      <th>dtw_both</th>\n",
       "      <th>rms_dtw_elec</th>\n",
       "      <th>balanced</th>\n",
       "    </tr>\n",
       "  </thead>\n",
       "  <tbody>\n",
       "    <tr>\n",
       "      <th>0</th>\n",
       "      <td>2760</td>\n",
       "      <td>18.700601</td>\n",
       "      <td>125.703399</td>\n",
       "      <td>157.964705</td>\n",
       "      <td>2.921429</td>\n",
       "      <td>0.008333</td>\n",
       "      <td>0.000000</td>\n",
       "      <td>2.5</td>\n",
       "      <td>12.5</td>\n",
       "      <td>30</td>\n",
       "      <td>...</td>\n",
       "      <td>A</td>\n",
       "      <td>0.007427</td>\n",
       "      <td>0.046258</td>\n",
       "      <td>125.703399</td>\n",
       "      <td>0.318732</td>\n",
       "      <td>0.014946</td>\n",
       "      <td>0.037588</td>\n",
       "      <td>0.333677</td>\n",
       "      <td>0.052534</td>\n",
       "      <td>0.371266</td>\n",
       "    </tr>\n",
       "    <tr>\n",
       "      <th>1</th>\n",
       "      <td>2761</td>\n",
       "      <td>21.940940</td>\n",
       "      <td>132.071632</td>\n",
       "      <td>196.025229</td>\n",
       "      <td>2.921429</td>\n",
       "      <td>0.008333</td>\n",
       "      <td>0.833333</td>\n",
       "      <td>2.5</td>\n",
       "      <td>12.5</td>\n",
       "      <td>30</td>\n",
       "      <td>...</td>\n",
       "      <td>A</td>\n",
       "      <td>0.007852</td>\n",
       "      <td>0.047646</td>\n",
       "      <td>132.071632</td>\n",
       "      <td>0.339531</td>\n",
       "      <td>0.015542</td>\n",
       "      <td>0.039493</td>\n",
       "      <td>0.355074</td>\n",
       "      <td>0.055035</td>\n",
       "      <td>0.394566</td>\n",
       "    </tr>\n",
       "    <tr>\n",
       "      <th>2</th>\n",
       "      <td>2762</td>\n",
       "      <td>21.296333</td>\n",
       "      <td>134.795619</td>\n",
       "      <td>172.046788</td>\n",
       "      <td>2.921429</td>\n",
       "      <td>0.008333</td>\n",
       "      <td>1.666667</td>\n",
       "      <td>2.5</td>\n",
       "      <td>12.5</td>\n",
       "      <td>30</td>\n",
       "      <td>...</td>\n",
       "      <td>A</td>\n",
       "      <td>0.007731</td>\n",
       "      <td>0.048505</td>\n",
       "      <td>134.795619</td>\n",
       "      <td>0.333632</td>\n",
       "      <td>0.015912</td>\n",
       "      <td>0.040307</td>\n",
       "      <td>0.349544</td>\n",
       "      <td>0.056219</td>\n",
       "      <td>0.389851</td>\n",
       "    </tr>\n",
       "    <tr>\n",
       "      <th>3</th>\n",
       "      <td>2763</td>\n",
       "      <td>20.414750</td>\n",
       "      <td>139.693449</td>\n",
       "      <td>161.375682</td>\n",
       "      <td>2.921429</td>\n",
       "      <td>0.008333</td>\n",
       "      <td>2.500000</td>\n",
       "      <td>2.5</td>\n",
       "      <td>12.5</td>\n",
       "      <td>30</td>\n",
       "      <td>...</td>\n",
       "      <td>A</td>\n",
       "      <td>0.008095</td>\n",
       "      <td>0.049124</td>\n",
       "      <td>139.693449</td>\n",
       "      <td>0.351447</td>\n",
       "      <td>0.016178</td>\n",
       "      <td>0.041772</td>\n",
       "      <td>0.367625</td>\n",
       "      <td>0.057950</td>\n",
       "      <td>0.409397</td>\n",
       "    </tr>\n",
       "    <tr>\n",
       "      <th>4</th>\n",
       "      <td>2764</td>\n",
       "      <td>20.245012</td>\n",
       "      <td>143.109502</td>\n",
       "      <td>169.053189</td>\n",
       "      <td>2.921429</td>\n",
       "      <td>0.008333</td>\n",
       "      <td>3.333333</td>\n",
       "      <td>2.5</td>\n",
       "      <td>12.5</td>\n",
       "      <td>30</td>\n",
       "      <td>...</td>\n",
       "      <td>A</td>\n",
       "      <td>0.008040</td>\n",
       "      <td>0.047855</td>\n",
       "      <td>143.109502</td>\n",
       "      <td>0.348759</td>\n",
       "      <td>0.015632</td>\n",
       "      <td>0.042793</td>\n",
       "      <td>0.364391</td>\n",
       "      <td>0.058426</td>\n",
       "      <td>0.407184</td>\n",
       "    </tr>\n",
       "  </tbody>\n",
       "</table>\n",
       "<p>5 rows × 25 columns</p>\n",
       "</div>"
      ],
      "text/plain": [
       "   model_id  y_diff_dtw_distance  rms_perc_diff  emf_dtw_distance  damper.cdc  \\\n",
       "0      2760            18.700601     125.703399        157.964705    2.921429   \n",
       "1      2761            21.940940     132.071632        196.025229    2.921429   \n",
       "2      2762            21.296333     134.795619        172.046788    2.921429   \n",
       "3      2763            20.414750     139.693449        161.375682    2.921429   \n",
       "4      2764            20.245012     143.109502        169.053189    2.921429   \n",
       "\n",
       "   damper.mdc  coupling_model.coupling_constant  \\\n",
       "0    0.008333                          0.000000   \n",
       "1    0.008333                          0.833333   \n",
       "2    0.008333                          1.666667   \n",
       "3    0.008333                          2.500000   \n",
       "4    0.008333                          3.333333   \n",
       "\n",
       "   mechanical_spring.damping_coefficient  coil_config.coil_resistance  \\\n",
       "0                                    2.5                         12.5   \n",
       "1                                    2.5                         12.5   \n",
       "2                                    2.5                         12.5   \n",
       "3                                    2.5                         12.5   \n",
       "4                                    2.5                         12.5   \n",
       "\n",
       "   load_model.R  ...  device_id  dtw_mech  dtw_elec  rms_perc_abs  \\\n",
       "0            30  ...          A  0.007427  0.046258    125.703399   \n",
       "1            30  ...          A  0.007852  0.047646    132.071632   \n",
       "2            30  ...          A  0.007731  0.048505    134.795619   \n",
       "3            30  ...          A  0.008095  0.049124    139.693449   \n",
       "4            30  ...          A  0.008040  0.047855    143.109502   \n",
       "\n",
       "   dtw_mech_norm dtw_elec_norm  rms_perc_abs_norm  dtw_both  rms_dtw_elec  \\\n",
       "0       0.318732      0.014946           0.037588  0.333677      0.052534   \n",
       "1       0.339531      0.015542           0.039493  0.355074      0.055035   \n",
       "2       0.333632      0.015912           0.040307  0.349544      0.056219   \n",
       "3       0.351447      0.016178           0.041772  0.367625      0.057950   \n",
       "4       0.348759      0.015632           0.042793  0.364391      0.058426   \n",
       "\n",
       "   balanced  \n",
       "0  0.371266  \n",
       "1  0.394566  \n",
       "2  0.389851  \n",
       "3  0.409397  \n",
       "4  0.407184  \n",
       "\n",
       "[5 rows x 25 columns]"
      ]
     },
     "execution_count": 76,
     "metadata": {},
     "output_type": "execute_result"
    }
   ],
   "source": [
    "\n",
    "# Do some shuffling of the columns\n",
    "df2_filtered['dtw_mech'] = df2_filtered['y_diff_dtw_euclid_norm']\n",
    "df2_filtered['dtw_elec'] = df2_filtered['emf_dtw_euclid_norm'] \n",
    "df2_filtered['rms_perc_diff'] = df2_filtered['rms_perc_diff_detrend']\n",
    "\n",
    "def calc_norm(series):\n",
    "    \"\"\"Calculate the norm of a metric.\"\"\"\n",
    "    return (series - series.min())/(series.max() - series.min())\n",
    "\n",
    "# Norm and objective function calculation\n",
    "df2_filtered['rms_perc_abs'] = np.abs(df2_filtered['rms_perc_diff'])\n",
    "df2_filtered['dtw_mech_norm'] = calc_norm(df2_filtered['dtw_mech'])\n",
    "df2_filtered['dtw_elec_norm'] = calc_norm(df2_filtered['dtw_elec'])\n",
    "df2_filtered['rms_perc_abs_norm'] = calc_norm(df2_filtered['rms_perc_abs'])\n",
    "\n",
    "df2_filtered['dtw_both'] = df2_filtered['dtw_mech_norm'] + df2_filtered['dtw_elec_norm']\n",
    "df2_filtered['rms_dtw_elec'] = df2_filtered['rms_perc_abs_norm'] + df2_filtered['dtw_elec_norm']\n",
    "df2_filtered['balanced'] = df2_filtered['rms_perc_abs_norm'] + df2_filtered['dtw_mech_norm'] + df2_filtered['dtw_elec_norm']\n",
    "\n",
    "df2_filtered = df2_filtered.reset_index(drop=True)\n",
    "df2_filtered.head()"
   ]
  },
  {
   "cell_type": "markdown",
   "metadata": {},
   "source": [
    "# Remove outliers\n",
    "Anything more than 3 standard deviations out we consider outliers, and remove from the dataset.\n",
    "\n",
    "We don't want to skew our results using severe outliers that can sometimes occur due to buggy simulations with particularly bad parameters."
   ]
  },
  {
   "cell_type": "code",
   "execution_count": 77,
   "metadata": {},
   "outputs": [],
   "source": [
    "def drop_outliers(criteria: str, df) -> pd.DataFrame:\n",
    "    percent_samples = 0.95 #0.9745  # Outside of 2/3 standard deviations\n",
    "    cut_off = (1-percent_samples)/2\n",
    "    upper_bound = df[criteria].quantile(percent_samples)\n",
    "    lower_bound = df[criteria].quantile(1-(percent_samples + cut_off))\n",
    "\n",
    "    to_drop_lower = df.query(f'{criteria} < {lower_bound}')['model_id'].values\n",
    "    to_drop_upper = df.query(f'{criteria} > {upper_bound}')['model_id'].values\n",
    "\n",
    "    to_drop = np.concatenate([to_drop_lower, to_drop_upper])\n",
    "\n",
    "    return df[~df2_filtered['model_id'].isin(to_drop)]"
   ]
  },
  {
   "cell_type": "code",
   "execution_count": 78,
   "metadata": {},
   "outputs": [
    {
     "name": "stdout",
     "output_type": "stream",
     "text": [
      "157500\n"
     ]
    },
    {
     "data": {
      "text/plain": [
       "42420"
      ]
     },
     "execution_count": 78,
     "metadata": {},
     "output_type": "execute_result"
    }
   ],
   "source": [
    "df2_filtered = drop_outliers(criteria='rms_perc_diff', df=df2_filtered)\n",
    "print(len(df2))\n",
    "len(df2_filtered)"
   ]
  },
  {
   "cell_type": "code",
   "execution_count": 79,
   "metadata": {},
   "outputs": [
    {
     "data": {
      "text/plain": [
       "<AxesSubplot:ylabel='Frequency'>"
      ]
     },
     "execution_count": 79,
     "metadata": {},
     "output_type": "execute_result"
    },
    {
     "data": {
      "image/png": "[encoded data removed]",
      "text/plain": [
       "<Figure size 432x288 with 1 Axes>"
      ]
     },
     "metadata": {
      "needs_background": "light"
     },
     "output_type": "display_data"
    }
   ],
   "source": [
    "df2_filtered['rms_perc_diff'].plot(kind='hist')"
   ]
  },
  {
   "cell_type": "markdown",
   "metadata": {},
   "source": [
    "## Additional outlier removal\n",
    "Certain input excitations cause all model parameters to simulate poorly. \n",
    "\n",
    "This is a bit of a luck of the draw, and has to do with how the base plate was held during experimentation. We remove these since they're \"bad\" tests that do not represent the actual behaviour in practice."
   ]
  },
  {
   "cell_type": "code",
   "execution_count": 80,
   "metadata": {},
   "outputs": [
    {
     "data": {
      "text/html": [
       "<style  type=\"text/css\" >\n",
       "#T_0ba3b_row0_col0,#T_0ba3b_row0_col1{\n",
       "            background-color:  #67000d;\n",
       "            color:  #f1f1f1;\n",
       "        }#T_0ba3b_row1_col0{\n",
       "            background-color:  #fc8464;\n",
       "            color:  #000000;\n",
       "        }#T_0ba3b_row1_col1{\n",
       "            background-color:  #fc8060;\n",
       "            color:  #000000;\n",
       "        }#T_0ba3b_row2_col0,#T_0ba3b_row5_col0{\n",
       "            background-color:  #fee5d9;\n",
       "            color:  #000000;\n",
       "        }#T_0ba3b_row2_col1{\n",
       "            background-color:  #fee3d7;\n",
       "            color:  #000000;\n",
       "        }#T_0ba3b_row3_col0{\n",
       "            background-color:  #fca98c;\n",
       "            color:  #000000;\n",
       "        }#T_0ba3b_row3_col1{\n",
       "            background-color:  #fcaf93;\n",
       "            color:  #000000;\n",
       "        }#T_0ba3b_row4_col0{\n",
       "            background-color:  #fee7db;\n",
       "            color:  #000000;\n",
       "        }#T_0ba3b_row4_col1{\n",
       "            background-color:  #fee1d3;\n",
       "            color:  #000000;\n",
       "        }#T_0ba3b_row5_col1{\n",
       "            background-color:  #fee3d6;\n",
       "            color:  #000000;\n",
       "        }#T_0ba3b_row6_col0,#T_0ba3b_row6_col1{\n",
       "            background-color:  #fff5f0;\n",
       "            color:  #000000;\n",
       "        }</style><table id=\"T_0ba3b_\" ><thead>    <tr>        <th class=\"blank level0\" ></th>        <th class=\"col_heading level0 col0\" >balanced</th>        <th class=\"col_heading level0 col1\" >y_diff_dtw_euclid_norm</th>    </tr>    <tr>        <th class=\"index_name level0\" >input_excitation</th>        <th class=\"blank\" ></th>        <th class=\"blank\" ></th>    </tr></thead><tbody>\n",
       "                <tr>\n",
       "                        <th id=\"T_0ba3b_level0_row0\" class=\"row_heading level0 row0\" >0</th>\n",
       "                        <td id=\"T_0ba3b_row0_col0\" class=\"data row0 col0\" >0.255120</td>\n",
       "                        <td id=\"T_0ba3b_row0_col1\" class=\"data row0 col1\" >0.005418</td>\n",
       "            </tr>\n",
       "            <tr>\n",
       "                        <th id=\"T_0ba3b_level0_row1\" class=\"row_heading level0 row1\" >1</th>\n",
       "                        <td id=\"T_0ba3b_row1_col0\" class=\"data row1 col0\" >0.159835</td>\n",
       "                        <td id=\"T_0ba3b_row1_col1\" class=\"data row1 col1\" >0.003708</td>\n",
       "            </tr>\n",
       "            <tr>\n",
       "                        <th id=\"T_0ba3b_level0_row2\" class=\"row_heading level0 row2\" >2</th>\n",
       "                        <td id=\"T_0ba3b_row2_col0\" class=\"data row2 col0\" >0.106644</td>\n",
       "                        <td id=\"T_0ba3b_row2_col1\" class=\"data row2 col1\" >0.002725</td>\n",
       "            </tr>\n",
       "            <tr>\n",
       "                        <th id=\"T_0ba3b_level0_row3\" class=\"row_heading level0 row3\" >3</th>\n",
       "                        <td id=\"T_0ba3b_row3_col0\" class=\"data row3 col0\" >0.141250</td>\n",
       "                        <td id=\"T_0ba3b_row3_col1\" class=\"data row3 col1\" >0.003273</td>\n",
       "            </tr>\n",
       "            <tr>\n",
       "                        <th id=\"T_0ba3b_level0_row4\" class=\"row_heading level0 row4\" >4</th>\n",
       "                        <td id=\"T_0ba3b_row4_col0\" class=\"data row4 col0\" >0.105474</td>\n",
       "                        <td id=\"T_0ba3b_row4_col1\" class=\"data row4 col1\" >0.002781</td>\n",
       "            </tr>\n",
       "            <tr>\n",
       "                        <th id=\"T_0ba3b_level0_row5\" class=\"row_heading level0 row5\" >5</th>\n",
       "                        <td id=\"T_0ba3b_row5_col0\" class=\"data row5 col0\" >0.106614</td>\n",
       "                        <td id=\"T_0ba3b_row5_col1\" class=\"data row5 col1\" >0.002745</td>\n",
       "            </tr>\n",
       "            <tr>\n",
       "                        <th id=\"T_0ba3b_level0_row6\" class=\"row_heading level0 row6\" >6</th>\n",
       "                        <td id=\"T_0ba3b_row6_col0\" class=\"data row6 col0\" >0.090987</td>\n",
       "                        <td id=\"T_0ba3b_row6_col1\" class=\"data row6 col1\" >0.002404</td>\n",
       "            </tr>\n",
       "    </tbody></table>"
      ],
      "text/plain": [
       "<pandas.io.formats.style.Styler at 0x7f6cd0442250>"
      ]
     },
     "execution_count": 80,
     "metadata": {},
     "output_type": "execute_result"
    }
   ],
   "source": [
    "which_filter = 'y_diff_dtw_euclid_norm'\n",
    "df2_filtered.query('device_id == \"A\"').groupby(['input_excitation']).agg({'balanced': 'mean', which_filter: 'mean'}).style.background_gradient(cmap='Reds')"
   ]
  },
  {
   "cell_type": "code",
   "execution_count": 81,
   "metadata": {},
   "outputs": [
    {
     "name": "stdout",
     "output_type": "stream",
     "text": [
      "[0]\n",
      "[2 6]\n",
      "[2 6]\n"
     ]
    }
   ],
   "source": [
    "def which_inputs_to_drop(df, device, number_to_drop):\n",
    "    return (\n",
    "        df\n",
    "        .query(f'device_id == \"{device}\"')\n",
    "        .groupby(['device_id', 'input_excitation'])\n",
    "        .agg({which_filter: 'mean'})\n",
    "        .sort_values(by=which_filter, ascending=False)\n",
    "        .reset_index()\n",
    "        .iloc[:number_to_drop, :]['input_excitation']\n",
    "        .values\n",
    "    )\n",
    "\n",
    "indexes_to_drop = []\n",
    "for device, num in zip(['A', 'B', 'C'], [1, 2, 2]):\n",
    "    to_drop = which_inputs_to_drop(df2_filtered, device, num)\n",
    "    print(to_drop)\n",
    "    x = df2_filtered[df2_filtered['input_excitation'].isin(to_drop)]\n",
    "    x = x[x['device_id'] == device]\n",
    "    indexes_to_drop.append(x.index)\n",
    "    \n",
    "for idx in indexes_to_drop:\n",
    "    df2_filtered = df2_filtered.drop(idx)"
   ]
  },
  {
   "cell_type": "code",
   "execution_count": 82,
   "metadata": {},
   "outputs": [
    {
     "data": {
      "text/plain": [
       "32320"
      ]
     },
     "execution_count": 82,
     "metadata": {},
     "output_type": "execute_result"
    }
   ],
   "source": [
    "len(df2_filtered)"
   ]
  },
  {
   "cell_type": "code",
   "execution_count": 83,
   "metadata": {},
   "outputs": [],
   "source": [
    "df2_filtered = df2_filtered.drop(df2_filtered.query('input_excitation == 4 and device_id == \"A\"').index)"
   ]
  },
  {
   "cell_type": "code",
   "execution_count": 84,
   "metadata": {},
   "outputs": [
    {
     "data": {
      "text/plain": [
       "30300"
      ]
     },
     "execution_count": 84,
     "metadata": {},
     "output_type": "execute_result"
    }
   ],
   "source": [
    "len(df2_filtered)"
   ]
  },
  {
   "cell_type": "markdown",
   "metadata": {},
   "source": [
    "# Get the best parameter set for each objective function"
   ]
  },
  {
   "cell_type": "code",
   "execution_count": 85,
   "metadata": {},
   "outputs": [
    {
     "data": {
      "text/html": [
       "<div>\n",
       "<style scoped>\n",
       "    .dataframe tbody tr th:only-of-type {\n",
       "        vertical-align: middle;\n",
       "    }\n",
       "\n",
       "    .dataframe tbody tr th {\n",
       "        vertical-align: top;\n",
       "    }\n",
       "\n",
       "    .dataframe thead th {\n",
       "        text-align: right;\n",
       "    }\n",
       "</style>\n",
       "<table border=\"1\" class=\"dataframe\">\n",
       "  <thead>\n",
       "    <tr style=\"text-align: right;\">\n",
       "      <th></th>\n",
       "      <th>dtw_mech</th>\n",
       "      <th>dtw_elec</th>\n",
       "      <th>dtw_both</th>\n",
       "      <th>rms_perc_abs</th>\n",
       "      <th>rms_dtw_elec</th>\n",
       "      <th>balanced</th>\n",
       "    </tr>\n",
       "    <tr>\n",
       "      <th>model_id</th>\n",
       "      <th></th>\n",
       "      <th></th>\n",
       "      <th></th>\n",
       "      <th></th>\n",
       "      <th></th>\n",
       "      <th></th>\n",
       "    </tr>\n",
       "  </thead>\n",
       "  <tbody>\n",
       "    <tr>\n",
       "      <th>1590</th>\n",
       "      <td>0.005786</td>\n",
       "      <td>0.038501</td>\n",
       "      <td>0.249903</td>\n",
       "      <td>46.815516</td>\n",
       "      <td>0.025607</td>\n",
       "      <td>0.263902</td>\n",
       "    </tr>\n",
       "    <tr>\n",
       "      <th>1640</th>\n",
       "      <td>0.005389</td>\n",
       "      <td>0.037253</td>\n",
       "      <td>0.229880</td>\n",
       "      <td>40.882052</td>\n",
       "      <td>0.023296</td>\n",
       "      <td>0.242104</td>\n",
       "    </tr>\n",
       "    <tr>\n",
       "      <th>1840</th>\n",
       "      <td>0.003755</td>\n",
       "      <td>0.031941</td>\n",
       "      <td>0.147490</td>\n",
       "      <td>30.677824</td>\n",
       "      <td>0.017960</td>\n",
       "      <td>0.156663</td>\n",
       "    </tr>\n",
       "    <tr>\n",
       "      <th>1890</th>\n",
       "      <td>0.003404</td>\n",
       "      <td>0.031811</td>\n",
       "      <td>0.130257</td>\n",
       "      <td>29.860478</td>\n",
       "      <td>0.017659</td>\n",
       "      <td>0.139186</td>\n",
       "    </tr>\n",
       "    <tr>\n",
       "      <th>1930</th>\n",
       "      <td>0.003099</td>\n",
       "      <td>0.031556</td>\n",
       "      <td>0.115199</td>\n",
       "      <td>29.435763</td>\n",
       "      <td>0.017423</td>\n",
       "      <td>0.124001</td>\n",
       "    </tr>\n",
       "  </tbody>\n",
       "</table>\n",
       "</div>"
      ],
      "text/plain": [
       "          dtw_mech  dtw_elec  dtw_both  rms_perc_abs  rms_dtw_elec  balanced\n",
       "model_id                                                                    \n",
       "1590      0.005786  0.038501  0.249903     46.815516      0.025607  0.263902\n",
       "1640      0.005389  0.037253  0.229880     40.882052      0.023296  0.242104\n",
       "1840      0.003755  0.031941  0.147490     30.677824      0.017960  0.156663\n",
       "1890      0.003404  0.031811  0.130257     29.860478      0.017659  0.139186\n",
       "1930      0.003099  0.031556  0.115199     29.435763      0.017423  0.124001"
      ]
     },
     "execution_count": 85,
     "metadata": {},
     "output_type": "execute_result"
    }
   ],
   "source": [
    "df_scores = df2_filtered.groupby(['model_id']).agg({\n",
    "    'dtw_mech': 'mean',\n",
    "    'dtw_elec': 'mean',\n",
    "    'dtw_both': 'mean',\n",
    "    'rms_perc_abs': 'mean',\n",
    "    'rms_dtw_elec': 'mean',\n",
    "    'balanced': 'mean'\n",
    "})\n",
    "df_scores.head()"
   ]
  },
  {
   "cell_type": "code",
   "execution_count": 86,
   "metadata": {},
   "outputs": [
    {
     "data": {
      "text/plain": [
       "{'dtw_mech': 4726,\n",
       " 'dtw_elec': 4315,\n",
       " 'dtw_both': 4726,\n",
       " 'rms_perc_abs': 5540,\n",
       " 'rms_dtw_elec': 5658,\n",
       " 'balanced': 4315}"
      ]
     },
     "execution_count": 86,
     "metadata": {},
     "output_type": "execute_result"
    }
   ],
   "source": [
    "# Get the best performing model ids for each objective function\n",
    "best_model_ids = {}\n",
    "for obj_func in df_scores.columns:\n",
    "    best_model_id = df_scores.sort_values(by=obj_func).index[0]\n",
    "    best_model_ids[obj_func] = best_model_id\n",
    "    \n",
    "best_model_ids"
   ]
  },
  {
   "cell_type": "code",
   "execution_count": 87,
   "metadata": {},
   "outputs": [
    {
     "data": {
      "text/html": [
       "<div>\n",
       "<style scoped>\n",
       "    .dataframe tbody tr th:only-of-type {\n",
       "        vertical-align: middle;\n",
       "    }\n",
       "\n",
       "    .dataframe tbody tr th {\n",
       "        vertical-align: top;\n",
       "    }\n",
       "\n",
       "    .dataframe thead th {\n",
       "        text-align: right;\n",
       "    }\n",
       "</style>\n",
       "<table border=\"1\" class=\"dataframe\">\n",
       "  <thead>\n",
       "    <tr style=\"text-align: right;\">\n",
       "      <th></th>\n",
       "      <th>model_id</th>\n",
       "      <th>y_diff_dtw_distance</th>\n",
       "      <th>rms_perc_diff</th>\n",
       "      <th>emf_dtw_distance</th>\n",
       "      <th>damper.cdc</th>\n",
       "      <th>damper.mdc</th>\n",
       "      <th>coupling_model.coupling_constant</th>\n",
       "      <th>mechanical_spring.damping_coefficient</th>\n",
       "      <th>coil_config.coil_resistance</th>\n",
       "      <th>load_model.R</th>\n",
       "      <th>...</th>\n",
       "      <th>device_id</th>\n",
       "      <th>dtw_mech</th>\n",
       "      <th>dtw_elec</th>\n",
       "      <th>rms_perc_abs</th>\n",
       "      <th>dtw_mech_norm</th>\n",
       "      <th>dtw_elec_norm</th>\n",
       "      <th>rms_perc_abs_norm</th>\n",
       "      <th>dtw_both</th>\n",
       "      <th>rms_dtw_elec</th>\n",
       "      <th>balanced</th>\n",
       "    </tr>\n",
       "  </thead>\n",
       "  <tbody>\n",
       "    <tr>\n",
       "      <th>10339</th>\n",
       "      <td>4315</td>\n",
       "      <td>12.644101</td>\n",
       "      <td>34.826814</td>\n",
       "      <td>101.320653</td>\n",
       "      <td>4.614286</td>\n",
       "      <td>0.01</td>\n",
       "      <td>4.166667</td>\n",
       "      <td>2.5</td>\n",
       "      <td>12.5</td>\n",
       "      <td>30</td>\n",
       "      <td>...</td>\n",
       "      <td>A</td>\n",
       "      <td>0.003287</td>\n",
       "      <td>0.030036</td>\n",
       "      <td>34.826814</td>\n",
       "      <td>0.115779</td>\n",
       "      <td>0.007967</td>\n",
       "      <td>0.010414</td>\n",
       "      <td>0.123746</td>\n",
       "      <td>0.018381</td>\n",
       "      <td>0.134160</td>\n",
       "    </tr>\n",
       "    <tr>\n",
       "      <th>22135</th>\n",
       "      <td>4315</td>\n",
       "      <td>9.009893</td>\n",
       "      <td>16.805288</td>\n",
       "      <td>112.531885</td>\n",
       "      <td>4.614286</td>\n",
       "      <td>0.01</td>\n",
       "      <td>4.166667</td>\n",
       "      <td>2.5</td>\n",
       "      <td>12.5</td>\n",
       "      <td>30</td>\n",
       "      <td>...</td>\n",
       "      <td>A</td>\n",
       "      <td>0.002395</td>\n",
       "      <td>0.030523</td>\n",
       "      <td>16.805288</td>\n",
       "      <td>0.072058</td>\n",
       "      <td>0.008177</td>\n",
       "      <td>0.005025</td>\n",
       "      <td>0.080234</td>\n",
       "      <td>0.013202</td>\n",
       "      <td>0.085259</td>\n",
       "    </tr>\n",
       "    <tr>\n",
       "      <th>29023</th>\n",
       "      <td>4315</td>\n",
       "      <td>11.259834</td>\n",
       "      <td>49.514766</td>\n",
       "      <td>81.545822</td>\n",
       "      <td>4.614286</td>\n",
       "      <td>0.01</td>\n",
       "      <td>4.166667</td>\n",
       "      <td>2.5</td>\n",
       "      <td>12.5</td>\n",
       "      <td>30</td>\n",
       "      <td>...</td>\n",
       "      <td>A</td>\n",
       "      <td>0.002177</td>\n",
       "      <td>0.026871</td>\n",
       "      <td>49.514766</td>\n",
       "      <td>0.061370</td>\n",
       "      <td>0.006606</td>\n",
       "      <td>0.014806</td>\n",
       "      <td>0.067976</td>\n",
       "      <td>0.021412</td>\n",
       "      <td>0.082782</td>\n",
       "    </tr>\n",
       "    <tr>\n",
       "      <th>42067</th>\n",
       "      <td>4315</td>\n",
       "      <td>4.888007</td>\n",
       "      <td>23.275706</td>\n",
       "      <td>92.600392</td>\n",
       "      <td>4.614286</td>\n",
       "      <td>0.01</td>\n",
       "      <td>4.166667</td>\n",
       "      <td>2.5</td>\n",
       "      <td>12.5</td>\n",
       "      <td>30</td>\n",
       "      <td>...</td>\n",
       "      <td>A</td>\n",
       "      <td>0.001420</td>\n",
       "      <td>0.023036</td>\n",
       "      <td>23.275706</td>\n",
       "      <td>0.024267</td>\n",
       "      <td>0.004956</td>\n",
       "      <td>0.006960</td>\n",
       "      <td>0.029223</td>\n",
       "      <td>0.011915</td>\n",
       "      <td>0.036183</td>\n",
       "    </tr>\n",
       "    <tr>\n",
       "      <th>51391</th>\n",
       "      <td>4315</td>\n",
       "      <td>6.489506</td>\n",
       "      <td>22.639437</td>\n",
       "      <td>65.435280</td>\n",
       "      <td>4.614286</td>\n",
       "      <td>0.01</td>\n",
       "      <td>4.166667</td>\n",
       "      <td>2.5</td>\n",
       "      <td>12.5</td>\n",
       "      <td>30</td>\n",
       "      <td>...</td>\n",
       "      <td>A</td>\n",
       "      <td>0.001705</td>\n",
       "      <td>0.022555</td>\n",
       "      <td>22.639437</td>\n",
       "      <td>0.038245</td>\n",
       "      <td>0.004749</td>\n",
       "      <td>0.006770</td>\n",
       "      <td>0.042994</td>\n",
       "      <td>0.011518</td>\n",
       "      <td>0.049763</td>\n",
       "    </tr>\n",
       "  </tbody>\n",
       "</table>\n",
       "<p>5 rows × 25 columns</p>\n",
       "</div>"
      ],
      "text/plain": [
       "       model_id  y_diff_dtw_distance  rms_perc_diff  emf_dtw_distance  \\\n",
       "10339      4315            12.644101      34.826814        101.320653   \n",
       "22135      4315             9.009893      16.805288        112.531885   \n",
       "29023      4315            11.259834      49.514766         81.545822   \n",
       "42067      4315             4.888007      23.275706         92.600392   \n",
       "51391      4315             6.489506      22.639437         65.435280   \n",
       "\n",
       "       damper.cdc  damper.mdc  coupling_model.coupling_constant  \\\n",
       "10339    4.614286        0.01                          4.166667   \n",
       "22135    4.614286        0.01                          4.166667   \n",
       "29023    4.614286        0.01                          4.166667   \n",
       "42067    4.614286        0.01                          4.166667   \n",
       "51391    4.614286        0.01                          4.166667   \n",
       "\n",
       "       mechanical_spring.damping_coefficient  coil_config.coil_resistance  \\\n",
       "10339                                    2.5                         12.5   \n",
       "22135                                    2.5                         12.5   \n",
       "29023                                    2.5                         12.5   \n",
       "42067                                    2.5                         12.5   \n",
       "51391                                    2.5                         12.5   \n",
       "\n",
       "       load_model.R  ...  device_id  dtw_mech  dtw_elec  rms_perc_abs  \\\n",
       "10339            30  ...          A  0.003287  0.030036     34.826814   \n",
       "22135            30  ...          A  0.002395  0.030523     16.805288   \n",
       "29023            30  ...          A  0.002177  0.026871     49.514766   \n",
       "42067            30  ...          A  0.001420  0.023036     23.275706   \n",
       "51391            30  ...          A  0.001705  0.022555     22.639437   \n",
       "\n",
       "       dtw_mech_norm dtw_elec_norm  rms_perc_abs_norm  dtw_both  rms_dtw_elec  \\\n",
       "10339       0.115779      0.007967           0.010414  0.123746      0.018381   \n",
       "22135       0.072058      0.008177           0.005025  0.080234      0.013202   \n",
       "29023       0.061370      0.006606           0.014806  0.067976      0.021412   \n",
       "42067       0.024267      0.004956           0.006960  0.029223      0.011915   \n",
       "51391       0.038245      0.004749           0.006770  0.042994      0.011518   \n",
       "\n",
       "       balanced  \n",
       "10339  0.134160  \n",
       "22135  0.085259  \n",
       "29023  0.082782  \n",
       "42067  0.036183  \n",
       "51391  0.049763  \n",
       "\n",
       "[5 rows x 25 columns]"
      ]
     },
     "execution_count": 87,
     "metadata": {},
     "output_type": "execute_result"
    }
   ],
   "source": [
    "df2_filtered.query('`model_id` == 4315').head() # Check out the parameters"
   ]
  },
  {
   "cell_type": "code",
   "execution_count": 88,
   "metadata": {},
   "outputs": [],
   "source": [
    "best_param_sets = [v for v in best_model_ids.values()]"
   ]
  },
  {
   "cell_type": "code",
   "execution_count": 89,
   "metadata": {},
   "outputs": [],
   "source": [
    "letters = [r'$A$', r'$B$', r'$C$', r'$D$', r'$E$', r'$F$', 'G']\n",
    "letter_index = 0\n",
    "seen_model_ids = []\n",
    "model_id_to_letter_mapping = {}\n",
    "\n",
    "for k, v in best_model_ids.items():\n",
    "    if v not in model_id_to_letter_mapping.keys():\n",
    "        model_id_to_letter_mapping[v] = letters[letter_index]\n",
    "        letter_index += 1"
   ]
  },
  {
   "cell_type": "code",
   "execution_count": 90,
   "metadata": {},
   "outputs": [
    {
     "data": {
      "text/plain": [
       "{4726: '$A$', 4315: '$B$', 5540: '$C$', 5658: '$D$'}"
      ]
     },
     "execution_count": 90,
     "metadata": {},
     "output_type": "execute_result"
    }
   ],
   "source": [
    "model_id_to_letter_mapping "
   ]
  },
  {
   "cell_type": "markdown",
   "metadata": {},
   "source": [
    "## Filter according to the best parameter sets"
   ]
  },
  {
   "cell_type": "code",
   "execution_count": 91,
   "metadata": {},
   "outputs": [
    {
     "name": "stderr",
     "output_type": "stream",
     "text": [
      "/home/michael/miniconda3/envs/ds/lib/python3.7/site-packages/ipykernel_launcher.py:2: SettingWithCopyWarning: \n",
      "A value is trying to be set on a copy of a slice from a DataFrame.\n",
      "Try using .loc[row_indexer,col_indexer] = value instead\n",
      "\n",
      "See the caveats in the documentation: https://pandas.pydata.org/pandas-docs/stable/user_guide/indexing.html#returning-a-view-versus-a-copy\n"
     ]
    },
    {
     "data": {
      "text/html": [
       "<div>\n",
       "<style scoped>\n",
       "    .dataframe tbody tr th:only-of-type {\n",
       "        vertical-align: middle;\n",
       "    }\n",
       "\n",
       "    .dataframe tbody tr th {\n",
       "        vertical-align: top;\n",
       "    }\n",
       "\n",
       "    .dataframe thead th {\n",
       "        text-align: right;\n",
       "    }\n",
       "</style>\n",
       "<table border=\"1\" class=\"dataframe\">\n",
       "  <thead>\n",
       "    <tr style=\"text-align: right;\">\n",
       "      <th></th>\n",
       "      <th>model.id</th>\n",
       "      <th>y.diff.dtw.distance</th>\n",
       "      <th>rms.perc.diff</th>\n",
       "      <th>emf.dtw.distance</th>\n",
       "      <th>damper.cdc</th>\n",
       "      <th>damper.mdc</th>\n",
       "      <th>coupling.model.coupling.constant</th>\n",
       "      <th>mechanical.spring.damping.coefficient</th>\n",
       "      <th>coil.config.coil.resistance</th>\n",
       "      <th>load.model.R</th>\n",
       "      <th>...</th>\n",
       "      <th>dtw.mech</th>\n",
       "      <th>dtw.elec</th>\n",
       "      <th>rms.perc.abs</th>\n",
       "      <th>dtw.mech.norm</th>\n",
       "      <th>dtw.elec.norm</th>\n",
       "      <th>rms.perc.abs.norm</th>\n",
       "      <th>dtw.both</th>\n",
       "      <th>rms.dtw.elec</th>\n",
       "      <th>balanced</th>\n",
       "      <th>metric.name</th>\n",
       "    </tr>\n",
       "  </thead>\n",
       "  <tbody>\n",
       "    <tr>\n",
       "      <th>8130</th>\n",
       "      <td>5658</td>\n",
       "      <td>16.286069</td>\n",
       "      <td>26.846331</td>\n",
       "      <td>101.901505</td>\n",
       "      <td>6.307143</td>\n",
       "      <td>0.005000</td>\n",
       "      <td>6.666667</td>\n",
       "      <td>0.0</td>\n",
       "      <td>12.5</td>\n",
       "      <td>30</td>\n",
       "      <td>...</td>\n",
       "      <td>0.003454</td>\n",
       "      <td>0.032344</td>\n",
       "      <td>26.846331</td>\n",
       "      <td>0.123958</td>\n",
       "      <td>0.008960</td>\n",
       "      <td>0.008028</td>\n",
       "      <td>0.132918</td>\n",
       "      <td>0.016988</td>\n",
       "      <td>0.140945</td>\n",
       "      <td>$D$</td>\n",
       "    </tr>\n",
       "    <tr>\n",
       "      <th>10339</th>\n",
       "      <td>4315</td>\n",
       "      <td>12.644101</td>\n",
       "      <td>34.826814</td>\n",
       "      <td>101.320653</td>\n",
       "      <td>4.614286</td>\n",
       "      <td>0.010000</td>\n",
       "      <td>4.166667</td>\n",
       "      <td>2.5</td>\n",
       "      <td>12.5</td>\n",
       "      <td>30</td>\n",
       "      <td>...</td>\n",
       "      <td>0.003287</td>\n",
       "      <td>0.030036</td>\n",
       "      <td>34.826814</td>\n",
       "      <td>0.115779</td>\n",
       "      <td>0.007967</td>\n",
       "      <td>0.010414</td>\n",
       "      <td>0.123746</td>\n",
       "      <td>0.018381</td>\n",
       "      <td>0.134160</td>\n",
       "      <td>$B$</td>\n",
       "    </tr>\n",
       "    <tr>\n",
       "      <th>11734</th>\n",
       "      <td>4726</td>\n",
       "      <td>13.065541</td>\n",
       "      <td>33.840045</td>\n",
       "      <td>99.715557</td>\n",
       "      <td>5.178571</td>\n",
       "      <td>0.006667</td>\n",
       "      <td>5.000000</td>\n",
       "      <td>5.0</td>\n",
       "      <td>12.5</td>\n",
       "      <td>30</td>\n",
       "      <td>...</td>\n",
       "      <td>0.003600</td>\n",
       "      <td>0.029757</td>\n",
       "      <td>33.840045</td>\n",
       "      <td>0.131136</td>\n",
       "      <td>0.007847</td>\n",
       "      <td>0.010119</td>\n",
       "      <td>0.138983</td>\n",
       "      <td>0.017966</td>\n",
       "      <td>0.149102</td>\n",
       "      <td>$A$</td>\n",
       "    </tr>\n",
       "    <tr>\n",
       "      <th>12956</th>\n",
       "      <td>5540</td>\n",
       "      <td>8.723749</td>\n",
       "      <td>4.944005</td>\n",
       "      <td>84.631399</td>\n",
       "      <td>6.307143</td>\n",
       "      <td>0.000000</td>\n",
       "      <td>0.000000</td>\n",
       "      <td>10.0</td>\n",
       "      <td>12.5</td>\n",
       "      <td>30</td>\n",
       "      <td>...</td>\n",
       "      <td>0.002506</td>\n",
       "      <td>0.030304</td>\n",
       "      <td>4.944005</td>\n",
       "      <td>0.077496</td>\n",
       "      <td>0.008082</td>\n",
       "      <td>0.001478</td>\n",
       "      <td>0.085578</td>\n",
       "      <td>0.009561</td>\n",
       "      <td>0.087056</td>\n",
       "      <td>$C$</td>\n",
       "    </tr>\n",
       "    <tr>\n",
       "      <th>16122</th>\n",
       "      <td>5658</td>\n",
       "      <td>9.357302</td>\n",
       "      <td>8.710477</td>\n",
       "      <td>104.970319</td>\n",
       "      <td>6.307143</td>\n",
       "      <td>0.005000</td>\n",
       "      <td>6.666667</td>\n",
       "      <td>0.0</td>\n",
       "      <td>12.5</td>\n",
       "      <td>30</td>\n",
       "      <td>...</td>\n",
       "      <td>0.002151</td>\n",
       "      <td>0.027820</td>\n",
       "      <td>8.710477</td>\n",
       "      <td>0.060094</td>\n",
       "      <td>0.007014</td>\n",
       "      <td>0.002605</td>\n",
       "      <td>0.067108</td>\n",
       "      <td>0.009618</td>\n",
       "      <td>0.069712</td>\n",
       "      <td>$D$</td>\n",
       "    </tr>\n",
       "  </tbody>\n",
       "</table>\n",
       "<p>5 rows × 26 columns</p>\n",
       "</div>"
      ],
      "text/plain": [
       "       model.id  y.diff.dtw.distance  rms.perc.diff  emf.dtw.distance  \\\n",
       "8130       5658            16.286069      26.846331        101.901505   \n",
       "10339      4315            12.644101      34.826814        101.320653   \n",
       "11734      4726            13.065541      33.840045         99.715557   \n",
       "12956      5540             8.723749       4.944005         84.631399   \n",
       "16122      5658             9.357302       8.710477        104.970319   \n",
       "\n",
       "       damper.cdc  damper.mdc  coupling.model.coupling.constant  \\\n",
       "8130     6.307143    0.005000                          6.666667   \n",
       "10339    4.614286    0.010000                          4.166667   \n",
       "11734    5.178571    0.006667                          5.000000   \n",
       "12956    6.307143    0.000000                          0.000000   \n",
       "16122    6.307143    0.005000                          6.666667   \n",
       "\n",
       "       mechanical.spring.damping.coefficient  coil.config.coil.resistance  \\\n",
       "8130                                     0.0                         12.5   \n",
       "10339                                    2.5                         12.5   \n",
       "11734                                    5.0                         12.5   \n",
       "12956                                   10.0                         12.5   \n",
       "16122                                    0.0                         12.5   \n",
       "\n",
       "       load.model.R  ...  dtw.mech  dtw.elec  rms.perc.abs  dtw.mech.norm  \\\n",
       "8130             30  ...  0.003454  0.032344     26.846331       0.123958   \n",
       "10339            30  ...  0.003287  0.030036     34.826814       0.115779   \n",
       "11734            30  ...  0.003600  0.029757     33.840045       0.131136   \n",
       "12956            30  ...  0.002506  0.030304      4.944005       0.077496   \n",
       "16122            30  ...  0.002151  0.027820      8.710477       0.060094   \n",
       "\n",
       "       dtw.elec.norm rms.perc.abs.norm  dtw.both  rms.dtw.elec  balanced  \\\n",
       "8130        0.008960          0.008028  0.132918      0.016988  0.140945   \n",
       "10339       0.007967          0.010414  0.123746      0.018381  0.134160   \n",
       "11734       0.007847          0.010119  0.138983      0.017966  0.149102   \n",
       "12956       0.008082          0.001478  0.085578      0.009561  0.087056   \n",
       "16122       0.007014          0.002605  0.067108      0.009618  0.069712   \n",
       "\n",
       "       metric.name  \n",
       "8130           $D$  \n",
       "10339          $B$  \n",
       "11734          $A$  \n",
       "12956          $C$  \n",
       "16122          $D$  \n",
       "\n",
       "[5 rows x 26 columns]"
      ]
     },
     "execution_count": 91,
     "metadata": {},
     "output_type": "execute_result"
    }
   ],
   "source": [
    "df_filtered_scores = df2_filtered[df2_filtered.model_id.isin(best_param_sets)]\n",
    "df_filtered_scores['metric_name'] = df_filtered_scores['model_id'].apply(lambda x: model_id_to_letter_mapping[x])\n",
    "df_filtered_scores.head()\n",
    "\n",
    "df_filtered_scores.columns = [col.replace('_', '.') for col in df_filtered_scores.columns]  # To not have latex rendering complain\n",
    "df_filtered_scores.head()"
   ]
  },
  {
   "cell_type": "markdown",
   "metadata": {},
   "source": [
    "# Plots"
   ]
  },
  {
   "cell_type": "code",
   "execution_count": 92,
   "metadata": {},
   "outputs": [],
   "source": [
    "df_filtered_scores_melt = df_filtered_scores.melt(id_vars=['model.id', 'metric.name'])\n",
    "df_filtered_scores_melt.to_csv('best_param_set_scores.csv')  # Write out"
   ]
  },
  {
   "cell_type": "code",
   "execution_count": 93,
   "metadata": {},
   "outputs": [],
   "source": [
    "def phd_theme():\n",
    "    return theme(\n",
    "        axis_line=element_line(color='black', size=0.5),\n",
    "        axis_ticks=element_line(size=0.5),\n",
    "        axis_title_x=element_text(size=16, margin={'t': 12}),\n",
    "        axis_title_y=element_text(size=16),\n",
    "        strip_text=element_text(size=16),\n",
    "        axis_text=element_text(size=12),\n",
    "        panel_background=element_blank(),\n",
    "        panel_border=element_blank(),\n",
    "        panel_grid=element_blank(),\n",
    "        legend_key=element_blank(),\n",
    "        legend_title=element_blank(),\n",
    "        legend_background=element_blank(),\n",
    "        legend_position=(0.8, 0.8),\n",
    "        legend_direction='vertical',\n",
    "    )"
   ]
  },
  {
   "cell_type": "code",
   "execution_count": 94,
   "metadata": {},
   "outputs": [
    {
     "name": "stderr",
     "output_type": "stream",
     "text": [
      "/home/michael/miniconda3/envs/ds/lib/python3.7/site-packages/ipykernel_launcher.py:8: SettingWithCopyWarning: \n",
      "A value is trying to be set on a copy of a slice from a DataFrame.\n",
      "Try using .loc[row_indexer,col_indexer] = value instead\n",
      "\n",
      "See the caveats in the documentation: https://pandas.pydata.org/pandas-docs/stable/user_guide/indexing.html#returning-a-view-versus-a-copy\n",
      "/home/michael/miniconda3/envs/ds/lib/python3.7/site-packages/plotnine/facets/facet_grid.py:136: FutureWarning: Index.__and__ operating as a set operation is deprecated, in the future this will be a logical operation matching Series.__and__.  Use index.intersection(other) instead\n",
      "/home/michael/miniconda3/envs/ds/lib/python3.7/site-packages/plotnine/facets/facet_grid.py:137: FutureWarning: Index.__and__ operating as a set operation is deprecated, in the future this will be a logical operation matching Series.__and__.  Use index.intersection(other) instead\n"
     ]
    },
    {
     "data": {
      "image/png": "[encoded data removed]",
      "text/plain": [
       "<Figure size 400x800 with 3 Axes>"
      ]
     },
     "metadata": {},
     "output_type": "display_data"
    },
    {
     "data": {
      "text/plain": [
       "<ggplot: (8756576259229)>"
      ]
     },
     "execution_count": 94,
     "metadata": {},
     "output_type": "execute_result"
    }
   ],
   "source": [
    "from plotnine import *\n",
    "from matplotlib import rc\n",
    "rc('font', family='serif')\n",
    "rc('text.latex', preamble=r'\\usepackage{amsmath}')\n",
    "rc('text', usetex=True)\n",
    "\n",
    "df_plot = df_filtered_scores_melt[df_filtered_scores_melt['variable'].isin(['emf.dtw.euclid.norm', 'y.diff.dtw.euclid.norm', 'rms.perc.diff'])]\n",
    "df_plot['value'] = df_plot['value'].astype(float)\n",
    "\n",
    "cols_rename = {'emf.dtw.euclid.norm': r'$\\text{DTW}(V_{\\text{l}}, \\hat{V}_{\\text{l}})$',\n",
    "               'y.diff.dtw.euclid.norm': r'$\\text{DTW}(y_{\\text{diff}},  \\hat{y}_{\\text{diff}})$',\n",
    "               'rms.perc.diff': r'$\\text{RMS\\%}(V_{\\text{l}}, \\hat{V}_{\\text{l}})$'}\n",
    "\n",
    "lblr = labeller(rows=lambda y: cols_rename[y])\n",
    "\n",
    "p = ggplot(aes(x='metric.name', y='value'), df_plot)\n",
    "p = (\n",
    "    p\n",
    "    + geom_boxplot()\n",
    "    + facet_grid('variable ~ .', scales='free_y', labeller=lblr)\n",
    "    + phd_theme()\n",
    "    + theme(figure_size=(4, 8))\n",
    "    + xlab('Parameter Set')\n",
    "    + ylab('Value')\n",
    ")\n",
    "#p.save('/home/michael/Nextcloud/PhD/LaTeX/Journal2/img/metric_density.pdf', dpi=200)\n",
    "p"
   ]
  },
  {
   "cell_type": "code",
   "execution_count": 95,
   "metadata": {},
   "outputs": [
    {
     "name": "stderr",
     "output_type": "stream",
     "text": [
      "/home/michael/miniconda3/envs/ds/lib/python3.7/site-packages/distributed/node.py:155: UserWarning: Port 8787 is already in use.\n",
      "Perhaps you already have a cluster running?\n",
      "Hosting the HTTP server on port 43957 instead\n"
     ]
    },
    {
     "data": {
      "text/html": [
       "<table style=\"border: 2px solid white;\">\n",
       "<tr>\n",
       "<td style=\"vertical-align: top; border: 0px solid white\">\n",
       "<h3 style=\"text-align: left;\">Client</h3>\n",
       "<ul style=\"text-align: left; list-style: none; margin: 0; padding: 0;\">\n",
       "  <li><b>Scheduler: </b>tcp://127.0.0.1:39495</li>\n",
       "  <li><b>Dashboard: </b><a href='http://127.0.0.1:43957/status' target='_blank'>http://127.0.0.1:43957/status</a></li>\n",
       "</ul>\n",
       "</td>\n",
       "<td style=\"vertical-align: top; border: 0px solid white\">\n",
       "<h3 style=\"text-align: left;\">Cluster</h3>\n",
       "<ul style=\"text-align: left; list-style:none; margin: 0; padding: 0;\">\n",
       "  <li><b>Workers: </b>6</li>\n",
       "  <li><b>Cores: </b>24</li>\n",
       "  <li><b>Memory: </b>31.33 GiB</li>\n",
       "</ul>\n",
       "</td>\n",
       "</tr>\n",
       "</table>"
      ],
      "text/plain": [
       "<Client: 'tcp://127.0.0.1:39495' processes=6 threads=24, memory=31.33 GiB>"
      ]
     },
     "execution_count": 95,
     "metadata": {},
     "output_type": "execute_result"
    }
   ],
   "source": [
    "import dask.dataframe as dd\n",
    "from dask.distributed import Client\n",
    "Client()"
   ]
  },
  {
   "cell_type": "code",
   "execution_count": 35,
   "metadata": {},
   "outputs": [],
   "source": [
    "# Ok, let's try load the groundtruth\n",
    "# Let's get some groundtruth in here\n",
    "from unified_model import evaluate\n",
    "from unified_model import metrics\n",
    "from unified_model.utils.utils import collect_samples\n",
    "from scipy.signal import savgol_filter\n",
    "\n",
    "from dataclasses import dataclass\n",
    "from typing import Any\n",
    "\n",
    "\n",
    "@dataclass\n",
    "class MechanicalGroundtruth:\n",
    "    y_diff: Any\n",
    "    time: Any\n",
    "\n",
    "@dataclass\n",
    "class ElectricalGroundtruth:\n",
    "    emf: Any\n",
    "    time: Any\n",
    "\n",
    "@dataclass\n",
    "class Groundtruth:\n",
    "    mech: MechanicalGroundtruth\n",
    "    elec: ElectricalGroundtruth\n",
    "\n",
    "class GroundTruthFactory:\n",
    "    def __init__(self,\n",
    "                 samples_list,\n",
    "                 lvp_kwargs,\n",
    "                 adc_kwargs):\n",
    "        \"\"\"Helper Factory to get groundtruth data in a batch.\"\"\"\n",
    "        \n",
    "        self.samples_list = samples_list\n",
    "        self.lvp_kwargs = lvp_kwargs\n",
    "        self.adc_kwargs = adc_kwargs\n",
    "\n",
    "        self.lvp = evaluate.LabeledVideoProcessor(**lvp_kwargs)\n",
    "        self.adc = evaluate.AdcProcessor(**adc_kwargs)\n",
    "\n",
    "    def _make_mechanical_groundtruth(self, sample):\n",
    "        y_target, y_time_target = self.lvp.fit_transform(\n",
    "            sample.video_labels_df,\n",
    "            impute_missing_values=True\n",
    "        )\n",
    "        y_target = savgol_filter(y_target, 9, 3)\n",
    "\n",
    "        return MechanicalGroundtruth(y_target,\n",
    "                                     y_time_target)\n",
    "\n",
    "    def _make_electrical_groundtruth(self, sample):\n",
    "        emf_target, emf_time_target = self.adc.fit_transform(sample.adc_df)\n",
    "        return ElectricalGroundtruth(emf_target,\n",
    "                                     emf_time_target)\n",
    "\n",
    "    def make(self):\n",
    "        groundtruths = []\n",
    "        for sample in self.samples_list:\n",
    "            try:\n",
    "                mech_groundtruth = self._make_mechanical_groundtruth(sample)\n",
    "                elec_groundtruth = self._make_electrical_groundtruth(sample)\n",
    "\n",
    "                groundtruths.append(\n",
    "                    Groundtruth(mech_groundtruth, elec_groundtruth)\n",
    "                )\n",
    "            except AttributeError:\n",
    "                pass\n",
    "\n",
    "        return groundtruths\n",
    "# Prepare data\n",
    "base_groundtruth_path = '../data/2019-05-23_D/'\n",
    "samples = {}\n",
    "samples['A'] = collect_samples(base_path=base_groundtruth_path,\n",
    "                               acc_pattern='A/*acc*.csv',\n",
    "                               adc_pattern='A/*adc*.csv',\n",
    "                               video_label_pattern='A/*labels*.csv')\n",
    "samples['B'] = collect_samples(base_path=base_groundtruth_path,\n",
    "                               acc_pattern='B/*acc*.csv',\n",
    "                               adc_pattern='B/*adc*.csv',\n",
    "                               video_label_pattern='B/*labels*.csv')\n",
    "samples['C'] = collect_samples(base_path=base_groundtruth_path,\n",
    "                               acc_pattern='C/*acc*.csv',\n",
    "                               adc_pattern='C/*adc*.csv',\n",
    "                               video_label_pattern='C/*labels*.csv')\n",
    "\n"
   ]
  },
  {
   "cell_type": "code",
   "execution_count": 36,
   "metadata": {},
   "outputs": [],
   "source": [
    "# Groundtruth\n",
    "\n",
    "from unified_model.mechanical_components.magnet_assembly import MagnetAssembly\n",
    "magnet_assembly = MagnetAssembly(\n",
    "    m=1,\n",
    "    l_m_mm=10,\n",
    "    l_mcd_mm=0,\n",
    "    dia_magnet_mm=10,\n",
    "    dia_spacer_mm=10,\n",
    "    mat_magnet='NdFeB',\n",
    "    mat_spacer='iron'\n",
    ")\n",
    "\n",
    "groundtruth = {}\n",
    "for device in ['A', 'B', 'C']:\n",
    "    groundtruth_factory = GroundTruthFactory(samples[device],\n",
    "                                            lvp_kwargs=dict(magnet_assembly=magnet_assembly,\n",
    "                                                            seconds_per_frame=1/60,\n",
    "                                                            pixel_scale=0.154508),\n",
    "                                            adc_kwargs=dict(voltage_division_ratio=1 / 0.342))\n",
    "    groundtruth[device] = groundtruth_factory.make()"
   ]
  },
  {
   "cell_type": "code",
   "execution_count": 37,
   "metadata": {},
   "outputs": [
    {
     "data": {
      "text/plain": [
       "0.05778566987196727"
      ]
     },
     "execution_count": 37,
     "metadata": {},
     "output_type": "execute_result"
    }
   ],
   "source": [
    "magnet_assembly.get_weight()"
   ]
  },
  {
   "cell_type": "code",
   "execution_count": 38,
   "metadata": {},
   "outputs": [],
   "source": [
    "# Let's look at some examples from each"
   ]
  },
  {
   "cell_type": "code",
   "execution_count": 39,
   "metadata": {},
   "outputs": [],
   "source": [
    "import dask.dataframe as dd \n",
    "\n",
    "def get_curve(df_curves_path, model_id, input_excitation_number):\n",
    "    #df_curves = vaex.open(df_curves_path)[['model_id', 'input_excitation_number', 'device_id', 'time', 'emf', 'y_diff']]\n",
    "    df_curves = dd.read_parquet(df_curves_path,\n",
    "                                columns=['model_id', 'input_excitation', 'time', 'emf', 'y_diff'],\n",
    "                                filters=[('input_excitation', '==', input_excitation_number)])\n",
    "    df_temp = df_curves[df_curves['model_id'] == model_id]\n",
    "    df_temp = df_temp[df_temp['input_excitation'] == input_excitation_number]\n",
    "    df_temp = df_temp.compute()\n",
    "    return df_temp.sort_values(by='time')"
   ]
  },
  {
   "cell_type": "code",
   "execution_count": 40,
   "metadata": {},
   "outputs": [],
   "source": [
    "def compare_mech(df_curves_path, groundtruth, model_id, device, input_excitation_number):\n",
    "    x = get_curve(df_curves_path, model_id, input_excitation_number)\n",
    "    \n",
    "    \n",
    "    mech_eval = evaluate.MechanicalSystemEvaluator(\n",
    "        y_target = groundtruth[device][input_excitation_number].mech.y_diff,  # Referenced to zero\n",
    "        time_target = groundtruth[device][input_excitation_number].mech.time,\n",
    "        metrics = {'dtw_distance': metrics.dtw_euclid_distance}\n",
    "    )\n",
    "\n",
    "    mech_eval.fit(\n",
    "        y_predict = x['y_diff'].values,\n",
    "        time_predict = x['time'].values\n",
    "    )\n",
    "    print(mech_eval.score())\n",
    "    mech_eval.poof(figsize=(16,8))\n",
    "    del x"
   ]
  },
  {
   "cell_type": "code",
   "execution_count": 41,
   "metadata": {},
   "outputs": [],
   "source": [
    "def compare_elec(df_curves_path, groundtruth, model_id, device, input_excitation_number):\n",
    "    x = get_curve(df_curves_path, model_id, input_excitation_number)\n",
    "    \n",
    "    elec_eval = evaluate.ElectricalSystemEvaluator(\n",
    "        emf_target=groundtruth[device][input_excitation_number].elec.emf,  # Referenced to zero\n",
    "        time_target=groundtruth[device][input_excitation_number].elec.time,\n",
    "        metrics = {'dtw_distance': metrics.dtw_euclid_distance,\n",
    "                  'rms_perc_diff': metrics.root_mean_square_percentage_diff}\n",
    "    )\n",
    "    \n",
    "    elec_eval.fit(\n",
    "        emf_predict=x['emf'].values,\n",
    "        time_predict=x['time'].values\n",
    "    )\n",
    "    print(elec_eval.score())\n",
    "    elec_eval.poof(figsize=(16, 8))\n",
    "    del x\n",
    "    return elec_eval"
   ]
  },
  {
   "cell_type": "code",
   "execution_count": 42,
   "metadata": {},
   "outputs": [],
   "source": [
    "from scipy import signal"
   ]
  },
  {
   "cell_type": "code",
   "execution_count": 43,
   "metadata": {},
   "outputs": [
    {
     "data": {
      "text/plain": [
       "{'dtw_mech': 4726,\n",
       " 'dtw_elec': 4315,\n",
       " 'dtw_both': 4726,\n",
       " 'rms_perc_abs': 5540,\n",
       " 'rms_dtw_elec': 5658,\n",
       " 'balanced': 4315}"
      ]
     },
     "execution_count": 43,
     "metadata": {},
     "output_type": "execute_result"
    }
   ],
   "source": [
    "best_model_ids"
   ]
  },
  {
   "cell_type": "code",
   "execution_count": 53,
   "metadata": {},
   "outputs": [
    {
     "name": "stdout",
     "output_type": "stream",
     "text": [
      "{'dtw_distance': 4.287597628655811}\n"
     ]
    },
    {
     "data": {
      "image/png": "[encoded data removed]",
      "text/plain": [
       "<Figure size 1152x576 with 1 Axes>"
      ]
     },
     "metadata": {
      "needs_background": "light"
     },
     "output_type": "display_data"
    },
    {
     "name": "stdout",
     "output_type": "stream",
     "text": [
      "{'dtw_distance': 56.65526209485979, 'rms_perc_diff': 1.1363546322385847}\n"
     ]
    },
    {
     "data": {
      "image/png": "[encoded data removed]",
      "text/plain": [
       "<Figure size 1152x576 with 1 Axes>"
      ]
     },
     "metadata": {
      "needs_background": "light"
     },
     "output_type": "display_data"
    },
    {
     "data": {
      "text/plain": [
       "[<matplotlib.lines.Line2D at 0x7f6df6dc0c50>]"
      ]
     },
     "execution_count": 53,
     "metadata": {},
     "output_type": "execute_result"
    },
    {
     "data": {
      "image/png": "[encoded data removed]",
      "text/plain": [
       "<Figure size 1152x576 with 1 Axes>"
      ]
     },
     "metadata": {
      "needs_background": "light"
     },
     "output_type": "display_data"
    }
   ],
   "source": [
    "input_ = 5\n",
    "device = 'B'\n",
    "chosen_model_id = 4315\n",
    "\n",
    "compare_mech(f'../data/parameter_search/2021-03-19/{device}_augmented.parquet', groundtruth, chosen_model_id, device, input_)\n",
    "ee = compare_elec(f'../data/parameter_search/2021-03-19/{device}_augmented.parquet', groundtruth, chosen_model_id, device, input_)\n",
    "\n",
    "plt.figure(figsize=(16, 8))\n",
    "plt.plot(ee.emf_predict_clipped_, 'r')\n",
    "plt.plot(ee.emf_target_clipped_, 'k')"
   ]
  },
  {
   "cell_type": "code",
   "execution_count": null,
   "metadata": {},
   "outputs": [],
   "source": []
  }
 ],
 "metadata": {
  "kernelspec": {
   "display_name": "Python 3",
   "language": "python",
   "name": "python3"
  },
  "language_info": {
   "codemirror_mode": {
    "name": "ipython",
    "version": 3
   },
   "file_extension": ".py",
   "mimetype": "text/x-python",
   "name": "python",
   "nbconvert_exporter": "python",
   "pygments_lexer": "ipython3",
   "version": "3.7.0"
  }
 },
 "nbformat": 4,
 "nbformat_minor": 4
}
