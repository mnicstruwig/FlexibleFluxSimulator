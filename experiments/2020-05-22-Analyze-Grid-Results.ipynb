{
 "cells": [
  {
   "cell_type": "code",
   "execution_count": 3,
   "metadata": {},
   "outputs": [],
   "source": [
    "import pandas as pd\n",
    "import numpy as np"
   ]
  },
  {
   "cell_type": "code",
   "execution_count": 4,
   "metadata": {},
   "outputs": [],
   "source": [
    "# Let's read in one sample for now\n",
    "df = pd.read_parquet('./A_[1].parquet')"
   ]
  },
  {
   "cell_type": "code",
   "execution_count": 5,
   "metadata": {},
   "outputs": [
    {
     "data": {
      "text/html": [
       "<div>\n",
       "<style scoped>\n",
       "    .dataframe tbody tr th:only-of-type {\n",
       "        vertical-align: middle;\n",
       "    }\n",
       "\n",
       "    .dataframe tbody tr th {\n",
       "        vertical-align: top;\n",
       "    }\n",
       "\n",
       "    .dataframe thead th {\n",
       "        text-align: right;\n",
       "    }\n",
       "</style>\n",
       "<table border=\"1\" class=\"dataframe\">\n",
       "  <thead>\n",
       "    <tr style=\"text-align: right;\">\n",
       "      <th></th>\n",
       "      <th>time</th>\n",
       "      <th>y_diff</th>\n",
       "      <th>emf</th>\n",
       "      <th>grid_cell_id</th>\n",
       "      <th>model_id</th>\n",
       "      <th>y_diff_dtw_distance</th>\n",
       "      <th>rms_perc_diff</th>\n",
       "      <th>emf_dtw_distance</th>\n",
       "      <th>damper.damping_coefficient</th>\n",
       "      <th>coupling_model.coupling_constant</th>\n",
       "      <th>mechanical_spring.damping_coefficient</th>\n",
       "      <th>coil_resistance</th>\n",
       "      <th>load_model.R</th>\n",
       "      <th>input_excitation_number</th>\n",
       "    </tr>\n",
       "  </thead>\n",
       "  <tbody>\n",
       "    <tr>\n",
       "      <th>0</th>\n",
       "      <td>0.000000</td>\n",
       "      <td>0.040000</td>\n",
       "      <td>0.0</td>\n",
       "      <td>0.0</td>\n",
       "      <td>0</td>\n",
       "      <td>25.356342</td>\n",
       "      <td>71.913697</td>\n",
       "      <td>429.937399</td>\n",
       "      <td>0.01</td>\n",
       "      <td>0.0</td>\n",
       "      <td>0.0</td>\n",
       "      <td>12.5</td>\n",
       "      <td>30</td>\n",
       "      <td>0</td>\n",
       "    </tr>\n",
       "    <tr>\n",
       "      <th>1</th>\n",
       "      <td>0.002176</td>\n",
       "      <td>0.040013</td>\n",
       "      <td>0.0</td>\n",
       "      <td>0.0</td>\n",
       "      <td>0</td>\n",
       "      <td>25.356342</td>\n",
       "      <td>71.913697</td>\n",
       "      <td>429.937399</td>\n",
       "      <td>0.01</td>\n",
       "      <td>0.0</td>\n",
       "      <td>0.0</td>\n",
       "      <td>12.5</td>\n",
       "      <td>30</td>\n",
       "      <td>0</td>\n",
       "    </tr>\n",
       "    <tr>\n",
       "      <th>2</th>\n",
       "      <td>0.005176</td>\n",
       "      <td>0.040074</td>\n",
       "      <td>0.0</td>\n",
       "      <td>0.0</td>\n",
       "      <td>0</td>\n",
       "      <td>25.356342</td>\n",
       "      <td>71.913697</td>\n",
       "      <td>429.937399</td>\n",
       "      <td>0.01</td>\n",
       "      <td>0.0</td>\n",
       "      <td>0.0</td>\n",
       "      <td>12.5</td>\n",
       "      <td>30</td>\n",
       "      <td>0</td>\n",
       "    </tr>\n",
       "    <tr>\n",
       "      <th>3</th>\n",
       "      <td>0.008176</td>\n",
       "      <td>0.040184</td>\n",
       "      <td>0.0</td>\n",
       "      <td>0.0</td>\n",
       "      <td>0</td>\n",
       "      <td>25.356342</td>\n",
       "      <td>71.913697</td>\n",
       "      <td>429.937399</td>\n",
       "      <td>0.01</td>\n",
       "      <td>0.0</td>\n",
       "      <td>0.0</td>\n",
       "      <td>12.5</td>\n",
       "      <td>30</td>\n",
       "      <td>0</td>\n",
       "    </tr>\n",
       "    <tr>\n",
       "      <th>4</th>\n",
       "      <td>0.011176</td>\n",
       "      <td>0.040341</td>\n",
       "      <td>0.0</td>\n",
       "      <td>0.0</td>\n",
       "      <td>0</td>\n",
       "      <td>25.356342</td>\n",
       "      <td>71.913697</td>\n",
       "      <td>429.937399</td>\n",
       "      <td>0.01</td>\n",
       "      <td>0.0</td>\n",
       "      <td>0.0</td>\n",
       "      <td>12.5</td>\n",
       "      <td>30</td>\n",
       "      <td>0</td>\n",
       "    </tr>\n",
       "  </tbody>\n",
       "</table>\n",
       "</div>"
      ],
      "text/plain": [
       "       time    y_diff  emf  grid_cell_id  model_id  y_diff_dtw_distance  \\\n",
       "0  0.000000  0.040000  0.0           0.0         0            25.356342   \n",
       "1  0.002176  0.040013  0.0           0.0         0            25.356342   \n",
       "2  0.005176  0.040074  0.0           0.0         0            25.356342   \n",
       "3  0.008176  0.040184  0.0           0.0         0            25.356342   \n",
       "4  0.011176  0.040341  0.0           0.0         0            25.356342   \n",
       "\n",
       "   rms_perc_diff  emf_dtw_distance  damper.damping_coefficient  \\\n",
       "0      71.913697        429.937399                        0.01   \n",
       "1      71.913697        429.937399                        0.01   \n",
       "2      71.913697        429.937399                        0.01   \n",
       "3      71.913697        429.937399                        0.01   \n",
       "4      71.913697        429.937399                        0.01   \n",
       "\n",
       "   coupling_model.coupling_constant  mechanical_spring.damping_coefficient  \\\n",
       "0                               0.0                                    0.0   \n",
       "1                               0.0                                    0.0   \n",
       "2                               0.0                                    0.0   \n",
       "3                               0.0                                    0.0   \n",
       "4                               0.0                                    0.0   \n",
       "\n",
       "   coil_resistance  load_model.R  input_excitation_number  \n",
       "0             12.5            30                        0  \n",
       "1             12.5            30                        0  \n",
       "2             12.5            30                        0  \n",
       "3             12.5            30                        0  \n",
       "4             12.5            30                        0  "
      ]
     },
     "execution_count": 5,
     "metadata": {},
     "output_type": "execute_result"
    }
   ],
   "source": [
    "df.head()"
   ]
  },
  {
   "cell_type": "code",
   "execution_count": 6,
   "metadata": {},
   "outputs": [],
   "source": [
    "# Since I've done all the work ahead of time, this should _theoretically_ be just an analysis job..."
   ]
  },
  {
   "cell_type": "code",
   "execution_count": 7,
   "metadata": {},
   "outputs": [
    {
     "data": {
      "text/plain": [
       "<matplotlib.axes._subplots.AxesSubplot at 0x7f6cdc997128>"
      ]
     },
     "execution_count": 7,
     "metadata": {},
     "output_type": "execute_result"
    },
    {
     "data": {
      "image/png": "[encoded data removed]",
      "text/plain": [
       "<Figure size 432x288 with 1 Axes>"
      ]
     },
     "metadata": {
      "needs_background": "light"
     },
     "output_type": "display_data"
    }
   ],
   "source": [
    "# Let's try plot the simulated graph of a single set of parameters\n",
    "model_id = 1\n",
    "df_one_curve = df.query(f'model_id == {model_id}')  # This is unique for this set of data\n",
    "df_one_curve.plot(x='time', y='y_diff')"
   ]
  },
  {
   "cell_type": "code",
   "execution_count": 8,
   "metadata": {},
   "outputs": [
    {
     "data": {
      "text/plain": [
       "<matplotlib.axes._subplots.AxesSubplot at 0x7f6cda21bcc0>"
      ]
     },
     "execution_count": 8,
     "metadata": {},
     "output_type": "execute_result"
    },
    {
     "data": {
      "image/png": "[encoded data removed]",
      "text/plain": [
       "<Figure size 432x288 with 1 Axes>"
      ]
     },
     "metadata": {
      "needs_background": "light"
     },
     "output_type": "display_data"
    }
   ],
   "source": [
    "# Nice! Ok, let's try draw some distributions on the metrics\n",
    "df['y_diff_dtw_distance'].plot(kind='hist', bins=100)"
   ]
  },
  {
   "cell_type": "code",
   "execution_count": 9,
   "metadata": {},
   "outputs": [
    {
     "data": {
      "text/plain": [
       "<matplotlib.axes._subplots.AxesSubplot at 0x7f6cda09ac18>"
      ]
     },
     "execution_count": 9,
     "metadata": {},
     "output_type": "execute_result"
    },
    {
     "data": {
      "image/png": "[encoded data removed]",
      "text/plain": [
       "<Figure size 432x288 with 1 Axes>"
      ]
     },
     "metadata": {
      "needs_background": "light"
     },
     "output_type": "display_data"
    }
   ],
   "source": [
    "df['rms_perc_diff'].plot(kind='hist', bins=100)"
   ]
  },
  {
   "cell_type": "code",
   "execution_count": 10,
   "metadata": {},
   "outputs": [],
   "source": [
    "# Let's draw some correlations\n",
    "df.head()\n",
    "param_columns = [col for col in df.columns if '.' in col]  # Parameter columns (they happen to contain a dot)\n",
    "df_no_dupes = df[['y_diff_dtw_distance', 'rms_perc_diff', 'emf_dtw_distance'] + param_columns].drop_duplicates().reset_index(drop=True)"
   ]
  },
  {
   "cell_type": "code",
   "execution_count": 11,
   "metadata": {},
   "outputs": [
    {
     "data": {
      "text/html": [
       "<div>\n",
       "<style scoped>\n",
       "    .dataframe tbody tr th:only-of-type {\n",
       "        vertical-align: middle;\n",
       "    }\n",
       "\n",
       "    .dataframe tbody tr th {\n",
       "        vertical-align: top;\n",
       "    }\n",
       "\n",
       "    .dataframe thead th {\n",
       "        text-align: right;\n",
       "    }\n",
       "</style>\n",
       "<table border=\"1\" class=\"dataframe\">\n",
       "  <thead>\n",
       "    <tr style=\"text-align: right;\">\n",
       "      <th></th>\n",
       "      <th>y_diff_dtw_distance</th>\n",
       "      <th>rms_perc_diff</th>\n",
       "      <th>emf_dtw_distance</th>\n",
       "      <th>damper.damping_coefficient</th>\n",
       "      <th>coupling_model.coupling_constant</th>\n",
       "      <th>mechanical_spring.damping_coefficient</th>\n",
       "      <th>load_model.R</th>\n",
       "    </tr>\n",
       "  </thead>\n",
       "  <tbody>\n",
       "    <tr>\n",
       "      <th>0</th>\n",
       "      <td>25.356342</td>\n",
       "      <td>71.913697</td>\n",
       "      <td>429.937399</td>\n",
       "      <td>0.01</td>\n",
       "      <td>0.000000</td>\n",
       "      <td>0.0</td>\n",
       "      <td>30</td>\n",
       "    </tr>\n",
       "    <tr>\n",
       "      <th>1</th>\n",
       "      <td>22.537314</td>\n",
       "      <td>77.274114</td>\n",
       "      <td>451.608742</td>\n",
       "      <td>0.01</td>\n",
       "      <td>1.111111</td>\n",
       "      <td>0.0</td>\n",
       "      <td>30</td>\n",
       "    </tr>\n",
       "    <tr>\n",
       "      <th>2</th>\n",
       "      <td>23.994554</td>\n",
       "      <td>82.032991</td>\n",
       "      <td>455.136012</td>\n",
       "      <td>0.01</td>\n",
       "      <td>2.222222</td>\n",
       "      <td>0.0</td>\n",
       "      <td>30</td>\n",
       "    </tr>\n",
       "    <tr>\n",
       "      <th>3</th>\n",
       "      <td>25.402237</td>\n",
       "      <td>86.632369</td>\n",
       "      <td>450.608010</td>\n",
       "      <td>0.01</td>\n",
       "      <td>3.333333</td>\n",
       "      <td>0.0</td>\n",
       "      <td>30</td>\n",
       "    </tr>\n",
       "    <tr>\n",
       "      <th>4</th>\n",
       "      <td>34.904624</td>\n",
       "      <td>99.800001</td>\n",
       "      <td>499.708391</td>\n",
       "      <td>0.01</td>\n",
       "      <td>4.444444</td>\n",
       "      <td>0.0</td>\n",
       "      <td>30</td>\n",
       "    </tr>\n",
       "  </tbody>\n",
       "</table>\n",
       "</div>"
      ],
      "text/plain": [
       "   y_diff_dtw_distance  rms_perc_diff  emf_dtw_distance  \\\n",
       "0            25.356342      71.913697        429.937399   \n",
       "1            22.537314      77.274114        451.608742   \n",
       "2            23.994554      82.032991        455.136012   \n",
       "3            25.402237      86.632369        450.608010   \n",
       "4            34.904624      99.800001        499.708391   \n",
       "\n",
       "   damper.damping_coefficient  coupling_model.coupling_constant  \\\n",
       "0                        0.01                          0.000000   \n",
       "1                        0.01                          1.111111   \n",
       "2                        0.01                          2.222222   \n",
       "3                        0.01                          3.333333   \n",
       "4                        0.01                          4.444444   \n",
       "\n",
       "   mechanical_spring.damping_coefficient  load_model.R  \n",
       "0                                    0.0            30  \n",
       "1                                    0.0            30  \n",
       "2                                    0.0            30  \n",
       "3                                    0.0            30  \n",
       "4                                    0.0            30  "
      ]
     },
     "execution_count": 11,
     "metadata": {},
     "output_type": "execute_result"
    }
   ],
   "source": [
    "df_no_dupes.head()"
   ]
  },
  {
   "cell_type": "code",
   "execution_count": 12,
   "metadata": {},
   "outputs": [
    {
     "data": {
      "text/html": [
       "<div>\n",
       "<style scoped>\n",
       "    .dataframe tbody tr th:only-of-type {\n",
       "        vertical-align: middle;\n",
       "    }\n",
       "\n",
       "    .dataframe tbody tr th {\n",
       "        vertical-align: top;\n",
       "    }\n",
       "\n",
       "    .dataframe thead th {\n",
       "        text-align: right;\n",
       "    }\n",
       "</style>\n",
       "<table border=\"1\" class=\"dataframe\">\n",
       "  <thead>\n",
       "    <tr style=\"text-align: right;\">\n",
       "      <th></th>\n",
       "      <th>y_diff_dtw_distance</th>\n",
       "      <th>rms_perc_diff</th>\n",
       "      <th>emf_dtw_distance</th>\n",
       "      <th>damper.damping_coefficient</th>\n",
       "      <th>coupling_model.coupling_constant</th>\n",
       "      <th>mechanical_spring.damping_coefficient</th>\n",
       "      <th>load_model.R</th>\n",
       "    </tr>\n",
       "  </thead>\n",
       "  <tbody>\n",
       "    <tr>\n",
       "      <th>count</th>\n",
       "      <td>1000.000000</td>\n",
       "      <td>1000.000000</td>\n",
       "      <td>1000.000000</td>\n",
       "      <td>1000.000000</td>\n",
       "      <td>1000.000000</td>\n",
       "      <td>1000.000000</td>\n",
       "      <td>1000.0</td>\n",
       "    </tr>\n",
       "    <tr>\n",
       "      <th>mean</th>\n",
       "      <td>17.045719</td>\n",
       "      <td>21.022607</td>\n",
       "      <td>176.344224</td>\n",
       "      <td>0.040000</td>\n",
       "      <td>5.000000</td>\n",
       "      <td>5.000000</td>\n",
       "      <td>30.0</td>\n",
       "    </tr>\n",
       "    <tr>\n",
       "      <th>std</th>\n",
       "      <td>6.922650</td>\n",
       "      <td>37.991480</td>\n",
       "      <td>139.134938</td>\n",
       "      <td>0.019158</td>\n",
       "      <td>3.193021</td>\n",
       "      <td>3.193021</td>\n",
       "      <td>0.0</td>\n",
       "    </tr>\n",
       "    <tr>\n",
       "      <th>min</th>\n",
       "      <td>4.125895</td>\n",
       "      <td>-19.214414</td>\n",
       "      <td>57.228872</td>\n",
       "      <td>0.010000</td>\n",
       "      <td>0.000000</td>\n",
       "      <td>0.000000</td>\n",
       "      <td>30.0</td>\n",
       "    </tr>\n",
       "    <tr>\n",
       "      <th>25%</th>\n",
       "      <td>11.926598</td>\n",
       "      <td>-8.004268</td>\n",
       "      <td>74.602765</td>\n",
       "      <td>0.023333</td>\n",
       "      <td>2.222222</td>\n",
       "      <td>2.222222</td>\n",
       "      <td>30.0</td>\n",
       "    </tr>\n",
       "    <tr>\n",
       "      <th>50%</th>\n",
       "      <td>17.866383</td>\n",
       "      <td>6.842957</td>\n",
       "      <td>113.390776</td>\n",
       "      <td>0.040000</td>\n",
       "      <td>5.000000</td>\n",
       "      <td>5.000000</td>\n",
       "      <td>30.0</td>\n",
       "    </tr>\n",
       "    <tr>\n",
       "      <th>75%</th>\n",
       "      <td>21.328984</td>\n",
       "      <td>35.876452</td>\n",
       "      <td>257.136477</td>\n",
       "      <td>0.056667</td>\n",
       "      <td>7.777778</td>\n",
       "      <td>7.777778</td>\n",
       "      <td>30.0</td>\n",
       "    </tr>\n",
       "    <tr>\n",
       "      <th>max</th>\n",
       "      <td>44.798652</td>\n",
       "      <td>158.475381</td>\n",
       "      <td>628.924793</td>\n",
       "      <td>0.070000</td>\n",
       "      <td>10.000000</td>\n",
       "      <td>10.000000</td>\n",
       "      <td>30.0</td>\n",
       "    </tr>\n",
       "  </tbody>\n",
       "</table>\n",
       "</div>"
      ],
      "text/plain": [
       "       y_diff_dtw_distance  rms_perc_diff  emf_dtw_distance  \\\n",
       "count          1000.000000    1000.000000       1000.000000   \n",
       "mean             17.045719      21.022607        176.344224   \n",
       "std               6.922650      37.991480        139.134938   \n",
       "min               4.125895     -19.214414         57.228872   \n",
       "25%              11.926598      -8.004268         74.602765   \n",
       "50%              17.866383       6.842957        113.390776   \n",
       "75%              21.328984      35.876452        257.136477   \n",
       "max              44.798652     158.475381        628.924793   \n",
       "\n",
       "       damper.damping_coefficient  coupling_model.coupling_constant  \\\n",
       "count                 1000.000000                       1000.000000   \n",
       "mean                     0.040000                          5.000000   \n",
       "std                      0.019158                          3.193021   \n",
       "min                      0.010000                          0.000000   \n",
       "25%                      0.023333                          2.222222   \n",
       "50%                      0.040000                          5.000000   \n",
       "75%                      0.056667                          7.777778   \n",
       "max                      0.070000                         10.000000   \n",
       "\n",
       "       mechanical_spring.damping_coefficient  load_model.R  \n",
       "count                            1000.000000        1000.0  \n",
       "mean                                5.000000          30.0  \n",
       "std                                 3.193021           0.0  \n",
       "min                                 0.000000          30.0  \n",
       "25%                                 2.222222          30.0  \n",
       "50%                                 5.000000          30.0  \n",
       "75%                                 7.777778          30.0  \n",
       "max                                10.000000          30.0  "
      ]
     },
     "execution_count": 12,
     "metadata": {},
     "output_type": "execute_result"
    }
   ],
   "source": [
    "df_no_dupes.describe()"
   ]
  },
  {
   "cell_type": "code",
   "execution_count": 13,
   "metadata": {},
   "outputs": [
    {
     "data": {
      "text/plain": [
       "<matplotlib.axes._subplots.AxesSubplot at 0x7f6cda0f5a58>"
      ]
     },
     "execution_count": 13,
     "metadata": {},
     "output_type": "execute_result"
    },
    {
     "data": {
      "image/png": "[encoded data removed]",
      "text/plain": [
       "<Figure size 432x288 with 1 Axes>"
      ]
     },
     "metadata": {
      "needs_background": "light"
     },
     "output_type": "display_data"
    }
   ],
   "source": [
    "# Are the metrics well-correlated with each other at all?\n",
    "df_no_dupes.plot(kind='scatter', x='y_diff_dtw_distance', y='emf_dtw_distance')"
   ]
  },
  {
   "cell_type": "code",
   "execution_count": 14,
   "metadata": {},
   "outputs": [
    {
     "data": {
      "text/plain": [
       "<matplotlib.axes._subplots.AxesSubplot at 0x7f6cd9f815f8>"
      ]
     },
     "execution_count": 14,
     "metadata": {},
     "output_type": "execute_result"
    },
    {
     "data": {
      "image/png": "[encoded data removed]",
      "text/plain": [
       "<Figure size 432x288 with 1 Axes>"
      ]
     },
     "metadata": {
      "needs_background": "light"
     },
     "output_type": "display_data"
    }
   ],
   "source": [
    "df_no_dupes.plot(kind='scatter', x='y_diff_dtw_distance', y='rms_perc_diff') # <-- the most important one. Really interesting results..."
   ]
  },
  {
   "cell_type": "code",
   "execution_count": 15,
   "metadata": {},
   "outputs": [
    {
     "data": {
      "text/plain": [
       "<matplotlib.axes._subplots.AxesSubplot at 0x7f6cd9ef6d68>"
      ]
     },
     "execution_count": 15,
     "metadata": {},
     "output_type": "execute_result"
    },
    {
     "data": {
      "image/png": "[encoded data removed]",
      "text/plain": [
       "<Figure size 432x288 with 1 Axes>"
      ]
     },
     "metadata": {
      "needs_background": "light"
     },
     "output_type": "display_data"
    }
   ],
   "source": [
    "df_no_dupes.plot(kind='scatter', x='emf_dtw_distance', y='rms_perc_diff')"
   ]
  },
  {
   "cell_type": "markdown",
   "metadata": {},
   "source": [
    "Yes! This is a good sign.\n",
    "\n",
    "Let's do some statistical comparisons"
   ]
  },
  {
   "cell_type": "code",
   "execution_count": 16,
   "metadata": {},
   "outputs": [],
   "source": [
    "from scipy import stats"
   ]
  },
  {
   "cell_type": "code",
   "execution_count": 24,
   "metadata": {},
   "outputs": [
    {
     "name": "stdout",
     "output_type": "stream",
     "text": [
      "0.9589553081120902\n"
     ]
    }
   ],
   "source": [
    "corr, p = stats.pearsonr(df_no_dupes['emf_dtw_distance'], \n",
    "                          df_no_dupes['rms_perc_diff'])\n",
    "print(corr) # <-- actually quite high for the electrical system. This is a good sign."
   ]
  },
  {
   "cell_type": "code",
   "execution_count": 27,
   "metadata": {},
   "outputs": [
    {
     "name": "stdout",
     "output_type": "stream",
     "text": [
      "0.3280382360285876\n"
     ]
    }
   ],
   "source": [
    "corr, p = stats.pearsonr(df_no_dupes['y_diff_dtw_distance'],\n",
    "                         df_no_dupes['rms_perc_diff'])\n",
    "print(corr)"
   ]
  },
  {
   "cell_type": "code",
   "execution_count": 28,
   "metadata": {},
   "outputs": [
    {
     "data": {
      "text/plain": [
       "<matplotlib.axes._subplots.AxesSubplot at 0x7f6cceb21f98>"
      ]
     },
     "execution_count": 28,
     "metadata": {},
     "output_type": "execute_result"
    },
    {
     "data": {
      "image/png": "[encoded data removed]",
      "text/plain": [
       "<Figure size 432x288 with 1 Axes>"
      ]
     },
     "metadata": {
      "needs_background": "light"
     },
     "output_type": "display_data"
    }
   ],
   "source": [
    "df_no_dupes.plot(kind='scatter', x='damper.damping_coefficient', y='y_diff_dtw_distance')"
   ]
  },
  {
   "cell_type": "markdown",
   "metadata": {},
   "source": [
    "#### It seems as if the damper coefficient has a _massive_ influence on the DTW distance."
   ]
  },
  {
   "cell_type": "code",
   "execution_count": 29,
   "metadata": {},
   "outputs": [
    {
     "data": {
      "text/plain": [
       "<matplotlib.axes._subplots.AxesSubplot at 0x7f6cd9dd6b70>"
      ]
     },
     "execution_count": 29,
     "metadata": {},
     "output_type": "execute_result"
    },
    {
     "data": {
      "image/png": "[encoded data removed]",
      "text/plain": [
       "<Figure size 432x288 with 1 Axes>"
      ]
     },
     "metadata": {
      "needs_background": "light"
     },
     "output_type": "display_data"
    }
   ],
   "source": [
    "df_no_dupes.plot(kind='scatter', x='coupling_model.coupling_constant', y='y_diff_dtw_distance')"
   ]
  },
  {
   "cell_type": "markdown",
   "metadata": {},
   "source": [
    "#### Followed by the coupling constant seemingly having some effect, but not _so_ much"
   ]
  },
  {
   "cell_type": "code",
   "execution_count": 30,
   "metadata": {},
   "outputs": [
    {
     "data": {
      "text/plain": [
       "<matplotlib.axes._subplots.AxesSubplot at 0x7f6cceaa40f0>"
      ]
     },
     "execution_count": 30,
     "metadata": {},
     "output_type": "execute_result"
    },
    {
     "data": {
      "image/png": "[encoded data removed]",
      "text/plain": [
       "<Figure size 432x288 with 1 Axes>"
      ]
     },
     "metadata": {
      "needs_background": "light"
     },
     "output_type": "display_data"
    }
   ],
   "source": [
    "df_no_dupes.plot(kind='scatter', x='mechanical_spring.damping_coefficient', y='y_diff_dtw_distance')"
   ]
  },
  {
   "cell_type": "markdown",
   "metadata": {},
   "source": [
    "#### The mechanical spring damping coefficient seems to have very _little_ real effect"
   ]
  },
  {
   "cell_type": "markdown",
   "metadata": {},
   "source": [
    "# Analysis section (split to new Notebook later)"
   ]
  },
  {
   "cell_type": "code",
   "execution_count": 1,
   "metadata": {},
   "outputs": [
    {
     "data": {
      "text/html": [
       "<table style=\"border: 2px solid white;\">\n",
       "<tr>\n",
       "<td style=\"vertical-align: top; border: 0px solid white\">\n",
       "<h3 style=\"text-align: left;\">Client</h3>\n",
       "<ul style=\"text-align: left; list-style: none; margin: 0; padding: 0;\">\n",
       "  <li><b>Scheduler: </b>tcp://127.0.0.1:34895</li>\n",
       "  <li><b>Dashboard: </b><a href='http://127.0.0.1:8787/status' target='_blank'>http://127.0.0.1:8787/status</a></li>\n",
       "</ul>\n",
       "</td>\n",
       "<td style=\"vertical-align: top; border: 0px solid white\">\n",
       "<h3 style=\"text-align: left;\">Cluster</h3>\n",
       "<ul style=\"text-align: left; list-style:none; margin: 0; padding: 0;\">\n",
       "  <li><b>Workers: </b>2</li>\n",
       "  <li><b>Cores: </b>4</li>\n",
       "  <li><b>Memory: </b>16.66 GB</li>\n",
       "</ul>\n",
       "</td>\n",
       "</tr>\n",
       "</table>"
      ],
      "text/plain": [
       "<Client: 'tcp://127.0.0.1:34895' processes=2 threads=4, memory=16.66 GB>"
      ]
     },
     "execution_count": 1,
     "metadata": {},
     "output_type": "execute_result"
    }
   ],
   "source": [
    "import dask.dataframe as dd\n",
    "from dask.distributed import Client\n",
    "client = Client(n_workers=2)\n",
    "client"
   ]
  },
  {
   "cell_type": "code",
   "execution_count": 47,
   "metadata": {},
   "outputs": [],
   "source": [
    "no_curves_dfs = []\n",
    "for f in ['A', 'B', 'C']:\n",
    "    df = dd.read_parquet(root_path + f + '.parquet', engine='pyarrow')  # Just to get columns\n",
    "    df = dd.read_parquet(root_path + f + '.parquet', engine='pyarrow', columns=[col for col in df.columns if col not in ['time', 'y_diff', 'emf']]).drop_duplicates()\n",
    "    df['input_excitation'] = df['input_excitation'].astype('int')\n",
    "    df['device_id'] = f.split('.')[0]\n",
    "    no_curves_dfs.append(df)\n",
    "    \n",
    "dd.concat(no_curves_dfs).to_parquet('no_curves.parquet', engine='pyarrow', compression='snappy')"
   ]
  },
  {
   "cell_type": "code",
   "execution_count": 50,
   "metadata": {},
   "outputs": [],
   "source": [
    "client.close()"
   ]
  },
  {
   "cell_type": "code",
   "execution_count": 49,
   "metadata": {},
   "outputs": [
    {
     "data": {
      "text/html": [
       "<table style=\"border: 2px solid white;\">\n",
       "<tr>\n",
       "<td style=\"vertical-align: top; border: 0px solid white\">\n",
       "<h3 style=\"text-align: left;\">Client</h3>\n",
       "<ul style=\"text-align: left; list-style: none; margin: 0; padding: 0;\">\n",
       "  <li><b>Scheduler: </b>tcp://127.0.0.1:44563</li>\n",
       "  <li><b>Dashboard: </b><a href='http://127.0.0.1:8787/status' target='_blank'>http://127.0.0.1:8787/status</a></li>\n",
       "</ul>\n",
       "</td>\n",
       "<td style=\"vertical-align: top; border: 0px solid white\">\n",
       "<h3 style=\"text-align: left;\">Cluster</h3>\n",
       "<ul style=\"text-align: left; list-style:none; margin: 0; padding: 0;\">\n",
       "  <li><b>Workers: </b>4</li>\n",
       "  <li><b>Cores: </b>4</li>\n",
       "  <li><b>Memory: </b>16.66 GB</li>\n",
       "</ul>\n",
       "</td>\n",
       "</tr>\n",
       "</table>"
      ],
      "text/plain": [
       "<Client: 'tcp://127.0.0.1:44563' processes=4 threads=4, memory=16.66 GB>"
      ]
     },
     "execution_count": 49,
     "metadata": {},
     "output_type": "execute_result"
    }
   ],
   "source": [
    "from dask.distributed import Client\n",
    "import dask.dataframe as dd\n",
    "\n",
    "client = Client(n_workers=4)\n",
    "client"
   ]
  },
  {
   "cell_type": "code",
   "execution_count": 5,
   "metadata": {},
   "outputs": [],
   "source": [
    "root_path = './'\n",
    "files = ['A', 'B', 'C']"
   ]
  },
  {
   "cell_type": "code",
   "execution_count": 6,
   "metadata": {},
   "outputs": [
    {
     "name": "stderr",
     "output_type": "stream",
     "text": [
      "/home/michael/miniconda3/envs/ds/lib/python3.7/site-packages/pyarrow/compat.py:25: FutureWarning: pyarrow.compat has been deprecated and will be removed in a future release\n",
      "  \"future release\", FutureWarning)\n"
     ]
    },
    {
     "data": {
      "text/plain": [
       "3"
      ]
     },
     "execution_count": 6,
     "metadata": {},
     "output_type": "execute_result"
    }
   ],
   "source": [
    "dfs = []\n",
    "for f in files:\n",
    "    df = dd.read_parquet(root_path + f + '.parquet', engine='pyarrow')\n",
    "    df['device_id'] = f\n",
    "    df['input_excitation'] = df['input_excitation'].astype('int')\n",
    "    dfs.append(df)\n",
    "len(dfs)"
   ]
  },
  {
   "cell_type": "code",
   "execution_count": 7,
   "metadata": {},
   "outputs": [],
   "source": [
    "dd.concat(dfs).to_parquet(root_path + 'joined.parquet', engine='pyarrow', partition_on=['device_id', 'input_excitation'], compression='snappy')"
   ]
  },
  {
   "cell_type": "code",
   "execution_count": 37,
   "metadata": {},
   "outputs": [
    {
     "data": {
      "text/html": [
       "<div>\n",
       "<style scoped>\n",
       "    .dataframe tbody tr th:only-of-type {\n",
       "        vertical-align: middle;\n",
       "    }\n",
       "\n",
       "    .dataframe tbody tr th {\n",
       "        vertical-align: top;\n",
       "    }\n",
       "\n",
       "    .dataframe thead th {\n",
       "        text-align: right;\n",
       "    }\n",
       "</style>\n",
       "<table border=\"1\" class=\"dataframe\">\n",
       "  <thead>\n",
       "    <tr style=\"text-align: right;\">\n",
       "      <th></th>\n",
       "      <th>time</th>\n",
       "      <th>y_diff</th>\n",
       "      <th>emf</th>\n",
       "      <th>grid_cell_id</th>\n",
       "      <th>model_id</th>\n",
       "      <th>y_diff_dtw_distance</th>\n",
       "      <th>rms_perc_diff</th>\n",
       "      <th>emf_dtw_distance</th>\n",
       "      <th>damper.damping_coefficient</th>\n",
       "      <th>coupling_model.coupling_constant</th>\n",
       "      <th>mechanical_spring.damping_coefficient</th>\n",
       "      <th>coil_resistance</th>\n",
       "      <th>load_model.R</th>\n",
       "      <th>input_excitation</th>\n",
       "      <th>device_id</th>\n",
       "    </tr>\n",
       "  </thead>\n",
       "  <tbody>\n",
       "    <tr>\n",
       "      <th>0</th>\n",
       "      <td>0.000000</td>\n",
       "      <td>0.040000</td>\n",
       "      <td>0.0</td>\n",
       "      <td>0.0</td>\n",
       "      <td>56</td>\n",
       "      <td>35.428768</td>\n",
       "      <td>130.568704</td>\n",
       "      <td>548.373413</td>\n",
       "      <td>0.01</td>\n",
       "      <td>6.666667</td>\n",
       "      <td>5.555556</td>\n",
       "      <td>12.5</td>\n",
       "      <td>30</td>\n",
       "      <td>2</td>\n",
       "      <td>A</td>\n",
       "    </tr>\n",
       "    <tr>\n",
       "      <th>1</th>\n",
       "      <td>0.002176</td>\n",
       "      <td>0.040013</td>\n",
       "      <td>0.0</td>\n",
       "      <td>0.0</td>\n",
       "      <td>56</td>\n",
       "      <td>35.428768</td>\n",
       "      <td>130.568704</td>\n",
       "      <td>548.373413</td>\n",
       "      <td>0.01</td>\n",
       "      <td>6.666667</td>\n",
       "      <td>5.555556</td>\n",
       "      <td>12.5</td>\n",
       "      <td>30</td>\n",
       "      <td>2</td>\n",
       "      <td>A</td>\n",
       "    </tr>\n",
       "    <tr>\n",
       "      <th>2</th>\n",
       "      <td>0.005176</td>\n",
       "      <td>0.040074</td>\n",
       "      <td>0.0</td>\n",
       "      <td>0.0</td>\n",
       "      <td>56</td>\n",
       "      <td>35.428768</td>\n",
       "      <td>130.568704</td>\n",
       "      <td>548.373413</td>\n",
       "      <td>0.01</td>\n",
       "      <td>6.666667</td>\n",
       "      <td>5.555556</td>\n",
       "      <td>12.5</td>\n",
       "      <td>30</td>\n",
       "      <td>2</td>\n",
       "      <td>A</td>\n",
       "    </tr>\n",
       "    <tr>\n",
       "      <th>3</th>\n",
       "      <td>0.008176</td>\n",
       "      <td>0.040184</td>\n",
       "      <td>0.0</td>\n",
       "      <td>0.0</td>\n",
       "      <td>56</td>\n",
       "      <td>35.428768</td>\n",
       "      <td>130.568704</td>\n",
       "      <td>548.373413</td>\n",
       "      <td>0.01</td>\n",
       "      <td>6.666667</td>\n",
       "      <td>5.555556</td>\n",
       "      <td>12.5</td>\n",
       "      <td>30</td>\n",
       "      <td>2</td>\n",
       "      <td>A</td>\n",
       "    </tr>\n",
       "    <tr>\n",
       "      <th>4</th>\n",
       "      <td>0.011176</td>\n",
       "      <td>0.040341</td>\n",
       "      <td>0.0</td>\n",
       "      <td>0.0</td>\n",
       "      <td>56</td>\n",
       "      <td>35.428768</td>\n",
       "      <td>130.568704</td>\n",
       "      <td>548.373413</td>\n",
       "      <td>0.01</td>\n",
       "      <td>6.666667</td>\n",
       "      <td>5.555556</td>\n",
       "      <td>12.5</td>\n",
       "      <td>30</td>\n",
       "      <td>2</td>\n",
       "      <td>A</td>\n",
       "    </tr>\n",
       "  </tbody>\n",
       "</table>\n",
       "</div>"
      ],
      "text/plain": [
       "       time    y_diff  emf  grid_cell_id  model_id  y_diff_dtw_distance  \\\n",
       "0  0.000000  0.040000  0.0           0.0        56            35.428768   \n",
       "1  0.002176  0.040013  0.0           0.0        56            35.428768   \n",
       "2  0.005176  0.040074  0.0           0.0        56            35.428768   \n",
       "3  0.008176  0.040184  0.0           0.0        56            35.428768   \n",
       "4  0.011176  0.040341  0.0           0.0        56            35.428768   \n",
       "\n",
       "   rms_perc_diff  emf_dtw_distance  damper.damping_coefficient  \\\n",
       "0     130.568704        548.373413                        0.01   \n",
       "1     130.568704        548.373413                        0.01   \n",
       "2     130.568704        548.373413                        0.01   \n",
       "3     130.568704        548.373413                        0.01   \n",
       "4     130.568704        548.373413                        0.01   \n",
       "\n",
       "   coupling_model.coupling_constant  mechanical_spring.damping_coefficient  \\\n",
       "0                          6.666667                               5.555556   \n",
       "1                          6.666667                               5.555556   \n",
       "2                          6.666667                               5.555556   \n",
       "3                          6.666667                               5.555556   \n",
       "4                          6.666667                               5.555556   \n",
       "\n",
       "   coil_resistance  load_model.R input_excitation device_id  \n",
       "0             12.5            30                2         A  \n",
       "1             12.5            30                2         A  \n",
       "2             12.5            30                2         A  \n",
       "3             12.5            30                2         A  \n",
       "4             12.5            30                2         A  "
      ]
     },
     "execution_count": 37,
     "metadata": {},
     "output_type": "execute_result"
    }
   ],
   "source": [
    "df = dd.read_parquet(root_path + 'joined.parquet', engine='pyarrow', filters=[('device_id', '==', \"A\"), ('input_excitation', '==', 2)])"
   ]
  },
  {
   "cell_type": "markdown",
   "metadata": {},
   "source": [
    "---"
   ]
  },
  {
   "cell_type": "code",
   "execution_count": 1,
   "metadata": {},
   "outputs": [],
   "source": [
    "import numpy as np\n",
    "import pandas as pd\n",
    "import seaborn as sns\n",
    "import matplotlib.pyplot as plt"
   ]
  },
  {
   "cell_type": "code",
   "execution_count": 2,
   "metadata": {},
   "outputs": [
    {
     "data": {
      "text/html": [
       "<div>\n",
       "<style scoped>\n",
       "    .dataframe tbody tr th:only-of-type {\n",
       "        vertical-align: middle;\n",
       "    }\n",
       "\n",
       "    .dataframe tbody tr th {\n",
       "        vertical-align: top;\n",
       "    }\n",
       "\n",
       "    .dataframe thead th {\n",
       "        text-align: right;\n",
       "    }\n",
       "</style>\n",
       "<table border=\"1\" class=\"dataframe\">\n",
       "  <thead>\n",
       "    <tr style=\"text-align: right;\">\n",
       "      <th></th>\n",
       "      <th>grid_cell_id</th>\n",
       "      <th>model_id</th>\n",
       "      <th>y_diff_dtw_distance</th>\n",
       "      <th>rms_perc_diff</th>\n",
       "      <th>emf_dtw_distance</th>\n",
       "      <th>damper.damping_coefficient</th>\n",
       "      <th>coupling_model.coupling_constant</th>\n",
       "      <th>mechanical_spring.damping_coefficient</th>\n",
       "      <th>coil_resistance</th>\n",
       "      <th>load_model.R</th>\n",
       "      <th>input_excitation</th>\n",
       "      <th>device_id</th>\n",
       "    </tr>\n",
       "  </thead>\n",
       "  <tbody>\n",
       "    <tr>\n",
       "      <th>0</th>\n",
       "      <td>0.0</td>\n",
       "      <td>512</td>\n",
       "      <td>12.484688</td>\n",
       "      <td>41.079664</td>\n",
       "      <td>83.644779</td>\n",
       "      <td>0.043333</td>\n",
       "      <td>2.222222</td>\n",
       "      <td>1.111111</td>\n",
       "      <td>12.5</td>\n",
       "      <td>30</td>\n",
       "      <td>0</td>\n",
       "      <td>A</td>\n",
       "    </tr>\n",
       "    <tr>\n",
       "      <th>1</th>\n",
       "      <td>1.0</td>\n",
       "      <td>513</td>\n",
       "      <td>13.500445</td>\n",
       "      <td>34.089880</td>\n",
       "      <td>91.988962</td>\n",
       "      <td>0.043333</td>\n",
       "      <td>3.333333</td>\n",
       "      <td>1.111111</td>\n",
       "      <td>12.5</td>\n",
       "      <td>30</td>\n",
       "      <td>0</td>\n",
       "      <td>A</td>\n",
       "    </tr>\n",
       "    <tr>\n",
       "      <th>2</th>\n",
       "      <td>2.0</td>\n",
       "      <td>514</td>\n",
       "      <td>14.557976</td>\n",
       "      <td>47.084719</td>\n",
       "      <td>90.270891</td>\n",
       "      <td>0.043333</td>\n",
       "      <td>4.444444</td>\n",
       "      <td>1.111111</td>\n",
       "      <td>12.5</td>\n",
       "      <td>30</td>\n",
       "      <td>0</td>\n",
       "      <td>A</td>\n",
       "    </tr>\n",
       "    <tr>\n",
       "      <th>3</th>\n",
       "      <td>3.0</td>\n",
       "      <td>515</td>\n",
       "      <td>15.565144</td>\n",
       "      <td>50.229976</td>\n",
       "      <td>87.382592</td>\n",
       "      <td>0.043333</td>\n",
       "      <td>5.555556</td>\n",
       "      <td>1.111111</td>\n",
       "      <td>12.5</td>\n",
       "      <td>30</td>\n",
       "      <td>0</td>\n",
       "      <td>A</td>\n",
       "    </tr>\n",
       "    <tr>\n",
       "      <th>4</th>\n",
       "      <td>4.0</td>\n",
       "      <td>516</td>\n",
       "      <td>17.920371</td>\n",
       "      <td>53.156539</td>\n",
       "      <td>97.112525</td>\n",
       "      <td>0.043333</td>\n",
       "      <td>6.666667</td>\n",
       "      <td>1.111111</td>\n",
       "      <td>12.5</td>\n",
       "      <td>30</td>\n",
       "      <td>0</td>\n",
       "      <td>A</td>\n",
       "    </tr>\n",
       "  </tbody>\n",
       "</table>\n",
       "</div>"
      ],
      "text/plain": [
       "   grid_cell_id  model_id  y_diff_dtw_distance  rms_perc_diff  \\\n",
       "0           0.0       512            12.484688      41.079664   \n",
       "1           1.0       513            13.500445      34.089880   \n",
       "2           2.0       514            14.557976      47.084719   \n",
       "3           3.0       515            15.565144      50.229976   \n",
       "4           4.0       516            17.920371      53.156539   \n",
       "\n",
       "   emf_dtw_distance  damper.damping_coefficient  \\\n",
       "0         83.644779                    0.043333   \n",
       "1         91.988962                    0.043333   \n",
       "2         90.270891                    0.043333   \n",
       "3         87.382592                    0.043333   \n",
       "4         97.112525                    0.043333   \n",
       "\n",
       "   coupling_model.coupling_constant  mechanical_spring.damping_coefficient  \\\n",
       "0                          2.222222                               1.111111   \n",
       "1                          3.333333                               1.111111   \n",
       "2                          4.444444                               1.111111   \n",
       "3                          5.555556                               1.111111   \n",
       "4                          6.666667                               1.111111   \n",
       "\n",
       "   coil_resistance  load_model.R  input_excitation device_id  \n",
       "0             12.5            30                 0         A  \n",
       "1             12.5            30                 0         A  \n",
       "2             12.5            30                 0         A  \n",
       "3             12.5            30                 0         A  \n",
       "4             12.5            30                 0         A  "
      ]
     },
     "execution_count": 2,
     "metadata": {},
     "output_type": "execute_result"
    }
   ],
   "source": [
    "df2 = pd.read_parquet('no_curves.parquet').reset_index(drop=True)\n",
    "df2.head()"
   ]
  },
  {
   "cell_type": "code",
   "execution_count": 3,
   "metadata": {},
   "outputs": [],
   "source": [
    "df2_filtered = df2"
   ]
  },
  {
   "cell_type": "code",
   "execution_count": 4,
   "metadata": {},
   "outputs": [],
   "source": [
    "# Some feature engineering\n",
    "df2_filtered.loc[:, 'rms_perc_diff_abs'] = np.abs(df2_filtered['rms_perc_diff'])\n",
    "\n",
    "# First normalize everything\n",
    "cols_to_normalize = ['y_diff_dtw_distance', 'emf_dtw_distance', 'rms_perc_diff_abs']\n",
    "for col in cols_to_normalize:\n",
    "    df2_filtered.loc[:, col+'_norm'] = df2_filtered[col]/df2_filtered[col].max()\n",
    "    \n",
    "# Calculate extra objective functions\n",
    "df2_filtered.loc[:,'balanced'] = df2_filtered['y_diff_dtw_distance_norm'] + df2_filtered['emf_dtw_distance_norm'] + df2_filtered['rms_perc_diff_abs_norm']\n",
    "df2_filtered.loc[:, 'dtw_balanced'] = df2_filtered['y_diff_dtw_distance_norm'] + df2_filtered['emf_dtw_distance_norm']\n",
    "df2_filtered.loc[:, 'elec_balanced'] = df2_filtered['emf_dtw_distance_norm'] + df2_filtered['rms_perc_diff_abs_norm']"
   ]
  },
  {
   "cell_type": "code",
   "execution_count": 5,
   "metadata": {},
   "outputs": [
    {
     "data": {
      "text/html": [
       "<div>\n",
       "<style scoped>\n",
       "    .dataframe tbody tr th:only-of-type {\n",
       "        vertical-align: middle;\n",
       "    }\n",
       "\n",
       "    .dataframe tbody tr th {\n",
       "        vertical-align: top;\n",
       "    }\n",
       "\n",
       "    .dataframe thead th {\n",
       "        text-align: right;\n",
       "    }\n",
       "</style>\n",
       "<table border=\"1\" class=\"dataframe\">\n",
       "  <thead>\n",
       "    <tr style=\"text-align: right;\">\n",
       "      <th></th>\n",
       "      <th>grid_cell_id</th>\n",
       "      <th>model_id</th>\n",
       "      <th>y_diff_dtw_distance</th>\n",
       "      <th>rms_perc_diff</th>\n",
       "      <th>emf_dtw_distance</th>\n",
       "      <th>damper.damping_coefficient</th>\n",
       "      <th>coupling_model.coupling_constant</th>\n",
       "      <th>mechanical_spring.damping_coefficient</th>\n",
       "      <th>coil_resistance</th>\n",
       "      <th>load_model.R</th>\n",
       "      <th>input_excitation</th>\n",
       "      <th>device_id</th>\n",
       "      <th>rms_perc_diff_abs</th>\n",
       "      <th>y_diff_dtw_distance_norm</th>\n",
       "      <th>emf_dtw_distance_norm</th>\n",
       "      <th>rms_perc_diff_abs_norm</th>\n",
       "      <th>balanced</th>\n",
       "      <th>dtw_balanced</th>\n",
       "      <th>elec_balanced</th>\n",
       "    </tr>\n",
       "  </thead>\n",
       "  <tbody>\n",
       "    <tr>\n",
       "      <th>0</th>\n",
       "      <td>0.0</td>\n",
       "      <td>512</td>\n",
       "      <td>12.484688</td>\n",
       "      <td>41.079664</td>\n",
       "      <td>83.644779</td>\n",
       "      <td>0.043333</td>\n",
       "      <td>2.222222</td>\n",
       "      <td>1.111111</td>\n",
       "      <td>12.5</td>\n",
       "      <td>30</td>\n",
       "      <td>0</td>\n",
       "      <td>A</td>\n",
       "      <td>41.079664</td>\n",
       "      <td>0.005992</td>\n",
       "      <td>0.090897</td>\n",
       "      <td>0.000936</td>\n",
       "      <td>0.097824</td>\n",
       "      <td>0.096889</td>\n",
       "      <td>0.091832</td>\n",
       "    </tr>\n",
       "    <tr>\n",
       "      <th>1</th>\n",
       "      <td>1.0</td>\n",
       "      <td>513</td>\n",
       "      <td>13.500445</td>\n",
       "      <td>34.089880</td>\n",
       "      <td>91.988962</td>\n",
       "      <td>0.043333</td>\n",
       "      <td>3.333333</td>\n",
       "      <td>1.111111</td>\n",
       "      <td>12.5</td>\n",
       "      <td>30</td>\n",
       "      <td>0</td>\n",
       "      <td>A</td>\n",
       "      <td>34.089880</td>\n",
       "      <td>0.006480</td>\n",
       "      <td>0.099964</td>\n",
       "      <td>0.000776</td>\n",
       "      <td>0.107220</td>\n",
       "      <td>0.106444</td>\n",
       "      <td>0.100741</td>\n",
       "    </tr>\n",
       "    <tr>\n",
       "      <th>2</th>\n",
       "      <td>2.0</td>\n",
       "      <td>514</td>\n",
       "      <td>14.557976</td>\n",
       "      <td>47.084719</td>\n",
       "      <td>90.270891</td>\n",
       "      <td>0.043333</td>\n",
       "      <td>4.444444</td>\n",
       "      <td>1.111111</td>\n",
       "      <td>12.5</td>\n",
       "      <td>30</td>\n",
       "      <td>0</td>\n",
       "      <td>A</td>\n",
       "      <td>47.084719</td>\n",
       "      <td>0.006987</td>\n",
       "      <td>0.098097</td>\n",
       "      <td>0.001072</td>\n",
       "      <td>0.106157</td>\n",
       "      <td>0.105084</td>\n",
       "      <td>0.099170</td>\n",
       "    </tr>\n",
       "    <tr>\n",
       "      <th>3</th>\n",
       "      <td>3.0</td>\n",
       "      <td>515</td>\n",
       "      <td>15.565144</td>\n",
       "      <td>50.229976</td>\n",
       "      <td>87.382592</td>\n",
       "      <td>0.043333</td>\n",
       "      <td>5.555556</td>\n",
       "      <td>1.111111</td>\n",
       "      <td>12.5</td>\n",
       "      <td>30</td>\n",
       "      <td>0</td>\n",
       "      <td>A</td>\n",
       "      <td>50.229976</td>\n",
       "      <td>0.007471</td>\n",
       "      <td>0.094958</td>\n",
       "      <td>0.001144</td>\n",
       "      <td>0.103573</td>\n",
       "      <td>0.102429</td>\n",
       "      <td>0.096102</td>\n",
       "    </tr>\n",
       "    <tr>\n",
       "      <th>4</th>\n",
       "      <td>4.0</td>\n",
       "      <td>516</td>\n",
       "      <td>17.920371</td>\n",
       "      <td>53.156539</td>\n",
       "      <td>97.112525</td>\n",
       "      <td>0.043333</td>\n",
       "      <td>6.666667</td>\n",
       "      <td>1.111111</td>\n",
       "      <td>12.5</td>\n",
       "      <td>30</td>\n",
       "      <td>0</td>\n",
       "      <td>A</td>\n",
       "      <td>53.156539</td>\n",
       "      <td>0.008601</td>\n",
       "      <td>0.105532</td>\n",
       "      <td>0.001211</td>\n",
       "      <td>0.115344</td>\n",
       "      <td>0.114133</td>\n",
       "      <td>0.106743</td>\n",
       "    </tr>\n",
       "  </tbody>\n",
       "</table>\n",
       "</div>"
      ],
      "text/plain": [
       "   grid_cell_id  model_id  y_diff_dtw_distance  rms_perc_diff  \\\n",
       "0           0.0       512            12.484688      41.079664   \n",
       "1           1.0       513            13.500445      34.089880   \n",
       "2           2.0       514            14.557976      47.084719   \n",
       "3           3.0       515            15.565144      50.229976   \n",
       "4           4.0       516            17.920371      53.156539   \n",
       "\n",
       "   emf_dtw_distance  damper.damping_coefficient  \\\n",
       "0         83.644779                    0.043333   \n",
       "1         91.988962                    0.043333   \n",
       "2         90.270891                    0.043333   \n",
       "3         87.382592                    0.043333   \n",
       "4         97.112525                    0.043333   \n",
       "\n",
       "   coupling_model.coupling_constant  mechanical_spring.damping_coefficient  \\\n",
       "0                          2.222222                               1.111111   \n",
       "1                          3.333333                               1.111111   \n",
       "2                          4.444444                               1.111111   \n",
       "3                          5.555556                               1.111111   \n",
       "4                          6.666667                               1.111111   \n",
       "\n",
       "   coil_resistance  load_model.R  input_excitation device_id  \\\n",
       "0             12.5            30                 0         A   \n",
       "1             12.5            30                 0         A   \n",
       "2             12.5            30                 0         A   \n",
       "3             12.5            30                 0         A   \n",
       "4             12.5            30                 0         A   \n",
       "\n",
       "   rms_perc_diff_abs  y_diff_dtw_distance_norm  emf_dtw_distance_norm  \\\n",
       "0          41.079664                  0.005992               0.090897   \n",
       "1          34.089880                  0.006480               0.099964   \n",
       "2          47.084719                  0.006987               0.098097   \n",
       "3          50.229976                  0.007471               0.094958   \n",
       "4          53.156539                  0.008601               0.105532   \n",
       "\n",
       "   rms_perc_diff_abs_norm  balanced  dtw_balanced  elec_balanced  \n",
       "0                0.000936  0.097824      0.096889       0.091832  \n",
       "1                0.000776  0.107220      0.106444       0.100741  \n",
       "2                0.001072  0.106157      0.105084       0.099170  \n",
       "3                0.001144  0.103573      0.102429       0.096102  \n",
       "4                0.001211  0.115344      0.114133       0.106743  "
      ]
     },
     "execution_count": 5,
     "metadata": {},
     "output_type": "execute_result"
    }
   ],
   "source": [
    "df2_filtered = df2_filtered.reset_index(drop=True)\n",
    "df2_filtered.head()"
   ]
  },
  {
   "cell_type": "code",
   "execution_count": 6,
   "metadata": {},
   "outputs": [
    {
     "name": "stdout",
     "output_type": "stream",
     "text": [
      "3.053013558729702 43.154019378827186\n"
     ]
    }
   ],
   "source": [
    "# Remove model ids that perform really poorly\n",
    "\n",
    "criteria = 'y_diff_dtw_distance'\n",
    "cut_off = (1-0.9973)/2\n",
    "cut_off*100\n",
    "upper_bound = df2_filtered[criteria].quantile(0.9973+cut_off)\n",
    "lower_bound = df2_filtered[criteria].quantile(1-(0.9973+cut_off))\n",
    "print(lower_bound, upper_bound)\n",
    "\n",
    "to_drop_lower = df2_filtered.query(f'{criteria} < {lower_bound}')['model_id'].values\n",
    "to_drop_upper = df2_filtered.query(f'{criteria} > {upper_bound}')['model_id'].values\n",
    "\n",
    "to_drop = np.concatenate([to_drop_lower, to_drop_upper])\n",
    "\n",
    "df2_filtered = df2_filtered[~df2_filtered['model_id'].isin(to_drop)]"
   ]
  },
  {
   "cell_type": "code",
   "execution_count": 7,
   "metadata": {},
   "outputs": [
    {
     "data": {
      "text/plain": [
       "20702"
      ]
     },
     "execution_count": 7,
     "metadata": {},
     "output_type": "execute_result"
    }
   ],
   "source": [
    "len(df2_filtered)"
   ]
  },
  {
   "cell_type": "code",
   "execution_count": 8,
   "metadata": {},
   "outputs": [
    {
     "data": {
      "text/html": [
       "<div>\n",
       "<style scoped>\n",
       "    .dataframe tbody tr th:only-of-type {\n",
       "        vertical-align: middle;\n",
       "    }\n",
       "\n",
       "    .dataframe tbody tr th {\n",
       "        vertical-align: top;\n",
       "    }\n",
       "\n",
       "    .dataframe thead th {\n",
       "        text-align: right;\n",
       "    }\n",
       "</style>\n",
       "<table border=\"1\" class=\"dataframe\">\n",
       "  <thead>\n",
       "    <tr style=\"text-align: right;\">\n",
       "      <th></th>\n",
       "      <th>grid_cell_id</th>\n",
       "      <th>model_id</th>\n",
       "      <th>y_diff_dtw_distance</th>\n",
       "      <th>rms_perc_diff</th>\n",
       "      <th>emf_dtw_distance</th>\n",
       "      <th>damper.damping_coefficient</th>\n",
       "      <th>coupling_model.coupling_constant</th>\n",
       "      <th>mechanical_spring.damping_coefficient</th>\n",
       "      <th>coil_resistance</th>\n",
       "      <th>load_model.R</th>\n",
       "      <th>input_excitation</th>\n",
       "      <th>device_id</th>\n",
       "      <th>rms_perc_diff_abs</th>\n",
       "      <th>y_diff_dtw_distance_norm</th>\n",
       "      <th>emf_dtw_distance_norm</th>\n",
       "      <th>rms_perc_diff_abs_norm</th>\n",
       "      <th>balanced</th>\n",
       "      <th>dtw_balanced</th>\n",
       "      <th>elec_balanced</th>\n",
       "    </tr>\n",
       "  </thead>\n",
       "  <tbody>\n",
       "    <tr>\n",
       "      <th>0</th>\n",
       "      <td>0.0</td>\n",
       "      <td>512</td>\n",
       "      <td>12.484688</td>\n",
       "      <td>41.079664</td>\n",
       "      <td>83.644779</td>\n",
       "      <td>0.043333</td>\n",
       "      <td>2.222222</td>\n",
       "      <td>1.111111</td>\n",
       "      <td>12.5</td>\n",
       "      <td>30</td>\n",
       "      <td>0</td>\n",
       "      <td>A</td>\n",
       "      <td>41.079664</td>\n",
       "      <td>0.005992</td>\n",
       "      <td>0.090897</td>\n",
       "      <td>0.000936</td>\n",
       "      <td>0.097824</td>\n",
       "      <td>0.096889</td>\n",
       "      <td>0.091832</td>\n",
       "    </tr>\n",
       "    <tr>\n",
       "      <th>1</th>\n",
       "      <td>1.0</td>\n",
       "      <td>513</td>\n",
       "      <td>13.500445</td>\n",
       "      <td>34.089880</td>\n",
       "      <td>91.988962</td>\n",
       "      <td>0.043333</td>\n",
       "      <td>3.333333</td>\n",
       "      <td>1.111111</td>\n",
       "      <td>12.5</td>\n",
       "      <td>30</td>\n",
       "      <td>0</td>\n",
       "      <td>A</td>\n",
       "      <td>34.089880</td>\n",
       "      <td>0.006480</td>\n",
       "      <td>0.099964</td>\n",
       "      <td>0.000776</td>\n",
       "      <td>0.107220</td>\n",
       "      <td>0.106444</td>\n",
       "      <td>0.100741</td>\n",
       "    </tr>\n",
       "    <tr>\n",
       "      <th>2</th>\n",
       "      <td>2.0</td>\n",
       "      <td>514</td>\n",
       "      <td>14.557976</td>\n",
       "      <td>47.084719</td>\n",
       "      <td>90.270891</td>\n",
       "      <td>0.043333</td>\n",
       "      <td>4.444444</td>\n",
       "      <td>1.111111</td>\n",
       "      <td>12.5</td>\n",
       "      <td>30</td>\n",
       "      <td>0</td>\n",
       "      <td>A</td>\n",
       "      <td>47.084719</td>\n",
       "      <td>0.006987</td>\n",
       "      <td>0.098097</td>\n",
       "      <td>0.001072</td>\n",
       "      <td>0.106157</td>\n",
       "      <td>0.105084</td>\n",
       "      <td>0.099170</td>\n",
       "    </tr>\n",
       "    <tr>\n",
       "      <th>3</th>\n",
       "      <td>3.0</td>\n",
       "      <td>515</td>\n",
       "      <td>15.565144</td>\n",
       "      <td>50.229976</td>\n",
       "      <td>87.382592</td>\n",
       "      <td>0.043333</td>\n",
       "      <td>5.555556</td>\n",
       "      <td>1.111111</td>\n",
       "      <td>12.5</td>\n",
       "      <td>30</td>\n",
       "      <td>0</td>\n",
       "      <td>A</td>\n",
       "      <td>50.229976</td>\n",
       "      <td>0.007471</td>\n",
       "      <td>0.094958</td>\n",
       "      <td>0.001144</td>\n",
       "      <td>0.103573</td>\n",
       "      <td>0.102429</td>\n",
       "      <td>0.096102</td>\n",
       "    </tr>\n",
       "    <tr>\n",
       "      <th>4</th>\n",
       "      <td>4.0</td>\n",
       "      <td>516</td>\n",
       "      <td>17.920371</td>\n",
       "      <td>53.156539</td>\n",
       "      <td>97.112525</td>\n",
       "      <td>0.043333</td>\n",
       "      <td>6.666667</td>\n",
       "      <td>1.111111</td>\n",
       "      <td>12.5</td>\n",
       "      <td>30</td>\n",
       "      <td>0</td>\n",
       "      <td>A</td>\n",
       "      <td>53.156539</td>\n",
       "      <td>0.008601</td>\n",
       "      <td>0.105532</td>\n",
       "      <td>0.001211</td>\n",
       "      <td>0.115344</td>\n",
       "      <td>0.114133</td>\n",
       "      <td>0.106743</td>\n",
       "    </tr>\n",
       "  </tbody>\n",
       "</table>\n",
       "</div>"
      ],
      "text/plain": [
       "   grid_cell_id  model_id  y_diff_dtw_distance  rms_perc_diff  \\\n",
       "0           0.0       512            12.484688      41.079664   \n",
       "1           1.0       513            13.500445      34.089880   \n",
       "2           2.0       514            14.557976      47.084719   \n",
       "3           3.0       515            15.565144      50.229976   \n",
       "4           4.0       516            17.920371      53.156539   \n",
       "\n",
       "   emf_dtw_distance  damper.damping_coefficient  \\\n",
       "0         83.644779                    0.043333   \n",
       "1         91.988962                    0.043333   \n",
       "2         90.270891                    0.043333   \n",
       "3         87.382592                    0.043333   \n",
       "4         97.112525                    0.043333   \n",
       "\n",
       "   coupling_model.coupling_constant  mechanical_spring.damping_coefficient  \\\n",
       "0                          2.222222                               1.111111   \n",
       "1                          3.333333                               1.111111   \n",
       "2                          4.444444                               1.111111   \n",
       "3                          5.555556                               1.111111   \n",
       "4                          6.666667                               1.111111   \n",
       "\n",
       "   coil_resistance  load_model.R  input_excitation device_id  \\\n",
       "0             12.5            30                 0         A   \n",
       "1             12.5            30                 0         A   \n",
       "2             12.5            30                 0         A   \n",
       "3             12.5            30                 0         A   \n",
       "4             12.5            30                 0         A   \n",
       "\n",
       "   rms_perc_diff_abs  y_diff_dtw_distance_norm  emf_dtw_distance_norm  \\\n",
       "0          41.079664                  0.005992               0.090897   \n",
       "1          34.089880                  0.006480               0.099964   \n",
       "2          47.084719                  0.006987               0.098097   \n",
       "3          50.229976                  0.007471               0.094958   \n",
       "4          53.156539                  0.008601               0.105532   \n",
       "\n",
       "   rms_perc_diff_abs_norm  balanced  dtw_balanced  elec_balanced  \n",
       "0                0.000936  0.097824      0.096889       0.091832  \n",
       "1                0.000776  0.107220      0.106444       0.100741  \n",
       "2                0.001072  0.106157      0.105084       0.099170  \n",
       "3                0.001144  0.103573      0.102429       0.096102  \n",
       "4                0.001211  0.115344      0.114133       0.106743  "
      ]
     },
     "execution_count": 8,
     "metadata": {},
     "output_type": "execute_result"
    }
   ],
   "source": [
    "df2_filtered.head()"
   ]
  },
  {
   "cell_type": "code",
   "execution_count": 9,
   "metadata": {},
   "outputs": [
    {
     "name": "stdout",
     "output_type": "stream",
     "text": [
      "22000\n"
     ]
    },
    {
     "data": {
      "text/plain": [
       "20702"
      ]
     },
     "execution_count": 9,
     "metadata": {},
     "output_type": "execute_result"
    }
   ],
   "source": [
    "print(len(df2))\n",
    "len(df2_filtered)"
   ]
  },
  {
   "cell_type": "code",
   "execution_count": 10,
   "metadata": {},
   "outputs": [
    {
     "data": {
      "text/html": [
       "<div>\n",
       "<style scoped>\n",
       "    .dataframe tbody tr th:only-of-type {\n",
       "        vertical-align: middle;\n",
       "    }\n",
       "\n",
       "    .dataframe tbody tr th {\n",
       "        vertical-align: top;\n",
       "    }\n",
       "\n",
       "    .dataframe thead th {\n",
       "        text-align: right;\n",
       "    }\n",
       "</style>\n",
       "<table border=\"1\" class=\"dataframe\">\n",
       "  <thead>\n",
       "    <tr style=\"text-align: right;\">\n",
       "      <th></th>\n",
       "      <th>y_diff_dtw_distance</th>\n",
       "    </tr>\n",
       "    <tr>\n",
       "      <th>input_excitation</th>\n",
       "      <th></th>\n",
       "    </tr>\n",
       "  </thead>\n",
       "  <tbody>\n",
       "    <tr>\n",
       "      <th>0</th>\n",
       "      <td>16.724096</td>\n",
       "    </tr>\n",
       "    <tr>\n",
       "      <th>1</th>\n",
       "      <td>17.877816</td>\n",
       "    </tr>\n",
       "    <tr>\n",
       "      <th>2</th>\n",
       "      <td>17.419066</td>\n",
       "    </tr>\n",
       "    <tr>\n",
       "      <th>3</th>\n",
       "      <td>15.090341</td>\n",
       "    </tr>\n",
       "    <tr>\n",
       "      <th>4</th>\n",
       "      <td>18.296309</td>\n",
       "    </tr>\n",
       "    <tr>\n",
       "      <th>5</th>\n",
       "      <td>17.868375</td>\n",
       "    </tr>\n",
       "    <tr>\n",
       "      <th>6</th>\n",
       "      <td>17.682649</td>\n",
       "    </tr>\n",
       "  </tbody>\n",
       "</table>\n",
       "</div>"
      ],
      "text/plain": [
       "                  y_diff_dtw_distance\n",
       "input_excitation                     \n",
       "0                           16.724096\n",
       "1                           17.877816\n",
       "2                           17.419066\n",
       "3                           15.090341\n",
       "4                           18.296309\n",
       "5                           17.868375\n",
       "6                           17.682649"
      ]
     },
     "execution_count": 10,
     "metadata": {},
     "output_type": "execute_result"
    }
   ],
   "source": [
    "df2_filtered.query('device_id == \"A\"').groupby(['input_excitation']).agg({'y_diff_dtw_distance': 'mean'})"
   ]
  },
  {
   "cell_type": "code",
   "execution_count": 11,
   "metadata": {},
   "outputs": [],
   "source": [
    "def which_inputs_to_drop(df, device, number_to_drop):\n",
    "    return (\n",
    "        df\n",
    "        .query(f'device_id == \"{device}\"')\n",
    "        .groupby(['device_id', 'input_excitation'])\n",
    "        .agg({'y_diff_dtw_distance': 'mean'})\n",
    "        .sort_values(by='y_diff_dtw_distance', ascending=False)\n",
    "        .reset_index()\n",
    "        .iloc[:number_to_drop, :]['input_excitation']\n",
    "        .values\n",
    "    )"
   ]
  },
  {
   "cell_type": "code",
   "execution_count": 12,
   "metadata": {},
   "outputs": [
    {
     "name": "stdout",
     "output_type": "stream",
     "text": [
      "[4 1]\n",
      "[2 6]\n",
      "[2 6 5]\n"
     ]
    }
   ],
   "source": [
    "indexes_to_drop = []\n",
    "for device, num in zip(['A', 'B', 'C'], [2, 2, 3]):\n",
    "    to_drop = which_inputs_to_drop(df2_filtered, device, num)\n",
    "    print(to_drop)\n",
    "    x = df2_filtered[df2_filtered['input_excitation'].isin(to_drop)]\n",
    "    x = x[x['device_id'] == device]\n",
    "    indexes_to_drop.append(x.index)"
   ]
  },
  {
   "cell_type": "code",
   "execution_count": 13,
   "metadata": {},
   "outputs": [
    {
     "data": {
      "text/plain": [
       "[Int64Index([1000, 1001, 1003, 1004, 1005, 1006, 1007, 1008, 1009, 1010,\n",
       "             ...\n",
       "             4989, 4990, 4991, 4992, 4993, 4995, 4996, 4997, 4998, 4999],\n",
       "            dtype='int64', length=1882),\n",
       " Int64Index([ 9000,  9001,  9002,  9003,  9004,  9005,  9006,  9007,  9008,\n",
       "              9009,\n",
       "             ...\n",
       "             13989, 13990, 13991, 13992, 13993, 13995, 13996, 13997, 13998,\n",
       "             13999],\n",
       "            dtype='int64', length=1882),\n",
       " Int64Index([16000, 16001, 16002, 16003, 16004, 16005, 16006, 16007, 16008,\n",
       "             16009,\n",
       "             ...\n",
       "             20990, 20991, 20992, 20993, 20994, 20995, 20996, 20997, 20998,\n",
       "             20999],\n",
       "            dtype='int64', length=2823)]"
      ]
     },
     "execution_count": 13,
     "metadata": {},
     "output_type": "execute_result"
    }
   ],
   "source": [
    "indexes_to_drop"
   ]
  },
  {
   "cell_type": "code",
   "execution_count": 14,
   "metadata": {},
   "outputs": [
    {
     "data": {
      "text/plain": [
       "20702"
      ]
     },
     "execution_count": 14,
     "metadata": {},
     "output_type": "execute_result"
    }
   ],
   "source": [
    "len(df2_filtered)"
   ]
  },
  {
   "cell_type": "code",
   "execution_count": 15,
   "metadata": {},
   "outputs": [],
   "source": [
    "for idx in indexes_to_drop:\n",
    "    df2_filtered = df2_filtered.drop(idx)"
   ]
  },
  {
   "cell_type": "code",
   "execution_count": 16,
   "metadata": {},
   "outputs": [
    {
     "data": {
      "text/plain": [
       "14115"
      ]
     },
     "execution_count": 16,
     "metadata": {},
     "output_type": "execute_result"
    }
   ],
   "source": [
    "len(df2_filtered)"
   ]
  },
  {
   "cell_type": "code",
   "execution_count": 17,
   "metadata": {},
   "outputs": [
    {
     "data": {
      "text/plain": [
       "device_id  input_excitation\n",
       "A          0                   941\n",
       "           2                   941\n",
       "           3                   941\n",
       "           5                   941\n",
       "           6                   941\n",
       "B          0                   941\n",
       "           1                   941\n",
       "           3                   941\n",
       "           4                   941\n",
       "           5                   941\n",
       "C          0                   941\n",
       "           1                   941\n",
       "           3                   941\n",
       "           4                   941\n",
       "           7                   941\n",
       "dtype: int64"
      ]
     },
     "execution_count": 17,
     "metadata": {},
     "output_type": "execute_result"
    }
   ],
   "source": [
    "df2_filtered.groupby(['device_id', 'input_excitation']).size()"
   ]
  },
  {
   "cell_type": "code",
   "execution_count": 18,
   "metadata": {},
   "outputs": [
    {
     "data": {
      "text/html": [
       "<div>\n",
       "<style scoped>\n",
       "    .dataframe tbody tr th:only-of-type {\n",
       "        vertical-align: middle;\n",
       "    }\n",
       "\n",
       "    .dataframe tbody tr th {\n",
       "        vertical-align: top;\n",
       "    }\n",
       "\n",
       "    .dataframe thead th {\n",
       "        text-align: right;\n",
       "    }\n",
       "</style>\n",
       "<table border=\"1\" class=\"dataframe\">\n",
       "  <thead>\n",
       "    <tr style=\"text-align: right;\">\n",
       "      <th></th>\n",
       "      <th>y_diff_dtw_distance</th>\n",
       "      <th>rms_perc_diff_abs</th>\n",
       "      <th>emf_dtw_distance</th>\n",
       "      <th>balanced</th>\n",
       "      <th>dtw_balanced</th>\n",
       "      <th>elec_balanced</th>\n",
       "    </tr>\n",
       "    <tr>\n",
       "      <th>model_id</th>\n",
       "      <th></th>\n",
       "      <th></th>\n",
       "      <th></th>\n",
       "      <th></th>\n",
       "      <th></th>\n",
       "      <th></th>\n",
       "    </tr>\n",
       "  </thead>\n",
       "  <tbody>\n",
       "    <tr>\n",
       "      <th>0</th>\n",
       "      <td>15.266715</td>\n",
       "      <td>51.444160</td>\n",
       "      <td>229.300196</td>\n",
       "      <td>0.257679</td>\n",
       "      <td>0.256507</td>\n",
       "      <td>0.250352</td>\n",
       "    </tr>\n",
       "    <tr>\n",
       "      <th>1</th>\n",
       "      <td>16.540170</td>\n",
       "      <td>65.977495</td>\n",
       "      <td>266.820083</td>\n",
       "      <td>0.299394</td>\n",
       "      <td>0.297891</td>\n",
       "      <td>0.291455</td>\n",
       "    </tr>\n",
       "    <tr>\n",
       "      <th>2</th>\n",
       "      <td>18.683305</td>\n",
       "      <td>81.246030</td>\n",
       "      <td>302.265933</td>\n",
       "      <td>0.339289</td>\n",
       "      <td>0.337439</td>\n",
       "      <td>0.330322</td>\n",
       "    </tr>\n",
       "    <tr>\n",
       "      <th>3</th>\n",
       "      <td>19.236310</td>\n",
       "      <td>83.566785</td>\n",
       "      <td>314.166147</td>\n",
       "      <td>0.352539</td>\n",
       "      <td>0.350636</td>\n",
       "      <td>0.343307</td>\n",
       "    </tr>\n",
       "    <tr>\n",
       "      <th>4</th>\n",
       "      <td>22.030305</td>\n",
       "      <td>95.430113</td>\n",
       "      <td>345.186100</td>\n",
       "      <td>0.387860</td>\n",
       "      <td>0.385686</td>\n",
       "      <td>0.377286</td>\n",
       "    </tr>\n",
       "  </tbody>\n",
       "</table>\n",
       "</div>"
      ],
      "text/plain": [
       "          y_diff_dtw_distance  rms_perc_diff_abs  emf_dtw_distance  balanced  \\\n",
       "model_id                                                                       \n",
       "0                   15.266715          51.444160        229.300196  0.257679   \n",
       "1                   16.540170          65.977495        266.820083  0.299394   \n",
       "2                   18.683305          81.246030        302.265933  0.339289   \n",
       "3                   19.236310          83.566785        314.166147  0.352539   \n",
       "4                   22.030305          95.430113        345.186100  0.387860   \n",
       "\n",
       "          dtw_balanced  elec_balanced  \n",
       "model_id                               \n",
       "0             0.256507       0.250352  \n",
       "1             0.297891       0.291455  \n",
       "2             0.337439       0.330322  \n",
       "3             0.350636       0.343307  \n",
       "4             0.385686       0.377286  "
      ]
     },
     "execution_count": 18,
     "metadata": {},
     "output_type": "execute_result"
    }
   ],
   "source": [
    "df_scores = df2_filtered.groupby('model_id').agg({\n",
    "    'y_diff_dtw_distance': 'mean',\n",
    "    'rms_perc_diff_abs': 'mean',\n",
    "    'emf_dtw_distance': 'mean',\n",
    "    'balanced': 'mean',\n",
    "    'dtw_balanced': 'mean',\n",
    "    'elec_balanced': 'mean'\n",
    "})\n",
    "df_scores.head()"
   ]
  },
  {
   "cell_type": "code",
   "execution_count": 19,
   "metadata": {},
   "outputs": [
    {
     "data": {
      "text/plain": [
       "{'y_diff_dtw_distance': 301,\n",
       " 'rms_perc_diff_abs': 870,\n",
       " 'emf_dtw_distance': 661,\n",
       " 'balanced': 661,\n",
       " 'dtw_balanced': 661,\n",
       " 'elec_balanced': 661}"
      ]
     },
     "execution_count": 19,
     "metadata": {},
     "output_type": "execute_result"
    }
   ],
   "source": [
    "# Let's get the best performing model ids for each objective_function\n",
    "best_model_ids = {}\n",
    "for obj_func in df_scores.columns:\n",
    "    best_model_id = df_scores.sort_values(by=obj_func).index[0]\n",
    "    best_model_ids[obj_func] = best_model_id\n",
    "    \n",
    "best_model_ids"
   ]
  },
  {
   "cell_type": "code",
   "execution_count": 20,
   "metadata": {},
   "outputs": [
    {
     "data": {
      "text/html": [
       "<div>\n",
       "<style scoped>\n",
       "    .dataframe tbody tr th:only-of-type {\n",
       "        vertical-align: middle;\n",
       "    }\n",
       "\n",
       "    .dataframe tbody tr th {\n",
       "        vertical-align: top;\n",
       "    }\n",
       "\n",
       "    .dataframe thead th {\n",
       "        text-align: right;\n",
       "    }\n",
       "</style>\n",
       "<table border=\"1\" class=\"dataframe\">\n",
       "  <thead>\n",
       "    <tr style=\"text-align: right;\">\n",
       "      <th></th>\n",
       "      <th>grid_cell_id</th>\n",
       "      <th>model_id</th>\n",
       "      <th>y_diff_dtw_distance</th>\n",
       "      <th>rms_perc_diff</th>\n",
       "      <th>emf_dtw_distance</th>\n",
       "      <th>damper.damping_coefficient</th>\n",
       "      <th>coupling_model.coupling_constant</th>\n",
       "      <th>mechanical_spring.damping_coefficient</th>\n",
       "      <th>coil_resistance</th>\n",
       "      <th>load_model.R</th>\n",
       "      <th>input_excitation</th>\n",
       "      <th>device_id</th>\n",
       "      <th>rms_perc_diff_abs</th>\n",
       "      <th>y_diff_dtw_distance_norm</th>\n",
       "      <th>emf_dtw_distance_norm</th>\n",
       "      <th>rms_perc_diff_abs_norm</th>\n",
       "      <th>balanced</th>\n",
       "      <th>dtw_balanced</th>\n",
       "      <th>elec_balanced</th>\n",
       "    </tr>\n",
       "  </thead>\n",
       "  <tbody>\n",
       "    <tr>\n",
       "      <th>0</th>\n",
       "      <td>0.0</td>\n",
       "      <td>512</td>\n",
       "      <td>12.484688</td>\n",
       "      <td>41.079664</td>\n",
       "      <td>83.644779</td>\n",
       "      <td>0.043333</td>\n",
       "      <td>2.222222</td>\n",
       "      <td>1.111111</td>\n",
       "      <td>12.5</td>\n",
       "      <td>30</td>\n",
       "      <td>0</td>\n",
       "      <td>A</td>\n",
       "      <td>41.079664</td>\n",
       "      <td>0.005992</td>\n",
       "      <td>0.090897</td>\n",
       "      <td>0.000936</td>\n",
       "      <td>0.097824</td>\n",
       "      <td>0.096889</td>\n",
       "      <td>0.091832</td>\n",
       "    </tr>\n",
       "    <tr>\n",
       "      <th>1</th>\n",
       "      <td>1.0</td>\n",
       "      <td>513</td>\n",
       "      <td>13.500445</td>\n",
       "      <td>34.089880</td>\n",
       "      <td>91.988962</td>\n",
       "      <td>0.043333</td>\n",
       "      <td>3.333333</td>\n",
       "      <td>1.111111</td>\n",
       "      <td>12.5</td>\n",
       "      <td>30</td>\n",
       "      <td>0</td>\n",
       "      <td>A</td>\n",
       "      <td>34.089880</td>\n",
       "      <td>0.006480</td>\n",
       "      <td>0.099964</td>\n",
       "      <td>0.000776</td>\n",
       "      <td>0.107220</td>\n",
       "      <td>0.106444</td>\n",
       "      <td>0.100741</td>\n",
       "    </tr>\n",
       "    <tr>\n",
       "      <th>2</th>\n",
       "      <td>2.0</td>\n",
       "      <td>514</td>\n",
       "      <td>14.557976</td>\n",
       "      <td>47.084719</td>\n",
       "      <td>90.270891</td>\n",
       "      <td>0.043333</td>\n",
       "      <td>4.444444</td>\n",
       "      <td>1.111111</td>\n",
       "      <td>12.5</td>\n",
       "      <td>30</td>\n",
       "      <td>0</td>\n",
       "      <td>A</td>\n",
       "      <td>47.084719</td>\n",
       "      <td>0.006987</td>\n",
       "      <td>0.098097</td>\n",
       "      <td>0.001072</td>\n",
       "      <td>0.106157</td>\n",
       "      <td>0.105084</td>\n",
       "      <td>0.099170</td>\n",
       "    </tr>\n",
       "    <tr>\n",
       "      <th>3</th>\n",
       "      <td>3.0</td>\n",
       "      <td>515</td>\n",
       "      <td>15.565144</td>\n",
       "      <td>50.229976</td>\n",
       "      <td>87.382592</td>\n",
       "      <td>0.043333</td>\n",
       "      <td>5.555556</td>\n",
       "      <td>1.111111</td>\n",
       "      <td>12.5</td>\n",
       "      <td>30</td>\n",
       "      <td>0</td>\n",
       "      <td>A</td>\n",
       "      <td>50.229976</td>\n",
       "      <td>0.007471</td>\n",
       "      <td>0.094958</td>\n",
       "      <td>0.001144</td>\n",
       "      <td>0.103573</td>\n",
       "      <td>0.102429</td>\n",
       "      <td>0.096102</td>\n",
       "    </tr>\n",
       "    <tr>\n",
       "      <th>4</th>\n",
       "      <td>4.0</td>\n",
       "      <td>516</td>\n",
       "      <td>17.920371</td>\n",
       "      <td>53.156539</td>\n",
       "      <td>97.112525</td>\n",
       "      <td>0.043333</td>\n",
       "      <td>6.666667</td>\n",
       "      <td>1.111111</td>\n",
       "      <td>12.5</td>\n",
       "      <td>30</td>\n",
       "      <td>0</td>\n",
       "      <td>A</td>\n",
       "      <td>53.156539</td>\n",
       "      <td>0.008601</td>\n",
       "      <td>0.105532</td>\n",
       "      <td>0.001211</td>\n",
       "      <td>0.115344</td>\n",
       "      <td>0.114133</td>\n",
       "      <td>0.106743</td>\n",
       "    </tr>\n",
       "  </tbody>\n",
       "</table>\n",
       "</div>"
      ],
      "text/plain": [
       "   grid_cell_id  model_id  y_diff_dtw_distance  rms_perc_diff  \\\n",
       "0           0.0       512            12.484688      41.079664   \n",
       "1           1.0       513            13.500445      34.089880   \n",
       "2           2.0       514            14.557976      47.084719   \n",
       "3           3.0       515            15.565144      50.229976   \n",
       "4           4.0       516            17.920371      53.156539   \n",
       "\n",
       "   emf_dtw_distance  damper.damping_coefficient  \\\n",
       "0         83.644779                    0.043333   \n",
       "1         91.988962                    0.043333   \n",
       "2         90.270891                    0.043333   \n",
       "3         87.382592                    0.043333   \n",
       "4         97.112525                    0.043333   \n",
       "\n",
       "   coupling_model.coupling_constant  mechanical_spring.damping_coefficient  \\\n",
       "0                          2.222222                               1.111111   \n",
       "1                          3.333333                               1.111111   \n",
       "2                          4.444444                               1.111111   \n",
       "3                          5.555556                               1.111111   \n",
       "4                          6.666667                               1.111111   \n",
       "\n",
       "   coil_resistance  load_model.R  input_excitation device_id  \\\n",
       "0             12.5            30                 0         A   \n",
       "1             12.5            30                 0         A   \n",
       "2             12.5            30                 0         A   \n",
       "3             12.5            30                 0         A   \n",
       "4             12.5            30                 0         A   \n",
       "\n",
       "   rms_perc_diff_abs  y_diff_dtw_distance_norm  emf_dtw_distance_norm  \\\n",
       "0          41.079664                  0.005992               0.090897   \n",
       "1          34.089880                  0.006480               0.099964   \n",
       "2          47.084719                  0.006987               0.098097   \n",
       "3          50.229976                  0.007471               0.094958   \n",
       "4          53.156539                  0.008601               0.105532   \n",
       "\n",
       "   rms_perc_diff_abs_norm  balanced  dtw_balanced  elec_balanced  \n",
       "0                0.000936  0.097824      0.096889       0.091832  \n",
       "1                0.000776  0.107220      0.106444       0.100741  \n",
       "2                0.001072  0.106157      0.105084       0.099170  \n",
       "3                0.001144  0.103573      0.102429       0.096102  \n",
       "4                0.001211  0.115344      0.114133       0.106743  "
      ]
     },
     "execution_count": 20,
     "metadata": {},
     "output_type": "execute_result"
    }
   ],
   "source": [
    "df2_filtered.head()"
   ]
  },
  {
   "cell_type": "code",
   "execution_count": 21,
   "metadata": {},
   "outputs": [
    {
     "data": {
      "text/plain": [
       "{'$\\\\texttt{dtw\\\\_mech}$': 301,\n",
       " '$\\\\texttt{dtw\\\\_elec}$': 661,\n",
       " '$\\\\texttt{rms\\\\_perc\\\\_abs}$': 870,\n",
       " '$\\\\texttt{balanced}$': 661,\n",
       " '$\\\\texttt{dtw\\\\_both}$': 661,\n",
       " '$\\\\texttt{rms\\\\_dtw\\\\_elec}$': 661}"
      ]
     },
     "execution_count": 21,
     "metadata": {},
     "output_type": "execute_result"
    }
   ],
   "source": [
    "best_param_sets = {\n",
    "    r'$\\texttt{dtw\\_mech}$': best_model_ids['y_diff_dtw_distance'],\n",
    "    r'$\\texttt{dtw\\_elec}$': best_model_ids['emf_dtw_distance'],\n",
    "    r'$\\texttt{rms\\_perc\\_abs}$': best_model_ids['rms_perc_diff_abs'],\n",
    "    r'$\\texttt{balanced}$': best_model_ids['balanced'],\n",
    "    r'$\\texttt{dtw\\_both}$': best_model_ids['dtw_balanced'],\n",
    "    r'$\\texttt{rms\\_dtw\\_elec}$': best_model_ids['elec_balanced']\n",
    "}\n",
    "best_param_sets"
   ]
  },
  {
   "cell_type": "code",
   "execution_count": 22,
   "metadata": {},
   "outputs": [
    {
     "data": {
      "text/plain": [
       "{301: '$\\\\texttt{dtw\\\\_mech}$',\n",
       " 661: '$\\\\texttt{rms\\\\_dtw\\\\_elec}$',\n",
       " 870: '$\\\\texttt{rms\\\\_perc\\\\_abs}$'}"
      ]
     },
     "execution_count": 22,
     "metadata": {},
     "output_type": "execute_result"
    }
   ],
   "source": [
    "model_id_to_metric_name = {v: k for k, v in best_param_sets.items()}\n",
    "model_id_to_metric_name"
   ]
  },
  {
   "cell_type": "code",
   "execution_count": 23,
   "metadata": {},
   "outputs": [
    {
     "name": "stderr",
     "output_type": "stream",
     "text": [
      "/home/michael/miniconda3/envs/ds/lib/python3.7/site-packages/ipykernel_launcher.py:2: SettingWithCopyWarning: \n",
      "A value is trying to be set on a copy of a slice from a DataFrame.\n",
      "Try using .loc[row_indexer,col_indexer] = value instead\n",
      "\n",
      "See the caveats in the documentation: https://pandas.pydata.org/pandas-docs/stable/user_guide/indexing.html#returning-a-view-versus-a-copy\n",
      "  \n"
     ]
    },
    {
     "data": {
      "text/html": [
       "<div>\n",
       "<style scoped>\n",
       "    .dataframe tbody tr th:only-of-type {\n",
       "        vertical-align: middle;\n",
       "    }\n",
       "\n",
       "    .dataframe tbody tr th {\n",
       "        vertical-align: top;\n",
       "    }\n",
       "\n",
       "    .dataframe thead th {\n",
       "        text-align: right;\n",
       "    }\n",
       "</style>\n",
       "<table border=\"1\" class=\"dataframe\">\n",
       "  <thead>\n",
       "    <tr style=\"text-align: right;\">\n",
       "      <th></th>\n",
       "      <th>grid.cell.id</th>\n",
       "      <th>model.id</th>\n",
       "      <th>y.diff.dtw.distance</th>\n",
       "      <th>rms.perc.diff</th>\n",
       "      <th>emf.dtw.distance</th>\n",
       "      <th>damper.damping.coefficient</th>\n",
       "      <th>coupling.model.coupling.constant</th>\n",
       "      <th>mechanical.spring.damping.coefficient</th>\n",
       "      <th>coil.resistance</th>\n",
       "      <th>load.model.R</th>\n",
       "      <th>input.excitation</th>\n",
       "      <th>device.id</th>\n",
       "      <th>rms.perc.diff.abs</th>\n",
       "      <th>y.diff.dtw.distance.norm</th>\n",
       "      <th>emf.dtw.distance.norm</th>\n",
       "      <th>rms.perc.diff.abs.norm</th>\n",
       "      <th>balanced</th>\n",
       "      <th>dtw.balanced</th>\n",
       "      <th>elec.balanced</th>\n",
       "      <th>metric.name</th>\n",
       "    </tr>\n",
       "  </thead>\n",
       "  <tbody>\n",
       "    <tr>\n",
       "      <th>94</th>\n",
       "      <td>6.0</td>\n",
       "      <td>870</td>\n",
       "      <td>13.760081</td>\n",
       "      <td>15.018300</td>\n",
       "      <td>66.427083</td>\n",
       "      <td>0.063333</td>\n",
       "      <td>0.000000</td>\n",
       "      <td>7.777778</td>\n",
       "      <td>12.5</td>\n",
       "      <td>30</td>\n",
       "      <td>0</td>\n",
       "      <td>A</td>\n",
       "      <td>15.018300</td>\n",
       "      <td>0.006604</td>\n",
       "      <td>0.072186</td>\n",
       "      <td>0.000342</td>\n",
       "      <td>0.079132</td>\n",
       "      <td>0.078790</td>\n",
       "      <td>0.072528</td>\n",
       "      <td>$\\texttt{rms\\_perc\\_abs}$</td>\n",
       "    </tr>\n",
       "    <tr>\n",
       "      <th>253</th>\n",
       "      <td>5.0</td>\n",
       "      <td>661</td>\n",
       "      <td>12.028803</td>\n",
       "      <td>31.065747</td>\n",
       "      <td>67.419869</td>\n",
       "      <td>0.050000</td>\n",
       "      <td>1.111111</td>\n",
       "      <td>6.666667</td>\n",
       "      <td>12.5</td>\n",
       "      <td>30</td>\n",
       "      <td>0</td>\n",
       "      <td>A</td>\n",
       "      <td>31.065747</td>\n",
       "      <td>0.005773</td>\n",
       "      <td>0.073265</td>\n",
       "      <td>0.000708</td>\n",
       "      <td>0.079746</td>\n",
       "      <td>0.079038</td>\n",
       "      <td>0.073973</td>\n",
       "      <td>$\\texttt{rms\\_dtw\\_elec}$</td>\n",
       "    </tr>\n",
       "    <tr>\n",
       "      <th>285</th>\n",
       "      <td>5.0</td>\n",
       "      <td>301</td>\n",
       "      <td>10.378102</td>\n",
       "      <td>55.568862</td>\n",
       "      <td>84.981692</td>\n",
       "      <td>0.030000</td>\n",
       "      <td>1.111111</td>\n",
       "      <td>0.000000</td>\n",
       "      <td>12.5</td>\n",
       "      <td>30</td>\n",
       "      <td>0</td>\n",
       "      <td>A</td>\n",
       "      <td>55.568862</td>\n",
       "      <td>0.004981</td>\n",
       "      <td>0.092349</td>\n",
       "      <td>0.001266</td>\n",
       "      <td>0.098596</td>\n",
       "      <td>0.097330</td>\n",
       "      <td>0.093615</td>\n",
       "      <td>$\\texttt{dtw\\_mech}$</td>\n",
       "    </tr>\n",
       "    <tr>\n",
       "      <th>2565</th>\n",
       "      <td>5.0</td>\n",
       "      <td>301</td>\n",
       "      <td>6.959003</td>\n",
       "      <td>29.146381</td>\n",
       "      <td>120.127833</td>\n",
       "      <td>0.030000</td>\n",
       "      <td>1.111111</td>\n",
       "      <td>0.000000</td>\n",
       "      <td>12.5</td>\n",
       "      <td>30</td>\n",
       "      <td>2</td>\n",
       "      <td>A</td>\n",
       "      <td>29.146381</td>\n",
       "      <td>0.003340</td>\n",
       "      <td>0.130543</td>\n",
       "      <td>0.000664</td>\n",
       "      <td>0.134546</td>\n",
       "      <td>0.133883</td>\n",
       "      <td>0.131206</td>\n",
       "      <td>$\\texttt{dtw\\_mech}$</td>\n",
       "    </tr>\n",
       "    <tr>\n",
       "      <th>2589</th>\n",
       "      <td>5.0</td>\n",
       "      <td>661</td>\n",
       "      <td>15.067275</td>\n",
       "      <td>-17.711256</td>\n",
       "      <td>82.277705</td>\n",
       "      <td>0.050000</td>\n",
       "      <td>1.111111</td>\n",
       "      <td>6.666667</td>\n",
       "      <td>12.5</td>\n",
       "      <td>30</td>\n",
       "      <td>2</td>\n",
       "      <td>A</td>\n",
       "      <td>17.711256</td>\n",
       "      <td>0.007232</td>\n",
       "      <td>0.089411</td>\n",
       "      <td>0.000403</td>\n",
       "      <td>0.097046</td>\n",
       "      <td>0.096643</td>\n",
       "      <td>0.089814</td>\n",
       "      <td>$\\texttt{rms\\_dtw\\_elec}$</td>\n",
       "    </tr>\n",
       "  </tbody>\n",
       "</table>\n",
       "</div>"
      ],
      "text/plain": [
       "      grid.cell.id  model.id  y.diff.dtw.distance  rms.perc.diff  \\\n",
       "94             6.0       870            13.760081      15.018300   \n",
       "253            5.0       661            12.028803      31.065747   \n",
       "285            5.0       301            10.378102      55.568862   \n",
       "2565           5.0       301             6.959003      29.146381   \n",
       "2589           5.0       661            15.067275     -17.711256   \n",
       "\n",
       "      emf.dtw.distance  damper.damping.coefficient  \\\n",
       "94           66.427083                    0.063333   \n",
       "253          67.419869                    0.050000   \n",
       "285          84.981692                    0.030000   \n",
       "2565        120.127833                    0.030000   \n",
       "2589         82.277705                    0.050000   \n",
       "\n",
       "      coupling.model.coupling.constant  mechanical.spring.damping.coefficient  \\\n",
       "94                            0.000000                               7.777778   \n",
       "253                           1.111111                               6.666667   \n",
       "285                           1.111111                               0.000000   \n",
       "2565                          1.111111                               0.000000   \n",
       "2589                          1.111111                               6.666667   \n",
       "\n",
       "      coil.resistance  load.model.R  input.excitation device.id  \\\n",
       "94               12.5            30                 0         A   \n",
       "253              12.5            30                 0         A   \n",
       "285              12.5            30                 0         A   \n",
       "2565             12.5            30                 2         A   \n",
       "2589             12.5            30                 2         A   \n",
       "\n",
       "      rms.perc.diff.abs  y.diff.dtw.distance.norm  emf.dtw.distance.norm  \\\n",
       "94            15.018300                  0.006604               0.072186   \n",
       "253           31.065747                  0.005773               0.073265   \n",
       "285           55.568862                  0.004981               0.092349   \n",
       "2565          29.146381                  0.003340               0.130543   \n",
       "2589          17.711256                  0.007232               0.089411   \n",
       "\n",
       "      rms.perc.diff.abs.norm  balanced  dtw.balanced  elec.balanced  \\\n",
       "94                  0.000342  0.079132      0.078790       0.072528   \n",
       "253                 0.000708  0.079746      0.079038       0.073973   \n",
       "285                 0.001266  0.098596      0.097330       0.093615   \n",
       "2565                0.000664  0.134546      0.133883       0.131206   \n",
       "2589                0.000403  0.097046      0.096643       0.089814   \n",
       "\n",
       "                    metric.name  \n",
       "94    $\\texttt{rms\\_perc\\_abs}$  \n",
       "253   $\\texttt{rms\\_dtw\\_elec}$  \n",
       "285        $\\texttt{dtw\\_mech}$  \n",
       "2565       $\\texttt{dtw\\_mech}$  \n",
       "2589  $\\texttt{rms\\_dtw\\_elec}$  "
      ]
     },
     "execution_count": 23,
     "metadata": {},
     "output_type": "execute_result"
    }
   ],
   "source": [
    "df_filtered_scores = df2_filtered[df2_filtered.model_id.isin(best_param_sets.values())]\n",
    "df_filtered_scores['metric_name'] = df_filtered_scores['model_id'].apply(lambda x: model_id_to_metric_name[x])\n",
    "df_filtered_scores.head()\n",
    "\n",
    "df_filtered_scores.columns = [col.replace('_', '.') for col in df_filtered_scores.columns]  # Required to stop Latex from exploding\n",
    "df_filtered_scores.head()"
   ]
  },
  {
   "cell_type": "code",
   "execution_count": 24,
   "metadata": {},
   "outputs": [],
   "source": [
    "def make_ridge_plot(df, row, distribution_metric, x_axis_label, output_path):\n",
    "    sns.set(style=\"white\",\n",
    "            rc={\"axes.facecolor\": (0, 0, 0, 0),\n",
    "                'text.usetex': True,\n",
    "                'text.latex.preamble': r'\\usepackage{amsmath}',\n",
    "                'font.family': 'serif'},\n",
    "            font_scale=1.7)\n",
    "    \n",
    "    g = sns.FacetGrid(df, row=row, hue=row, aspect=15, height=0.8)\n",
    "    g.map(sns.kdeplot, distribution_metric, shade=True, clip_on=False, alpha=1, bw=1)\n",
    "    g.map(sns.kdeplot, distribution_metric, clip_on=False, color='w', lw=2, alpha=1, bw=1)\n",
    "    g.map(plt.axhline, y=0, lw=2, clip_on=False)\n",
    "    \n",
    "    def label(x, color, label):\n",
    "        ax = plt.gca()\n",
    "        #ax.text(0, .15, model_id_to_metric_name[int(label)], ha='left', va='center', transform=ax.transAxes, color=color)\n",
    "        ax.text(0, .15, label, ha='left', va='center', transform=ax.transAxes, color=color)\n",
    "        \n",
    "    g.map(label, row)\n",
    "    \n",
    "    g.set_titles(\"\")\n",
    "    g.set_axis_labels(distribution_metric)\n",
    "    g.set(yticks=[])\n",
    "    g.despine(bottom=True, left=True)\n",
    "    g.fig.subplots_adjust(hspace=-0.2)\n",
    "    g.set_axis_labels(x_axis_label) \n",
    "    g.savefig(output_path)"
   ]
  },
  {
   "cell_type": "code",
   "execution_count": 53,
   "metadata": {},
   "outputs": [
    {
     "name": "stderr",
     "output_type": "stream",
     "text": [
      "/home/michael/miniconda3/envs/ds/lib/python3.7/site-packages/seaborn/axisgrid.py:856: UserWarning: Tight layout not applied. tight_layout cannot make axes height small enough to accommodate all axes decorations\n",
      "  self.fig.tight_layout()\n",
      "/home/michael/miniconda3/envs/ds/lib/python3.7/site-packages/seaborn/axisgrid.py:856: UserWarning: Tight layout not applied. tight_layout cannot make axes height small enough to accommodate all axes decorations\n",
      "  self.fig.tight_layout()\n",
      "/home/michael/miniconda3/envs/ds/lib/python3.7/site-packages/seaborn/axisgrid.py:856: UserWarning: Tight layout not applied. tight_layout cannot make axes height small enough to accommodate all axes decorations\n",
      "  self.fig.tight_layout()\n",
      "/home/michael/miniconda3/envs/ds/lib/python3.7/site-packages/seaborn/axisgrid.py:856: UserWarning: Tight layout not applied. tight_layout cannot make axes height small enough to accommodate all axes decorations\n",
      "  self.fig.tight_layout()\n",
      "/home/michael/miniconda3/envs/ds/lib/python3.7/site-packages/seaborn/axisgrid.py:856: UserWarning: Tight layout not applied. tight_layout cannot make axes height small enough to accommodate all axes decorations\n",
      "  self.fig.tight_layout()\n",
      "/home/michael/miniconda3/envs/ds/lib/python3.7/site-packages/seaborn/axisgrid.py:856: UserWarning: Tight layout not applied. tight_layout cannot make axes height small enough to accommodate all axes decorations\n",
      "  self.fig.tight_layout()\n"
     ]
    },
    {
     "data": {
      "image/png": "[encoded data removed]",
      "text/plain": [
       "<Figure size 864x172.8 with 3 Axes>"
      ]
     },
     "metadata": {},
     "output_type": "display_data"
    },
    {
     "data": {
      "image/png": "[encoded data removed]",
      "text/plain": [
       "<Figure size 864x172.8 with 3 Axes>"
      ]
     },
     "metadata": {},
     "output_type": "display_data"
    },
    {
     "data": {
      "image/png": "[encoded data removed]",
      "text/plain": [
       "<Figure size 864x172.8 with 3 Axes>"
      ]
     },
     "metadata": {},
     "output_type": "display_data"
    }
   ],
   "source": [
    "path = '/home/michael/Nextcloud/PhD/LaTeX/Journal2/img/'\n",
    "make_ridge_plot(df_filtered_scores, 'model.id', 'y.diff.dtw.distance', r'$\\text{DTW}(y_{\\text{diff}},  \\hat{y}_{\\text{diff}}).$', '/home/michael/Nextcloud/PhD/LaTeX/Journal2/img/param_select_dtw_mech.pdf')\n",
    "make_ridge_plot(df_filtered_scores, 'model.id', 'emf.dtw.distance', r'$\\text{DTW}(V_{\\text{l}}, \\hat{V}_{\\text{l}})$', '/home/michael/Nextcloud/PhD/LaTeX/Journal2/img/param_select_dtw_elec.pdf')\n",
    "make_ridge_plot(df_filtered_scores, 'model.id', 'rms.perc.diff', r'$\\text{RMS\\%}(V_{\\text{l}}, \\hat{V}_{\\text{l}})$', '/home/michael/Nextcloud/PhD/LaTeX/Journal2/img/param_select_rms.pdf')"
   ]
  },
  {
   "cell_type": "code",
   "execution_count": 26,
   "metadata": {},
   "outputs": [
    {
     "data": {
      "text/plain": [
       "{'$\\\\texttt{dtw\\\\_mech}$': 301,\n",
       " '$\\\\texttt{dtw\\\\_elec}$': 661,\n",
       " '$\\\\texttt{rms\\\\_perc\\\\_abs}$': 870,\n",
       " '$\\\\texttt{balanced}$': 661,\n",
       " '$\\\\texttt{dtw\\\\_both}$': 661,\n",
       " '$\\\\texttt{rms\\\\_dtw\\\\_elec}$': 661}"
      ]
     },
     "execution_count": 26,
     "metadata": {},
     "output_type": "execute_result"
    }
   ],
   "source": [
    "best_param_sets"
   ]
  },
  {
   "cell_type": "code",
   "execution_count": 27,
   "metadata": {},
   "outputs": [
    {
     "data": {
      "text/html": [
       "<table style=\"border: 2px solid white;\">\n",
       "<tr>\n",
       "<td style=\"vertical-align: top; border: 0px solid white\">\n",
       "<h3 style=\"text-align: left;\">Client</h3>\n",
       "<ul style=\"text-align: left; list-style: none; margin: 0; padding: 0;\">\n",
       "  <li><b>Scheduler: </b>tcp://127.0.0.1:38977</li>\n",
       "  <li><b>Dashboard: </b><a href='http://127.0.0.1:8787/status' target='_blank'>http://127.0.0.1:8787/status</a></li>\n",
       "</ul>\n",
       "</td>\n",
       "<td style=\"vertical-align: top; border: 0px solid white\">\n",
       "<h3 style=\"text-align: left;\">Cluster</h3>\n",
       "<ul style=\"text-align: left; list-style:none; margin: 0; padding: 0;\">\n",
       "  <li><b>Workers: </b>4</li>\n",
       "  <li><b>Cores: </b>4</li>\n",
       "  <li><b>Memory: </b>16.66 GB</li>\n",
       "</ul>\n",
       "</td>\n",
       "</tr>\n",
       "</table>"
      ],
      "text/plain": [
       "<Client: 'tcp://127.0.0.1:38977' processes=4 threads=4, memory=16.66 GB>"
      ]
     },
     "execution_count": 27,
     "metadata": {},
     "output_type": "execute_result"
    }
   ],
   "source": [
    "import dask.dataframe as dd\n",
    "from dask.distributed import Client\n",
    "Client()"
   ]
  },
  {
   "cell_type": "code",
   "execution_count": 28,
   "metadata": {},
   "outputs": [],
   "source": [
    "# Ok, let's try load the groundtruth\n",
    "# Let's get some groundtruth in here\n",
    "from unified_model import evaluate\n",
    "from unified_model import metrics\n",
    "from unified_model.utils.utils import collect_samples\n",
    "from scipy.signal import savgol_filter\n",
    "\n",
    "from dataclasses import dataclass\n",
    "from typing import Any\n",
    "\n",
    "\n",
    "class GroundTruthFactory:\n",
    "    def __init__(self, samples_list, lvp_kwargs, adc_kwargs):\n",
    "        self.samples_list = samples_list\n",
    "        self.lvp_kwargs = lvp_kwargs\n",
    "        self.adc_kwargs = adc_kwargs\n",
    "        \n",
    "        @dataclass\n",
    "        class MechanicalGroundtruth:\n",
    "            y_diff: Any\n",
    "            time: Any\n",
    "        \n",
    "        @dataclass\n",
    "        class ElectricalGroundtruth:\n",
    "            emf: Any\n",
    "            time: Any\n",
    "        \n",
    "        @dataclass\n",
    "        class Groundtruth:\n",
    "            mech: MechanicalGroundtruth\n",
    "            elec: ElectricalGroundtruth\n",
    "\n",
    "        self.lvp = evaluate.LabeledVideoProcessor(**lvp_kwargs)\n",
    "        self.adc = evaluate.AdcProcessor(**adc_kwargs)\n",
    "        self.MechGroundtruth = MechanicalGroundtruth\n",
    "        self.ElecGroundtruth = ElectricalGroundtruth\n",
    "        self.Groundtruth = Groundtruth\n",
    "\n",
    "    def _make_mechanical_groundtruth(self, sample):\n",
    "        y_target, y_time_target = self.lvp.fit_transform(\n",
    "            sample.video_labels_df,\n",
    "            impute_missing_values=True\n",
    "        )\n",
    "        y_target = savgol_filter(y_target, 9, 3)\n",
    "\n",
    "        return self.MechGroundtruth(y_target,\n",
    "                                    y_time_target)\n",
    "\n",
    "    def _make_electrical_groundtruth(self, sample):\n",
    "        emf_target, emf_time_target = self.adc.fit_transform(sample.adc_df)\n",
    "        return self.ElecGroundtruth(emf_target,\n",
    "                                    emf_time_target)\n",
    "\n",
    "    def make(self):\n",
    "        groundtruths = []\n",
    "        for sample in self.samples_list:\n",
    "            mech_groundtruth = self._make_mechanical_groundtruth(sample)\n",
    "            elec_groundtruth = self._make_electrical_groundtruth(sample)\n",
    "\n",
    "            groundtruths.append(\n",
    "                self.Groundtruth(mech_groundtruth, elec_groundtruth)\n",
    "            )\n",
    "\n",
    "        return groundtruths\n",
    "\n",
    "# Prepare data\n",
    "base_groundtruth_path = './data/2019-05-23_D/'\n",
    "samples = {}\n",
    "samples['A'] = collect_samples(base_path=base_groundtruth_path,\n",
    "                               acc_pattern='A/*acc*.csv',\n",
    "                               adc_pattern='A/*adc*.csv',\n",
    "                               video_label_pattern='A/*labels*.csv')\n",
    "samples['B'] = collect_samples(base_path=base_groundtruth_path,\n",
    "                               acc_pattern='B/*acc*.csv',\n",
    "                               adc_pattern='B/*adc*.csv',\n",
    "                               video_label_pattern='B/*labels*.csv')\n",
    "samples['C'] = collect_samples(base_path=base_groundtruth_path,\n",
    "                               acc_pattern='C/*acc*.csv',\n",
    "                               adc_pattern='C/*adc*.csv',\n",
    "                               video_label_pattern='C/*labels*.csv')\n",
    "\n"
   ]
  },
  {
   "cell_type": "code",
   "execution_count": 29,
   "metadata": {},
   "outputs": [],
   "source": [
    "# Groundtruth\n",
    "\n",
    "groundtruth = {}\n",
    "for device in ['A', 'B', 'C']:\n",
    "    groundtruth_factory = GroundTruthFactory(samples_list=samples[device][:],\n",
    "                                             lvp_kwargs=dict(mm=10,\n",
    "                                                             seconds_per_frame=1/60,\n",
    "                                                             pixel_scale=0.154508),\n",
    "                                             adc_kwargs=dict(voltage_division_ratio=1 / 0.342)  # noqa\n",
    "    )\n",
    "    groundtruth[device] = groundtruth_factory.make()"
   ]
  },
  {
   "cell_type": "code",
   "execution_count": 30,
   "metadata": {},
   "outputs": [],
   "source": [
    "# Let's look at some examples from each"
   ]
  },
  {
   "cell_type": "code",
   "execution_count": 38,
   "metadata": {},
   "outputs": [],
   "source": [
    "import dask.dataframe as dd \n",
    "\n",
    "def get_curve(df_curves_path, model_id, input_excitation_number, device_id):\n",
    "    #df_curves = vaex.open(df_curves_path)[['model_id', 'input_excitation_number', 'device_id', 'time', 'emf', 'y_diff']]\n",
    "    df_curves = dd.read_parquet(df_curves_path,\n",
    "                                columns=['model_id', 'input_excitation', 'device_id', 'time', 'emf', 'y_diff'],\n",
    "                                filters=[('device_id', '==', device_id), ('input_excitation', '==', input_excitation_number)])\n",
    "    df_temp = df_curves[df_curves['model_id'] == model_id]\n",
    "    df_temp = df_temp[df_temp['input_excitation'] == input_excitation_number]\n",
    "    df_temp = df_temp[df_temp['device_id'] == device_id].compute()\n",
    "    return df_temp.sort_values(by='time')"
   ]
  },
  {
   "cell_type": "code",
   "execution_count": 46,
   "metadata": {},
   "outputs": [],
   "source": [
    "def compare_mech(df_curves_path, groundtruth, model_id, input_excitation_number, device_id):\n",
    "    x = get_curve(df_curves_path, model_id, input_excitation_number, device_id)\n",
    "    \n",
    "    \n",
    "    mech_eval = evaluate.MechanicalSystemEvaluator(\n",
    "        y_target = groundtruth[device_id][input_excitation_number].mech.y_diff,  # Referenced to zero\n",
    "        time_target = groundtruth[device_id][input_excitation_number].mech.time,\n",
    "        metrics = {'dtw_distance': metrics.dtw_euclid_distance}\n",
    "    )\n",
    "\n",
    "    mech_eval.fit(\n",
    "        y_predict = x['y_diff'].values,\n",
    "        time_predict = x['time'].values\n",
    "    )\n",
    "    print(mech_eval.score())\n",
    "    mech_eval.poof(figsize=(16,8))\n",
    "    del x"
   ]
  },
  {
   "cell_type": "code",
   "execution_count": 47,
   "metadata": {},
   "outputs": [],
   "source": [
    "def compare_elec(df_curves_path, groundtruth, model_id, input_excitation_number, device_id):\n",
    "    x = get_curve(df_curves_path, model_id, input_excitation_number, device_id)\n",
    "    \n",
    "    elec_eval = evaluate.ElectricalSystemEvaluator(\n",
    "        emf_target=groundtruth[device_id][input_excitation_number].elec.emf,  # Referenced to zero\n",
    "        time_target=groundtruth[device_id][input_excitation_number].elec.time,\n",
    "        metrics = {'dtw_distance': metrics.dtw_euclid_distance,\n",
    "                  'rms_perc_diff': metrics.root_mean_square_percentage_diff},\n",
    "        clip_threshold=1e-4\n",
    "    )\n",
    "    \n",
    "    elec_eval.fit(\n",
    "        emf_predict=x['emf'].values,\n",
    "        time_predict=x['time'].values\n",
    "    )\n",
    "    print(elec_eval.score())\n",
    "    elec_eval.poof(figsize=(16, 8))\n",
    "    del x"
   ]
  },
  {
   "cell_type": "code",
   "execution_count": 48,
   "metadata": {},
   "outputs": [
    {
     "data": {
      "text/html": [
       "<div>\n",
       "<style scoped>\n",
       "    .dataframe tbody tr th:only-of-type {\n",
       "        vertical-align: middle;\n",
       "    }\n",
       "\n",
       "    .dataframe tbody tr th {\n",
       "        vertical-align: top;\n",
       "    }\n",
       "\n",
       "    .dataframe thead th {\n",
       "        text-align: right;\n",
       "    }\n",
       "</style>\n",
       "<table border=\"1\" class=\"dataframe\">\n",
       "  <thead>\n",
       "    <tr style=\"text-align: right;\">\n",
       "      <th></th>\n",
       "      <th>grid_cell_id</th>\n",
       "      <th>model_id</th>\n",
       "      <th>y_diff_dtw_distance</th>\n",
       "      <th>rms_perc_diff</th>\n",
       "      <th>emf_dtw_distance</th>\n",
       "      <th>damper.damping_coefficient</th>\n",
       "      <th>coupling_model.coupling_constant</th>\n",
       "      <th>mechanical_spring.damping_coefficient</th>\n",
       "      <th>coil_resistance</th>\n",
       "      <th>load_model.R</th>\n",
       "      <th>input_excitation</th>\n",
       "      <th>device_id</th>\n",
       "      <th>rms_perc_diff_abs</th>\n",
       "      <th>y_diff_dtw_distance_norm</th>\n",
       "      <th>emf_dtw_distance_norm</th>\n",
       "      <th>rms_perc_diff_abs_norm</th>\n",
       "      <th>balanced</th>\n",
       "      <th>dtw_balanced</th>\n",
       "      <th>elec_balanced</th>\n",
       "    </tr>\n",
       "  </thead>\n",
       "  <tbody>\n",
       "    <tr>\n",
       "      <th>7053</th>\n",
       "      <td>5.0</td>\n",
       "      <td>661</td>\n",
       "      <td>8.08326</td>\n",
       "      <td>20.244373</td>\n",
       "      <td>108.53745</td>\n",
       "      <td>0.05</td>\n",
       "      <td>1.111111</td>\n",
       "      <td>6.666667</td>\n",
       "      <td>23.5</td>\n",
       "      <td>30</td>\n",
       "      <td>0</td>\n",
       "      <td>B</td>\n",
       "      <td>20.244373</td>\n",
       "      <td>0.00388</td>\n",
       "      <td>0.117947</td>\n",
       "      <td>0.000461</td>\n",
       "      <td>0.122288</td>\n",
       "      <td>0.121827</td>\n",
       "      <td>0.118408</td>\n",
       "    </tr>\n",
       "  </tbody>\n",
       "</table>\n",
       "</div>"
      ],
      "text/plain": [
       "      grid_cell_id  model_id  y_diff_dtw_distance  rms_perc_diff  \\\n",
       "7053           5.0       661              8.08326      20.244373   \n",
       "\n",
       "      emf_dtw_distance  damper.damping_coefficient  \\\n",
       "7053         108.53745                        0.05   \n",
       "\n",
       "      coupling_model.coupling_constant  mechanical_spring.damping_coefficient  \\\n",
       "7053                          1.111111                               6.666667   \n",
       "\n",
       "      coil_resistance  load_model.R  input_excitation device_id  \\\n",
       "7053             23.5            30                 0         B   \n",
       "\n",
       "      rms_perc_diff_abs  y_diff_dtw_distance_norm  emf_dtw_distance_norm  \\\n",
       "7053          20.244373                   0.00388               0.117947   \n",
       "\n",
       "      rms_perc_diff_abs_norm  balanced  dtw_balanced  elec_balanced  \n",
       "7053                0.000461  0.122288      0.121827       0.118408  "
      ]
     },
     "execution_count": 48,
     "metadata": {},
     "output_type": "execute_result"
    }
   ],
   "source": [
    "df2_filtered.query('device_id == \"B\" and input_excitation == 0 and model_id==661')"
   ]
  },
  {
   "cell_type": "code",
   "execution_count": 52,
   "metadata": {},
   "outputs": [
    {
     "name": "stdout",
     "output_type": "stream",
     "text": [
      "{'dtw_distance': 15.071830927582328}\n"
     ]
    },
    {
     "data": {
      "image/png": "[encoded data removed]",
      "text/plain": [
       "<Figure size 1152x576 with 1 Axes>"
      ]
     },
     "metadata": {},
     "output_type": "display_data"
    },
    {
     "name": "stdout",
     "output_type": "stream",
     "text": [
      "{'dtw_distance': 80.02454037147274, 'rms_perc_diff': -18.303064280827655}\n"
     ]
    },
    {
     "data": {
      "image/png": "[encoded data removed]",
      "text/plain": [
       "<Figure size 1152x576 with 1 Axes>"
      ]
     },
     "metadata": {},
     "output_type": "display_data"
    }
   ],
   "source": [
    "input_ = 2\n",
    "device = 'A'\n",
    "chosen_model_id = 661\n",
    "\n",
    "compare_mech('joined.parquet', groundtruth, chosen_model_id, input_, device)\n",
    "compare_elec('joined.parquet', groundtruth, chosen_model_id, input_, device)"
   ]
  },
  {
   "cell_type": "code",
   "execution_count": null,
   "metadata": {},
   "outputs": [],
   "source": []
  }
 ],
 "metadata": {
  "kernelspec": {
   "display_name": "Python 3",
   "language": "python",
   "name": "python3"
  },
  "language_info": {
   "codemirror_mode": {
    "name": "ipython",
    "version": 3
   },
   "file_extension": ".py",
   "mimetype": "text/x-python",
   "name": "python",
   "nbconvert_exporter": "python",
   "pygments_lexer": "ipython3",
   "version": "3.7.3"
  }
 },
 "nbformat": 4,
 "nbformat_minor": 4
}
