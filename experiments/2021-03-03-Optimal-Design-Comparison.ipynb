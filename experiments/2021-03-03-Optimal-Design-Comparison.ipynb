{
 "cells": [
  {
   "cell_type": "code",
   "execution_count": 1,
   "metadata": {},
   "outputs": [],
   "source": [
    "%load_ext autoreload\n",
    "%autoreload 2"
   ]
  },
  {
   "cell_type": "code",
   "execution_count": 2,
   "metadata": {},
   "outputs": [],
   "source": [
    "# Let's define our model that we need to simulate\n",
    "from scipy.signal import savgol_filter\n",
    "\n",
    "from unified_model import unified\n",
    "from unified_model import mechanical_components\n",
    "from unified_model import electrical_components\n",
    "from unified_model import CouplingModel\n",
    "\n"
   ]
  },
  {
   "cell_type": "code",
   "execution_count": 3,
   "metadata": {},
   "outputs": [],
   "source": [
    "# Magnet Assembly\n",
    "magnet_assembly = mechanical_components.MagnetAssembly(\n",
    "    m=2,\n",
    "    l_m_mm=10,\n",
    "    l_mcd_mm=24,\n",
    "    dia_magnet_mm=10,\n",
    "    dia_spacer_mm=10\n",
    ")"
   ]
  },
  {
   "cell_type": "code",
   "execution_count": 4,
   "metadata": {},
   "outputs": [],
   "source": [
    "# Damper\n",
    "damper = mechanical_components.damper.ConstantDamper(8.7857)"
   ]
  },
  {
   "cell_type": "code",
   "execution_count": 5,
   "metadata": {},
   "outputs": [
    {
     "data": {
      "text/plain": [
       "MechanicalSpring(position=0.15, magnet_length=0.01, magnet_assembly_length=0.034, strength=10000000.0, damping_coefficient=10)"
      ]
     },
     "execution_count": 5,
     "metadata": {},
     "output_type": "execute_result"
    }
   ],
   "source": [
    "# Top collision\n",
    "mech_spring = mechanical_components.MechanicalSpring(\n",
    "    magnet_assembly=magnet_assembly,\n",
    "    position=150/1000,  # position of the microgenerator \"top\" (in metres)\n",
    "    damping_coefficient=10  # Controls how \"lossy\" the impact is.\n",
    ") \n",
    "\n",
    "mech_spring"
   ]
  },
  {
   "cell_type": "code",
   "execution_count": 6,
   "metadata": {},
   "outputs": [],
   "source": [
    "# Magnetic spring\n",
    "magnetic_spring = mechanical_components.MagneticSpringInterp(\n",
    "    fea_data_file='../data/magnetic-spring/10x10alt.csv',\n",
    "    magnet_length=10 / 1000,\n",
    "    filter_callable=lambda x: savgol_filter(x, window_length=27, polyorder=5)\n",
    ")"
   ]
  },
  {
   "cell_type": "code",
   "execution_count": 7,
   "metadata": {},
   "outputs": [],
   "source": [
    "# Electrical components\n",
    "# Load\n",
    "load = electrical_components.SimpleLoad(R=30)\n",
    "\n",
    "# Rectifier loss\n",
    "v_rect_drop = 0.1\n"
   ]
  },
  {
   "cell_type": "code",
   "execution_count": 8,
   "metadata": {},
   "outputs": [],
   "source": [
    "# Params\n",
    "c = 1\n",
    "n_z = 88\n",
    "n_w = 20\n",
    "\n",
    "# Coupling model\n",
    "coupling = CouplingModel().set_coupling_constant(5.0)\n",
    "\n",
    "# Coil\n",
    "coil_model = electrical_components.coil.CoilModel(\n",
    "    c=c,\n",
    "    n_z=n_z,\n",
    "    n_w=n_w,\n",
    "    l_ccd_mm=0,\n",
    "    ohm_per_mm=1079/1000/1000,\n",
    "    tube_wall_thickness_mm=1,\n",
    "    coil_wire_radius_mm=0.143 / 2,\n",
    "    coil_center_mm=91 - 13,  # Must be relative to *top* of fixed magnet\n",
    "    inner_tube_radius_mm=5.5\n",
    ")"
   ]
  },
  {
   "cell_type": "code",
   "execution_count": 9,
   "metadata": {},
   "outputs": [],
   "source": [
    "import numpy as np\n",
    "from flux_modeller.model import CurveModel\n",
    "\n",
    "curve_model = CurveModel.load('../data/flux_curve_model.model')\n",
    "# Predict the flux curve\n",
    "X = np.array([[n_z, n_w]]).reshape(1, -1)\n",
    "x_curve, phi_curve = curve_model.predict_curves(X)\n",
    "\n",
    "# flux model\n",
    "flux_model = electrical_components.FluxModelInterp(\n",
    "    coil_model=coil_model,\n",
    "    magnet_assembly=magnet_assembly\n",
    ")\n",
    "\n",
    "flux_model.fit(x_curve, phi_curve.reshape(-1))  # Fit flux curve"
   ]
  },
  {
   "cell_type": "code",
   "execution_count": 10,
   "metadata": {},
   "outputs": [],
   "source": [
    "# Get our input excitation and groundtruth data\n",
    "from unified_model import evaluate\n",
    "from unified_model import metrics\n",
    "from unified_model.utils.utils import collect_samples\n",
    "from scipy.signal import savgol_filter\n",
    "\n",
    "from dataclasses import dataclass\n",
    "from typing import Any\n",
    "\n",
    "@dataclass\n",
    "class MechanicalGroundtruth:\n",
    "    y_diff: Any\n",
    "    time: Any\n",
    "\n",
    "@dataclass\n",
    "class ElectricalGroundtruth:\n",
    "    emf: Any\n",
    "    time: Any\n",
    "\n",
    "@dataclass\n",
    "class Groundtruth:\n",
    "    mech: MechanicalGroundtruth\n",
    "    elec: ElectricalGroundtruth\n",
    "\n",
    "class GroundTruthFactory:\n",
    "    def __init__(self,\n",
    "                 base_path,\n",
    "                 acc_pattern,\n",
    "                 adc_pattern,\n",
    "                 video_label_pattern,\n",
    "                 lvp_kwargs,\n",
    "                 adc_kwargs):\n",
    "        \"\"\"Helper Factory to get groundtruth data in a batch.\"\"\"\n",
    "        \n",
    "        self.samples_list = collect_samples(base_path, acc_pattern, adc_pattern, video_label_pattern)\n",
    "        self.lvp_kwargs = lvp_kwargs\n",
    "        self.adc_kwargs = adc_kwargs\n",
    "\n",
    "        self.lvp = evaluate.LabeledVideoProcessor(**lvp_kwargs)\n",
    "        self.adc = evaluate.AdcProcessor(**adc_kwargs)\n",
    "\n",
    "    def _make_mechanical_groundtruth(self, sample):\n",
    "        y_target, y_time_target = self.lvp.fit_transform(\n",
    "            sample.video_labels_df,\n",
    "            impute_missing_values=True\n",
    "        )\n",
    "        y_target = savgol_filter(y_target, 9, 3)\n",
    "\n",
    "        return MechanicalGroundtruth(y_target,\n",
    "                                     y_time_target)\n",
    "\n",
    "    def _make_electrical_groundtruth(self, sample):\n",
    "        emf_target, emf_time_target = self.adc.fit_transform(sample.adc_df)\n",
    "        return ElectricalGroundtruth(emf_target,\n",
    "                                     emf_time_target)\n",
    "\n",
    "    def make(self):\n",
    "        groundtruths = []\n",
    "        for sample in self.samples_list:\n",
    "            mech_groundtruth = self._make_mechanical_groundtruth(sample)\n",
    "            elec_groundtruth = self._make_electrical_groundtruth(sample)\n",
    "\n",
    "            groundtruths.append(\n",
    "                Groundtruth(mech_groundtruth, elec_groundtruth)\n",
    "            )\n",
    "\n",
    "        return groundtruths\n",
    "\n",
    "# Prepare data\n",
    "base_groundtruth_path = '../data/2021-03-03/'\n",
    "groundtruth_factory = GroundTruthFactory(base_path=base_groundtruth_path,\n",
    "                                        acc_pattern='D/*acc*.csv',\n",
    "                                        adc_pattern='D/*adc*.csv',\n",
    "                                        video_label_pattern='D/*labels*.csv',\n",
    "                                        lvp_kwargs=dict(magnet_assembly=magnet_assembly,\n",
    "                                                        seconds_per_frame=1/60,\n",
    "                                                        pixel_scale=0.154508),\n",
    "                                        adc_kwargs=dict(voltage_division_ratio=1 / 0.342))\n",
    "\n",
    "groundtruth = groundtruth_factory.make()"
   ]
  },
  {
   "cell_type": "code",
   "execution_count": 18,
   "metadata": {},
   "outputs": [],
   "source": [
    "# Build the unified model\n",
    "from unified_model import MechanicalModel\n",
    "from unified_model import ElectricalModel\n",
    "from unified_model import UnifiedModel\n",
    "from unified_model import pipeline\n",
    "from unified_model import governing_equations\n",
    "\n",
    "mechanical_model = MechanicalModel() \\\n",
    "    .set_damper(damper) \\\n",
    "    .set_magnet_assembly(magnet_assembly) \\\n",
    "    .set_magnetic_spring(magnetic_spring) \\\n",
    "    .set_mechanical_spring(mech_spring) \\\n",
    "\n",
    "electrical_model = ElectricalModel() \\\n",
    "    .set_rectification_drop(v_rect_drop) \\\n",
    "    .set_load_model(load) \\\n",
    "    .set_flux_model(flux_model.flux_model, flux_model.dflux_model) \\\n",
    "    .set_coil_model(coil_model)\n",
    "\n",
    "unified_model = UnifiedModel() \\\n",
    "    .set_mechanical_model(mechanical_model) \\\n",
    "    .set_electrical_model(electrical_model) \\\n",
    "    .set_coupling_model(coupling) \\\n",
    "    .set_post_processing_pipeline(pipeline.clip_x2, name='clip tube velocity') \\\n",
    "    .set_governing_equations(governing_equations.unified_ode)  # Here we set our governing equations for my particular microgenerator. We'll go over this a bit later."
   ]
  },
  {
   "cell_type": "code",
   "execution_count": 19,
   "metadata": {},
   "outputs": [
    {
     "data": {
      "text/plain": [
       "<unified_model.mechanical_model.MechanicalModel at 0x7fbf856dc390>"
      ]
     },
     "execution_count": 19,
     "metadata": {},
     "output_type": "execute_result"
    },
    {
     "data": {
      "image/png": "[encoded data removed]",
      "text/plain": [
       "<Figure size 432x288 with 1 Axes>"
      ]
     },
     "metadata": {
      "needs_background": "light"
     },
     "output_type": "display_data"
    }
   ],
   "source": [
    "# Run simulation\n",
    "\n",
    "# Choose input excitation\n",
    "input_excitation = mechanical_components.AccelerometerInput(\n",
    "    raw_accelerometer_input='../data/2021-03-05/D/log_03_acc.csv',\n",
    "    accel_column='z_G',\n",
    "    time_column='time(ms)',\n",
    "    accel_unit='g',\n",
    "    time_unit='ms',\n",
    "    smooth=True,\n",
    "    interpolate=True\n",
    ")\n",
    "\n",
    "import matplotlib.pyplot as plt\n",
    "plt.plot(input_excitation.get_acceleration(np.linspace(0, 8, 1000)))\n",
    "\n",
    "unified_model.mechanical_model.set_input(input_excitation)"
   ]
  },
  {
   "cell_type": "code",
   "execution_count": 20,
   "metadata": {},
   "outputs": [],
   "source": [
    "# Run simulation\n",
    "y0 = [0.0, 0.0, 0.0325, 0.0, 0.0]\n",
    "unified_model.solve(t_start=0, t_end=8, y0=y0, t_eval=np.linspace(0, 8, 1000), t_max_step=1e-3)"
   ]
  },
  {
   "cell_type": "code",
   "execution_count": 21,
   "metadata": {},
   "outputs": [
    {
     "data": {
      "text/html": [
       "<div>\n",
       "<style scoped>\n",
       "    .dataframe tbody tr th:only-of-type {\n",
       "        vertical-align: middle;\n",
       "    }\n",
       "\n",
       "    .dataframe tbody tr th {\n",
       "        vertical-align: top;\n",
       "    }\n",
       "\n",
       "    .dataframe thead th {\n",
       "        text-align: right;\n",
       "    }\n",
       "</style>\n",
       "<table border=\"1\" class=\"dataframe\">\n",
       "  <thead>\n",
       "    <tr style=\"text-align: right;\">\n",
       "      <th></th>\n",
       "      <th>time</th>\n",
       "      <th>rel_pos_mag</th>\n",
       "      <th>rel_pos_vel</th>\n",
       "      <th>v_load</th>\n",
       "    </tr>\n",
       "  </thead>\n",
       "  <tbody>\n",
       "    <tr>\n",
       "      <th>0</th>\n",
       "      <td>0.000000</td>\n",
       "      <td>0.032500</td>\n",
       "      <td>0.000000</td>\n",
       "      <td>0.0</td>\n",
       "    </tr>\n",
       "    <tr>\n",
       "      <th>1</th>\n",
       "      <td>0.008008</td>\n",
       "      <td>0.032486</td>\n",
       "      <td>-0.003359</td>\n",
       "      <td>0.0</td>\n",
       "    </tr>\n",
       "    <tr>\n",
       "      <th>2</th>\n",
       "      <td>0.016016</td>\n",
       "      <td>0.032447</td>\n",
       "      <td>-0.006288</td>\n",
       "      <td>0.0</td>\n",
       "    </tr>\n",
       "    <tr>\n",
       "      <th>3</th>\n",
       "      <td>0.024024</td>\n",
       "      <td>0.032387</td>\n",
       "      <td>-0.008640</td>\n",
       "      <td>0.0</td>\n",
       "    </tr>\n",
       "    <tr>\n",
       "      <th>4</th>\n",
       "      <td>0.032032</td>\n",
       "      <td>0.032311</td>\n",
       "      <td>-0.010312</td>\n",
       "      <td>0.0</td>\n",
       "    </tr>\n",
       "  </tbody>\n",
       "</table>\n",
       "</div>"
      ],
      "text/plain": [
       "       time  rel_pos_mag  rel_pos_vel  v_load\n",
       "0  0.000000     0.032500     0.000000     0.0\n",
       "1  0.008008     0.032486    -0.003359     0.0\n",
       "2  0.016016     0.032447    -0.006288     0.0\n",
       "3  0.024024     0.032387    -0.008640     0.0\n",
       "4  0.032032     0.032311    -0.010312     0.0"
      ]
     },
     "execution_count": 21,
     "metadata": {},
     "output_type": "execute_result"
    }
   ],
   "source": [
    "results = unified_model.get_quick_results()\n",
    "results.head()"
   ]
  },
  {
   "cell_type": "code",
   "execution_count": 22,
   "metadata": {},
   "outputs": [
    {
     "data": {
      "image/png": "[encoded data removed]",
      "text/plain": [
       "<Figure size 640x480 with 1 Axes>"
      ]
     },
     "metadata": {},
     "output_type": "display_data"
    },
    {
     "name": "stdout",
     "output_type": "stream",
     "text": [
      "<ggplot: (-9223363258069728459)>\n"
     ]
    },
    {
     "data": {
      "image/png": "[encoded data removed]",
      "text/plain": [
       "<Figure size 640x480 with 1 Axes>"
      ]
     },
     "metadata": {},
     "output_type": "display_data"
    },
    {
     "name": "stdout",
     "output_type": "stream",
     "text": [
      "<ggplot: (-9223363258075442891)>\n"
     ]
    }
   ],
   "source": [
    "from plotnine import *\n",
    "print(qplot('time', 'rel_pos_mag', results, geom='line'))\n",
    "print(qplot('time', 'v_load', results, geom='line'))"
   ]
  },
  {
   "cell_type": "code",
   "execution_count": 23,
   "metadata": {},
   "outputs": [
    {
     "data": {
      "text/plain": [
       "{'rms': 0.12047975983172521}"
      ]
     },
     "execution_count": 23,
     "metadata": {},
     "output_type": "execute_result"
    }
   ],
   "source": [
    "def calculate_rms(arr):\n",
    "    square = arr**2\n",
    "    sum_square = np.sum(square)\n",
    "    sqrt_sum_square = np.sqrt(sum_square / len(arr))\n",
    "    return sqrt_sum_square\n",
    "\n",
    "unified_model.calculate_metrics(prediction_expr='g(t, x5)', metric_dict={'rms': calculate_rms})"
   ]
  }
 ],
 "metadata": {
  "kernelspec": {
   "display_name": "Python 3",
   "language": "python",
   "name": "python3"
  },
  "language_info": {
   "codemirror_mode": {
    "name": "ipython",
    "version": 3
   },
   "file_extension": ".py",
   "mimetype": "text/x-python",
   "name": "python",
   "nbconvert_exporter": "python",
   "pygments_lexer": "ipython3",
   "version": "3.7.1"
  }
 },
 "nbformat": 4,
 "nbformat_minor": 4
}
