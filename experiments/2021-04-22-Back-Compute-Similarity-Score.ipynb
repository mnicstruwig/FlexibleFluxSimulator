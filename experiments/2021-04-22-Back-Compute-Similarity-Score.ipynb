{
 "cells": [
  {
   "cell_type": "code",
   "execution_count": 1,
   "metadata": {},
   "outputs": [],
   "source": [
    "from plotnine import *\n",
    "import numpy as np\n",
    "import datetime\n",
    "import ray"
   ]
  },
  {
   "cell_type": "code",
   "execution_count": 2,
   "metadata": {},
   "outputs": [
    {
     "data": {
      "text/html": [
       "<table style=\"border: 2px solid white;\">\n",
       "<tr>\n",
       "<td style=\"vertical-align: top; border: 0px solid white\">\n",
       "<h3 style=\"text-align: left;\">Client</h3>\n",
       "<ul style=\"text-align: left; list-style: none; margin: 0; padding: 0;\">\n",
       "  <li><b>Scheduler: </b>tcp://127.0.0.1:41607</li>\n",
       "  <li><b>Dashboard: </b><a href='http://127.0.0.1:8787/status' target='_blank'>http://127.0.0.1:8787/status</a></li>\n",
       "</ul>\n",
       "</td>\n",
       "<td style=\"vertical-align: top; border: 0px solid white\">\n",
       "<h3 style=\"text-align: left;\">Cluster</h3>\n",
       "<ul style=\"text-align: left; list-style:none; margin: 0; padding: 0;\">\n",
       "  <li><b>Workers: </b>8</li>\n",
       "  <li><b>Cores: </b>16</li>\n",
       "  <li><b>Memory: </b>15.54 GiB</li>\n",
       "</ul>\n",
       "</td>\n",
       "</tr>\n",
       "</table>"
      ],
      "text/plain": [
       "<Client: 'tcp://127.0.0.1:41607' processes=8 threads=16, memory=15.54 GiB>"
      ]
     },
     "execution_count": 2,
     "metadata": {},
     "output_type": "execute_result"
    }
   ],
   "source": [
    "import dask.dataframe as dd\n",
    "from dask.distributed import Client\n",
    "client = Client(n_workers=8)\n",
    "client"
   ]
  },
  {
   "cell_type": "code",
   "execution_count": 3,
   "metadata": {},
   "outputs": [],
   "source": [
    "which_device='C'"
   ]
  },
  {
   "cell_type": "code",
   "execution_count": 4,
   "metadata": {},
   "outputs": [
    {
     "data": {
      "text/html": [
       "<div>\n",
       "<style scoped>\n",
       "    .dataframe tbody tr th:only-of-type {\n",
       "        vertical-align: middle;\n",
       "    }\n",
       "\n",
       "    .dataframe tbody tr th {\n",
       "        vertical-align: top;\n",
       "    }\n",
       "\n",
       "    .dataframe thead th {\n",
       "        text-align: right;\n",
       "    }\n",
       "</style>\n",
       "<table border=\"1\" class=\"dataframe\">\n",
       "  <thead>\n",
       "    <tr style=\"text-align: right;\">\n",
       "      <th></th>\n",
       "      <th>time</th>\n",
       "      <th>y_diff</th>\n",
       "      <th>emf</th>\n",
       "      <th>model_id</th>\n",
       "      <th>y_diff_dtw_distance</th>\n",
       "      <th>rms_perc_diff</th>\n",
       "      <th>emf_dtw_distance</th>\n",
       "      <th>damper.cdc</th>\n",
       "      <th>damper.mdc</th>\n",
       "      <th>coupling_model.coupling_constant</th>\n",
       "      <th>mechanical_spring.damping_coefficient</th>\n",
       "      <th>coil_config.coil_resistance</th>\n",
       "      <th>load_model.R</th>\n",
       "      <th>input_excitation</th>\n",
       "    </tr>\n",
       "  </thead>\n",
       "  <tbody>\n",
       "    <tr>\n",
       "      <th>0</th>\n",
       "      <td>0.000</td>\n",
       "      <td>0.040000</td>\n",
       "      <td>0.0</td>\n",
       "      <td>3240</td>\n",
       "      <td>4.975303</td>\n",
       "      <td>-18.313053</td>\n",
       "      <td>71.012328</td>\n",
       "      <td>3.485714</td>\n",
       "      <td>0.006667</td>\n",
       "      <td>0.0</td>\n",
       "      <td>10.0</td>\n",
       "      <td>17.8</td>\n",
       "      <td>30</td>\n",
       "      <td>0</td>\n",
       "    </tr>\n",
       "    <tr>\n",
       "      <th>1</th>\n",
       "      <td>0.003</td>\n",
       "      <td>0.040022</td>\n",
       "      <td>0.0</td>\n",
       "      <td>3240</td>\n",
       "      <td>4.975303</td>\n",
       "      <td>-18.313053</td>\n",
       "      <td>71.012328</td>\n",
       "      <td>3.485714</td>\n",
       "      <td>0.006667</td>\n",
       "      <td>0.0</td>\n",
       "      <td>10.0</td>\n",
       "      <td>17.8</td>\n",
       "      <td>30</td>\n",
       "      <td>0</td>\n",
       "    </tr>\n",
       "    <tr>\n",
       "      <th>2</th>\n",
       "      <td>0.006</td>\n",
       "      <td>0.040088</td>\n",
       "      <td>0.0</td>\n",
       "      <td>3240</td>\n",
       "      <td>4.975303</td>\n",
       "      <td>-18.313053</td>\n",
       "      <td>71.012328</td>\n",
       "      <td>3.485714</td>\n",
       "      <td>0.006667</td>\n",
       "      <td>0.0</td>\n",
       "      <td>10.0</td>\n",
       "      <td>17.8</td>\n",
       "      <td>30</td>\n",
       "      <td>0</td>\n",
       "    </tr>\n",
       "    <tr>\n",
       "      <th>3</th>\n",
       "      <td>0.009</td>\n",
       "      <td>0.040195</td>\n",
       "      <td>0.0</td>\n",
       "      <td>3240</td>\n",
       "      <td>4.975303</td>\n",
       "      <td>-18.313053</td>\n",
       "      <td>71.012328</td>\n",
       "      <td>3.485714</td>\n",
       "      <td>0.006667</td>\n",
       "      <td>0.0</td>\n",
       "      <td>10.0</td>\n",
       "      <td>17.8</td>\n",
       "      <td>30</td>\n",
       "      <td>0</td>\n",
       "    </tr>\n",
       "    <tr>\n",
       "      <th>4</th>\n",
       "      <td>0.012</td>\n",
       "      <td>0.040343</td>\n",
       "      <td>0.0</td>\n",
       "      <td>3240</td>\n",
       "      <td>4.975303</td>\n",
       "      <td>-18.313053</td>\n",
       "      <td>71.012328</td>\n",
       "      <td>3.485714</td>\n",
       "      <td>0.006667</td>\n",
       "      <td>0.0</td>\n",
       "      <td>10.0</td>\n",
       "      <td>17.8</td>\n",
       "      <td>30</td>\n",
       "      <td>0</td>\n",
       "    </tr>\n",
       "  </tbody>\n",
       "</table>\n",
       "</div>"
      ],
      "text/plain": [
       "    time    y_diff  emf  model_id  y_diff_dtw_distance  rms_perc_diff  \\\n",
       "0  0.000  0.040000  0.0      3240             4.975303     -18.313053   \n",
       "1  0.003  0.040022  0.0      3240             4.975303     -18.313053   \n",
       "2  0.006  0.040088  0.0      3240             4.975303     -18.313053   \n",
       "3  0.009  0.040195  0.0      3240             4.975303     -18.313053   \n",
       "4  0.012  0.040343  0.0      3240             4.975303     -18.313053   \n",
       "\n",
       "   emf_dtw_distance  damper.cdc  damper.mdc  coupling_model.coupling_constant  \\\n",
       "0         71.012328    3.485714    0.006667                               0.0   \n",
       "1         71.012328    3.485714    0.006667                               0.0   \n",
       "2         71.012328    3.485714    0.006667                               0.0   \n",
       "3         71.012328    3.485714    0.006667                               0.0   \n",
       "4         71.012328    3.485714    0.006667                               0.0   \n",
       "\n",
       "   mechanical_spring.damping_coefficient  coil_config.coil_resistance  \\\n",
       "0                                   10.0                         17.8   \n",
       "1                                   10.0                         17.8   \n",
       "2                                   10.0                         17.8   \n",
       "3                                   10.0                         17.8   \n",
       "4                                   10.0                         17.8   \n",
       "\n",
       "   load_model.R input_excitation  \n",
       "0            30                0  \n",
       "1            30                0  \n",
       "2            30                0  \n",
       "3            30                0  \n",
       "4            30                0  "
      ]
     },
     "execution_count": 4,
     "metadata": {},
     "output_type": "execute_result"
    }
   ],
   "source": [
    "df = dd.read_parquet(f'../data/parameter_search/2021-03-19/{which_device}.parquet/')\n",
    "df.head()"
   ]
  },
  {
   "cell_type": "code",
   "execution_count": 5,
   "metadata": {},
   "outputs": [
    {
     "data": {
      "text/plain": [
       "array([3240, 3241, 3242, ..., 6261, 6262, 6263])"
      ]
     },
     "execution_count": 5,
     "metadata": {},
     "output_type": "execute_result"
    }
   ],
   "source": [
    "# Get the unique_model_ids once (we'll be using this to filter the larger file later)\n",
    "unique_model_ids = df['model_id'].unique().compute().values\n",
    "unique_model_ids"
   ]
  },
  {
   "cell_type": "code",
   "execution_count": 6,
   "metadata": {},
   "outputs": [
    {
     "data": {
      "text/plain": [
       "8"
      ]
     },
     "execution_count": 6,
     "metadata": {},
     "output_type": "execute_result"
    }
   ],
   "source": [
    "from unified_model import evaluate\n",
    "from unified_model.utils.utils import collect_samples\n",
    "\n",
    "BASE_GROUNDTRUTH_PATH = '../data/2019-05-23_D/'\n",
    "samples = {}\n",
    "samples['A'] = collect_samples(base_path=BASE_GROUNDTRUTH_PATH,\n",
    "                               acc_pattern='A/*acc*.csv',\n",
    "                               adc_pattern='A/*adc*.csv',\n",
    "                               video_label_pattern='A/*labels*.csv')\n",
    "samples['B'] = collect_samples(base_path=BASE_GROUNDTRUTH_PATH,\n",
    "                               acc_pattern='B/*acc*.csv',\n",
    "                               adc_pattern='B/*adc*.csv',\n",
    "                               video_label_pattern='B/*labels*.csv')\n",
    "samples['C'] = collect_samples(base_path=BASE_GROUNDTRUTH_PATH,\n",
    "                               acc_pattern='C/*acc*.csv',\n",
    "                               adc_pattern='C/*adc*.csv',\n",
    "                               video_label_pattern='C/*labels*.csv')\n",
    "\n",
    "from unified_model.mechanical_components import MagnetAssembly\n",
    "magnet_assembly = MagnetAssembly(m=1,\n",
    "                                 l_m_mm=10,\n",
    "                                 l_mcd_mm=0,\n",
    "                                 dia_magnet_mm=10,\n",
    "                                 dia_spacer_mm=10,\n",
    "                                 mat_magnet='NdFeB',\n",
    "                                 mat_spacer='iron')\n",
    "\n",
    "\n",
    "samples_list = samples[which_device]\n",
    "\n",
    "gtf = evaluate.GroundTruthFactory(\n",
    "    samples_list=samples_list,\n",
    "    lvp_kwargs=dict(magnet_assembly=magnet_assembly,\n",
    "                seconds_per_frame=1 / 60,  # noqa\n",
    "                pixel_scale=0.154508),\n",
    "    adc_kwargs=dict(voltage_division_ratio=1 / 0.342))  # noqa\n",
    "\n",
    "gt = gtf.make()\n",
    "len(gt)"
   ]
  },
  {
   "cell_type": "code",
   "execution_count": 7,
   "metadata": {},
   "outputs": [],
   "source": [
    "@ray.remote\n",
    "def calc_metrics(df_slice, ground_truth, emf_metrics_dict, mech_metrics_dict):\n",
    "    time_predict = df_slice['time'].values\n",
    "    emf_predict = df_slice['emf'].values\n",
    "    y_predict = df_slice['y_diff'].values\n",
    "\n",
    "    elec_eval = evaluate.ElectricalSystemEvaluator(\n",
    "        emf_target=ground_truth.elec.emf,\n",
    "        time_target=ground_truth.elec.time,\n",
    "        metrics=emf_metrics_dict\n",
    "    )\n",
    "    elec_eval.fit(\n",
    "        emf_predict=emf_predict,\n",
    "        time_predict=time_predict\n",
    "    )\n",
    "    \n",
    "    mech_eval = evaluate.MechanicalSystemEvaluator(\n",
    "        y_target=ground_truth.mech.y_diff,\n",
    "        time_target=ground_truth.mech.time,\n",
    "        metrics=mech_metrics_dict\n",
    "    )\n",
    "    \n",
    "    mech_eval.fit(\n",
    "        y_predict=y_predict,\n",
    "        time_predict=time_predict,\n",
    "    )\n",
    "    \n",
    "    elec_score = elec_eval.score()\n",
    "    mech_score = mech_eval.score()\n",
    "    elec_score.update(mech_score)\n",
    "    return elec_score"
   ]
  },
  {
   "cell_type": "code",
   "execution_count": 8,
   "metadata": {},
   "outputs": [],
   "source": [
    "ray.shutdown()"
   ]
  },
  {
   "cell_type": "code",
   "execution_count": 9,
   "metadata": {},
   "outputs": [
    {
     "name": "stderr",
     "output_type": "stream",
     "text": [
      "2021-05-10 09:47:35,533\tINFO services.py:1269 -- View the Ray dashboard at \u001b[1m\u001b[32mhttp://127.0.0.1:8265\u001b[39m\u001b[22m\n"
     ]
    },
    {
     "data": {
      "text/plain": [
       "{'node_ip_address': '146.232.221.115',\n",
       " 'raylet_ip_address': '146.232.221.115',\n",
       " 'redis_address': '146.232.221.115:6379',\n",
       " 'object_store_address': '/tmp/ray/session_2021-05-10_09-47-34_650769_19395/sockets/plasma_store',\n",
       " 'raylet_socket_name': '/tmp/ray/session_2021-05-10_09-47-34_650769_19395/sockets/raylet',\n",
       " 'webui_url': '127.0.0.1:8265',\n",
       " 'session_dir': '/tmp/ray/session_2021-05-10_09-47-34_650769_19395',\n",
       " 'metrics_export_port': 49606,\n",
       " 'node_id': '6c63d970f9dcfccf3ca7974c240800292edab0ea44e04a64dc5a9291'}"
      ]
     },
     "execution_count": 9,
     "metadata": {},
     "output_type": "execute_result"
    }
   ],
   "source": [
    "ray.init()"
   ]
  },
  {
   "cell_type": "code",
   "execution_count": 10,
   "metadata": {},
   "outputs": [
    {
     "name": "stderr",
     "output_type": "stream",
     "text": [
      "/home/michael/miniconda3/envs/ds2/lib/python3.7/site-packages/tslearn/bases/bases.py:15: UserWarning: h5py not installed, hdf5 features will not be supported.\n",
      "Install h5py to use hdf5 features: http://docs.h5py.org/\n"
     ]
    }
   ],
   "source": [
    "from tqdm.notebook import tqdm\n",
    "from unified_model import metrics"
   ]
  },
  {
   "cell_type": "code",
   "execution_count": 12,
   "metadata": {},
   "outputs": [
    {
     "name": "stdout",
     "output_type": "stream",
     "text": [
      "Submitting to Ray...\n"
     ]
    },
    {
     "data": {
      "application/vnd.jupyter.widget-view+json": {
       "model_id": "8401ad8fca7849738521eef934e82422",
       "version_major": 2,
       "version_minor": 0
      },
      "text/plain": [
       "  0%|          | 0/4 [00:00<?, ?it/s]"
      ]
     },
     "metadata": {},
     "output_type": "display_data"
    },
    {
     "name": "stdout",
     "output_type": "stream",
     "text": [
      "Processing for input=4\n"
     ]
    },
    {
     "data": {
      "application/vnd.jupyter.widget-view+json": {
       "model_id": "12afa5445c3b4e1aaa135b344faa7d1f",
       "version_major": 2,
       "version_minor": 0
      },
      "text/plain": [
       "  0%|          | 0/7500 [00:00<?, ?it/s]"
      ]
     },
     "metadata": {},
     "output_type": "display_data"
    },
    {
     "name": "stdout",
     "output_type": "stream",
     "text": [
      "Polling for completed results...\n",
      "2021-05-10 10:16:25.708620 :: Remaining: 0\n",
      "Fetching results...\n"
     ]
    },
    {
     "data": {
      "application/vnd.jupyter.widget-view+json": {
       "model_id": "752b4d017a2b45bdba114e2c2b2628af",
       "version_major": 2,
       "version_minor": 0
      },
      "text/plain": [
       "  0%|          | 0/7500 [00:00<?, ?it/s]"
      ]
     },
     "metadata": {},
     "output_type": "display_data"
    },
    {
     "name": "stdout",
     "output_type": "stream",
     "text": [
      "Processing for input=5\n"
     ]
    },
    {
     "data": {
      "application/vnd.jupyter.widget-view+json": {
       "model_id": "059ad65faeaf4275aa029704f7af55e9",
       "version_major": 2,
       "version_minor": 0
      },
      "text/plain": [
       "  0%|          | 0/7500 [00:00<?, ?it/s]"
      ]
     },
     "metadata": {},
     "output_type": "display_data"
    },
    {
     "name": "stdout",
     "output_type": "stream",
     "text": [
      "Polling for completed results...\n",
      "2021-05-10 10:28:11.020498 :: Remaining: 0\n",
      "Fetching results...\n"
     ]
    },
    {
     "data": {
      "application/vnd.jupyter.widget-view+json": {
       "model_id": "fb44288b1e614e4cbeb170b0e12d03b5",
       "version_major": 2,
       "version_minor": 0
      },
      "text/plain": [
       "  0%|          | 0/7500 [00:00<?, ?it/s]"
      ]
     },
     "metadata": {},
     "output_type": "display_data"
    },
    {
     "name": "stdout",
     "output_type": "stream",
     "text": [
      "Processing for input=6\n"
     ]
    },
    {
     "data": {
      "application/vnd.jupyter.widget-view+json": {
       "model_id": "abf1c96683924a3d9aeb26bd012c5776",
       "version_major": 2,
       "version_minor": 0
      },
      "text/plain": [
       "  0%|          | 0/7500 [00:00<?, ?it/s]"
      ]
     },
     "metadata": {},
     "output_type": "display_data"
    },
    {
     "name": "stdout",
     "output_type": "stream",
     "text": [
      "Polling for completed results...\n",
      "2021-05-10 10:38:26.130129 :: Remaining: 0\n",
      "Fetching results...\n"
     ]
    },
    {
     "data": {
      "application/vnd.jupyter.widget-view+json": {
       "model_id": "e37ae07883274b17a63a90edd5ea9df1",
       "version_major": 2,
       "version_minor": 0
      },
      "text/plain": [
       "  0%|          | 0/7500 [00:00<?, ?it/s]"
      ]
     },
     "metadata": {},
     "output_type": "display_data"
    },
    {
     "name": "stdout",
     "output_type": "stream",
     "text": [
      "Processing for input=7\n"
     ]
    },
    {
     "data": {
      "application/vnd.jupyter.widget-view+json": {
       "model_id": "529c461e3248414b9cb3d208ea0d8d60",
       "version_major": 2,
       "version_minor": 0
      },
      "text/plain": [
       "  0%|          | 0/7500 [00:00<?, ?it/s]"
      ]
     },
     "metadata": {},
     "output_type": "display_data"
    },
    {
     "name": "stdout",
     "output_type": "stream",
     "text": [
      "Polling for completed results...\n",
      "2021-05-10 10:49:47.598163 :: Remaining: 0\n",
      "Fetching results...\n"
     ]
    },
    {
     "data": {
      "application/vnd.jupyter.widget-view+json": {
       "model_id": "5dc9abf9318048f1bbe36d308486eea8",
       "version_major": 2,
       "version_minor": 0
      },
      "text/plain": [
       "  0%|          | 0/7500 [00:00<?, ?it/s]"
      ]
     },
     "metadata": {},
     "output_type": "display_data"
    }
   ],
   "source": [
    "emf_metrics_dict = {'emf_dtw_euclid_norm': metrics.dtw_euclid_norm_by_length,\n",
    "                    'emf_dtw_dist': metrics.dtw_euclid_distance,\n",
    "                    'rms_perc_diff_detrend': metrics.root_mean_square_percentage_diff} \n",
    "\n",
    "mech_metrics_dict = {\n",
    "    'y_diff_dtw_euclid_norm': metrics.dtw_euclid_norm_by_length\n",
    "}\n",
    "\n",
    "\n",
    "input_numbers = range(len(samples_list))\n",
    "\n",
    "print('Submitting to Ray...')\n",
    "model_id_list = []\n",
    "input_list = []\n",
    "similarity_scores_list = []\n",
    "for input_ in tqdm(input_numbers[4:]):\n",
    "    print(f'Processing for input={input_}')\n",
    "    \n",
    "    df = dd.read_parquet(f'../data/parameter_search/2021-03-19/{which_device}.parquet/',\n",
    "                         columns=['time', 'y_diff', 'emf', 'model_id', 'input_excitation'],\n",
    "                         filters=[('input_excitation', '=', input_)]).compute()\n",
    "    \n",
    "    remaining_refs = []\n",
    "    ready_refs = []\n",
    "    for model_id in tqdm(unique_model_ids):\n",
    "        df_slice = df.query(f'model_id == {model_id}').sort_values(by='time')\n",
    "        ground_truth = gt[input_]\n",
    "        remaining_refs.append(calc_metrics.remote(df_slice, ground_truth, emf_metrics_dict, mech_metrics_dict))\n",
    "        \n",
    "        # Must fit the shape of the original dataframe series\n",
    "        model_id_list.append(model_id)\n",
    "        input_list.append(input_)\n",
    "    print('Polling for completed results...')\n",
    "    while len(ready_refs) < len(unique_model_ids):  # Wait for all our model_ids to get processed\n",
    "        ready_refs, remaining_refs = ray.wait(remaining_refs, num_returns=len(unique_model_ids), timeout=30)\n",
    "        print(f'{datetime.datetime.now()} :: Remaining: {len(remaining_refs)}')\n",
    "           \n",
    "    print('Fetching results...')\n",
    "    for ref in tqdm(ready_refs):\n",
    "        similarity_scores_list.append(ray.get(ref))"
   ]
  },
  {
   "cell_type": "code",
   "execution_count": 13,
   "metadata": {},
   "outputs": [],
   "source": [
    "from collections import defaultdict"
   ]
  },
  {
   "cell_type": "code",
   "execution_count": 14,
   "metadata": {},
   "outputs": [],
   "source": [
    "scores_dict = defaultdict(lambda: [])  # So we don't have to add a list first\n",
    "for s in similarity_scores_list:\n",
    "    for k,v in s.items():\n",
    "        scores_dict[k].append(v)"
   ]
  },
  {
   "cell_type": "code",
   "execution_count": 15,
   "metadata": {},
   "outputs": [],
   "source": [
    "scores_dict['model_id'] = model_id_list\n",
    "scores_dict['input_excitation'] = input_list"
   ]
  },
  {
   "cell_type": "code",
   "execution_count": 16,
   "metadata": {},
   "outputs": [
    {
     "data": {
      "text/html": [
       "<div>\n",
       "<style scoped>\n",
       "    .dataframe tbody tr th:only-of-type {\n",
       "        vertical-align: middle;\n",
       "    }\n",
       "\n",
       "    .dataframe tbody tr th {\n",
       "        vertical-align: top;\n",
       "    }\n",
       "\n",
       "    .dataframe thead th {\n",
       "        text-align: right;\n",
       "    }\n",
       "</style>\n",
       "<table border=\"1\" class=\"dataframe\">\n",
       "  <thead>\n",
       "    <tr style=\"text-align: right;\">\n",
       "      <th></th>\n",
       "      <th>emf_dtw_euclid_norm</th>\n",
       "      <th>emf_dtw_dist</th>\n",
       "      <th>rms_perc_diff_detrend</th>\n",
       "      <th>y_diff_dtw_euclid_norm</th>\n",
       "      <th>model_id</th>\n",
       "      <th>input_excitation</th>\n",
       "    </tr>\n",
       "  </thead>\n",
       "  <tbody>\n",
       "    <tr>\n",
       "      <th>0</th>\n",
       "      <td>0.017289</td>\n",
       "      <td>67.877488</td>\n",
       "      <td>-10.363779</td>\n",
       "      <td>0.002125</td>\n",
       "      <td>3240</td>\n",
       "      <td>4</td>\n",
       "    </tr>\n",
       "    <tr>\n",
       "      <th>1</th>\n",
       "      <td>0.017415</td>\n",
       "      <td>65.934920</td>\n",
       "      <td>-5.145268</td>\n",
       "      <td>0.002288</td>\n",
       "      <td>3241</td>\n",
       "      <td>4</td>\n",
       "    </tr>\n",
       "    <tr>\n",
       "      <th>2</th>\n",
       "      <td>0.017958</td>\n",
       "      <td>67.916947</td>\n",
       "      <td>0.558907</td>\n",
       "      <td>0.002465</td>\n",
       "      <td>3242</td>\n",
       "      <td>4</td>\n",
       "    </tr>\n",
       "    <tr>\n",
       "      <th>3</th>\n",
       "      <td>0.019074</td>\n",
       "      <td>72.063228</td>\n",
       "      <td>6.693371</td>\n",
       "      <td>0.002731</td>\n",
       "      <td>3243</td>\n",
       "      <td>4</td>\n",
       "    </tr>\n",
       "    <tr>\n",
       "      <th>4</th>\n",
       "      <td>0.020133</td>\n",
       "      <td>75.981064</td>\n",
       "      <td>13.051306</td>\n",
       "      <td>0.003073</td>\n",
       "      <td>3244</td>\n",
       "      <td>4</td>\n",
       "    </tr>\n",
       "    <tr>\n",
       "      <th>...</th>\n",
       "      <td>...</td>\n",
       "      <td>...</td>\n",
       "      <td>...</td>\n",
       "      <td>...</td>\n",
       "      <td>...</td>\n",
       "      <td>...</td>\n",
       "    </tr>\n",
       "    <tr>\n",
       "      <th>29995</th>\n",
       "      <td>0.019974</td>\n",
       "      <td>43.284091</td>\n",
       "      <td>-12.088185</td>\n",
       "      <td>0.002493</td>\n",
       "      <td>6259</td>\n",
       "      <td>7</td>\n",
       "    </tr>\n",
       "    <tr>\n",
       "      <th>29996</th>\n",
       "      <td>0.025902</td>\n",
       "      <td>54.756404</td>\n",
       "      <td>-29.162757</td>\n",
       "      <td>0.003050</td>\n",
       "      <td>6260</td>\n",
       "      <td>7</td>\n",
       "    </tr>\n",
       "    <tr>\n",
       "      <th>29997</th>\n",
       "      <td>0.024528</td>\n",
       "      <td>53.030372</td>\n",
       "      <td>-27.444609</td>\n",
       "      <td>0.002997</td>\n",
       "      <td>6261</td>\n",
       "      <td>7</td>\n",
       "    </tr>\n",
       "    <tr>\n",
       "      <th>29998</th>\n",
       "      <td>0.022241</td>\n",
       "      <td>47.839830</td>\n",
       "      <td>-20.549096</td>\n",
       "      <td>0.002567</td>\n",
       "      <td>6262</td>\n",
       "      <td>7</td>\n",
       "    </tr>\n",
       "    <tr>\n",
       "      <th>29999</th>\n",
       "      <td>0.022449</td>\n",
       "      <td>47.501223</td>\n",
       "      <td>-19.649411</td>\n",
       "      <td>0.002477</td>\n",
       "      <td>6263</td>\n",
       "      <td>7</td>\n",
       "    </tr>\n",
       "  </tbody>\n",
       "</table>\n",
       "<p>30000 rows × 6 columns</p>\n",
       "</div>"
      ],
      "text/plain": [
       "       emf_dtw_euclid_norm  emf_dtw_dist  rms_perc_diff_detrend  \\\n",
       "0                 0.017289     67.877488             -10.363779   \n",
       "1                 0.017415     65.934920              -5.145268   \n",
       "2                 0.017958     67.916947               0.558907   \n",
       "3                 0.019074     72.063228               6.693371   \n",
       "4                 0.020133     75.981064              13.051306   \n",
       "...                    ...           ...                    ...   \n",
       "29995             0.019974     43.284091             -12.088185   \n",
       "29996             0.025902     54.756404             -29.162757   \n",
       "29997             0.024528     53.030372             -27.444609   \n",
       "29998             0.022241     47.839830             -20.549096   \n",
       "29999             0.022449     47.501223             -19.649411   \n",
       "\n",
       "       y_diff_dtw_euclid_norm  model_id  input_excitation  \n",
       "0                    0.002125      3240                 4  \n",
       "1                    0.002288      3241                 4  \n",
       "2                    0.002465      3242                 4  \n",
       "3                    0.002731      3243                 4  \n",
       "4                    0.003073      3244                 4  \n",
       "...                       ...       ...               ...  \n",
       "29995                0.002493      6259                 7  \n",
       "29996                0.003050      6260                 7  \n",
       "29997                0.002997      6261                 7  \n",
       "29998                0.002567      6262                 7  \n",
       "29999                0.002477      6263                 7  \n",
       "\n",
       "[30000 rows x 6 columns]"
      ]
     },
     "execution_count": 16,
     "metadata": {},
     "output_type": "execute_result"
    }
   ],
   "source": [
    "import pandas as pd\n",
    "\n",
    "df_test = pd.DataFrame(scores_dict)\n",
    "df_test"
   ]
  },
  {
   "cell_type": "code",
   "execution_count": 17,
   "metadata": {},
   "outputs": [
    {
     "data": {
      "text/html": [
       "<div>\n",
       "<style scoped>\n",
       "    .dataframe tbody tr th:only-of-type {\n",
       "        vertical-align: middle;\n",
       "    }\n",
       "\n",
       "    .dataframe tbody tr th {\n",
       "        vertical-align: top;\n",
       "    }\n",
       "\n",
       "    .dataframe thead th {\n",
       "        text-align: right;\n",
       "    }\n",
       "</style>\n",
       "<table border=\"1\" class=\"dataframe\">\n",
       "  <thead>\n",
       "    <tr style=\"text-align: right;\">\n",
       "      <th></th>\n",
       "      <th>emf_dtw_dist</th>\n",
       "      <th>variable</th>\n",
       "      <th>value</th>\n",
       "    </tr>\n",
       "  </thead>\n",
       "  <tbody>\n",
       "    <tr>\n",
       "      <th>0</th>\n",
       "      <td>67.877488</td>\n",
       "      <td>emf_dtw_euclid_norm</td>\n",
       "      <td>0.017289</td>\n",
       "    </tr>\n",
       "    <tr>\n",
       "      <th>1</th>\n",
       "      <td>65.934920</td>\n",
       "      <td>emf_dtw_euclid_norm</td>\n",
       "      <td>0.017415</td>\n",
       "    </tr>\n",
       "    <tr>\n",
       "      <th>2</th>\n",
       "      <td>67.916947</td>\n",
       "      <td>emf_dtw_euclid_norm</td>\n",
       "      <td>0.017958</td>\n",
       "    </tr>\n",
       "    <tr>\n",
       "      <th>3</th>\n",
       "      <td>72.063228</td>\n",
       "      <td>emf_dtw_euclid_norm</td>\n",
       "      <td>0.019074</td>\n",
       "    </tr>\n",
       "    <tr>\n",
       "      <th>4</th>\n",
       "      <td>75.981064</td>\n",
       "      <td>emf_dtw_euclid_norm</td>\n",
       "      <td>0.020133</td>\n",
       "    </tr>\n",
       "  </tbody>\n",
       "</table>\n",
       "</div>"
      ],
      "text/plain": [
       "   emf_dtw_dist             variable     value\n",
       "0     67.877488  emf_dtw_euclid_norm  0.017289\n",
       "1     65.934920  emf_dtw_euclid_norm  0.017415\n",
       "2     67.916947  emf_dtw_euclid_norm  0.017958\n",
       "3     72.063228  emf_dtw_euclid_norm  0.019074\n",
       "4     75.981064  emf_dtw_euclid_norm  0.020133"
      ]
     },
     "execution_count": 17,
     "metadata": {},
     "output_type": "execute_result"
    }
   ],
   "source": [
    "df_melt = df_test.drop(columns=['model_id', 'input_excitation']).melt(id_vars='emf_dtw_dist')\n",
    "df_melt.head()"
   ]
  },
  {
   "cell_type": "code",
   "execution_count": 18,
   "metadata": {},
   "outputs": [
    {
     "data": {
      "image/png": "[encoded data removed]",
      "text/plain": [
       "<Figure size 640x480 with 3 Axes>"
      ]
     },
     "metadata": {},
     "output_type": "display_data"
    },
    {
     "data": {
      "text/plain": [
       "<ggplot: (-9223363310373691420)>"
      ]
     },
     "execution_count": 18,
     "metadata": {},
     "output_type": "execute_result"
    }
   ],
   "source": [
    "p = ggplot(aes(x='emf_dtw_dist', y='value', color='variable'), df_melt.query('emf_dtw_dist < 300'))\n",
    "p + geom_point() + facet_grid('variable ~ .', scales='free')"
   ]
  },
  {
   "cell_type": "code",
   "execution_count": 19,
   "metadata": {},
   "outputs": [],
   "source": [
    "df_test.to_parquet(f'../data/parameter_search/2021-03-19/{which_device}_similarity.parquet')"
   ]
  },
  {
   "cell_type": "code",
   "execution_count": 20,
   "metadata": {},
   "outputs": [
    {
     "data": {
      "text/html": [
       "<div><strong>Dask DataFrame Structure:</strong></div>\n",
       "<div>\n",
       "<style scoped>\n",
       "    .dataframe tbody tr th:only-of-type {\n",
       "        vertical-align: middle;\n",
       "    }\n",
       "\n",
       "    .dataframe tbody tr th {\n",
       "        vertical-align: top;\n",
       "    }\n",
       "\n",
       "    .dataframe thead th {\n",
       "        text-align: right;\n",
       "    }\n",
       "</style>\n",
       "<table border=\"1\" class=\"dataframe\">\n",
       "  <thead>\n",
       "    <tr style=\"text-align: right;\">\n",
       "      <th></th>\n",
       "      <th>emf_dtw_euclid_norm</th>\n",
       "      <th>emf_dtw_dist</th>\n",
       "      <th>rms_perc_diff_detrend</th>\n",
       "      <th>y_diff_dtw_euclid_norm</th>\n",
       "      <th>model_id</th>\n",
       "      <th>input_excitation</th>\n",
       "    </tr>\n",
       "    <tr>\n",
       "      <th>npartitions=1</th>\n",
       "      <th></th>\n",
       "      <th></th>\n",
       "      <th></th>\n",
       "      <th></th>\n",
       "      <th></th>\n",
       "      <th></th>\n",
       "    </tr>\n",
       "  </thead>\n",
       "  <tbody>\n",
       "    <tr>\n",
       "      <th></th>\n",
       "      <td>float64</td>\n",
       "      <td>float64</td>\n",
       "      <td>float64</td>\n",
       "      <td>float64</td>\n",
       "      <td>int64</td>\n",
       "      <td>int64</td>\n",
       "    </tr>\n",
       "    <tr>\n",
       "      <th></th>\n",
       "      <td>...</td>\n",
       "      <td>...</td>\n",
       "      <td>...</td>\n",
       "      <td>...</td>\n",
       "      <td>...</td>\n",
       "      <td>...</td>\n",
       "    </tr>\n",
       "  </tbody>\n",
       "</table>\n",
       "</div>\n",
       "<div>Dask Name: read-parquet, 1 tasks</div>"
      ],
      "text/plain": [
       "Dask DataFrame Structure:\n",
       "              emf_dtw_euclid_norm emf_dtw_dist rms_perc_diff_detrend y_diff_dtw_euclid_norm model_id input_excitation\n",
       "npartitions=1                                                                                                        \n",
       "                          float64      float64               float64                float64    int64            int64\n",
       "                              ...          ...                   ...                    ...      ...              ...\n",
       "Dask Name: read-parquet, 1 tasks"
      ]
     },
     "execution_count": 20,
     "metadata": {},
     "output_type": "execute_result"
    }
   ],
   "source": [
    "df_similarity = dd.read_parquet(f'../data/parameter_search/2021-03-19/{which_device}_similarity.parquet')\n",
    "df_similarity"
   ]
  },
  {
   "cell_type": "code",
   "execution_count": 21,
   "metadata": {},
   "outputs": [],
   "source": [
    "df = dd.read_parquet(f'../data/parameter_search/2021-03-19/{which_device}.parquet/')\n",
    "df['input_excitation'] = df['input_excitation'].astype(int)"
   ]
  },
  {
   "cell_type": "code",
   "execution_count": 22,
   "metadata": {},
   "outputs": [],
   "source": [
    "df_merge = df.merge(df_similarity, how='inner', on=['model_id', 'input_excitation'])\n",
    "df_merge.to_parquet(f'../data/parameter_search/2021-03-19/{which_device}_augmented_002.parquet', partition_on='input_excitation', compression='brotli')"
   ]
  },
  {
   "cell_type": "code",
   "execution_count": 44,
   "metadata": {},
   "outputs": [
    {
     "data": {
      "text/html": [
       "<div>\n",
       "<style scoped>\n",
       "    .dataframe tbody tr th:only-of-type {\n",
       "        vertical-align: middle;\n",
       "    }\n",
       "\n",
       "    .dataframe tbody tr th {\n",
       "        vertical-align: top;\n",
       "    }\n",
       "\n",
       "    .dataframe thead th {\n",
       "        text-align: right;\n",
       "    }\n",
       "</style>\n",
       "<table border=\"1\" class=\"dataframe\">\n",
       "  <thead>\n",
       "    <tr style=\"text-align: right;\">\n",
       "      <th></th>\n",
       "      <th>time</th>\n",
       "      <th>y_diff</th>\n",
       "      <th>emf</th>\n",
       "      <th>model_id</th>\n",
       "      <th>y_diff_dtw_distance</th>\n",
       "      <th>rms_perc_diff</th>\n",
       "      <th>emf_dtw_distance</th>\n",
       "      <th>damper.cdc</th>\n",
       "      <th>damper.mdc</th>\n",
       "      <th>coupling_model.coupling_constant</th>\n",
       "      <th>mechanical_spring.damping_coefficient</th>\n",
       "      <th>coil_config.coil_resistance</th>\n",
       "      <th>load_model.R</th>\n",
       "      <th>emf_dtw_euclid_norm</th>\n",
       "      <th>emf_dtw_dist</th>\n",
       "      <th>rms_perc_diff_detrend</th>\n",
       "      <th>y_diff_dtw_euclid_norm</th>\n",
       "      <th>input_excitation</th>\n",
       "    </tr>\n",
       "  </thead>\n",
       "  <tbody>\n",
       "    <tr>\n",
       "      <th>0</th>\n",
       "      <td>0.000</td>\n",
       "      <td>0.040000</td>\n",
       "      <td>0.0</td>\n",
       "      <td>1872</td>\n",
       "      <td>10.490756</td>\n",
       "      <td>27.341203</td>\n",
       "      <td>148.431295</td>\n",
       "      <td>1.792857</td>\n",
       "      <td>0.011667</td>\n",
       "      <td>1.666667</td>\n",
       "      <td>5.0</td>\n",
       "      <td>23.5</td>\n",
       "      <td>30</td>\n",
       "      <td>0.043455</td>\n",
       "      <td>114.677197</td>\n",
       "      <td>19.942166</td>\n",
       "      <td>0.004143</td>\n",
       "      <td>0</td>\n",
       "    </tr>\n",
       "    <tr>\n",
       "      <th>1</th>\n",
       "      <td>0.003</td>\n",
       "      <td>0.040020</td>\n",
       "      <td>0.0</td>\n",
       "      <td>1872</td>\n",
       "      <td>10.490756</td>\n",
       "      <td>27.341203</td>\n",
       "      <td>148.431295</td>\n",
       "      <td>1.792857</td>\n",
       "      <td>0.011667</td>\n",
       "      <td>1.666667</td>\n",
       "      <td>5.0</td>\n",
       "      <td>23.5</td>\n",
       "      <td>30</td>\n",
       "      <td>0.043455</td>\n",
       "      <td>114.677197</td>\n",
       "      <td>19.942166</td>\n",
       "      <td>0.004143</td>\n",
       "      <td>0</td>\n",
       "    </tr>\n",
       "    <tr>\n",
       "      <th>2</th>\n",
       "      <td>0.006</td>\n",
       "      <td>0.040079</td>\n",
       "      <td>0.0</td>\n",
       "      <td>1872</td>\n",
       "      <td>10.490756</td>\n",
       "      <td>27.341203</td>\n",
       "      <td>148.431295</td>\n",
       "      <td>1.792857</td>\n",
       "      <td>0.011667</td>\n",
       "      <td>1.666667</td>\n",
       "      <td>5.0</td>\n",
       "      <td>23.5</td>\n",
       "      <td>30</td>\n",
       "      <td>0.043455</td>\n",
       "      <td>114.677197</td>\n",
       "      <td>19.942166</td>\n",
       "      <td>0.004143</td>\n",
       "      <td>0</td>\n",
       "    </tr>\n",
       "    <tr>\n",
       "      <th>3</th>\n",
       "      <td>0.009</td>\n",
       "      <td>0.040177</td>\n",
       "      <td>0.0</td>\n",
       "      <td>1872</td>\n",
       "      <td>10.490756</td>\n",
       "      <td>27.341203</td>\n",
       "      <td>148.431295</td>\n",
       "      <td>1.792857</td>\n",
       "      <td>0.011667</td>\n",
       "      <td>1.666667</td>\n",
       "      <td>5.0</td>\n",
       "      <td>23.5</td>\n",
       "      <td>30</td>\n",
       "      <td>0.043455</td>\n",
       "      <td>114.677197</td>\n",
       "      <td>19.942166</td>\n",
       "      <td>0.004143</td>\n",
       "      <td>0</td>\n",
       "    </tr>\n",
       "    <tr>\n",
       "      <th>4</th>\n",
       "      <td>0.012</td>\n",
       "      <td>0.040312</td>\n",
       "      <td>0.0</td>\n",
       "      <td>1872</td>\n",
       "      <td>10.490756</td>\n",
       "      <td>27.341203</td>\n",
       "      <td>148.431295</td>\n",
       "      <td>1.792857</td>\n",
       "      <td>0.011667</td>\n",
       "      <td>1.666667</td>\n",
       "      <td>5.0</td>\n",
       "      <td>23.5</td>\n",
       "      <td>30</td>\n",
       "      <td>0.043455</td>\n",
       "      <td>114.677197</td>\n",
       "      <td>19.942166</td>\n",
       "      <td>0.004143</td>\n",
       "      <td>0</td>\n",
       "    </tr>\n",
       "  </tbody>\n",
       "</table>\n",
       "</div>"
      ],
      "text/plain": [
       "    time    y_diff  emf  model_id  y_diff_dtw_distance  rms_perc_diff  \\\n",
       "0  0.000  0.040000  0.0      1872            10.490756      27.341203   \n",
       "1  0.003  0.040020  0.0      1872            10.490756      27.341203   \n",
       "2  0.006  0.040079  0.0      1872            10.490756      27.341203   \n",
       "3  0.009  0.040177  0.0      1872            10.490756      27.341203   \n",
       "4  0.012  0.040312  0.0      1872            10.490756      27.341203   \n",
       "\n",
       "   emf_dtw_distance  damper.cdc  damper.mdc  coupling_model.coupling_constant  \\\n",
       "0        148.431295    1.792857    0.011667                          1.666667   \n",
       "1        148.431295    1.792857    0.011667                          1.666667   \n",
       "2        148.431295    1.792857    0.011667                          1.666667   \n",
       "3        148.431295    1.792857    0.011667                          1.666667   \n",
       "4        148.431295    1.792857    0.011667                          1.666667   \n",
       "\n",
       "   mechanical_spring.damping_coefficient  coil_config.coil_resistance  \\\n",
       "0                                    5.0                         23.5   \n",
       "1                                    5.0                         23.5   \n",
       "2                                    5.0                         23.5   \n",
       "3                                    5.0                         23.5   \n",
       "4                                    5.0                         23.5   \n",
       "\n",
       "   load_model.R  emf_dtw_euclid_norm  emf_dtw_dist  rms_perc_diff_detrend  \\\n",
       "0            30             0.043455    114.677197              19.942166   \n",
       "1            30             0.043455    114.677197              19.942166   \n",
       "2            30             0.043455    114.677197              19.942166   \n",
       "3            30             0.043455    114.677197              19.942166   \n",
       "4            30             0.043455    114.677197              19.942166   \n",
       "\n",
       "   y_diff_dtw_euclid_norm input_excitation  \n",
       "0                0.004143                0  \n",
       "1                0.004143                0  \n",
       "2                0.004143                0  \n",
       "3                0.004143                0  \n",
       "4                0.004143                0  "
      ]
     },
     "execution_count": 44,
     "metadata": {},
     "output_type": "execute_result"
    }
   ],
   "source": [
    "df_merge = dd.read_parquet(f'../data/parameter_search/2021-03-19/{which_device}_augmented.parquet')\n",
    "df_merge.head()"
   ]
  },
  {
   "cell_type": "code",
   "execution_count": 23,
   "metadata": {},
   "outputs": [
    {
     "data": {
      "text/html": [
       "<div>\n",
       "<style scoped>\n",
       "    .dataframe tbody tr th:only-of-type {\n",
       "        vertical-align: middle;\n",
       "    }\n",
       "\n",
       "    .dataframe tbody tr th {\n",
       "        vertical-align: top;\n",
       "    }\n",
       "\n",
       "    .dataframe thead th {\n",
       "        text-align: right;\n",
       "    }\n",
       "</style>\n",
       "<table border=\"1\" class=\"dataframe\">\n",
       "  <thead>\n",
       "    <tr style=\"text-align: right;\">\n",
       "      <th></th>\n",
       "      <th>time</th>\n",
       "      <th>y_diff</th>\n",
       "      <th>emf</th>\n",
       "      <th>model_id</th>\n",
       "      <th>y_diff_dtw_distance</th>\n",
       "      <th>rms_perc_diff</th>\n",
       "      <th>emf_dtw_distance</th>\n",
       "      <th>damper.cdc</th>\n",
       "      <th>damper.mdc</th>\n",
       "      <th>coupling_model.coupling_constant</th>\n",
       "      <th>mechanical_spring.damping_coefficient</th>\n",
       "      <th>coil_config.coil_resistance</th>\n",
       "      <th>load_model.R</th>\n",
       "      <th>emf_dtw_euclid_norm</th>\n",
       "      <th>emf_dtw_dist</th>\n",
       "      <th>rms_perc_diff_detrend</th>\n",
       "      <th>y_diff_dtw_euclid_norm</th>\n",
       "      <th>input_excitation</th>\n",
       "    </tr>\n",
       "  </thead>\n",
       "  <tbody>\n",
       "    <tr>\n",
       "      <th>64003</th>\n",
       "      <td>7.986</td>\n",
       "      <td>0.045945</td>\n",
       "      <td>0.0</td>\n",
       "      <td>3695</td>\n",
       "      <td>9.758717</td>\n",
       "      <td>55.496781</td>\n",
       "      <td>83.122703</td>\n",
       "      <td>4.05</td>\n",
       "      <td>0.005</td>\n",
       "      <td>4.166667</td>\n",
       "      <td>10.0</td>\n",
       "      <td>12.5</td>\n",
       "      <td>30</td>\n",
       "      <td>0.024644</td>\n",
       "      <td>72.699053</td>\n",
       "      <td>51.856865</td>\n",
       "      <td>0.001694</td>\n",
       "      <td>6</td>\n",
       "    </tr>\n",
       "    <tr>\n",
       "      <th>64004</th>\n",
       "      <td>7.989</td>\n",
       "      <td>0.045945</td>\n",
       "      <td>0.0</td>\n",
       "      <td>3695</td>\n",
       "      <td>9.758717</td>\n",
       "      <td>55.496781</td>\n",
       "      <td>83.122703</td>\n",
       "      <td>4.05</td>\n",
       "      <td>0.005</td>\n",
       "      <td>4.166667</td>\n",
       "      <td>10.0</td>\n",
       "      <td>12.5</td>\n",
       "      <td>30</td>\n",
       "      <td>0.024644</td>\n",
       "      <td>72.699053</td>\n",
       "      <td>51.856865</td>\n",
       "      <td>0.001694</td>\n",
       "      <td>6</td>\n",
       "    </tr>\n",
       "    <tr>\n",
       "      <th>64005</th>\n",
       "      <td>7.992</td>\n",
       "      <td>0.045946</td>\n",
       "      <td>0.0</td>\n",
       "      <td>3695</td>\n",
       "      <td>9.758717</td>\n",
       "      <td>55.496781</td>\n",
       "      <td>83.122703</td>\n",
       "      <td>4.05</td>\n",
       "      <td>0.005</td>\n",
       "      <td>4.166667</td>\n",
       "      <td>10.0</td>\n",
       "      <td>12.5</td>\n",
       "      <td>30</td>\n",
       "      <td>0.024644</td>\n",
       "      <td>72.699053</td>\n",
       "      <td>51.856865</td>\n",
       "      <td>0.001694</td>\n",
       "      <td>6</td>\n",
       "    </tr>\n",
       "    <tr>\n",
       "      <th>64006</th>\n",
       "      <td>7.995</td>\n",
       "      <td>0.045946</td>\n",
       "      <td>0.0</td>\n",
       "      <td>3695</td>\n",
       "      <td>9.758717</td>\n",
       "      <td>55.496781</td>\n",
       "      <td>83.122703</td>\n",
       "      <td>4.05</td>\n",
       "      <td>0.005</td>\n",
       "      <td>4.166667</td>\n",
       "      <td>10.0</td>\n",
       "      <td>12.5</td>\n",
       "      <td>30</td>\n",
       "      <td>0.024644</td>\n",
       "      <td>72.699053</td>\n",
       "      <td>51.856865</td>\n",
       "      <td>0.001694</td>\n",
       "      <td>6</td>\n",
       "    </tr>\n",
       "    <tr>\n",
       "      <th>64007</th>\n",
       "      <td>7.998</td>\n",
       "      <td>0.045947</td>\n",
       "      <td>0.0</td>\n",
       "      <td>3695</td>\n",
       "      <td>9.758717</td>\n",
       "      <td>55.496781</td>\n",
       "      <td>83.122703</td>\n",
       "      <td>4.05</td>\n",
       "      <td>0.005</td>\n",
       "      <td>4.166667</td>\n",
       "      <td>10.0</td>\n",
       "      <td>12.5</td>\n",
       "      <td>30</td>\n",
       "      <td>0.024644</td>\n",
       "      <td>72.699053</td>\n",
       "      <td>51.856865</td>\n",
       "      <td>0.001694</td>\n",
       "      <td>6</td>\n",
       "    </tr>\n",
       "  </tbody>\n",
       "</table>\n",
       "</div>"
      ],
      "text/plain": [
       "        time    y_diff  emf  model_id  y_diff_dtw_distance  rms_perc_diff  \\\n",
       "64003  7.986  0.045945  0.0      3695             9.758717      55.496781   \n",
       "64004  7.989  0.045945  0.0      3695             9.758717      55.496781   \n",
       "64005  7.992  0.045946  0.0      3695             9.758717      55.496781   \n",
       "64006  7.995  0.045946  0.0      3695             9.758717      55.496781   \n",
       "64007  7.998  0.045947  0.0      3695             9.758717      55.496781   \n",
       "\n",
       "       emf_dtw_distance  damper.cdc  damper.mdc  \\\n",
       "64003         83.122703        4.05       0.005   \n",
       "64004         83.122703        4.05       0.005   \n",
       "64005         83.122703        4.05       0.005   \n",
       "64006         83.122703        4.05       0.005   \n",
       "64007         83.122703        4.05       0.005   \n",
       "\n",
       "       coupling_model.coupling_constant  \\\n",
       "64003                          4.166667   \n",
       "64004                          4.166667   \n",
       "64005                          4.166667   \n",
       "64006                          4.166667   \n",
       "64007                          4.166667   \n",
       "\n",
       "       mechanical_spring.damping_coefficient  coil_config.coil_resistance  \\\n",
       "64003                                   10.0                         12.5   \n",
       "64004                                   10.0                         12.5   \n",
       "64005                                   10.0                         12.5   \n",
       "64006                                   10.0                         12.5   \n",
       "64007                                   10.0                         12.5   \n",
       "\n",
       "       load_model.R  emf_dtw_euclid_norm  emf_dtw_dist  rms_perc_diff_detrend  \\\n",
       "64003            30             0.024644     72.699053              51.856865   \n",
       "64004            30             0.024644     72.699053              51.856865   \n",
       "64005            30             0.024644     72.699053              51.856865   \n",
       "64006            30             0.024644     72.699053              51.856865   \n",
       "64007            30             0.024644     72.699053              51.856865   \n",
       "\n",
       "       y_diff_dtw_euclid_norm input_excitation  \n",
       "64003                0.001694                6  \n",
       "64004                0.001694                6  \n",
       "64005                0.001694                6  \n",
       "64006                0.001694                6  \n",
       "64007                0.001694                6  "
      ]
     },
     "execution_count": 23,
     "metadata": {},
     "output_type": "execute_result"
    }
   ],
   "source": [
    "df_merge.tail()"
   ]
  },
  {
   "cell_type": "markdown",
   "metadata": {},
   "source": [
    "# So, we need to do something special here to join p1 and p2 from the C device."
   ]
  },
  {
   "cell_type": "code",
   "execution_count": 23,
   "metadata": {},
   "outputs": [
    {
     "data": {
      "text/html": [
       "<div><strong>Dask DataFrame Structure:</strong></div>\n",
       "<div>\n",
       "<style scoped>\n",
       "    .dataframe tbody tr th:only-of-type {\n",
       "        vertical-align: middle;\n",
       "    }\n",
       "\n",
       "    .dataframe tbody tr th {\n",
       "        vertical-align: top;\n",
       "    }\n",
       "\n",
       "    .dataframe thead th {\n",
       "        text-align: right;\n",
       "    }\n",
       "</style>\n",
       "<table border=\"1\" class=\"dataframe\">\n",
       "  <thead>\n",
       "    <tr style=\"text-align: right;\">\n",
       "      <th></th>\n",
       "      <th>time</th>\n",
       "      <th>y_diff</th>\n",
       "      <th>emf</th>\n",
       "      <th>model_id</th>\n",
       "      <th>y_diff_dtw_distance</th>\n",
       "      <th>rms_perc_diff</th>\n",
       "      <th>emf_dtw_distance</th>\n",
       "      <th>damper.cdc</th>\n",
       "      <th>damper.mdc</th>\n",
       "      <th>coupling_model.coupling_constant</th>\n",
       "      <th>mechanical_spring.damping_coefficient</th>\n",
       "      <th>coil_config.coil_resistance</th>\n",
       "      <th>load_model.R</th>\n",
       "      <th>emf_dtw_euclid_norm</th>\n",
       "      <th>emf_dtw_dist</th>\n",
       "      <th>rms_perc_diff_detrend</th>\n",
       "      <th>y_diff_dtw_euclid_norm</th>\n",
       "      <th>input_excitation</th>\n",
       "    </tr>\n",
       "    <tr>\n",
       "      <th>npartitions=939</th>\n",
       "      <th></th>\n",
       "      <th></th>\n",
       "      <th></th>\n",
       "      <th></th>\n",
       "      <th></th>\n",
       "      <th></th>\n",
       "      <th></th>\n",
       "      <th></th>\n",
       "      <th></th>\n",
       "      <th></th>\n",
       "      <th></th>\n",
       "      <th></th>\n",
       "      <th></th>\n",
       "      <th></th>\n",
       "      <th></th>\n",
       "      <th></th>\n",
       "      <th></th>\n",
       "      <th></th>\n",
       "    </tr>\n",
       "  </thead>\n",
       "  <tbody>\n",
       "    <tr>\n",
       "      <th></th>\n",
       "      <td>float64</td>\n",
       "      <td>float64</td>\n",
       "      <td>float64</td>\n",
       "      <td>int64</td>\n",
       "      <td>float64</td>\n",
       "      <td>float64</td>\n",
       "      <td>float64</td>\n",
       "      <td>float64</td>\n",
       "      <td>float64</td>\n",
       "      <td>float64</td>\n",
       "      <td>float64</td>\n",
       "      <td>float64</td>\n",
       "      <td>int64</td>\n",
       "      <td>float64</td>\n",
       "      <td>float64</td>\n",
       "      <td>float64</td>\n",
       "      <td>float64</td>\n",
       "      <td>int64</td>\n",
       "    </tr>\n",
       "    <tr>\n",
       "      <th></th>\n",
       "      <td>...</td>\n",
       "      <td>...</td>\n",
       "      <td>...</td>\n",
       "      <td>...</td>\n",
       "      <td>...</td>\n",
       "      <td>...</td>\n",
       "      <td>...</td>\n",
       "      <td>...</td>\n",
       "      <td>...</td>\n",
       "      <td>...</td>\n",
       "      <td>...</td>\n",
       "      <td>...</td>\n",
       "      <td>...</td>\n",
       "      <td>...</td>\n",
       "      <td>...</td>\n",
       "      <td>...</td>\n",
       "      <td>...</td>\n",
       "      <td>...</td>\n",
       "    </tr>\n",
       "    <tr>\n",
       "      <th>...</th>\n",
       "      <td>...</td>\n",
       "      <td>...</td>\n",
       "      <td>...</td>\n",
       "      <td>...</td>\n",
       "      <td>...</td>\n",
       "      <td>...</td>\n",
       "      <td>...</td>\n",
       "      <td>...</td>\n",
       "      <td>...</td>\n",
       "      <td>...</td>\n",
       "      <td>...</td>\n",
       "      <td>...</td>\n",
       "      <td>...</td>\n",
       "      <td>...</td>\n",
       "      <td>...</td>\n",
       "      <td>...</td>\n",
       "      <td>...</td>\n",
       "      <td>...</td>\n",
       "    </tr>\n",
       "    <tr>\n",
       "      <th></th>\n",
       "      <td>...</td>\n",
       "      <td>...</td>\n",
       "      <td>...</td>\n",
       "      <td>...</td>\n",
       "      <td>...</td>\n",
       "      <td>...</td>\n",
       "      <td>...</td>\n",
       "      <td>...</td>\n",
       "      <td>...</td>\n",
       "      <td>...</td>\n",
       "      <td>...</td>\n",
       "      <td>...</td>\n",
       "      <td>...</td>\n",
       "      <td>...</td>\n",
       "      <td>...</td>\n",
       "      <td>...</td>\n",
       "      <td>...</td>\n",
       "      <td>...</td>\n",
       "    </tr>\n",
       "    <tr>\n",
       "      <th></th>\n",
       "      <td>...</td>\n",
       "      <td>...</td>\n",
       "      <td>...</td>\n",
       "      <td>...</td>\n",
       "      <td>...</td>\n",
       "      <td>...</td>\n",
       "      <td>...</td>\n",
       "      <td>...</td>\n",
       "      <td>...</td>\n",
       "      <td>...</td>\n",
       "      <td>...</td>\n",
       "      <td>...</td>\n",
       "      <td>...</td>\n",
       "      <td>...</td>\n",
       "      <td>...</td>\n",
       "      <td>...</td>\n",
       "      <td>...</td>\n",
       "      <td>...</td>\n",
       "    </tr>\n",
       "  </tbody>\n",
       "</table>\n",
       "</div>\n",
       "<div>Dask Name: assign, 3756 tasks</div>"
      ],
      "text/plain": [
       "Dask DataFrame Structure:\n",
       "                    time   y_diff      emf model_id y_diff_dtw_distance rms_perc_diff emf_dtw_distance damper.cdc damper.mdc coupling_model.coupling_constant mechanical_spring.damping_coefficient coil_config.coil_resistance load_model.R emf_dtw_euclid_norm emf_dtw_dist rms_perc_diff_detrend y_diff_dtw_euclid_norm input_excitation\n",
       "npartitions=939                                                                                                                                                                                                                                                                                                                            \n",
       "                 float64  float64  float64    int64             float64       float64          float64    float64    float64                          float64                               float64                     float64        int64             float64      float64               float64                float64            int64\n",
       "                     ...      ...      ...      ...                 ...           ...              ...        ...        ...                              ...                                   ...                         ...          ...                 ...          ...                   ...                    ...              ...\n",
       "...                  ...      ...      ...      ...                 ...           ...              ...        ...        ...                              ...                                   ...                         ...          ...                 ...          ...                   ...                    ...              ...\n",
       "                     ...      ...      ...      ...                 ...           ...              ...        ...        ...                              ...                                   ...                         ...          ...                 ...          ...                   ...                    ...              ...\n",
       "                     ...      ...      ...      ...                 ...           ...              ...        ...        ...                              ...                                   ...                         ...          ...                 ...          ...                   ...                    ...              ...\n",
       "Dask Name: assign, 3756 tasks"
      ]
     },
     "execution_count": 23,
     "metadata": {},
     "output_type": "execute_result"
    }
   ],
   "source": [
    "df_1 = dd.read_parquet('../data/parameter_search/2021-03-19/C_augmented_001.parquet/')\n",
    "df_1['input_excitation'] = df_1['input_excitation'].astype(int)\n",
    "df_2 = dd.read_parquet('../data/parameter_search/2021-03-19/C_augmented_002.parquet/')\n",
    "df_2['input_excitation'] = df_2['input_excitation'].astype(int)\n",
    "df_1"
   ]
  },
  {
   "cell_type": "code",
   "execution_count": 24,
   "metadata": {},
   "outputs": [],
   "source": [
    "df_both = dd.concat([df_1, df_2])\n",
    "df_both.to_parquet('../data/parameter_search/2021-03-19/C_augmented.parquet', partition_on='input_excitation', compression='brotli')"
   ]
  },
  {
   "cell_type": "code",
   "execution_count": null,
   "metadata": {},
   "outputs": [],
   "source": []
  }
 ],
 "metadata": {
  "kernelspec": {
   "display_name": "Python 3",
   "language": "python",
   "name": "python3"
  },
  "language_info": {
   "codemirror_mode": {
    "name": "ipython",
    "version": 3
   },
   "file_extension": ".py",
   "mimetype": "text/x-python",
   "name": "python",
   "nbconvert_exporter": "python",
   "pygments_lexer": "ipython3",
   "version": "3.7.0"
  }
 },
 "nbformat": 4,
 "nbformat_minor": 4
}
