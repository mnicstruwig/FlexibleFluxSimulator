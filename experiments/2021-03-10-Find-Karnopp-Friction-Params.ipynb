{
 "cells": [
  {
   "cell_type": "markdown",
   "metadata": {},
   "source": [
    "The goal here is to find parameters for the `QuasiKarnoppDamper` friction model using the baseline devices + `nevergrad` to see if the constants can be applied over to the optimal device."
   ]
  },
  {
   "cell_type": "code",
   "execution_count": 1,
   "metadata": {},
   "outputs": [],
   "source": [
    "%load_ext autoreload\n",
    "%autoreload 2"
   ]
  },
  {
   "cell_type": "code",
   "execution_count": 2,
   "metadata": {},
   "outputs": [],
   "source": [
    "# Let's define our model that we need to simulate\n",
    "from scipy.signal import savgol_filter\n",
    "import numpy as np\n",
    "\n",
    "from unified_model import unified\n",
    "from unified_model import mechanical_components\n",
    "from unified_model import electrical_components\n",
    "from unified_model import CouplingModel\n"
   ]
  },
  {
   "cell_type": "code",
   "execution_count": 3,
   "metadata": {},
   "outputs": [
    {
     "name": "stderr",
     "output_type": "stream",
     "text": [
      "/home/michael/Nextcloud/PhD/Python/unified_model/unified_model/electrical_components/flux/model.py:55: UserWarning: n_z and n_w are set, but are not required if no `curve_model` is specified.\n",
      "  warnings.warn('n_z and n_w are set, but are not required if no `curve_model` is specified.')  # noqa\n"
     ]
    }
   ],
   "source": [
    "from local_config import ABC_CONFIG"
   ]
  },
  {
   "cell_type": "code",
   "execution_count": 66,
   "metadata": {},
   "outputs": [
    {
     "data": {
      "text/plain": [
       "MechanicalSpring(position=0.15, magnet_length=0.01, magnet_assembly_length=0.01, strength=10000000.0, damping_coefficient=10)"
      ]
     },
     "execution_count": 66,
     "metadata": {},
     "output_type": "execute_result"
    }
   ],
   "source": [
    "# Top collision\n",
    "which_device = 'A'\n",
    "\n",
    "# Magnet Assembly\n",
    "magnet_assembly_optim = mechanical_components.MagnetAssembly(\n",
    "    m=2,\n",
    "    l_m_mm=10,\n",
    "    l_mcd_mm=24,\n",
    "    dia_magnet_mm=10,\n",
    "    dia_spacer_mm=10\n",
    ")\n",
    "magnet_assembly = ABC_CONFIG.magnet_assembly\n",
    "\n",
    "mech_spring = mechanical_components.MechanicalSpring(\n",
    "    magnet_assembly=magnet_assembly,\n",
    "    position=150/1000,  # position of the microgenerator \"top\" (in metres)\n",
    "    damping_coefficient=10  # Controls how \"lossy\" the impact is.\n",
    ") \n",
    "\n",
    "mech_spring"
   ]
  },
  {
   "cell_type": "code",
   "execution_count": 67,
   "metadata": {},
   "outputs": [],
   "source": [
    "# Magnetic spring\n",
    "magnetic_spring = mechanical_components.MagneticSpringInterp(\n",
    "    fea_data_file='../data/magnetic-spring/10x10alt.csv',\n",
    "    magnet_length=10 / 1000,\n",
    "    filter_callable=lambda x: savgol_filter(x, window_length=27, polyorder=5)\n",
    ")"
   ]
  },
  {
   "cell_type": "code",
   "execution_count": 68,
   "metadata": {},
   "outputs": [],
   "source": [
    "# Electrical components\n",
    "# Load\n",
    "load = electrical_components.SimpleLoad(R=30)\n",
    "\n",
    "# Rectifier loss\n",
    "v_rect_drop = 0.1\n"
   ]
  },
  {
   "cell_type": "code",
   "execution_count": 69,
   "metadata": {},
   "outputs": [],
   "source": [
    "# Params\n",
    "c = 1\n",
    "n_z = 88\n",
    "n_w = 20\n",
    "\n",
    "# Coupling model\n",
    "coupling = CouplingModel().set_coupling_constant(5.0)\n",
    "\n",
    "# Coil\n",
    "coil_config = ABC_CONFIG.coil_configs[which_device]"
   ]
  },
  {
   "cell_type": "code",
   "execution_count": 8,
   "metadata": {},
   "outputs": [],
   "source": [
    "flux_model = ABC_CONFIG.flux_models[which_device]\n",
    "dflux_model = ABC_CONFIG.dflux_models[which_device]"
   ]
  },
  {
   "cell_type": "code",
   "execution_count": 9,
   "metadata": {},
   "outputs": [],
   "source": [
    "# Get our input excitation and groundtruth data\n",
    "from unified_model import evaluate\n",
    "from unified_model import metrics\n",
    "from unified_model.utils.utils import collect_samples\n",
    "from scipy.signal import savgol_filter\n",
    "\n",
    "from dataclasses import dataclass\n",
    "from typing import Any\n",
    "\n",
    "@dataclass\n",
    "class MechanicalGroundtruth:\n",
    "    y_diff: Any\n",
    "    time: Any\n",
    "\n",
    "@dataclass\n",
    "class ElectricalGroundtruth:\n",
    "    emf: Any\n",
    "    time: Any\n",
    "\n",
    "@dataclass\n",
    "class Groundtruth:\n",
    "    mech: MechanicalGroundtruth\n",
    "    elec: ElectricalGroundtruth\n",
    "\n",
    "samples_list = collect_samples(base_path='../data/2019-05-23_D/',\n",
    "                               acc_pattern=f'{which_device}/*acc*.csv',\n",
    "                               adc_pattern=f'{which_device}/*adc*.csv',\n",
    "                               video_label_pattern=f'{which_device}/*labels*.csv')\n",
    "        \n",
    "class GroundTruthFactory:\n",
    "    def __init__(self,\n",
    "                 samples_list,\n",
    "                 lvp_kwargs,\n",
    "                 adc_kwargs):\n",
    "        \"\"\"Helper Factory to get groundtruth data in a batch.\"\"\"\n",
    "        \n",
    "        self.samples_list = samples_list\n",
    "        self.lvp_kwargs = lvp_kwargs\n",
    "        self.adc_kwargs = adc_kwargs\n",
    "\n",
    "        self.lvp = evaluate.LabeledVideoProcessor(**lvp_kwargs)\n",
    "        self.adc = evaluate.AdcProcessor(**adc_kwargs)\n",
    "\n",
    "    def _make_mechanical_groundtruth(self, sample):\n",
    "        y_target, y_time_target = self.lvp.fit_transform(\n",
    "            sample.video_labels_df,\n",
    "            impute_missing_values=True\n",
    "        )\n",
    "        y_target = savgol_filter(y_target, 9, 3)\n",
    "\n",
    "        return MechanicalGroundtruth(y_target,\n",
    "                                     y_time_target)\n",
    "\n",
    "    def _make_electrical_groundtruth(self, sample):\n",
    "        emf_target, emf_time_target = self.adc.fit_transform(sample.adc_df)\n",
    "        return ElectricalGroundtruth(emf_target,\n",
    "                                     emf_time_target)\n",
    "\n",
    "    def make(self):\n",
    "        groundtruths = []\n",
    "        for sample in self.samples_list:\n",
    "            try:\n",
    "                mech_groundtruth = self._make_mechanical_groundtruth(sample)\n",
    "                elec_groundtruth = self._make_electrical_groundtruth(sample)\n",
    "\n",
    "                groundtruths.append(\n",
    "                    Groundtruth(mech_groundtruth, elec_groundtruth)\n",
    "                )\n",
    "            except AttributeError:\n",
    "                pass\n",
    "\n",
    "        return groundtruths\n",
    "\n",
    "\n",
    "class AccelerometerInputsFactory:\n",
    "    def __init__(self, sample_list, acc_input_kwargs=None):\n",
    "        self.sample_list = sample_list\n",
    "        self.acc_input_kwargs = {} if acc_input_kwargs is None else acc_input_kwargs  # noqa\n",
    "        self._set_defaults()\n",
    "\n",
    "    def _set_defaults(self):\n",
    "        self.acc_input_kwargs.setdefault('accel_column', 'z_G'),\n",
    "        self.acc_input_kwargs.setdefault('time_column', 'time(ms)'),\n",
    "        self.acc_input_kwargs.setdefault('accel_unit', 'g'),\n",
    "        self.acc_input_kwargs.setdefault('time_unit', 'ms'),\n",
    "        self.acc_input_kwargs.setdefault('smooth', True),\n",
    "        self.acc_input_kwargs.setdefault('interpolate', True)\n",
    "\n",
    "    def make(self) -> np.ndarray:\n",
    "        accelerometer_inputs = []\n",
    "        for sample in self.sample_list:\n",
    "            acc_input = mechanical_components.AccelerometerInput(\n",
    "                raw_accelerometer_input=sample.acc_df,\n",
    "                accel_column=self.acc_input_kwargs.setdefault('accel_column', 'z_G'),  # noqa\n",
    "                time_column=self.acc_input_kwargs.setdefault('time_column', 'time(ms)'),  # noqa\n",
    "                accel_unit=self.acc_input_kwargs.setdefault('accel_unit', 'g'),\n",
    "                time_unit=self.acc_input_kwargs.setdefault('time_unit', 'ms'),\n",
    "                smooth=self.acc_input_kwargs.setdefault('smooth', True),\n",
    "                interpolate=self.acc_input_kwargs.setdefault('interpolate', True)  # noqa\n",
    "            )\n",
    "            accelerometer_inputs.append(acc_input)\n",
    "        return np.array(accelerometer_inputs)\n",
    " \n",
    "    \n",
    "# Prepare data\n",
    "groundtruth_factory = GroundTruthFactory(samples_list,\n",
    "                                        lvp_kwargs=dict(magnet_assembly=magnet_assembly,\n",
    "                                                        seconds_per_frame=1/60,\n",
    "                                                        pixel_scale=0.154508),\n",
    "                                        adc_kwargs=dict(voltage_division_ratio=1 / 0.342))\n",
    "accelerometer_factory = AccelerometerInputsFactory(samples_list)\n",
    "groundtruth = groundtruth_factory.make()\n",
    "input_excitations = accelerometer_factory.make()"
   ]
  },
  {
   "cell_type": "code",
   "execution_count": 10,
   "metadata": {},
   "outputs": [],
   "source": [
    "# Build the unified model\n",
    "from unified_model import MechanicalModel\n",
    "from unified_model import ElectricalModel\n",
    "from unified_model import UnifiedModel\n",
    "from unified_model import pipeline\n",
    "from unified_model import governing_equations\n",
    "\n",
    "mechanical_model = MechanicalModel() \\\n",
    "    .set_damper(None) \\\n",
    "    .set_magnet_assembly(magnet_assembly) \\\n",
    "    .set_magnetic_spring(magnetic_spring) \\\n",
    "    .set_mechanical_spring(mech_spring) \\\n",
    "\n",
    "electrical_model = ElectricalModel() \\\n",
    "    .set_rectification_drop(v_rect_drop) \\\n",
    "    .set_load_model(load) \\\n",
    "    .set_flux_model(flux_model, dflux_model) \\\n",
    "    .set_coil_configuration(coil_config)\n",
    "\n",
    "unified_model = UnifiedModel() \\\n",
    "    .set_mechanical_model(mechanical_model) \\\n",
    "    .set_electrical_model(electrical_model) \\\n",
    "    .set_coupling_model(coupling) \\\n",
    "    .set_post_processing_pipeline(pipeline.clip_x2, name='clip tube velocity') \\\n",
    "    .set_governing_equations(governing_equations.unified_ode)  # Here we set our governing equations for my particular microgenerator. We'll go over this a bit later."
   ]
  },
  {
   "cell_type": "code",
   "execution_count": 11,
   "metadata": {},
   "outputs": [
    {
     "data": {
      "text/plain": [
       "\u001b[0;31mInit signature:\u001b[0m\n",
       "\u001b[0mmechanical_components\u001b[0m\u001b[0;34m.\u001b[0m\u001b[0mdamper\u001b[0m\u001b[0;34m.\u001b[0m\u001b[0mQuasiKarnoppDamper\u001b[0m\u001b[0;34m(\u001b[0m\u001b[0;34m\u001b[0m\n",
       "\u001b[0;34m\u001b[0m    \u001b[0mcoulomb_damping_coefficient\u001b[0m\u001b[0;34m:\u001b[0m \u001b[0mfloat\u001b[0m\u001b[0;34m,\u001b[0m\u001b[0;34m\u001b[0m\n",
       "\u001b[0;34m\u001b[0m    \u001b[0mmotional_damping_coefficient\u001b[0m\u001b[0;34m:\u001b[0m \u001b[0mfloat\u001b[0m\u001b[0;34m,\u001b[0m\u001b[0;34m\u001b[0m\n",
       "\u001b[0;34m\u001b[0m    \u001b[0mmagnet_assembly\u001b[0m\u001b[0;34m:\u001b[0m \u001b[0munified_model\u001b[0m\u001b[0;34m.\u001b[0m\u001b[0mmechanical_components\u001b[0m\u001b[0;34m.\u001b[0m\u001b[0mmagnet_assembly\u001b[0m\u001b[0;34m.\u001b[0m\u001b[0mMagnetAssembly\u001b[0m\u001b[0;34m,\u001b[0m\u001b[0;34m\u001b[0m\n",
       "\u001b[0;34m\u001b[0m    \u001b[0mtube_inner_radius_mm\u001b[0m\u001b[0;34m:\u001b[0m \u001b[0mfloat\u001b[0m\u001b[0;34m,\u001b[0m\u001b[0;34m\u001b[0m\n",
       "\u001b[0;34m\u001b[0m\u001b[0;34m)\u001b[0m \u001b[0;34m->\u001b[0m \u001b[0;32mNone\u001b[0m\u001b[0;34m\u001b[0m\u001b[0;34m\u001b[0m\u001b[0m\n",
       "\u001b[0;31mDocstring:\u001b[0m      A damper that is based on a modified Karnopp friction model.\n",
       "\u001b[0;31mInit docstring:\u001b[0m Constructor\n",
       "\u001b[0;31mFile:\u001b[0m           ~/Nextcloud/PhD/Python/unified_model/unified_model/mechanical_components/damper.py\n",
       "\u001b[0;31mType:\u001b[0m           type\n",
       "\u001b[0;31mSubclasses:\u001b[0m     \n"
      ]
     },
     "metadata": {},
     "output_type": "display_data"
    }
   ],
   "source": [
    "damper = mechanical_components.damper.QuasiKarnoppDamper(\n",
    "    4.7857,\n",
    "    0.050,\n",
    "    magnet_assembly,\n",
    "    5.5 \n",
    ")\n",
    "\n",
    "mechanical_components.damper.QuasiKarnoppDamper?"
   ]
  },
  {
   "cell_type": "markdown",
   "metadata": {},
   "source": [
    "Here we use nevergrad to run the simulations and find the best parameters for the damper."
   ]
  },
  {
   "cell_type": "code",
   "execution_count": 54,
   "metadata": {},
   "outputs": [],
   "source": [
    "def minimize(b_m1, b_m2):\n",
    "    unified_model.reset()\n",
    "    damper = mechanical_components.damper.QuasiKarnoppDamper(\n",
    "        coulomb_damping_coefficient=b_m1,\n",
    "        motional_damping_coefficient=b_m2,\n",
    "        magnet_assembly=unified_model.mechanical_model.magnet_assembly,\n",
    "        tube_inner_radius_mm=5.5\n",
    "    )\n",
    "    \n",
    "    unified_model.mechanical_model.set_damper(damper)\n",
    "    mech_result, _, _, _ = run(input_excitations[0], groundtruth[0], unified_model)\n",
    "    return mech_result['dtw_distance']\n",
    "    \n",
    "\n",
    "def run(input_, groundtruth, unified_model):\n",
    "    unified_model.mechanical_model.set_input(input_)\n",
    "    y0 = [0.0, 0.0, 0.0325, 0.0, 0.0]\n",
    "    unified_model.solve(t_start=0, t_end=8, y0=y0, t_eval=np.linspace(0, 8, 1000), t_max_step=1e-3)\n",
    "    mech_result, mech_eval = unified_model.score_mechanical_model(\n",
    "        y_target=groundtruth.mech.y_diff,\n",
    "        time_target=groundtruth.mech.time,\n",
    "        metrics_dict={'dtw_distance': metrics.dtw_euclid_distance},\n",
    "        prediction_expr='x3-x1',\n",
    "        return_evaluator=True\n",
    "    )\n",
    "    elec_result, elec_eval = unified_model.score_electrical_model(\n",
    "        emf_target=groundtruth.elec.emf,\n",
    "        time_target=groundtruth.elec.time,\n",
    "        metrics_dict={'rms_perc_diff': metrics.root_mean_square_percentage_diff,\n",
    "                      'rms': metrics.root_mean_square,\n",
    "                      'dtw_distance': metrics.dtw_euclid_distance},\n",
    "        prediction_expr='g(t, x5)',\n",
    "        return_evaluator=True\n",
    "    )\n",
    "    return mech_result, mech_eval, elec_result, elec_eval\n"
   ]
  },
  {
   "cell_type": "code",
   "execution_count": 40,
   "metadata": {},
   "outputs": [
    {
     "data": {
      "text/plain": [
       "10.869157615824747"
      ]
     },
     "execution_count": 40,
     "metadata": {},
     "output_type": "execute_result"
    }
   ],
   "source": [
    "minimize(8.785, 0.000)"
   ]
  },
  {
   "cell_type": "raw",
   "metadata": {},
   "source": [
    "%load_ext line_profiler"
   ]
  },
  {
   "cell_type": "raw",
   "metadata": {},
   "source": [
    "%lprun -f unified_model.governing_equations minimize(3.785, 0.05)"
   ]
  },
  {
   "cell_type": "code",
   "execution_count": 45,
   "metadata": {},
   "outputs": [
    {
     "name": "stdout",
     "output_type": "stream",
     "text": [
      "(3_w,6)-aCMA-ES (mu_w=2.0,w_1=63%) in dimension 2 (seed=nan, Thu Mar 11 18:42:49 2021)\n"
     ]
    },
    {
     "name": "stderr",
     "output_type": "stream",
     "text": [
      "/home/michael/Nextcloud/PhD/Python/unified_model/unified_model/mechanical_components/damper.py:7: RuntimeWarning: overflow encountered in exp\n",
      "  return 1 / (1 + np.exp(-(5*x - x0)))\n"
     ]
    },
    {
     "name": "stdout",
     "output_type": "stream",
     "text": [
      "(5.360008186927587, -0.010540624639644914) 18.568742044775863\n",
      "(5.159151843233515, 0.005662705645164663) 13.701610106705012\n",
      "(5.172870050082894, -0.0011243063327065921) 16.773158346593636\n",
      "(3.6963524449848837, -0.00392617148403534) 21.08603843003039\n",
      "(4.943818474119369, -0.002581134691373726) 17.322736618708234\n",
      "(5.369827800188504, -0.0053421107196996) 17.35760982925555\n",
      "(4.493061772409577, -0.0010142903004442035) 18.49306353088508\n",
      "(5.76426879330788, -0.0013028553858947598) 13.479518683525887\n",
      "(5.326297801308374, 0.006731342816350196) 10.62144984463153\n",
      "(5.457809533777138, 0.012939557957896714) 11.957544817843461\n",
      "(5.545933316983777, 0.0008168574731500715) 14.188745588860652\n",
      "(6.018123470370625, 0.003705818780112485) 10.301233144653857\n",
      "(6.874767117158926, 0.0028091623678817364) 10.308737512781354\n"
     ]
    },
    {
     "name": "stderr",
     "output_type": "stream",
     "text": [
      "/home/michael/Nextcloud/PhD/Python/unified_model/unified_model/mechanical_components/damper.py:7: RuntimeWarning: overflow encountered in exp\n",
      "  return 1 / (1 + np.exp(-(5*x - x0)))\n"
     ]
    },
    {
     "name": "stdout",
     "output_type": "stream",
     "text": [
      "(5.980221868017488, 0.004106713576032362) 10.329124076536425\n",
      "(4.541848526033602, -0.0003621531961264446) 18.227750303778635\n",
      "(6.359704228517008, 0.0009734451136168296) 12.729185662171739\n",
      "(6.5822990238943575, 0.008768417283868497) 10.926391595727676\n",
      "(6.524072046336008, 0.005133052662083289) 10.416239413793278\n",
      "(4.327425218651062, 0.0030862338938564974) 17.91766690640463\n",
      "(6.264998895974781, 0.002811022109212586) 11.854969053350537\n",
      "(6.51443274543802, 0.007465673757592521) 10.441093557083445\n",
      "(6.669633953517542, 0.004078831668501609) 10.337683620918103\n",
      "(5.822474695214153, 0.004618730344747407) 10.35938095297907\n",
      "(6.982558133835615, 0.004836669013840631) 10.610744881945381\n",
      "(6.2400895438374, 0.007195186121759561) 10.186848092076673\n",
      "(6.228788173439588, 0.008822382205015925) 10.672427933535769\n",
      "(6.959938325633093, 0.0069155261116895074) 10.62160601386325\n"
     ]
    },
    {
     "name": "stderr",
     "output_type": "stream",
     "text": [
      "/home/michael/Nextcloud/PhD/Python/unified_model/unified_model/mechanical_components/damper.py:7: RuntimeWarning: overflow encountered in exp\n",
      "  return 1 / (1 + np.exp(-(5*x - x0)))\n"
     ]
    },
    {
     "name": "stdout",
     "output_type": "stream",
     "text": [
      "(5.027986626943638, 0.0018492395007142517) 13.708783978711871\n",
      "(6.87730465621557, 0.004487758758468078) 10.418030095227266\n",
      "(5.668057325594156, 0.005927859132302357) 10.473033030575298\n",
      "(6.133180802373846, 0.008996786602585348) 10.666326444941134\n",
      "(6.117492653474824, 0.0081249646447838) 10.355482200784067\n",
      "(5.611660422154942, 0.010490300691382954) 10.894254055050054\n",
      "(6.042030825970858, 0.012399364314449724) 13.200242456613006\n",
      "(5.768328573965553, 0.006153042952103427) 10.48704074178665\n",
      "(6.522801630542199, 0.002945222454073285) 10.338968023300112\n",
      "(6.213027423596919, 0.0076961520474537045) 10.297827521010856\n",
      "(6.199418929384635, 0.004570418420811956) 10.31385311221866\n",
      "(6.190148856345138, 0.0015581439251300523) 12.650797229448528\n",
      "(6.174967822393911, 0.003798790830430358) 10.330652600437404\n",
      "(5.623106586952241, 0.00376492666115044) 11.576788123576815\n",
      "(6.8484477472821235, 0.002829856011818851) 10.316669318886435\n",
      "(6.3194909798562255, 0.009008628318733006) 10.812968889817009\n",
      "(6.027332727736097, 0.006257261413942657) 10.510300054738142\n",
      "(5.8497169932175055, 0.0069767500479457805) 10.568542468042763\n"
     ]
    },
    {
     "name": "stderr",
     "output_type": "stream",
     "text": [
      "/home/michael/Nextcloud/PhD/Python/unified_model/unified_model/mechanical_components/damper.py:7: RuntimeWarning: overflow encountered in exp\n",
      "  return 1 / (1 + np.exp(-(5*x - x0)))\n"
     ]
    },
    {
     "name": "stdout",
     "output_type": "stream",
     "text": [
      "(6.260191445930531, 0.0029008754279916493) 11.795786031815844\n",
      "(6.124758043992124, 0.007935647090522462) 10.30750429468657\n",
      "(6.263734862238, 0.006930460357671788) 10.143136149372271\n",
      "(6.539563399310831, 0.0071032922204283255) 10.361936044445637\n",
      "(6.1721737770479, 0.006432041262127727) 10.539918712221406\n",
      "(6.171164665069733, 0.006165899168872054) 10.486818492000909\n",
      "(6.519598667140798, 0.006504018188479954) 10.212703165115272\n",
      "(6.024876812552408, 0.006171135810453943) 10.492123461322922\n",
      "(5.780094139584909, 0.00921458299261909) 10.487438440283933\n",
      "(6.288100204606531, 0.008179417008582802) 10.494010348411168\n",
      "(6.642159424400387, 0.0062234353481598415) 10.246074204056466\n",
      "(6.204590782732426, 0.006006185308659002) 10.476700101075055\n",
      "(6.277048989768197, 0.00666283068034659) 10.099322046254287\n",
      "(6.173128404817677, 0.007956269297103327) 10.343172475185444\n",
      "(6.389728450592888, 0.005860349106625337) 10.49852478739903\n",
      "(6.310989917980012, 0.007277621038226466) 10.251718409303749\n",
      "(6.377212563138864, 0.0065778330843252256) 10.141147344846496\n",
      "(6.5550960765904565, 0.006645082077429739) 10.265875982427788\n",
      "(5.91824265561826, 0.0077937283947178805) 10.13551419265435\n",
      "(6.155517117462938, 0.007144347411672437) 10.126463233438388\n",
      "(6.182805982111978, 0.006920820900193619) 10.09690003216857\n",
      "(6.123641786359773, 0.0066401132909033175) 10.588154122570858\n",
      "(6.243001634458502, 0.006323542698764227) 10.541560119304979\n",
      "(6.216869153709866, 0.007737174361376912) 10.311338050495916\n",
      "(6.010293267017903, 0.006961797130013172) 10.650810044181043\n",
      "(6.214710899994063, 0.007577368395855552) 10.264190922752386\n",
      "(6.119925178437709, 0.006342096883396922) 10.51480539076804\n"
     ]
    },
    {
     "name": "stderr",
     "output_type": "stream",
     "text": [
      "/home/michael/Nextcloud/PhD/Python/unified_model/unified_model/mechanical_components/damper.py:7: RuntimeWarning: overflow encountered in exp\n",
      "  return 1 / (1 + np.exp(-(5*x - x0)))\n"
     ]
    },
    {
     "name": "stdout",
     "output_type": "stream",
     "text": [
      "(6.300390429974723, 0.006191127056131934) 10.529600640959263\n",
      "(6.346093138670841, 0.007023935175396171) 10.214751377430535\n",
      "(6.106880790890512, 0.006678067783200915) 10.5956212974809\n",
      "(5.933318901495946, 0.007429638293193392) 10.06470461003822\n",
      "(6.039008631764401, 0.007075709025326908) 10.866052504267666\n",
      "(6.217239968334717, 0.008793027944458635) 10.656143154682754\n",
      "(6.512284982362495, 0.006628916044047044) 10.23163794237898\n",
      "(6.471302632889902, 0.008096635101782943) 10.599525945452916\n",
      "(5.966588540069468, 0.007334697992743148) 10.061586584571126\n",
      "(6.601970601687909, 0.005896389799475237) 9.933247266699794\n",
      "(6.4140269017153075, 0.006086792391673248) 10.579615601625797\n"
     ]
    },
    {
     "name": "stderr",
     "output_type": "stream",
     "text": [
      "/home/michael/Nextcloud/PhD/Python/unified_model/unified_model/mechanical_components/damper.py:7: RuntimeWarning: overflow encountered in exp\n",
      "  return 1 / (1 + np.exp(-(5*x - x0)))\n"
     ]
    },
    {
     "name": "stdout",
     "output_type": "stream",
     "text": [
      "(5.800340601045297, 0.006806981671858639) 10.588180282589047\n",
      "(5.897307734421703, 0.007488704174952318) 10.057569457721018\n",
      "(5.913054925633675, 0.007024238405469287) 10.626125224450146\n",
      "(6.245611232595541, 0.0061229163659987365) 10.50832211399471\n",
      "(6.283626810389763, 0.006269910457002708) 10.54545164326121\n",
      "(6.468062106327206, 0.006731910700175519) 10.227496134651581\n",
      "(6.558139026229674, 0.006185365760769571) 10.186665415632207\n",
      "(6.121240917779118, 0.007152674083366663) 10.105665725394356\n",
      "(6.51528131327319, 0.006188225401742836) 10.162312107160917\n"
     ]
    },
    {
     "name": "stderr",
     "output_type": "stream",
     "text": [
      "/home/michael/Nextcloud/PhD/Python/unified_model/unified_model/mechanical_components/damper.py:7: RuntimeWarning: overflow encountered in exp\n",
      "  return 1 / (1 + np.exp(-(5*x - x0)))\n"
     ]
    },
    {
     "name": "stdout",
     "output_type": "stream",
     "text": [
      "(6.480373606388401, 0.005653155978384328) 10.485195331960313\n",
      "(6.321801787788016, 0.006421377123343777) 10.754967646642264\n",
      "(5.863582652260533, 0.007379138091565089) 10.805961095389357\n",
      "(6.310468590796624, 0.00668482723423414) 10.120541053651506\n",
      "(6.030068553497581, 0.007547550466935358) 10.137543432844284\n",
      "(5.856691901225183, 0.007203296748573522) 10.655743972866233\n",
      "(6.035930279064936, 0.007345853345542056) 10.097170186640223\n",
      "(6.261448807108681, 0.006980224078119259) 10.153647049426093\n"
     ]
    }
   ],
   "source": [
    "# Nevergrad part\n",
    "import nevergrad as ng\n",
    "\n",
    "bm1 = ng.p.Scalar(lower=0, upper=7, init=5)\n",
    "bm2 = ng.p.Scalar(lower=-0.02, upper=0.02, init=0)\n",
    "instru = ng.p.Instrumentation(bm1, bm2)\n",
    "\n",
    "def my_callback(optimizer, candidate, value):\n",
    "    print(candidate.value[0], value)\n",
    "\n",
    "optimizer = ng.optimizers.NGOpt(parametrization=instru, budget=100)\n",
    "optimizer.register_callback(\"tell\", my_callback)\n",
    "recommendation = optimizer.minimize(minimize)"
   ]
  },
  {
   "cell_type": "code",
   "execution_count": 53,
   "metadata": {},
   "outputs": [
    {
     "name": "stdout",
     "output_type": "stream",
     "text": [
      "(6.601970601687909, 0.005896389799475237)\n",
      "9.933247266699794\n"
     ]
    }
   ],
   "source": [
    "print(recommendation.value[0])\n",
    "print(recommendation.loss)"
   ]
  },
  {
   "cell_type": "code",
   "execution_count": 23,
   "metadata": {},
   "outputs": [
    {
     "data": {
      "text/plain": [
       "{'dtw_distance': 14.483971685686917}"
      ]
     },
     "execution_count": 23,
     "metadata": {},
     "output_type": "execute_result"
    }
   ],
   "source": [
    "minimize(8, 0.01)"
   ]
  },
  {
   "cell_type": "code",
   "execution_count": 20,
   "metadata": {},
   "outputs": [
    {
     "data": {
      "text/plain": [
       "7"
      ]
     },
     "execution_count": 20,
     "metadata": {},
     "output_type": "execute_result"
    }
   ],
   "source": [
    "len(input_excitations)"
   ]
  },
  {
   "cell_type": "code",
   "execution_count": 51,
   "metadata": {},
   "outputs": [
    {
     "name": "stdout",
     "output_type": "stream",
     "text": [
      "6.601970601687909\n",
      "0.005896389799475237\n"
     ]
    },
    {
     "data": {
      "text/plain": [
       "<unified_model.mechanical_model.MechanicalModel at 0x7f0b83ade550>"
      ]
     },
     "execution_count": 51,
     "metadata": {},
     "output_type": "execute_result"
    }
   ],
   "source": [
    "\n",
    "custom_damper = mechanical_components.damper.QuasiKarnoppDamper(\n",
    "    coulomb_damping_coefficient=recommendation.value[0][0],\n",
    "    motional_damping_coefficient=recommendation.value[0][1],\n",
    "    magnet_assembly=magnet_assembly,\n",
    "    tube_inner_radius_mm=5.5 \n",
    ")\n",
    "\n",
    "print(custom_damper.cdc)\n",
    "print(custom_damper.mdc)\n",
    "\n",
    "unified_model.mechanical_model.set_damper(custom_damper)"
   ]
  },
  {
   "cell_type": "code",
   "execution_count": 65,
   "metadata": {},
   "outputs": [
    {
     "name": "stdout",
     "output_type": "stream",
     "text": [
      "{'dtw_distance': 9.2018461965674}\n"
     ]
    },
    {
     "data": {
      "image/png": "[encoded data removed]",
      "text/plain": [
       "<Figure size 432x288 with 1 Axes>"
      ]
     },
     "metadata": {
      "needs_background": "light"
     },
     "output_type": "display_data"
    }
   ],
   "source": [
    "which = 1\n",
    "mech_result, mech_eval, _, _ = run(input_excitations[which], groundtruth[which], unified_model)\n",
    "print(mech_result)\n",
    "mech_eval.poof()"
   ]
  },
  {
   "cell_type": "code",
   "execution_count": 13,
   "metadata": {},
   "outputs": [],
   "source": [
    "# Run simulation\n",
    "y0 = [0.0, 0.0, 0.0325, 0.0, 0.0]\n",
    "unified_model.solve(t_start=0, t_end=8, y0=y0, t_eval=np.linspace(0, 8, 1000), t_max_step=1e-3)"
   ]
  },
  {
   "cell_type": "code",
   "execution_count": 14,
   "metadata": {},
   "outputs": [
    {
     "data": {
      "text/html": [
       "<div>\n",
       "<style scoped>\n",
       "    .dataframe tbody tr th:only-of-type {\n",
       "        vertical-align: middle;\n",
       "    }\n",
       "\n",
       "    .dataframe tbody tr th {\n",
       "        vertical-align: top;\n",
       "    }\n",
       "\n",
       "    .dataframe thead th {\n",
       "        text-align: right;\n",
       "    }\n",
       "</style>\n",
       "<table border=\"1\" class=\"dataframe\">\n",
       "  <thead>\n",
       "    <tr style=\"text-align: right;\">\n",
       "      <th></th>\n",
       "      <th>time</th>\n",
       "      <th>rel_pos_mag</th>\n",
       "      <th>rel_pos_vel</th>\n",
       "      <th>v_load</th>\n",
       "    </tr>\n",
       "  </thead>\n",
       "  <tbody>\n",
       "    <tr>\n",
       "      <th>0</th>\n",
       "      <td>0.000000</td>\n",
       "      <td>0.032500</td>\n",
       "      <td>0.000000</td>\n",
       "      <td>0.0</td>\n",
       "    </tr>\n",
       "    <tr>\n",
       "      <th>1</th>\n",
       "      <td>0.008008</td>\n",
       "      <td>0.032486</td>\n",
       "      <td>-0.003359</td>\n",
       "      <td>0.0</td>\n",
       "    </tr>\n",
       "    <tr>\n",
       "      <th>2</th>\n",
       "      <td>0.016016</td>\n",
       "      <td>0.032447</td>\n",
       "      <td>-0.006288</td>\n",
       "      <td>0.0</td>\n",
       "    </tr>\n",
       "    <tr>\n",
       "      <th>3</th>\n",
       "      <td>0.024024</td>\n",
       "      <td>0.032387</td>\n",
       "      <td>-0.008640</td>\n",
       "      <td>0.0</td>\n",
       "    </tr>\n",
       "    <tr>\n",
       "      <th>4</th>\n",
       "      <td>0.032032</td>\n",
       "      <td>0.032311</td>\n",
       "      <td>-0.010312</td>\n",
       "      <td>0.0</td>\n",
       "    </tr>\n",
       "  </tbody>\n",
       "</table>\n",
       "</div>"
      ],
      "text/plain": [
       "       time  rel_pos_mag  rel_pos_vel  v_load\n",
       "0  0.000000     0.032500     0.000000     0.0\n",
       "1  0.008008     0.032486    -0.003359     0.0\n",
       "2  0.016016     0.032447    -0.006288     0.0\n",
       "3  0.024024     0.032387    -0.008640     0.0\n",
       "4  0.032032     0.032311    -0.010312     0.0"
      ]
     },
     "execution_count": 14,
     "metadata": {},
     "output_type": "execute_result"
    }
   ],
   "source": [
    "results = unified_model.get_quick_results()\n",
    "results.head()"
   ]
  },
  {
   "cell_type": "code",
   "execution_count": 15,
   "metadata": {},
   "outputs": [
    {
     "data": {
      "image/png": "[encoded data removed]",
      "text/plain": [
       "<Figure size 640x480 with 1 Axes>"
      ]
     },
     "metadata": {},
     "output_type": "display_data"
    },
    {
     "name": "stdout",
     "output_type": "stream",
     "text": [
      "<ggplot: (8743927128073)>\n"
     ]
    },
    {
     "data": {
      "image/png": "[encoded data removed]",
      "text/plain": [
       "<Figure size 640x480 with 1 Axes>"
      ]
     },
     "metadata": {},
     "output_type": "display_data"
    },
    {
     "name": "stdout",
     "output_type": "stream",
     "text": [
      "<ggplot: (8743927128313)>\n"
     ]
    }
   ],
   "source": [
    "from plotnine import *\n",
    "print(qplot('time', 'rel_pos_mag', results, geom='line'))\n",
    "print(qplot('time', 'v_load', results, geom='line'))"
   ]
  },
  {
   "cell_type": "code",
   "execution_count": 16,
   "metadata": {},
   "outputs": [
    {
     "data": {
      "text/plain": [
       "{'rms': 0.12047975983173448}"
      ]
     },
     "execution_count": 16,
     "metadata": {},
     "output_type": "execute_result"
    }
   ],
   "source": [
    "def calculate_rms(arr):\n",
    "    square = arr**2\n",
    "    sum_square = np.sum(square)\n",
    "    sqrt_sum_square = np.sqrt(sum_square / len(arr))\n",
    "    return sqrt_sum_square\n",
    "\n",
    "unified_model.calculate_metrics(prediction_expr='g(t, x5)', metric_dict={'rms': calculate_rms})"
   ]
  }
 ],
 "metadata": {
  "kernelspec": {
   "display_name": "Python 3",
   "language": "python",
   "name": "python3"
  },
  "language_info": {
   "codemirror_mode": {
    "name": "ipython",
    "version": 3
   },
   "file_extension": ".py",
   "mimetype": "text/x-python",
   "name": "python",
   "nbconvert_exporter": "python",
   "pygments_lexer": "ipython3",
   "version": "3.7.1"
  }
 },
 "nbformat": 4,
 "nbformat_minor": 4
}
