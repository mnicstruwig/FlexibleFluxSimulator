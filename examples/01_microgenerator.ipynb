{
 "cells": [
  {
   "cell_type": "markdown",
   "id": "2b04f6ae-c630-45b5-9143-3398de977134",
   "metadata": {},
   "source": [
    "# Example: microgenerator simulation\n",
    "In this tutorial we'll create and simulate a microgenerator using `FFS`."
   ]
  },
  {
   "cell_type": "markdown",
   "id": "c631a323-148a-4908-81fe-067b81826a95",
   "metadata": {},
   "source": [
    "## Background\n",
    "<img src='./_img/mcrg.png' width=600px></img>\n",
    "\n",
    "In `FFS`, we can simulate and optimize energy harvesters that have the same architecture and basic properties as shown above.\n",
    "Namely, the energy harvester must be a single-axis, cylindrical microgenerators that consist of one or more evenly-spaced coils wound around the outside of the body.\n",
    "Inside the body is a moving magnet assembly, suspended by a magnetic spring, that consists of one or more evenly-spaced magnets.\n",
    "\n",
    "We simulate these devices by composing a number of \"submodels\" together, each representing parts of the mechanical system, the electrical system or the interaction between these two systems. This means we'll need to specify a number of different components:\n",
    "\n",
    "- The magnet assembly\n",
    "- The coil(s)\n",
    "- The flux curve model\n",
    "- The mechanical friction\n",
    "- The electro-mechanical damping (coupling) force\n",
    "- The magnetic spring behaviour\n",
    "- The target load\n",
    "- The rectification voltage drop\n",
    "- The impact dynamics\n",
    "- The input excitation\n",
    "- The device height\n",
    "- The behavioural system model\n",
    "\n",
    "This may seem a bit daunting at first-glance, but fortunately `FFS` has been designed to make defining and simulating these devices as painless as possible. Let's dive in."
   ]
  },
  {
   "cell_type": "markdown",
   "id": "0a539e61-5a1e-4418-b8aa-231f5f2bc752",
   "metadata": {},
   "source": [
    "## Creating a base model\n",
    "Let's start by first creating a base microgenerator model, without any components or submodels attached to it.\n",
    "First, we'll have to import `FFS`:"
   ]
  },
  {
   "cell_type": "code",
   "execution_count": 2,
   "id": "c2f9ab63-1443-46c9-bb55-f5b8f803ed79",
   "metadata": {},
   "outputs": [],
   "source": [
    "import numpy as np\n",
    "\n",
    "import ffs  # FFS import"
   ]
  },
  {
   "cell_type": "markdown",
   "id": "f27e2be5-c4bb-4daf-a536-fcbe33e0c469",
   "metadata": {
    "tags": []
   },
   "source": [
    "We define all models using the `UnifiedModel` class from the `unified` module:"
   ]
  },
  {
   "cell_type": "code",
   "execution_count": 3,
   "id": "e7f3efb9-1f4d-416a-b90b-5ee899ddb902",
   "metadata": {},
   "outputs": [],
   "source": [
    "model = ffs.unified.UnifiedModel()"
   ]
  },
  {
   "cell_type": "markdown",
   "id": "906f770a-9fde-42d1-87c0-befb639a1556",
   "metadata": {},
   "source": [
    "Due to the iterative and exploratory nature of energy harvester design, `FFS` makes it easy to inspect its various components.\n",
    "We can `print` most components to get an overview of their properties:"
   ]
  },
  {
   "cell_type": "code",
   "execution_count": 4,
   "id": "0b40757a-8710-4c18-be23-8a883a3a318c",
   "metadata": {},
   "outputs": [
    {
     "name": "stdout",
     "output_type": "stream",
     "text": [
      "Unified Model: \n",
      "  height: None\n",
      "  governing_equations: None\n",
      "  time: None\n",
      "  raw_solution: None\n",
      "  post_processing_pipeline: {}\n",
      "  magnetic_spring: None\n",
      "  magnet_assembly: None\n",
      "  mechanical_spring: None\n",
      "  mechanical_damper: None\n",
      "  input_excitation: None\n",
      "  flux_model: None\n",
      "  coil_configuration: None\n",
      "  rectification_drop: None\n",
      "  load_model: None\n",
      "  coupling_model: None\n",
      "  extra_components: {}\n"
     ]
    }
   ],
   "source": [
    "print(model)  # Print our base model"
   ]
  },
  {
   "cell_type": "markdown",
   "id": "aaae3696-cf5d-4f59-a8a7-c906bdc1c085",
   "metadata": {},
   "source": [
    "## Creating components"
   ]
  },
  {
   "cell_type": "markdown",
   "id": "21c3b4d7-590e-41f6-9d86-b8306a42b8bd",
   "metadata": {},
   "source": [
    "Currently, we can see that our `model` is completely empty -- no components are currently attached to it.\n",
    "\n",
    "Let's define some components that we can attach.\n",
    "\n",
    "### Device height\n",
    "Let's start by declaring the height that we want our microgenerator to have:"
   ]
  },
  {
   "cell_type": "code",
   "execution_count": 5,
   "id": "eca999a0-a066-405b-a8d1-5db7b54171be",
   "metadata": {},
   "outputs": [],
   "source": [
    "device_height = 120 / 1000   # must be in metres!"
   ]
  },
  {
   "cell_type": "markdown",
   "id": "1b4e25c3-e404-4daf-9468-637a1536f069",
   "metadata": {},
   "source": [
    "### Magnet assembly\n",
    "Let's create a magnet assembly, which lives in the `mechanical_componets` module of `FFS`:"
   ]
  },
  {
   "cell_type": "code",
   "execution_count": 6,
   "id": "8e447dee-87c0-401a-bf4b-7d3b1d5f7cbe",
   "metadata": {},
   "outputs": [],
   "source": [
    "magnet_assembly = ffs.mechanical_components.magnet_assembly.MagnetAssembly(\n",
    "    m=1,  # Number of magnets\n",
    "    l_m_mm=10,  # Magnet length\n",
    "    l_mcd_mm=0,  # Spacing between magnets (not relevant to this example)\n",
    "    dia_magnet_mm=10,  # Magnet diameter\n",
    "    dia_spacer_mm=0  # Spacer diamer (also not relevant here)\n",
    ")"
   ]
  },
  {
   "cell_type": "markdown",
   "id": "2cb1b507-c213-452d-bd3e-8c9168783eda",
   "metadata": {},
   "source": [
    "To look-up the meaning of each parameter, we can use the `?` operator to lookup any component's documentation (`FFS` is fully documented): "
   ]
  },
  {
   "cell_type": "code",
   "execution_count": 7,
   "id": "49f0ae4d-963b-4f7b-aca6-741d5aba3a38",
   "metadata": {},
   "outputs": [
    {
     "data": {
      "text/plain": [
       "\u001b[0;31mInit signature:\u001b[0m\n",
       "\u001b[0mffs\u001b[0m\u001b[0;34m.\u001b[0m\u001b[0mmechanical_components\u001b[0m\u001b[0;34m.\u001b[0m\u001b[0mmagnet_assembly\u001b[0m\u001b[0;34m.\u001b[0m\u001b[0mMagnetAssembly\u001b[0m\u001b[0;34m(\u001b[0m\u001b[0;34m\u001b[0m\n",
       "\u001b[0;34m\u001b[0m    \u001b[0mm\u001b[0m\u001b[0;34m:\u001b[0m \u001b[0mint\u001b[0m\u001b[0;34m,\u001b[0m\u001b[0;34m\u001b[0m\n",
       "\u001b[0;34m\u001b[0m    \u001b[0ml_m_mm\u001b[0m\u001b[0;34m:\u001b[0m \u001b[0mfloat\u001b[0m\u001b[0;34m,\u001b[0m\u001b[0;34m\u001b[0m\n",
       "\u001b[0;34m\u001b[0m    \u001b[0ml_mcd_mm\u001b[0m\u001b[0;34m:\u001b[0m \u001b[0mfloat\u001b[0m\u001b[0;34m,\u001b[0m\u001b[0;34m\u001b[0m\n",
       "\u001b[0;34m\u001b[0m    \u001b[0mdia_magnet_mm\u001b[0m\u001b[0;34m:\u001b[0m \u001b[0mfloat\u001b[0m\u001b[0;34m,\u001b[0m\u001b[0;34m\u001b[0m\n",
       "\u001b[0;34m\u001b[0m    \u001b[0mdia_spacer_mm\u001b[0m\u001b[0;34m:\u001b[0m \u001b[0mfloat\u001b[0m\u001b[0;34m,\u001b[0m\u001b[0;34m\u001b[0m\n",
       "\u001b[0;34m\u001b[0m    \u001b[0mmat_magnet\u001b[0m\u001b[0;34m=\u001b[0m\u001b[0;34m'NdFeB'\u001b[0m\u001b[0;34m,\u001b[0m\u001b[0;34m\u001b[0m\n",
       "\u001b[0;34m\u001b[0m    \u001b[0mmat_spacer\u001b[0m\u001b[0;34m=\u001b[0m\u001b[0;34m'iron'\u001b[0m\u001b[0;34m,\u001b[0m\u001b[0;34m\u001b[0m\n",
       "\u001b[0;34m\u001b[0m\u001b[0;34m)\u001b[0m\u001b[0;34m\u001b[0m\u001b[0;34m\u001b[0m\u001b[0m\n",
       "\u001b[0;31mDocstring:\u001b[0m     \n",
       "Represent a magnet assembly.\n",
       "\n",
       "Parameters\n",
       "----------\n",
       "m : int\n",
       "    Number of magnets.\n",
       "l_m_mm : float\n",
       "    Height of the magnets in mm.\n",
       "l_mcd_mm : float\n",
       "    Distance between the centers of each magnet, in mm.\n",
       "dia_magnet_mm: float\n",
       "    Diameter of magnets in mm.\n",
       "dia_spacer_mm : float\n",
       "    Diameter of spacer in mm\n",
       "mat_magnet : str\n",
       "    Magnet material key. Optional.\n",
       "mat_spacer: str\n",
       "    Spacer material key. Optional.\n",
       "\u001b[0;31mInit docstring:\u001b[0m Constructor\n",
       "\u001b[0;31mFile:\u001b[0m           ~/Nextcloud/nextcloud/PhD/Python/unified_model/ffs/mechanical_components/magnet_assembly.py\n",
       "\u001b[0;31mType:\u001b[0m           type\n",
       "\u001b[0;31mSubclasses:\u001b[0m     \n"
      ]
     },
     "metadata": {},
     "output_type": "display_data"
    }
   ],
   "source": [
    "ffs.mechanical_components.magnet_assembly.MagnetAssembly?"
   ]
  },
  {
   "cell_type": "markdown",
   "id": "6bd48640-0d3a-45d9-b7cd-3895d9663f29",
   "metadata": {},
   "source": [
    "We can also inspect most `FFS` objects using `print`, like we saw earlier:"
   ]
  },
  {
   "cell_type": "code",
   "execution_count": 8,
   "id": "a5fc5056-c4fd-4207-b935-86021f43d2ab",
   "metadata": {},
   "outputs": [
    {
     "name": "stdout",
     "output_type": "stream",
     "text": [
      "MagnetAssembly(n_magnet=1, l_m_mm=10, l_mcd_mm=0, dia_magnet_mm=10, dia_spacer_mm=0)\n"
     ]
    }
   ],
   "source": [
    "print(magnet_assembly)"
   ]
  },
  {
   "cell_type": "markdown",
   "id": "0e3c7839-7554-4635-887d-3b521e2c60a4",
   "metadata": {},
   "source": [
    "### Mechanical damper\n",
    "Let's create our mechanical damper, which allows us to model mechanical losses due to friction:"
   ]
  },
  {
   "cell_type": "code",
   "execution_count": 9,
   "id": "d058012d-b170-4ffc-9356-1376ee7a5cb4",
   "metadata": {},
   "outputs": [],
   "source": [
    "mechanical_damper = ffs.mechanical_components.damper.MassProportionalDamper(\n",
    "    damping_coefficient=4.272,\n",
    "    magnet_assembly=magnet_assembly  # This depends on our `magnet_assembly`!\n",
    ")"
   ]
  },
  {
   "cell_type": "markdown",
   "id": "b0017769-89fb-435d-bf7e-62ea4b5ba6a5",
   "metadata": {},
   "source": [
    "Note that in order to define our mechanical damper, we needed to pass in our `magnet_assembly` we created earlier! Now, you might be wondering,\n",
    "\n",
    "\"if I change my magnet assembly configuration later, will I also have to respecify my mechanical damper?\" \n",
    "\n",
    "The answer is no! To make iteration and experimentaiton easier, **`FFS` automatically keeps track of dependencies, and updates components whenever their dependencies are changed.**\n",
    "We'll demonstrate this in a later tutorial, but for now, you can trust that `FFS` will make sure components are updated as their dependencies change.\n",
    "\n",
    "### Coil configuration\n",
    "Let's define a coil configuration, which specifies all the properties of our coils:"
   ]
  },
  {
   "cell_type": "code",
   "execution_count": 10,
   "id": "a0c81d5e-4eae-442b-99b6-a3f8e127a4cc",
   "metadata": {},
   "outputs": [],
   "source": [
    "coil_configuration = ffs.electrical_components.coil.CoilConfiguration(\n",
    "    c=1,  # Number of coils\n",
    "    n_z=15,  # Vertical windings\n",
    "    n_w=17,  # Horizontal windings\n",
    "    l_ccd_mm=0,  # Coil spacing\n",
    "    ohm_per_mm=1079 / 1000 / 1000,  # Ohm per mm of wire\n",
    "    coil_wire_radius_mm=0.143 / 2,  # Wire radius\n",
    "    coil_center_mm=72-13,  # Coil center location\n",
    "    inner_tube_radius_mm=5.5,  # Inner tube radius of microgenerator body\n",
    "    tube_wall_thickness_mm=2  # Wall thickness of the microgenerator body\n",
    ")"
   ]
  },
  {
   "cell_type": "markdown",
   "id": "8bff9d69-298c-4ef5-a80f-5cf12e1058fa",
   "metadata": {},
   "source": [
    "### Magnetic spring\n",
    "Let's define our magnetic spring, that models the magnetic-levitation spring dynamics of the magnet assembly:"
   ]
  },
  {
   "cell_type": "code",
   "execution_count": 11,
   "id": "39aadd08-da0d-461a-91d3-35b9410242bb",
   "metadata": {},
   "outputs": [],
   "source": [
    "magnetic_spring = ffs \\\n",
    ".mechanical_components.magnetic_spring.MagneticSpringInterp(\n",
    "    fea_data_file='../data/magnetic-spring/10x10alt.csv',\n",
    "    magnet_assembly=magnet_assembly\n",
    ")"
   ]
  },
  {
   "cell_type": "markdown",
   "id": "65b381ca-ecaf-4f48-b9eb-14f3445ecbcb",
   "metadata": {},
   "source": [
    "In this case, we use simulated FEA data to model our spring.\n",
    "The FEA data file specifies the force experienced between two pole-matched 10mm x 10mm cylindrical magnets (which are the same as the magnets defined in our magnet assembly)."
   ]
  },
  {
   "cell_type": "markdown",
   "id": "88d5ae13-3011-48cf-9613-8ce14ef55256",
   "metadata": {},
   "source": [
    "### Flux model\n",
    "Next, let's define our flux model. Our flux model allows us to predict a the magnetic flux captured by the coil(s) given the coil properties, magnet assembly and their relative position.\n",
    "In our case, we'll be using a pre-trained flux curve model. In this particular case, our pre-trained model is specific to our 10mm x 10mm cylindrical magnets and choice of copper wire:"
   ]
  },
  {
   "cell_type": "code",
   "execution_count": 15,
   "id": "7701a5e5-f6a1-4c3e-94b5-092ec4bad31e",
   "metadata": {},
   "outputs": [],
   "source": [
    "flux_model = ffs.electrical_components.flux.FluxModelPretrained(\n",
    "    coil_configuration=coil_configuration,\n",
    "    magnet_assembly=magnet_assembly,\n",
    "    curve_model_path='../data/flux_curve_model/flux_curve_model_2022_08_09.model'\n",
    ")"
   ]
  },
  {
   "cell_type": "markdown",
   "id": "f94233a0-5dea-457e-ad68-cb59add0bddd",
   "metadata": {},
   "source": [
    "### Coupling\n",
    "Here we define out coupling model, that models the interaction between the electrical and mechanical systems:"
   ]
  },
  {
   "cell_type": "code",
   "execution_count": 16,
   "id": "82a89874-24ce-47f5-abdc-ead5364170cc",
   "metadata": {},
   "outputs": [],
   "source": [
    "coupling = ffs.coupling.CouplingModel(coupling_constant=5.096)"
   ]
  },
  {
   "cell_type": "markdown",
   "id": "283658f5-c489-4bd4-87ec-87cf88abad50",
   "metadata": {},
   "source": [
    "### Impact dynamics\n",
    "Let's also define the impact dynamics that occur when the magnet assembly impacts the top of the microgenerator device.\n",
    "In this case, we model it as a lossy mechanical spring  / collision:"
   ]
  },
  {
   "cell_type": "code",
   "execution_count": 17,
   "id": "acc15361-1824-4f9c-8520-3c8171d6ea2a",
   "metadata": {},
   "outputs": [],
   "source": [
    "mechanical_spring = ffs.mechanical_components.mechanical_spring.MechanicalSpring(\n",
    "    magnet_assembly=magnet_assembly,\n",
    "    damping_coefficient=3.108\n",
    ")"
   ]
  },
  {
   "cell_type": "markdown",
   "id": "6f832804-dff3-4c7f-9d9b-9574c988a990",
   "metadata": {},
   "source": [
    "### Target load\n",
    "Let's define our target load as a 30 Ohm resistor:"
   ]
  },
  {
   "cell_type": "code",
   "execution_count": 18,
   "id": "44d96616-141f-4304-b0ab-08d43402604d",
   "metadata": {},
   "outputs": [],
   "source": [
    "load_model = ffs.electrical_components.load.SimpleLoad(R=30)"
   ]
  },
  {
   "cell_type": "markdown",
   "id": "977c25b7-980b-45b4-8371-908f5de3acdd",
   "metadata": {},
   "source": [
    "### Rectification drop\n",
    "`FFS` allows us to model the rectification drop from a full-wave bridge rectifier. In this case, like with the device height, we only need to specify a float value:"
   ]
  },
  {
   "cell_type": "code",
   "execution_count": 19,
   "id": "3f1222f5-9a4c-478a-b4f5-20f4802af073",
   "metadata": {},
   "outputs": [],
   "source": [
    "v_rect_drop = 0.05  # 50 millivolts"
   ]
  },
  {
   "cell_type": "markdown",
   "id": "1b84ac1e-5854-4772-9fcc-80d232f44770",
   "metadata": {},
   "source": [
    "### Input excitation\n",
    "We also need to add an input excitation, which will drive the microgenerator. We'll use some footstep-like accelerometer measurements:"
   ]
  },
  {
   "cell_type": "code",
   "execution_count": 20,
   "id": "f2db2c09-8494-4b3a-977a-5f1b56c67027",
   "metadata": {},
   "outputs": [],
   "source": [
    "input_excitation = ffs.mechanical_components.input_excitation.accelerometer.AccelerometerInput(\n",
    "    raw_accelerometer_data_path='../data/2019-05-23/A/log_01_acc.csv',\n",
    "    accel_column='z_G',\n",
    "    time_column='time(ms)',\n",
    "    accel_unit='g',\n",
    "    time_unit='ms'\n",
    ")"
   ]
  },
  {
   "cell_type": "markdown",
   "id": "cf6f9bcb-4f50-496f-b73d-bef4713995b5",
   "metadata": {},
   "source": [
    "## Defining the system behaviour model\n",
    "The last thing we need to specify is the the system behavioural model, or what's known as the `governing_equations` function.\n",
    "The function defines all behaviour and interaction of the various components within the microgenerator. \n",
    "\n",
    "If you wanted to simulate your own electromechanical energy harvester model, you'd need to define your own `governing_equations` function.\n",
    "\n",
    "Fortunately, `FFS` ships with a `unified_ode` governing equations function (which all of this research is built upon), which is what we'll also here:"
   ]
  },
  {
   "cell_type": "code",
   "execution_count": 21,
   "id": "58705657-9500-44fd-84f0-1fd7ef617364",
   "metadata": {},
   "outputs": [],
   "source": [
    "governing_equations = ffs.governing_equations.unified_ode"
   ]
  },
  {
   "cell_type": "markdown",
   "id": "90718482-8f19-4f66-94ad-0667d0c2a0ba",
   "metadata": {},
   "source": [
    "## Assembling the model\n",
    "Finally, let's add all our components, input excitation and governing equations to our model:"
   ]
  },
  {
   "cell_type": "code",
   "execution_count": 22,
   "id": "3d4941bb-aca2-4cc5-aba0-4d831fedd515",
   "metadata": {},
   "outputs": [],
   "source": [
    "model = model \\\n",
    "    .with_height(device_height) \\\n",
    "    .with_magnet_assembly(magnet_assembly) \\\n",
    "    .with_coil_configuration(coil_configuration) \\\n",
    "    .with_magnetic_spring(magnetic_spring) \\\n",
    "    .with_mechanical_damper(mechanical_damper) \\\n",
    "    .with_mechanical_spring(mechanical_spring) \\\n",
    "    .with_coupling_model(coupling) \\\n",
    "    .with_flux_model(flux_model) \\\n",
    "    .with_rectification_drop(v_rect_drop) \\\n",
    "    .with_load_model(load_model) \\\n",
    "    .with_input_excitation(input_excitation) \\\n",
    "    .with_governing_equations(governing_equations)"
   ]
  },
  {
   "cell_type": "markdown",
   "id": "784ff578-fdf8-4e92-95a0-a7d43d4d3c79",
   "metadata": {},
   "source": [
    "In addition to being able `print` our various models and components, the `UnifiedModel` class also provides a `.summarize` method, which summarizes the microgenerator configuration for us:"
   ]
  },
  {
   "cell_type": "code",
   "execution_count": 23,
   "id": "18d7876f-4b22-4ec5-a212-f85e7247f72f",
   "metadata": {},
   "outputs": [
    {
     "name": "stdout",
     "output_type": "stream",
     "text": [
      "Unified Model: \n",
      "  height: 0.12\n",
      "  governing_equations: <function unified_ode at 0x284f685e0>\n",
      "  time: None\n",
      "  raw_solution: None\n",
      "  post_processing_pipeline: {}\n",
      "  magnetic_spring: MagneticSpringInterp(../data/magnetic-spring/10x10alt.csv, auto)\n",
      "  magnet_assembly: MagnetAssembly(n_magnet=1, l_m_mm=10, l_mcd_mm=0, dia_magnet_mm=10, dia_spacer_mm=0)\n",
      "  mechanical_spring: MechanicalSpring(position=0.12, magnet_length=0.01, magnet_assembly_length=0.01, strength=10000000.0, damping_coefficient=3.108)\n",
      "  mechanical_damper: MassProportionalDamper(damping_coefficient=4.272, magnet_assembly_mass=0.005890486225480863)\n",
      "  input_excitation: AccelerometerInput('../data/2019-05-23/A/log_01_acc.csv')\n",
      "  flux_model: FluxModelPretrained(curve_model_path=../data/flux_curve_model/flux_curve_model_2022_08_09.model, curve_model=CurveModel(regressor=LinearRegression(), x_arr.shape=(93,), kernel_space.shape=(93, 53), feature_engineering_pipeline=PolynomialFeatures(degree=5)), flux_model_interp=FluxModelInterp(c=1, c_c=0.059, l_ccd=0.0, m=1, l_mcd=0.0, flux_model=<ffs.utils.utils.FastInterpolator object at 0x2859c0f10>, dflux_model=<ffs.utils.utils.FastInterpolator object at 0x2859c0fa0>), flux_model=<ffs.utils.utils.FastInterpolator object at 0x2859c0f10>, dflux_model=<ffs.utils.utils.FastInterpolator object at 0x2859c0fa0>)\n",
      "  coil_configuration: CoilModel(c=1, n_z=15, n_w=17, l_ccd_mm=0, ohm_per_mm=0.0010789999999999999, tube_wall_thickness_mm=2, coil_wire_radius_mm=0.0715, coil_center_mm=59, inner_tube_radius_mm=5.5, custom_coil_resistance=None)\n",
      "  rectification_drop: 0.05\n",
      "  load_model: SimpleLoad: 30 Ohms\n",
      "  coupling_model: CouplingModel(coupling_constant=5.096)\n",
      "  extra_components: {}\n"
     ]
    }
   ],
   "source": [
    "print(model)"
   ]
  },
  {
   "cell_type": "code",
   "execution_count": 24,
   "id": "f91f07d9-9a86-4b7f-80e7-fac34df0ceac",
   "metadata": {},
   "outputs": [
    {
     "name": "stdout",
     "output_type": "stream",
     "text": [
      "\n",
      "  ┌────┐         120\n",
      "  │    │         115\n",
      "  │    │         110\n",
      "  │    │         105\n",
      "  │    │         100\n",
      "  │    │         95\n",
      "  │    │         90\n",
      "  │    │         85\n",
      "  │    │         80\n",
      "┌─│────│─┐       75\n",
      "└─│████│─┘       70\n",
      "  │████│         65\n",
      "  │    │         60\n",
      "  │    │         55\n",
      "  │    │         50\n",
      "  │    │         45\n",
      "  │    │         40\n",
      "  │    │         35\n",
      "  │    │         30\n",
      "  │    │         25\n",
      "  │    │         20\n",
      "  │    │         15\n",
      "  │████│         10\n",
      "  │████│         5\n",
      "  └────┘         0\n",
      "====================\n",
      "🧲 There are 1 magnet(s) in the magnet assembly, each 10mm long with a diameter of 10mm.\n",
      "🧲 The magnets' centers are 0mm apart.\n",
      "🧲 The magnet assembly has a weight of 0.0578N.\n",
      "🧲 The magnet assembly hovers 46.015mm above the fixed magnet.\n",
      "-----------\n",
      "⚡ There are 1 coils, each with 255 windings (15 vertical X 17 horizontal).\n",
      "⚡ This gives each a coil an estimated height of ~2.14mm and width of ~2.43mm.\n",
      "⚡ The coils' centers are 0mm apart.\n",
      "⚡ The first coil's center is 59mm above the fixed magnet.\n",
      "⚡ The estimated total coil resistance is 15.314459828575176Ω.\n",
      "-----------\n",
      "📏 The device has a height of 120.0mm.\n",
      "-----------\n",
      "🎯 The device is powering a 30Ω load.\n",
      "====================\n",
      "\n"
     ]
    }
   ],
   "source": [
    "model.summarize()"
   ]
  },
  {
   "cell_type": "markdown",
   "id": "ae9f5ad4-d190-445f-9fce-68f52dc24131",
   "metadata": {},
   "source": [
    "## Running a simulation\n",
    "We can now predict the time-domain behaviour of our model using the `.solve` method:"
   ]
  },
  {
   "cell_type": "code",
   "execution_count": 25,
   "id": "ea30f222-db4b-4346-9832-93624813051d",
   "metadata": {},
   "outputs": [],
   "source": [
    "# Run the simulation!\n",
    "model.solve( \n",
    "    t_start=0,\n",
    "    t_end=8,\n",
    "    y0=[0., 0., 0.04, 0., 0.],  # initial conditions\n",
    "    t_eval=np.linspace(0, 8, 1000),\n",
    "    t_max_step=1e-3\n",
    ")"
   ]
  },
  {
   "cell_type": "markdown",
   "id": "66a15b78-6c09-41b2-9a78-7a4d9cec73d9",
   "metadata": {},
   "source": [
    "A reminder that, if we're ever unsure, we can lookup the documentation using `?`:"
   ]
  },
  {
   "cell_type": "code",
   "execution_count": 26,
   "id": "5e46485c-bf79-4c13-9586-da169ff3764e",
   "metadata": {},
   "outputs": [
    {
     "data": {
      "text/plain": [
       "\u001b[0;31mSignature:\u001b[0m\n",
       "\u001b[0mmodel\u001b[0m\u001b[0;34m.\u001b[0m\u001b[0msolve\u001b[0m\u001b[0;34m(\u001b[0m\u001b[0;34m\u001b[0m\n",
       "\u001b[0;34m\u001b[0m    \u001b[0mt_start\u001b[0m\u001b[0;34m:\u001b[0m \u001b[0;34m'float'\u001b[0m\u001b[0;34m,\u001b[0m\u001b[0;34m\u001b[0m\n",
       "\u001b[0;34m\u001b[0m    \u001b[0mt_end\u001b[0m\u001b[0;34m:\u001b[0m \u001b[0;34m'float'\u001b[0m\u001b[0;34m,\u001b[0m\u001b[0;34m\u001b[0m\n",
       "\u001b[0;34m\u001b[0m    \u001b[0my0\u001b[0m\u001b[0;34m:\u001b[0m \u001b[0;34m'List[float]'\u001b[0m\u001b[0;34m,\u001b[0m\u001b[0;34m\u001b[0m\n",
       "\u001b[0;34m\u001b[0m    \u001b[0mt_eval\u001b[0m\u001b[0;34m:\u001b[0m \u001b[0;34m'Union[List, np.ndarray]'\u001b[0m\u001b[0;34m,\u001b[0m\u001b[0;34m\u001b[0m\n",
       "\u001b[0;34m\u001b[0m    \u001b[0mt_max_step\u001b[0m\u001b[0;34m:\u001b[0m \u001b[0;34m'float'\u001b[0m \u001b[0;34m=\u001b[0m \u001b[0;36m0.0001\u001b[0m\u001b[0;34m,\u001b[0m\u001b[0;34m\u001b[0m\n",
       "\u001b[0;34m\u001b[0m    \u001b[0mmethod\u001b[0m\u001b[0;34m:\u001b[0m \u001b[0;34m'str'\u001b[0m \u001b[0;34m=\u001b[0m \u001b[0;34m'RK45'\u001b[0m\u001b[0;34m,\u001b[0m\u001b[0;34m\u001b[0m\n",
       "\u001b[0;34m\u001b[0m\u001b[0;34m)\u001b[0m \u001b[0;34m->\u001b[0m \u001b[0;34m'None'\u001b[0m\u001b[0;34m\u001b[0m\u001b[0;34m\u001b[0m\u001b[0m\n",
       "\u001b[0;31mDocstring:\u001b[0m\n",
       "Solve the unified model.\n",
       "\n",
       "Parameters\n",
       "----------\n",
       "t_start : float\n",
       "    The start time of the simulation.\n",
       "t_end : float\n",
       "    The end time of the simulation\n",
       "y0 : ndarray\n",
       "    The initial values of `y`, or the result vector that is passed\n",
       "    to the governing equations.\n",
       "t_eval : ndarray[float]\n",
       "    Times at which to store the computed solution.\n",
       "t_max_step : float, optional\n",
       "    The maximum time step (in seconds) to be used when solving the\n",
       "    unified model. Default value is 1e-4.\n",
       "method : str, optional\n",
       "    The solver to use. Default value is 'RK45'. See the documentation\n",
       "    for `scipy.integrate.solve_ivp` for possible solution methods.\n",
       "\n",
       "See Also\n",
       "--------\n",
       "scipy.integrate.solve_ivp : Function used to solve the governing\n",
       "    equations of the unified model.\n",
       "\u001b[0;31mFile:\u001b[0m      ~/Nextcloud/nextcloud/PhD/Python/unified_model/ffs/unified.py\n",
       "\u001b[0;31mType:\u001b[0m      method\n"
      ]
     },
     "metadata": {},
     "output_type": "display_data"
    }
   ],
   "source": [
    "model.solve?"
   ]
  },
  {
   "cell_type": "markdown",
   "id": "b678cde1-f479-4f92-b0ff-577379f94aa5",
   "metadata": {},
   "source": [
    "## Retrieving solutions\n",
    "\n",
    "We can retrieve our simulation results using the `.get_result` method:"
   ]
  },
  {
   "cell_type": "code",
   "execution_count": 27,
   "id": "8b0f470d-40a6-4852-b59d-dfbd34a6f245",
   "metadata": {},
   "outputs": [
    {
     "data": {
      "text/plain": [
       "\u001b[0;31mSignature:\u001b[0m \u001b[0mmodel\u001b[0m\u001b[0;34m.\u001b[0m\u001b[0mget_result\u001b[0m\u001b[0;34m(\u001b[0m\u001b[0;34m**\u001b[0m\u001b[0mkwargs\u001b[0m\u001b[0;34m)\u001b[0m \u001b[0;34m->\u001b[0m \u001b[0;34m'pd.DataFrame'\u001b[0m\u001b[0;34m\u001b[0m\u001b[0;34m\u001b[0m\u001b[0m\n",
       "\u001b[0;31mDocstring:\u001b[0m\n",
       "Get a dataframe of the results using expressions.\n",
       "\n",
       "*Any* reasonable expression is possible. You can refer to each of the\n",
       "differential equations that is represented by the governing equations\n",
       "using the letter 'x' with the number appended. For example `x1` refers\n",
       "to the first differential equation, `x2` to the second, etc.\n",
       "\n",
       "Each expression is available as a column in the returned pandas\n",
       "dataframe, with the column name being the key of the passed expression.\n",
       "\n",
       "Parameters\n",
       "----------\n",
       "**kwargs\n",
       "    Each key is the name of the column of the returned dataframe.\n",
       "    Each value is the expression to be evaluated.\n",
       "\n",
       "Returns\n",
       "-------\n",
       "pandas dataframe\n",
       "    Output dataframe containing the evaluated expressions.\n",
       "\n",
       "See Also\n",
       "--------\n",
       "ffs.utils.utils.parse_output_expression : helper function\n",
       "    that contains the parsing logic.\n",
       "\n",
       "Example\n",
       "--------\n",
       ">>> # Here we use previously-built and solved unified model\n",
       ">>> ffs\n",
       "<ffs.unified.UnifiedModel at 0x7fa9e45a83c8>\n",
       ">>> print(ffs.raw_solution)\n",
       "[[1 2 3 4 5]\n",
       " [1 1 1 1 1]]\n",
       ">>> ffs.get_result(an_expr='x1',\n",
       "                             another_expr='x2-x1',\n",
       "                             third_expr='x1*x2')\n",
       "   an_expr  another_expr  third_expr\n",
       "0        1             0           1\n",
       "1        2            -1           2\n",
       "2        3            -2           3\n",
       "3        4            -3           4\n",
       "4        5            -4           5\n",
       "\u001b[0;31mFile:\u001b[0m      ~/Nextcloud/nextcloud/PhD/Python/unified_model/ffs/unified.py\n",
       "\u001b[0;31mType:\u001b[0m      method\n"
      ]
     },
     "metadata": {},
     "output_type": "display_data"
    }
   ],
   "source": [
    "model.get_result?"
   ]
  },
  {
   "cell_type": "markdown",
   "id": "d4c8f10a-3752-49fd-b55d-c1ef8f77d29c",
   "metadata": {},
   "source": [
    "As mentioned in the documentation above, fetching results utilizes an expression syntax. This allows us to easily specify exactly which solution expressions should be returned.\n",
    "In the case of the `unified_ode` governing equations function that we selected to use, each differential equation's solution is accessible as follows:\n",
    "\n",
    "- `t` -- time\n",
    "- `x1` -- tube position\n",
    "- `x2` -- tube velocity\n",
    "- `x3` -- magnet assembly position\n",
    "- `x4` -- magnet assembly velocity\n",
    "- `x5` -- effective flux linkage\n",
    "\n",
    "We also have access to a gradient function `g`, which allows us to compute the gradient of an expression."
   ]
  },
  {
   "cell_type": "markdown",
   "id": "3ba046d6-ef7b-4c3c-a968-9464fc0d51e0",
   "metadata": {},
   "source": [
    "Let's retrieve the time, relative magnet assembly position and the load voltage using `.get_result`:"
   ]
  },
  {
   "cell_type": "code",
   "execution_count": 28,
   "id": "1fb496e2-338f-4dfd-a398-9d31edad6970",
   "metadata": {},
   "outputs": [
    {
     "data": {
      "text/html": [
       "<div>\n",
       "<style scoped>\n",
       "    .dataframe tbody tr th:only-of-type {\n",
       "        vertical-align: middle;\n",
       "    }\n",
       "\n",
       "    .dataframe tbody tr th {\n",
       "        vertical-align: top;\n",
       "    }\n",
       "\n",
       "    .dataframe thead th {\n",
       "        text-align: right;\n",
       "    }\n",
       "</style>\n",
       "<table border=\"1\" class=\"dataframe\">\n",
       "  <thead>\n",
       "    <tr style=\"text-align: right;\">\n",
       "      <th></th>\n",
       "      <th>time</th>\n",
       "      <th>y_diff</th>\n",
       "      <th>y_diff_prime</th>\n",
       "      <th>v_load</th>\n",
       "    </tr>\n",
       "  </thead>\n",
       "  <tbody>\n",
       "    <tr>\n",
       "      <th>0</th>\n",
       "      <td>0.000000</td>\n",
       "      <td>0.040000</td>\n",
       "      <td>0.000000</td>\n",
       "      <td>0.0</td>\n",
       "    </tr>\n",
       "    <tr>\n",
       "      <th>1</th>\n",
       "      <td>0.008008</td>\n",
       "      <td>0.040166</td>\n",
       "      <td>0.040909</td>\n",
       "      <td>0.0</td>\n",
       "    </tr>\n",
       "    <tr>\n",
       "      <th>2</th>\n",
       "      <td>0.016016</td>\n",
       "      <td>0.040645</td>\n",
       "      <td>0.077915</td>\n",
       "      <td>0.0</td>\n",
       "    </tr>\n",
       "    <tr>\n",
       "      <th>3</th>\n",
       "      <td>0.024024</td>\n",
       "      <td>0.041396</td>\n",
       "      <td>0.108568</td>\n",
       "      <td>0.0</td>\n",
       "    </tr>\n",
       "    <tr>\n",
       "      <th>4</th>\n",
       "      <td>0.032032</td>\n",
       "      <td>0.042361</td>\n",
       "      <td>0.131073</td>\n",
       "      <td>0.0</td>\n",
       "    </tr>\n",
       "    <tr>\n",
       "      <th>...</th>\n",
       "      <td>...</td>\n",
       "      <td>...</td>\n",
       "      <td>...</td>\n",
       "      <td>...</td>\n",
       "    </tr>\n",
       "    <tr>\n",
       "      <th>995</th>\n",
       "      <td>7.967968</td>\n",
       "      <td>0.049186</td>\n",
       "      <td>0.993367</td>\n",
       "      <td>0.0</td>\n",
       "    </tr>\n",
       "    <tr>\n",
       "      <th>996</th>\n",
       "      <td>7.975976</td>\n",
       "      <td>0.049186</td>\n",
       "      <td>0.994131</td>\n",
       "      <td>0.0</td>\n",
       "    </tr>\n",
       "    <tr>\n",
       "      <th>997</th>\n",
       "      <td>7.983984</td>\n",
       "      <td>0.049186</td>\n",
       "      <td>0.994894</td>\n",
       "      <td>0.0</td>\n",
       "    </tr>\n",
       "    <tr>\n",
       "      <th>998</th>\n",
       "      <td>7.991992</td>\n",
       "      <td>0.049187</td>\n",
       "      <td>0.995652</td>\n",
       "      <td>0.0</td>\n",
       "    </tr>\n",
       "    <tr>\n",
       "      <th>999</th>\n",
       "      <td>8.000000</td>\n",
       "      <td>0.049188</td>\n",
       "      <td>0.996406</td>\n",
       "      <td>0.0</td>\n",
       "    </tr>\n",
       "  </tbody>\n",
       "</table>\n",
       "<p>1000 rows × 4 columns</p>\n",
       "</div>"
      ],
      "text/plain": [
       "         time    y_diff  y_diff_prime  v_load\n",
       "0    0.000000  0.040000      0.000000     0.0\n",
       "1    0.008008  0.040166      0.040909     0.0\n",
       "2    0.016016  0.040645      0.077915     0.0\n",
       "3    0.024024  0.041396      0.108568     0.0\n",
       "4    0.032032  0.042361      0.131073     0.0\n",
       "..        ...       ...           ...     ...\n",
       "995  7.967968  0.049186      0.993367     0.0\n",
       "996  7.975976  0.049186      0.994131     0.0\n",
       "997  7.983984  0.049186      0.994894     0.0\n",
       "998  7.991992  0.049187      0.995652     0.0\n",
       "999  8.000000  0.049188      0.996406     0.0\n",
       "\n",
       "[1000 rows x 4 columns]"
      ]
     },
     "execution_count": 28,
     "metadata": {},
     "output_type": "execute_result"
    }
   ],
   "source": [
    "results = model.get_result(\n",
    "    time='t',  # Time\n",
    "    y_diff='x3-x1',  # Relative magnet assembly position\n",
    "    y_diff_prime='x4-x2',  # Relative magnet assembly velocity\n",
    "    v_load='g(t, x5)'  # Compute the time-derivative of the effective flux linkage\n",
    ")\n",
    "\n",
    "results"
   ]
  },
  {
   "cell_type": "code",
   "execution_count": 29,
   "id": "8b6ab67d-c870-46ff-af5e-0458d9c5b1bc",
   "metadata": {},
   "outputs": [
    {
     "name": "stdout",
     "output_type": "stream",
     "text": [
      "         time    y_diff  y_diff_prime  v_load\n",
      "0    0.000000  0.040000      0.000000     0.0\n",
      "1    0.008008  0.040166      0.040909     0.0\n",
      "2    0.016016  0.040645      0.077915     0.0\n",
      "3    0.024024  0.041396      0.108568     0.0\n",
      "4    0.032032  0.042361      0.131073     0.0\n",
      "..        ...       ...           ...     ...\n",
      "995  7.967968  0.049186      0.993367     0.0\n",
      "996  7.975976  0.049186      0.994131     0.0\n",
      "997  7.983984  0.049186      0.994894     0.0\n",
      "998  7.991992  0.049187      0.995652     0.0\n",
      "999  8.000000  0.049188      0.996406     0.0\n",
      "\n",
      "[1000 rows x 4 columns]\n"
     ]
    }
   ],
   "source": [
    "print(results)"
   ]
  },
  {
   "cell_type": "markdown",
   "id": "6c19890f-f2fb-4c62-a49d-96be23e78e33",
   "metadata": {},
   "source": [
    "Let's plot the results:"
   ]
  },
  {
   "cell_type": "code",
   "execution_count": 30,
   "id": "2a8d9ca1-afe3-4432-8d6f-fe3a9395ab14",
   "metadata": {},
   "outputs": [
    {
     "data": {
      "text/plain": [
       "<AxesSubplot:xlabel='time'>"
      ]
     },
     "execution_count": 30,
     "metadata": {},
     "output_type": "execute_result"
    },
    {
     "data": {
      "image/png": "[encoded data removed]",
      "text/plain": [
       "<Figure size 432x288 with 1 Axes>"
      ]
     },
     "metadata": {
      "needs_background": "light"
     },
     "output_type": "display_data"
    }
   ],
   "source": [
    "results.plot(x='time', y='y_diff')"
   ]
  },
  {
   "cell_type": "code",
   "execution_count": 31,
   "id": "624e25ac-3f45-43b6-a5c2-fdf6b203e35c",
   "metadata": {},
   "outputs": [
    {
     "data": {
      "text/plain": [
       "<AxesSubplot:xlabel='time'>"
      ]
     },
     "execution_count": 31,
     "metadata": {},
     "output_type": "execute_result"
    },
    {
     "data": {
      "image/png": "[encoded data removed]",
      "text/plain": [
       "<Figure size 432x288 with 1 Axes>"
      ]
     },
     "metadata": {
      "needs_background": "light"
     },
     "output_type": "display_data"
    }
   ],
   "source": [
    "results.plot(x='time', y='v_load')"
   ]
  },
  {
   "cell_type": "code",
   "execution_count": 32,
   "id": "7bd53ba6-5beb-4b8e-aca9-fe6a94bdb186",
   "metadata": {},
   "outputs": [
    {
     "data": {
      "text/plain": [
       "\u001b[0;31mInit signature:\u001b[0m \u001b[0mffs\u001b[0m\u001b[0;34m.\u001b[0m\u001b[0mevaluate\u001b[0m\u001b[0;34m.\u001b[0m\u001b[0mSample\u001b[0m\u001b[0;34m(\u001b[0m\u001b[0macc_path\u001b[0m\u001b[0;34m:\u001b[0m \u001b[0mstr\u001b[0m\u001b[0;34m,\u001b[0m \u001b[0madc_path\u001b[0m\u001b[0;34m:\u001b[0m \u001b[0mstr\u001b[0m\u001b[0;34m,\u001b[0m \u001b[0mvideo_labels_path\u001b[0m\u001b[0;34m:\u001b[0m \u001b[0mstr\u001b[0m\u001b[0;34m)\u001b[0m \u001b[0;34m->\u001b[0m \u001b[0;32mNone\u001b[0m\u001b[0;34m\u001b[0m\u001b[0;34m\u001b[0m\u001b[0m\n",
       "\u001b[0;31mDocstring:\u001b[0m      A class for holding groundtruth sample data\n",
       "\u001b[0;31mFile:\u001b[0m           ~/Nextcloud/nextcloud/PhD/Python/unified_model/ffs/utils/utils.py\n",
       "\u001b[0;31mType:\u001b[0m           type\n",
       "\u001b[0;31mSubclasses:\u001b[0m     \n"
      ]
     },
     "metadata": {},
     "output_type": "display_data"
    }
   ],
   "source": [
    "ffs.evaluate.Sample?"
   ]
  },
  {
   "cell_type": "code",
   "execution_count": 33,
   "id": "1dd8bd55-1d44-41e9-a5fe-6f612d18f843",
   "metadata": {},
   "outputs": [],
   "source": [
    "sample = ffs.evaluate.Sample(\n",
    "    acc_path='../data/2019-05-23/A/log_04_acc.csv',\n",
    "    adc_path='../data/2019-05-23/A/log_04_adc.csv',\n",
    "    video_labels_path='../data/2019-05-23/A/a004_transcoded_subsampled_labels_2019-10-31-10:24:04.csv'\n",
    ")"
   ]
  },
  {
   "cell_type": "code",
   "execution_count": 34,
   "id": "2f3790c0-8029-4a93-92c5-55d4f8c6541f",
   "metadata": {},
   "outputs": [],
   "source": [
    "solve_kwargs = dict(\n",
    "    t_start=0,\n",
    "    t_end=8,\n",
    "    y0=[0., 0., 0.04, 0., 0.],  # initial conditions\n",
    "    t_eval=np.linspace(0, 8, 1000),\n",
    "    t_max_step=1e-3\n",
    ")"
   ]
  },
  {
   "cell_type": "code",
   "execution_count": 35,
   "id": "d1f8e45c-a15a-4f8c-8cc0-4006c265263b",
   "metadata": {},
   "outputs": [],
   "source": [
    "results, _ = model.score_sample(\n",
    "    sample=sample,\n",
    "    solve_kwargs=solve_kwargs,\n",
    "    y_diff_expr='x3-x1',\n",
    "    mech_metrics_dict={'y_diff_dtw_distance_norm': ffs.metrics.dtw_euclid_norm_by_length},\n",
    "    v_load_expr='g(t, x5)',\n",
    "    elec_metrics_dict={'rms_perc_diff': ffs.metrics.root_mean_square_percentage_diff}\n",
    "                       \n",
    ")"
   ]
  },
  {
   "cell_type": "code",
   "execution_count": 36,
   "id": "fd6fe6c8-8247-4fbd-97b8-0fac67a7d4e8",
   "metadata": {},
   "outputs": [],
   "source": [
    "evaluators = _"
   ]
  },
  {
   "cell_type": "code",
   "execution_count": 37,
   "id": "565c1786-4c9c-4150-b32d-d2d307429bce",
   "metadata": {},
   "outputs": [
    {
     "data": {
      "image/png": "[encoded data removed]",
      "text/plain": [
       "<Figure size 432x288 with 1 Axes>"
      ]
     },
     "metadata": {
      "needs_background": "light"
     },
     "output_type": "display_data"
    }
   ],
   "source": [
    "mech_evaluator = evaluators['mech']\n",
    "mech_evaluator.poof()"
   ]
  },
  {
   "cell_type": "code",
   "execution_count": 38,
   "id": "37201409-f210-4d5e-b6cf-88a0b93ae972",
   "metadata": {},
   "outputs": [
    {
     "data": {
      "text/plain": [
       "{'y_diff_dtw_distance_norm': 0.004593695478977788,\n",
       " 'rms_perc_diff': 0.029389835098693005}"
      ]
     },
     "execution_count": 38,
     "metadata": {},
     "output_type": "execute_result"
    }
   ],
   "source": [
    "results"
   ]
  },
  {
   "cell_type": "code",
   "execution_count": 39,
   "id": "6704eee0-cf8a-4dcb-9a8a-d66d8bc8333c",
   "metadata": {},
   "outputs": [
    {
     "data": {
      "text/plain": [
       "{'height': 0.12,\n",
       " 'magnet_assembly': {'m': 1,\n",
       "  'l_m_mm': 10,\n",
       "  'l_mcd_mm': 0,\n",
       "  'dia_magnet_mm': 10,\n",
       "  'dia_spacer_mm': 0},\n",
       " 'magnetic_spring': {'fea_data_file': '/Users/michael/Nextcloud/nextcloud/PhD/Python/unified_model/data/magnetic-spring/10x10alt.csv',\n",
       "  'filter_callable': 'auto',\n",
       "  'magnet_assembly': 'dep:magnet_assembly'},\n",
       " 'mechanical_spring': {'magnet_assembly': 'dep:magnet_assembly',\n",
       "  'strength': 10000000.0,\n",
       "  'damping_coefficient': 3.108},\n",
       " 'mechanical_damper': {'damping_coefficient': 4.272,\n",
       "  'magnet_assembly': 'dep:magnet_assembly'},\n",
       " 'input_excitation': {'raw_accelerometer_data_path': '/Users/michael/Nextcloud/nextcloud/PhD/Python/unified_model/data/2019-05-23/A/log_04_acc.csv',\n",
       "  'accel_column': 'z_G',\n",
       "  'time_column': 'time(ms)',\n",
       "  'accel_unit': 'g',\n",
       "  'time_unit': 'ms',\n",
       "  'smooth': True,\n",
       "  'interpolate': True},\n",
       " 'coil_configuration': {'c': 1,\n",
       "  'n_z': 15,\n",
       "  'n_w': 17,\n",
       "  'l_ccd_mm': 0,\n",
       "  'ohm_per_mm': 0.0010789999999999999,\n",
       "  'tube_wall_thickness_mm': 2,\n",
       "  'coil_wire_radius_mm': 0.0715,\n",
       "  'coil_center_mm': 59,\n",
       "  'inner_tube_radius_mm': 5.5,\n",
       "  'custom_coil_resistance': None},\n",
       " 'flux_model': {'coil_configuration': 'dep:coil_configuration',\n",
       "  'magnet_assembly': 'dep:magnet_assembly',\n",
       "  'curve_model_path': '../data/flux_curve_model/flux_curve_model_2022_08_09.model'},\n",
       " 'rectification_drop': 0.05,\n",
       " 'load_model': {'R': 30},\n",
       " 'coupling_model': {'coupling_constant': 5.096},\n",
       " 'extra_components': None,\n",
       " 'governing_equations': {'module_path': 'ffs.governing_equations',\n",
       "  'func_name': 'unified_ode'}}"
      ]
     },
     "execution_count": 39,
     "metadata": {},
     "output_type": "execute_result"
    }
   ],
   "source": [
    "model.get_config()"
   ]
  }
 ],
 "metadata": {
  "kernelspec": {
   "display_name": "Python 3 (ipykernel)",
   "language": "python",
   "name": "python3"
  },
  "language_info": {
   "codemirror_mode": {
    "name": "ipython",
    "version": 3
   },
   "file_extension": ".py",
   "mimetype": "text/x-python",
   "name": "python",
   "nbconvert_exporter": "python",
   "pygments_lexer": "ipython3",
   "version": "3.9.13"
  }
 },
 "nbformat": 4,
 "nbformat_minor": 5
}
