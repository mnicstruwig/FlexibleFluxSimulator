{
 "cells": [
  {
   "cell_type": "markdown",
   "id": "2b04f6ae-c630-45b5-9143-3398de977134",
   "metadata": {},
   "source": [
    "# Simulating a microgenerator device\n",
    "\n",
    "First, we'll need the necessary imports:"
   ]
  },
  {
   "cell_type": "markdown",
   "id": "c631a323-148a-4908-81fe-067b81826a95",
   "metadata": {},
   "source": [
    "## Background\n",
    "<img src='./_img/mcrg.png' width=600px></img>\n",
    "\n",
    "In `FFS`, we can simulate and optimize energy harvesters that have the same architecture and basic properties as shown above.\n",
    "Namely, the energy harvester must be a single-axis, cylindrical microgenerators that consist of one or more evenly-spaced coils wound around the outside of the body.\n",
    "Inside the body is a moving magnet assembly, suspended by a magnetic spring, that consists of one or more evenly-spaced magnets.\n",
    "\n",
    "We simulate these devices by composing a number of \"submodels\" together, each representing parts of the mechanical system, the electrical system or the interaction between these two systems. This means we'll need to specify a number of different components:\n",
    "\n",
    "- The magnet assembly\n",
    "- The coil(s)\n",
    "- The flux curve model\n",
    "- The mechanical friction\n",
    "- The electro-mechanical damping (coupling) force\n",
    "- The magnetic spring behaviour\n",
    "- The target load\n",
    "- The impact dynamics\n",
    "- The input excitation\n",
    "- The device height\n",
    "- The behavioural system model\n",
    "\n",
    "This may seem a bit daunting at first-glance, but fortunately `FFS` has been designed to make defining and simulating these devices as painless as possible. Let's dive in."
   ]
  },
  {
   "cell_type": "markdown",
   "id": "0a539e61-5a1e-4418-b8aa-231f5f2bc752",
   "metadata": {},
   "source": [
    "## Defining a base microgenerator model\n",
    "Let's start by first creating a base microgenerator model, without any components or submodels attached to it.\n",
    "First, we'll have to import `FFS`:"
   ]
  },
  {
   "cell_type": "code",
   "execution_count": 16,
   "id": "c2f9ab63-1443-46c9-bb55-f5b8f803ed79",
   "metadata": {},
   "outputs": [],
   "source": [
    "import ffs"
   ]
  },
  {
   "cell_type": "markdown",
   "id": "f27e2be5-c4bb-4daf-a536-fcbe33e0c469",
   "metadata": {},
   "source": [
    "We define all models using the `UnifiedModel` class from the `unified` module:"
   ]
  },
  {
   "cell_type": "code",
   "execution_count": 17,
   "id": "e7f3efb9-1f4d-416a-b90b-5ee899ddb902",
   "metadata": {},
   "outputs": [],
   "source": [
    "model = ffs.unified.UnifiedModel()"
   ]
  },
  {
   "cell_type": "markdown",
   "id": "906f770a-9fde-42d1-87c0-befb639a1556",
   "metadata": {},
   "source": [
    "Due to the iterative and exploratory nature of energy harvester design, `FFS` makes it easy to inspect its various components.\n",
    "We can `print` most components to get an overview of their properties:"
   ]
  },
  {
   "cell_type": "code",
   "execution_count": 19,
   "id": "0b40757a-8710-4c18-be23-8a883a3a318c",
   "metadata": {},
   "outputs": [
    {
     "name": "stdout",
     "output_type": "stream",
     "text": [
      "Unified Model: \n",
      "  height: None\n",
      "  governing_equations: None\n",
      "  time: None\n",
      "  raw_solution: None\n",
      "  post_processing_pipeline: {}\n",
      "  magnetic_spring: None\n",
      "  magnet_assembly: None\n",
      "  mechanical_spring: None\n",
      "  mechanical_damper: None\n",
      "  input_excitation: None\n",
      "  flux_model: None\n",
      "  coil_configuration: None\n",
      "  rectification_drop: None\n",
      "  load_model: None\n",
      "  coupling_model: None\n",
      "  extra_components: {}\n",
      "  _observers: {}\n"
     ]
    }
   ],
   "source": [
    "print(model)  # Print our base model"
   ]
  },
  {
   "cell_type": "markdown",
   "id": "aaae3696-cf5d-4f59-a8a7-c906bdc1c085",
   "metadata": {},
   "source": [
    "## Adding properties and components"
   ]
  },
  {
   "cell_type": "markdown",
   "id": "21c3b4d7-590e-41f6-9d86-b8306a42b8bd",
   "metadata": {},
   "source": [
    "Right now, we can see that our `model` is completely empty -- no components are currently attached to it.\n",
    "We can attach submodels and propererties to our model using the `.with_*` methods. Let's go ahead and set the height of our microgenerator:"
   ]
  },
  {
   "cell_type": "markdown",
   "id": "35a050de-64a5-4dca-9c9a-c98c0221849b",
   "metadata": {},
   "source": []
  },
  {
   "cell_type": "code",
   "execution_count": 7,
   "id": "eca999a0-a066-405b-a8d1-5db7b54171be",
   "metadata": {},
   "outputs": [
    {
     "data": {
      "text/plain": [
       "<ffs.unified.UnifiedModel at 0x7fcef6485280>"
      ]
     },
     "execution_count": 7,
     "metadata": {},
     "output_type": "execute_result"
    }
   ],
   "source": [
    "model.with_height(105 / 1000)  # Must be in metres!"
   ]
  },
  {
   "cell_type": "markdown",
   "id": "357a189b-3971-468f-9cd9-296f401e9da4",
   "metadata": {},
   "source": [
    "If we print our model again, we'll see that we've now attached the `height` property:"
   ]
  },
  {
   "cell_type": "code",
   "execution_count": 8,
   "id": "3d66eed2-bf3e-40dc-8a66-ffaf3b6f617f",
   "metadata": {},
   "outputs": [
    {
     "name": "stdout",
     "output_type": "stream",
     "text": [
      "Unified Model: \n",
      "  height: 0.105\n",
      "  governing_equations: None\n",
      "  time: None\n",
      "  raw_solution: None\n",
      "  post_processing_pipeline: {}\n",
      "  magnetic_spring: None\n",
      "  magnet_assembly: None\n",
      "  mechanical_spring: None\n",
      "  mechanical_damper: None\n",
      "  input_excitation: None\n",
      "  flux_model: None\n",
      "  coil_configuration: None\n",
      "  rectification_drop: None\n",
      "  load_model: None\n",
      "  coupling_model: None\n",
      "  extra_components: {}\n",
      "  _observers: {}\n"
     ]
    }
   ],
   "source": [
    "print(model)"
   ]
  },
  {
   "cell_type": "markdown",
   "id": "1b4e25c3-e404-4daf-9468-637a1536f069",
   "metadata": {},
   "source": [
    "Now, let's create a magnet assembly that we can attach to our `model`:"
   ]
  },
  {
   "cell_type": "code",
   "execution_count": 11,
   "id": "8e447dee-87c0-401a-bf4b-7d3b1d5f7cbe",
   "metadata": {},
   "outputs": [
    {
     "name": "stdout",
     "output_type": "stream",
     "text": [
      "MagnetAssembly(n_magnet=1, l_m_mm=10, l_mcd_mm=0, dia_magnet_mm=10, dia_spacer_mm=0)\n"
     ]
    }
   ],
   "source": [
    "magnet_assembly = mechanical_components.magnet_assembly.MagnetAssembly(\n",
    "    m=1,  # Number of magnets\n",
    "    l_m_mm=10,  # Magnet length\n",
    "    l_mcd_mm=0,  # Spacing between magnets (not relevant to this example)\n",
    "    dia_magnet_mm=10,  # Magnet diameter\n",
    "    dia_spacer_mm=0  # Spacer diamer (also not relevant here)\n",
    ")"
   ]
  },
  {
   "cell_type": "markdown",
   "id": "6bd48640-0d3a-45d9-b7cd-3895d9663f29",
   "metadata": {},
   "source": [
    "The magnet assembly is considered a mechanical component.\n",
    "As a result, it is made available in the `ffs.mechanical_components` module.\n",
    "Like with most things in `ffs`, we can also print the `magnet_assembly` to see all of its properties:"
   ]
  },
  {
   "cell_type": "code",
   "execution_count": 13,
   "id": "a5fc5056-c4fd-4207-b935-86021f43d2ab",
   "metadata": {},
   "outputs": [
    {
     "name": "stdout",
     "output_type": "stream",
     "text": [
      "MagnetAssembly(n_magnet=1, l_m_mm=10, l_mcd_mm=0, dia_magnet_mm=10, dia_spacer_mm=0)\n"
     ]
    }
   ],
   "source": [
    "print(magnet_assembly)"
   ]
  },
  {
   "cell_type": "markdown",
   "id": "3bf202dc-079f-4dc9-8ad4-f7a055415371",
   "metadata": {},
   "source": [
    "All that's left to do is attach it to our `model`:"
   ]
  },
  {
   "cell_type": "code",
   "execution_count": 14,
   "id": "b6406dd4-1add-4997-bc5a-53a17d659851",
   "metadata": {},
   "outputs": [
    {
     "name": "stdout",
     "output_type": "stream",
     "text": [
      "Unified Model: \n",
      "  height: 0.105\n",
      "  governing_equations: None\n",
      "  time: None\n",
      "  raw_solution: None\n",
      "  post_processing_pipeline: {}\n",
      "  magnetic_spring: None\n",
      "  magnet_assembly: MagnetAssembly(n_magnet=1, l_m_mm=10, l_mcd_mm=0, dia_magnet_mm=10, dia_spacer_mm=0)\n",
      "  mechanical_spring: None\n",
      "  mechanical_damper: None\n",
      "  input_excitation: None\n",
      "  flux_model: None\n",
      "  coil_configuration: None\n",
      "  rectification_drop: None\n",
      "  load_model: None\n",
      "  coupling_model: None\n",
      "  extra_components: {}\n",
      "  _observers: {}\n"
     ]
    }
   ],
   "source": [
    "model.with_magnet_assembly(magnet_assembly)\n",
    "print(model)"
   ]
  },
  {
   "cell_type": "code",
   "execution_count": 14,
   "id": "a0c81d5e-4eae-442b-99b6-a3f8e127a4cc",
   "metadata": {},
   "outputs": [],
   "source": [
    "coil_configuration = ec.coil.CoilConfiguration(\n",
    "    c=1,\n",
    "    n_z=10,\n",
    "    n_w=20,\n",
    "    l_ccd_mm=15,\n",
    "    ohm_per_mm=1079 / 1000 / 1000,\n",
    "    coil_wire_radius_mm=0.143 / 2,\n",
    "    coil_center_mm=50,\n",
    "    inner_tube_radius_mm=5.5,\n",
    "    tube_wall_thickness_mm=2\n",
    ")\n",
    "\n",
    "mechanical_damper = mc.damper.MassProportionalDamper(\n",
    "    damping_coefficient=4.272,\n",
    "    magnet_assembly=magnet_assembly\n",
    ")\n",
    "\n",
    "mechanical_spring = mc.mechanical_spring.MechanicalSpring(\n",
    "    magnet_assembly=magnet_assembly,\n",
    "    damping_coefficient=3.108\n",
    ")\n",
    "\n",
    "magnetic_spring = mc.magnetic_spring.MagneticSpringInterp(\n",
    "    fea_data_file='../data/magnetic-spring/10x10alt.csv',\n",
    "    magnet_assembly=magnet_assembly\n",
    ")\n",
    "\n",
    "coupling = CouplingModel(\n",
    "    coupling_constant=5.096\n",
    ")\n",
    "\n",
    "flux_model = ec.flux.model.FluxModelPretrained(\n",
    "    coil_configuration=coil_configuration,\n",
    "    magnet_assembly=magnet_assembly,\n",
    "    curve_model_path='../data/flux_curve_model/flux_curve_model_2021_05_11.model'\n",
    ")\n",
    "\n",
    "load_model = ec.load.SimpleLoad(R=30)\n",
    "\n",
    "# Put it all together\n",
    "model = (\n",
    "    UnifiedModel()\n",
    "    .with_height(120 / 1000)\n",
    "    .with_magnet_assembly(magnet_assembly)\n",
    "    .with_coil_configuration(coil_configuration)\n",
    "    .with_magnetic_spring(magnetic_spring)\n",
    "    .with_mechanical_damper(mechanical_damper)\n",
    "    .with_mechanical_spring(mechanical_spring)\n",
    "    .with_rectification_drop(0.01)\n",
    "    .with_coupling_model(coupling)\n",
    "    .with_flux_model(flux_model)\n",
    "    .with_load_model(load_model)\n",
    "    .with_governing_equations(unified_ode)\n",
    ")"
   ]
  },
  {
   "cell_type": "code",
   "execution_count": 15,
   "id": "f91f07d9-9a86-4b7f-80e7-fac34df0ceac",
   "metadata": {},
   "outputs": [
    {
     "name": "stdout",
     "output_type": "stream",
     "text": [
      "\n",
      "  ┌────┐         120\n",
      "  │    │         115\n",
      "  │    │         110\n",
      "  │    │         105\n",
      "  │    │         100\n",
      "  │    │         95\n",
      "  │    │         90\n",
      "  │    │         85\n",
      "  │    │         80\n",
      "  │    │         75\n",
      "┌─│████│─┐       70\n",
      "└─│████│─┘       65\n",
      "  │    │         60\n",
      "  │    │         55\n",
      "  │    │         50\n",
      "  │    │         45\n",
      "  │    │         40\n",
      "  │    │         35\n",
      "  │    │         30\n",
      "  │    │         25\n",
      "  │    │         20\n",
      "  │    │         15\n",
      "  │████│         10\n",
      "  │████│         5\n",
      "  └────┘         0\n",
      "====================\n",
      "🧲 The magnet assembly consists of 1 magnet(s) that are 10mm long and have a diameter of 10mm.\n",
      "🧲 The magnets' centers are 15mm apart.\n",
      "🧲 The magnet assembly has a weight of 0.0578N.\n",
      "🧲 The magnet assembly hovers 46.015mm above the fixed magnet.\n",
      "-----------\n",
      "⚡ There are 1 coils, each with 200 windings (10 vertical X 20 horizontal).\n",
      "⚡ This gives each a coil an estimated height of ~1.43mm and width of ~2.86mm.\n",
      "⚡ The coils' centers are 15mm apart.\n",
      "⚡ The first coil's center is 50mm above the fixed magnet.\n",
      "⚡ The total microgenerator resistance is 12.302184035022314Ω.\n",
      "-----------\n",
      "📏 The device has a height of 120.0mm.\n",
      "📏 The minimum required height is 80.445mm.\n",
      "-----------\n",
      "🎯 The device is powering a 30Ω load.\n",
      "====================\n",
      "\n"
     ]
    }
   ],
   "source": [
    "model.summarize()"
   ]
  },
  {
   "cell_type": "code",
   "execution_count": 16,
   "id": "9b5febeb-217d-45e1-8036-785fc0d430b9",
   "metadata": {},
   "outputs": [],
   "source": [
    "# Let's add an input excitation\n",
    "from unified_model.utils.utils import collect_samples\n",
    "\n",
    "samples = collect_samples(\n",
    "    base_path='../data/2019-05-23/A/',\n",
    "    acc_pattern='*acc*.csv',\n",
    "    adc_pattern='*adc*.csv',\n",
    "    video_label_pattern='*label*.csv'\n",
    ")\n",
    "\n",
    "first_sample = samples[0]\n",
    "\n",
    "input_excitation = mc.input_excitation.accelerometer.AccelerometerInput(\n",
    "    raw_accelerometer_data_path=first_sample.acc_path,\n",
    "    accel_column='z_G',\n",
    "    time_column='time(ms)',\n",
    "    accel_unit='g',\n",
    "    time_unit='ms'\n",
    ")\n",
    "\n",
    "# Attach it to our model\n",
    "model = model.with_input_excitation(input_excitation)"
   ]
  },
  {
   "cell_type": "code",
   "execution_count": 18,
   "id": "ea30f222-db4b-4346-9832-93624813051d",
   "metadata": {},
   "outputs": [],
   "source": [
    "# Run the simulation\n",
    "model.solve(\n",
    "    t_start=0,\n",
    "    t_end=8,\n",
    "    y0=[0., 0., 0.04, 0., 0.],  # initial conditions\n",
    "    t_eval=np.linspace(0, 8, 1000),\n",
    "    t_max_step=1e-3\n",
    ")"
   ]
  },
  {
   "cell_type": "code",
   "execution_count": 25,
   "id": "1fb496e2-338f-4dfd-a398-9d31edad6970",
   "metadata": {},
   "outputs": [
    {
     "data": {
      "text/html": [
       "<div>\n",
       "<style scoped>\n",
       "    .dataframe tbody tr th:only-of-type {\n",
       "        vertical-align: middle;\n",
       "    }\n",
       "\n",
       "    .dataframe tbody tr th {\n",
       "        vertical-align: top;\n",
       "    }\n",
       "\n",
       "    .dataframe thead th {\n",
       "        text-align: right;\n",
       "    }\n",
       "</style>\n",
       "<table border=\"1\" class=\"dataframe\">\n",
       "  <thead>\n",
       "    <tr style=\"text-align: right;\">\n",
       "      <th></th>\n",
       "      <th>time</th>\n",
       "      <th>y_diff</th>\n",
       "      <th>v_load</th>\n",
       "    </tr>\n",
       "  </thead>\n",
       "  <tbody>\n",
       "    <tr>\n",
       "      <th>0</th>\n",
       "      <td>0.000000</td>\n",
       "      <td>0.040000</td>\n",
       "      <td>0.003102</td>\n",
       "    </tr>\n",
       "    <tr>\n",
       "      <th>1</th>\n",
       "      <td>0.008008</td>\n",
       "      <td>0.040164</td>\n",
       "      <td>0.011067</td>\n",
       "    </tr>\n",
       "    <tr>\n",
       "      <th>2</th>\n",
       "      <td>0.016016</td>\n",
       "      <td>0.040623</td>\n",
       "      <td>0.027823</td>\n",
       "    </tr>\n",
       "    <tr>\n",
       "      <th>3</th>\n",
       "      <td>0.024024</td>\n",
       "      <td>0.041307</td>\n",
       "      <td>0.045254</td>\n",
       "    </tr>\n",
       "    <tr>\n",
       "      <th>4</th>\n",
       "      <td>0.032032</td>\n",
       "      <td>0.042130</td>\n",
       "      <td>0.061065</td>\n",
       "    </tr>\n",
       "  </tbody>\n",
       "</table>\n",
       "</div>"
      ],
      "text/plain": [
       "       time    y_diff    v_load\n",
       "0  0.000000  0.040000  0.003102\n",
       "1  0.008008  0.040164  0.011067\n",
       "2  0.016016  0.040623  0.027823\n",
       "3  0.024024  0.041307  0.045254\n",
       "4  0.032032  0.042130  0.061065"
      ]
     },
     "execution_count": 25,
     "metadata": {},
     "output_type": "execute_result"
    }
   ],
   "source": [
    "results = model.get_result(time='t', y_diff='x3-x1', v_load='g(t, x5)')\n",
    "results.head()"
   ]
  },
  {
   "cell_type": "code",
   "execution_count": 23,
   "id": "2a8d9ca1-afe3-4432-8d6f-fe3a9395ab14",
   "metadata": {},
   "outputs": [
    {
     "data": {
      "text/plain": [
       "<AxesSubplot:xlabel='time'>"
      ]
     },
     "execution_count": 23,
     "metadata": {},
     "output_type": "execute_result"
    },
    {
     "data": {
      "image/png": "[encoded data removed]",
      "text/plain": [
       "<Figure size 432x288 with 1 Axes>"
      ]
     },
     "metadata": {
      "needs_background": "light"
     },
     "output_type": "display_data"
    }
   ],
   "source": [
    "results.plot(x='time', y='y_diff')"
   ]
  },
  {
   "cell_type": "code",
   "execution_count": 27,
   "id": "624e25ac-3f45-43b6-a5c2-fdf6b203e35c",
   "metadata": {},
   "outputs": [
    {
     "data": {
      "text/plain": [
       "<AxesSubplot:xlabel='time'>"
      ]
     },
     "execution_count": 27,
     "metadata": {},
     "output_type": "execute_result"
    },
    {
     "data": {
      "image/png": "[encoded data removed]",
      "text/plain": [
       "<Figure size 432x288 with 1 Axes>"
      ]
     },
     "metadata": {
      "needs_background": "light"
     },
     "output_type": "display_data"
    }
   ],
   "source": [
    "results.plot(x='time', y='v_load')"
   ]
  }
 ],
 "metadata": {
  "kernelspec": {
   "display_name": "Python 3",
   "language": "python",
   "name": "python3"
  },
  "language_info": {
   "codemirror_mode": {
    "name": "ipython",
    "version": 3
   },
   "file_extension": ".py",
   "mimetype": "text/x-python",
   "name": "python",
   "nbconvert_exporter": "python",
   "pygments_lexer": "ipython3",
   "version": "3.9.1"
  }
 },
 "nbformat": 4,
 "nbformat_minor": 5
}
